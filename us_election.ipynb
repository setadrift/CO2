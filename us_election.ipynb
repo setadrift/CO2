{
  "nbformat": 4,
  "nbformat_minor": 0,
  "metadata": {
    "colab": {
      "name": "us_election.ipynb",
      "provenance": [],
      "collapsed_sections": [
        "m6HvvqGgbB-Q",
        "BwUjFoktYdEK",
        "nIQJjw29YpJq",
        "b2TJBUKQoUrB",
        "sjHrANmjn1ua",
        "SCpSjBaMekJJ",
        "q8We3aI2pZBx"
      ],
      "toc_visible": true
    },
    "kernelspec": {
      "name": "python3",
      "display_name": "Python 3"
    },
    "language_info": {
      "name": "python"
    }
  },
  "cells": [
    {
      "cell_type": "code",
      "metadata": {
        "id": "q8mheoZcHowN"
      },
      "source": [
        "# run this cell after session so the notebook won't stop running\n",
        "#while True:pass"
      ],
      "execution_count": null,
      "outputs": []
    },
    {
      "cell_type": "markdown",
      "metadata": {
        "id": "pnlKBQYKlaE8"
      },
      "source": [
        "# New Section"
      ]
    },
    {
      "cell_type": "markdown",
      "metadata": {
        "id": "U3e8GicGm-Gs"
      },
      "source": [
        "## Install and import packages and libraries"
      ]
    },
    {
      "cell_type": "code",
      "metadata": {
        "id": "83vrsFxw0K6C",
        "colab": {
          "base_uri": "https://localhost:8080/"
        },
        "outputId": "e6c67f0f-fe92-4e58-f944-278fa7ee4381"
      },
      "source": [
        "pip install geojson"
      ],
      "execution_count": null,
      "outputs": [
        {
          "output_type": "stream",
          "text": [
            "Collecting geojson\n",
            "  Downloading https://files.pythonhosted.org/packages/e4/8d/9e28e9af95739e6d2d2f8d4bef0b3432da40b7c3588fbad4298c1be09e48/geojson-2.5.0-py2.py3-none-any.whl\n",
            "Installing collected packages: geojson\n",
            "Successfully installed geojson-2.5.0\n"
          ],
          "name": "stdout"
        }
      ]
    },
    {
      "cell_type": "code",
      "metadata": {
        "colab": {
          "base_uri": "https://localhost:8080/"
        },
        "id": "KLeeL7K8F2rz",
        "outputId": "d507af5f-d299-4125-83b3-b0bfdad0dfc2"
      },
      "source": [
        "pip install geopandas"
      ],
      "execution_count": null,
      "outputs": [
        {
          "output_type": "stream",
          "text": [
            "Collecting geopandas\n",
            "\u001b[?25l  Downloading https://files.pythonhosted.org/packages/d7/bf/e9cefb69d39155d122b6ddca53893b61535fa6ffdad70bf5ef708977f53f/geopandas-0.9.0-py2.py3-none-any.whl (994kB)\n",
            "\u001b[K     |████████████████████████████████| 1.0MB 14.8MB/s \n",
            "\u001b[?25hCollecting pyproj>=2.2.0\n",
            "\u001b[?25l  Downloading https://files.pythonhosted.org/packages/11/1d/1c54c672c2faf08d28fe78e15d664c048f786225bef95ad87b6c435cf69e/pyproj-3.1.0-cp37-cp37m-manylinux2010_x86_64.whl (6.6MB)\n",
            "\u001b[K     |████████████████████████████████| 6.6MB 21.4MB/s \n",
            "\u001b[?25hRequirement already satisfied: shapely>=1.6 in /usr/local/lib/python3.7/dist-packages (from geopandas) (1.7.1)\n",
            "Collecting fiona>=1.8\n",
            "\u001b[?25l  Downloading https://files.pythonhosted.org/packages/9c/fc/9807326c37a6bfb2393ae3e1cca147aa74844562c4d5daa782d6e97ad2bc/Fiona-1.8.20-cp37-cp37m-manylinux1_x86_64.whl (15.4MB)\n",
            "\u001b[K     |████████████████████████████████| 15.4MB 210kB/s \n",
            "\u001b[?25hRequirement already satisfied: pandas>=0.24.0 in /usr/local/lib/python3.7/dist-packages (from geopandas) (1.1.5)\n",
            "Requirement already satisfied: certifi in /usr/local/lib/python3.7/dist-packages (from pyproj>=2.2.0->geopandas) (2020.12.5)\n",
            "Requirement already satisfied: setuptools in /usr/local/lib/python3.7/dist-packages (from fiona>=1.8->geopandas) (57.0.0)\n",
            "Collecting munch\n",
            "  Downloading https://files.pythonhosted.org/packages/cc/ab/85d8da5c9a45e072301beb37ad7f833cd344e04c817d97e0cc75681d248f/munch-2.5.0-py2.py3-none-any.whl\n",
            "Collecting cligj>=0.5\n",
            "  Downloading https://files.pythonhosted.org/packages/73/86/43fa9f15c5b9fb6e82620428827cd3c284aa933431405d1bcf5231ae3d3e/cligj-0.7.2-py3-none-any.whl\n",
            "Requirement already satisfied: attrs>=17 in /usr/local/lib/python3.7/dist-packages (from fiona>=1.8->geopandas) (21.2.0)\n",
            "Requirement already satisfied: click>=4.0 in /usr/local/lib/python3.7/dist-packages (from fiona>=1.8->geopandas) (7.1.2)\n",
            "Collecting click-plugins>=1.0\n",
            "  Downloading https://files.pythonhosted.org/packages/e9/da/824b92d9942f4e472702488857914bdd50f73021efea15b4cad9aca8ecef/click_plugins-1.1.1-py2.py3-none-any.whl\n",
            "Requirement already satisfied: six>=1.7 in /usr/local/lib/python3.7/dist-packages (from fiona>=1.8->geopandas) (1.15.0)\n",
            "Requirement already satisfied: numpy>=1.15.4 in /usr/local/lib/python3.7/dist-packages (from pandas>=0.24.0->geopandas) (1.19.5)\n",
            "Requirement already satisfied: pytz>=2017.2 in /usr/local/lib/python3.7/dist-packages (from pandas>=0.24.0->geopandas) (2018.9)\n",
            "Requirement already satisfied: python-dateutil>=2.7.3 in /usr/local/lib/python3.7/dist-packages (from pandas>=0.24.0->geopandas) (2.8.1)\n",
            "Installing collected packages: pyproj, munch, cligj, click-plugins, fiona, geopandas\n",
            "Successfully installed click-plugins-1.1.1 cligj-0.7.2 fiona-1.8.20 geopandas-0.9.0 munch-2.5.0 pyproj-3.1.0\n"
          ],
          "name": "stdout"
        }
      ]
    },
    {
      "cell_type": "code",
      "metadata": {
        "colab": {
          "base_uri": "https://localhost:8080/"
        },
        "id": "3vMh23xHF9f5",
        "outputId": "9d4142c4-9b3e-4c75-cf8c-00da5c68a081"
      },
      "source": [
        "pip install geoplot"
      ],
      "execution_count": null,
      "outputs": [
        {
          "output_type": "stream",
          "text": [
            "Collecting geoplot\n",
            "  Downloading https://files.pythonhosted.org/packages/e1/8f/46133752e1f02e70501939e739b81cbc85c79d7398c963b8a25a3178bffe/geoplot-0.4.1-py3-none-any.whl\n",
            "Collecting mapclassify>=2.1\n",
            "  Downloading https://files.pythonhosted.org/packages/22/8e/d968c0945d41bb02de0efaa92e31e43a817dc52d30e82b4dfdda407a1903/mapclassify-2.4.2-py3-none-any.whl\n",
            "Requirement already satisfied: descartes in /usr/local/lib/python3.7/dist-packages (from geoplot) (1.1.0)\n",
            "Requirement already satisfied: matplotlib in /usr/local/lib/python3.7/dist-packages (from geoplot) (3.2.2)\n",
            "Collecting cartopy\n",
            "\u001b[?25l  Downloading https://files.pythonhosted.org/packages/ed/ca/524ce33692df3faeaa56852fb6a33b0b410be94cc288417565b96fef3f64/Cartopy-0.19.0.post1.tar.gz (12.1MB)\n",
            "\u001b[K     |████████████████████████████████| 12.1MB 13.7MB/s \n",
            "\u001b[?25h  Installing build dependencies ... \u001b[?25l\u001b[?25hdone\n",
            "  Getting requirements to build wheel ... \u001b[?25l\u001b[?25hdone\n",
            "    Preparing wheel metadata ... \u001b[?25l\u001b[?25hdone\n",
            "Requirement already satisfied: geopandas in /usr/local/lib/python3.7/dist-packages (from geoplot) (0.9.0)\n",
            "Requirement already satisfied: pandas in /usr/local/lib/python3.7/dist-packages (from geoplot) (1.1.5)\n",
            "Requirement already satisfied: seaborn in /usr/local/lib/python3.7/dist-packages (from geoplot) (0.11.1)\n",
            "Collecting contextily>=1.0.0\n",
            "  Downloading https://files.pythonhosted.org/packages/d3/8a/f7916ad000c30b86793a0c7a63946baa413f40f33edb5b10f78a1b150d24/contextily-1.1.0-py3-none-any.whl\n",
            "Requirement already satisfied: networkx in /usr/local/lib/python3.7/dist-packages (from mapclassify>=2.1->geoplot) (2.5.1)\n",
            "Requirement already satisfied: scipy>=1.0 in /usr/local/lib/python3.7/dist-packages (from mapclassify>=2.1->geoplot) (1.4.1)\n",
            "Requirement already satisfied: scikit-learn in /usr/local/lib/python3.7/dist-packages (from mapclassify>=2.1->geoplot) (0.22.2.post1)\n",
            "Requirement already satisfied: numpy>=1.3 in /usr/local/lib/python3.7/dist-packages (from mapclassify>=2.1->geoplot) (1.19.5)\n",
            "Requirement already satisfied: pyparsing!=2.0.4,!=2.1.2,!=2.1.6,>=2.0.1 in /usr/local/lib/python3.7/dist-packages (from matplotlib->geoplot) (2.4.7)\n",
            "Requirement already satisfied: cycler>=0.10 in /usr/local/lib/python3.7/dist-packages (from matplotlib->geoplot) (0.10.0)\n",
            "Requirement already satisfied: python-dateutil>=2.1 in /usr/local/lib/python3.7/dist-packages (from matplotlib->geoplot) (2.8.1)\n",
            "Requirement already satisfied: kiwisolver>=1.0.1 in /usr/local/lib/python3.7/dist-packages (from matplotlib->geoplot) (1.3.1)\n",
            "Collecting pyshp>=2\n",
            "\u001b[?25l  Downloading https://files.pythonhosted.org/packages/38/85/fbf87e7aa55103e0d06af756bdbc15cf821fa580414c23142d60a35d4f85/pyshp-2.1.3.tar.gz (219kB)\n",
            "\u001b[K     |████████████████████████████████| 225kB 32.3MB/s \n",
            "\u001b[?25hRequirement already satisfied: shapely>=1.5.6 in /usr/local/lib/python3.7/dist-packages (from cartopy->geoplot) (1.7.1)\n",
            "Requirement already satisfied: fiona>=1.8 in /usr/local/lib/python3.7/dist-packages (from geopandas->geoplot) (1.8.20)\n",
            "Requirement already satisfied: pyproj>=2.2.0 in /usr/local/lib/python3.7/dist-packages (from geopandas->geoplot) (3.1.0)\n",
            "Requirement already satisfied: pytz>=2017.2 in /usr/local/lib/python3.7/dist-packages (from pandas->geoplot) (2018.9)\n",
            "Requirement already satisfied: pillow in /usr/local/lib/python3.7/dist-packages (from contextily>=1.0.0->geoplot) (7.1.2)\n",
            "Requirement already satisfied: geopy in /usr/local/lib/python3.7/dist-packages (from contextily>=1.0.0->geoplot) (1.17.0)\n",
            "Collecting mercantile\n",
            "  Downloading https://files.pythonhosted.org/packages/b2/d6/de0cc74f8d36976aeca0dd2e9cbf711882ff8e177495115fd82459afdc4d/mercantile-1.2.1-py3-none-any.whl\n",
            "Collecting rasterio\n",
            "\u001b[?25l  Downloading https://files.pythonhosted.org/packages/0e/78/c69f7457b7dad6163abde2772abd4c8c0c6498d2ab9fd3f3b0eb73b40951/rasterio-1.2.4-cp37-cp37m-manylinux1_x86_64.whl (19.3MB)\n",
            "\u001b[K     |████████████████████████████████| 19.3MB 1.4MB/s \n",
            "\u001b[?25hRequirement already satisfied: requests in /usr/local/lib/python3.7/dist-packages (from contextily>=1.0.0->geoplot) (2.23.0)\n",
            "Requirement already satisfied: joblib in /usr/local/lib/python3.7/dist-packages (from contextily>=1.0.0->geoplot) (1.0.1)\n",
            "Requirement already satisfied: decorator<5,>=4.3 in /usr/local/lib/python3.7/dist-packages (from networkx->mapclassify>=2.1->geoplot) (4.4.2)\n",
            "Requirement already satisfied: six in /usr/local/lib/python3.7/dist-packages (from cycler>=0.10->matplotlib->geoplot) (1.15.0)\n",
            "Requirement already satisfied: cligj>=0.5 in /usr/local/lib/python3.7/dist-packages (from fiona>=1.8->geopandas->geoplot) (0.7.2)\n",
            "Requirement already satisfied: click-plugins>=1.0 in /usr/local/lib/python3.7/dist-packages (from fiona>=1.8->geopandas->geoplot) (1.1.1)\n",
            "Requirement already satisfied: setuptools in /usr/local/lib/python3.7/dist-packages (from fiona>=1.8->geopandas->geoplot) (57.0.0)\n",
            "Requirement already satisfied: munch in /usr/local/lib/python3.7/dist-packages (from fiona>=1.8->geopandas->geoplot) (2.5.0)\n",
            "Requirement already satisfied: certifi in /usr/local/lib/python3.7/dist-packages (from fiona>=1.8->geopandas->geoplot) (2020.12.5)\n",
            "Requirement already satisfied: click>=4.0 in /usr/local/lib/python3.7/dist-packages (from fiona>=1.8->geopandas->geoplot) (7.1.2)\n",
            "Requirement already satisfied: attrs>=17 in /usr/local/lib/python3.7/dist-packages (from fiona>=1.8->geopandas->geoplot) (21.2.0)\n",
            "Requirement already satisfied: geographiclib<2,>=1.49 in /usr/local/lib/python3.7/dist-packages (from geopy->contextily>=1.0.0->geoplot) (1.50)\n",
            "Collecting affine\n",
            "  Downloading https://files.pythonhosted.org/packages/ac/a6/1a39a1ede71210e3ddaf623982b06ecfc5c5c03741ae659073159184cd3e/affine-2.3.0-py2.py3-none-any.whl\n",
            "Collecting snuggs>=1.4.1\n",
            "  Downloading https://files.pythonhosted.org/packages/cc/0e/d27d6e806d6c0d1a2cfdc5d1f088e42339a0a54a09c3343f7f81ec8947ea/snuggs-1.4.7-py3-none-any.whl\n",
            "Requirement already satisfied: chardet<4,>=3.0.2 in /usr/local/lib/python3.7/dist-packages (from requests->contextily>=1.0.0->geoplot) (3.0.4)\n",
            "Requirement already satisfied: idna<3,>=2.5 in /usr/local/lib/python3.7/dist-packages (from requests->contextily>=1.0.0->geoplot) (2.10)\n",
            "Requirement already satisfied: urllib3!=1.25.0,!=1.25.1,<1.26,>=1.21.1 in /usr/local/lib/python3.7/dist-packages (from requests->contextily>=1.0.0->geoplot) (1.24.3)\n",
            "Building wheels for collected packages: cartopy\n",
            "  Building wheel for cartopy (PEP 517) ... \u001b[?25l\u001b[?25hdone\n",
            "  Created wheel for cartopy: filename=Cartopy-0.19.0.post1-cp37-cp37m-linux_x86_64.whl size=12516146 sha256=d804db12017aa1da7ea80f0dd55c9f84ef599c1a0047766c25d96ad1fa597e72\n",
            "  Stored in directory: /root/.cache/pip/wheels/45/7f/3b/37879587817fd1bbbee7b47312e2401b4f542cccf2fbe9b4ee\n",
            "Successfully built cartopy\n",
            "Building wheels for collected packages: pyshp\n",
            "  Building wheel for pyshp (setup.py) ... \u001b[?25l\u001b[?25hdone\n",
            "  Created wheel for pyshp: filename=pyshp-2.1.3-cp37-none-any.whl size=37325 sha256=11cf4a2221a1c54209d6cfdb0eba8a45da97919414e507e934030e3af96d94b9\n",
            "  Stored in directory: /root/.cache/pip/wheels/76/2b/d4/53e6b9a0fb0a9f9f29664cf82605af8bc81d5ab44d987896dd\n",
            "Successfully built pyshp\n",
            "Installing collected packages: mapclassify, pyshp, cartopy, mercantile, affine, snuggs, rasterio, contextily, geoplot\n",
            "Successfully installed affine-2.3.0 cartopy-0.19.0.post1 contextily-1.1.0 geoplot-0.4.1 mapclassify-2.4.2 mercantile-1.2.1 pyshp-2.1.3 rasterio-1.2.4 snuggs-1.4.7\n"
          ],
          "name": "stdout"
        }
      ]
    },
    {
      "cell_type": "code",
      "metadata": {
        "id": "lc9SatTI0E_A"
      },
      "source": [
        "# import packages\n",
        "import geojson\n",
        "import numpy as np\n",
        "import pandas as pd\n",
        "import matplotlib.pyplot as plt\n",
        "import geopandas as gpd\n",
        "import warnings\n",
        "warnings.filterwarnings('ignore')"
      ],
      "execution_count": null,
      "outputs": []
    },
    {
      "cell_type": "markdown",
      "metadata": {
        "id": "m6HvvqGgbB-Q"
      },
      "source": [
        "## Mount to Google Drive"
      ]
    },
    {
      "cell_type": "code",
      "metadata": {
        "id": "aThBGH6p2cFx"
      },
      "source": [
        "# mount to drive\n",
        "from google.colab import drive\n",
        "drive.mount('/content/drive')"
      ],
      "execution_count": null,
      "outputs": []
    },
    {
      "cell_type": "markdown",
      "metadata": {
        "id": "BwUjFoktYdEK"
      },
      "source": [
        "## Household Carbon Emissions DF"
      ]
    },
    {
      "cell_type": "code",
      "metadata": {
        "id": "b7HiWz-d3G77"
      },
      "source": [
        "df = pd.read_excel('/content/drive/My Drive/Data Science/BrainStation/Colab/data/zip_results.xlsx')"
      ],
      "execution_count": null,
      "outputs": []
    },
    {
      "cell_type": "code",
      "metadata": {
        "colab": {
          "base_uri": "https://localhost:8080/",
          "height": 796
        },
        "id": "3IvxddDn3oLf",
        "outputId": "9f5876a6-f6fa-4ab5-cdfe-722856ee7b63"
      },
      "source": [
        "df"
      ],
      "execution_count": null,
      "outputs": [
        {
          "output_type": "execute_result",
          "data": {
            "text/html": [
              "<div>\n",
              "<style scoped>\n",
              "    .dataframe tbody tr th:only-of-type {\n",
              "        vertical-align: middle;\n",
              "    }\n",
              "\n",
              "    .dataframe tbody tr th {\n",
              "        vertical-align: top;\n",
              "    }\n",
              "\n",
              "    .dataframe thead th {\n",
              "        text-align: right;\n",
              "    }\n",
              "</style>\n",
              "<table border=\"1\" class=\"dataframe\">\n",
              "  <thead>\n",
              "    <tr style=\"text-align: right;\">\n",
              "      <th></th>\n",
              "      <th>ZipCode</th>\n",
              "      <th>Population</th>\n",
              "      <th>PersonsPerHousehold</th>\n",
              "      <th>AverageHouseValue</th>\n",
              "      <th>IncomePerHousehold</th>\n",
              "      <th>Latitude</th>\n",
              "      <th>Longitude</th>\n",
              "      <th>Elevation</th>\n",
              "      <th>State</th>\n",
              "      <th>StateFullName</th>\n",
              "      <th>City</th>\n",
              "      <th>CountyName</th>\n",
              "      <th>CBSAType</th>\n",
              "      <th>CBSAName</th>\n",
              "      <th>MSAName</th>\n",
              "      <th>PMSA_Name</th>\n",
              "      <th>Region</th>\n",
              "      <th>Division</th>\n",
              "      <th>popden</th>\n",
              "      <th>electricity (kWh)</th>\n",
              "      <th>Nat. Gas (cu.ft.)</th>\n",
              "      <th>FUELOIL (gallons)</th>\n",
              "      <th>Vehicle miles traveled</th>\n",
              "      <th>Transport (tCO2e/yr)</th>\n",
              "      <th>Housing (tCO2e/yr)</th>\n",
              "      <th>Food (tCO2e/yr)</th>\n",
              "      <th>Goods (tCO2e/yr)</th>\n",
              "      <th>Services (tCO2e/yr)</th>\n",
              "      <th>Total Household Carbon Footprint (tCO2e/yr)</th>\n",
              "      <th>HouseholdsPerZipCode</th>\n",
              "      <th>Total Zip Code Carbon Footprint (tCO2e/yr)</th>\n",
              "    </tr>\n",
              "  </thead>\n",
              "  <tbody>\n",
              "    <tr>\n",
              "      <th>0</th>\n",
              "      <td>1001</td>\n",
              "      <td>16576</td>\n",
              "      <td>2.27</td>\n",
              "      <td>127300</td>\n",
              "      <td>45735</td>\n",
              "      <td>42.070743</td>\n",
              "      <td>-72.625036</td>\n",
              "      <td>70</td>\n",
              "      <td>MA</td>\n",
              "      <td>Massachusetts</td>\n",
              "      <td>AGAWAM</td>\n",
              "      <td>HAMPDEN</td>\n",
              "      <td>Metro</td>\n",
              "      <td>Springfield, MA</td>\n",
              "      <td>Springfield, MA MSA</td>\n",
              "      <td>NaN</td>\n",
              "      <td>Northeast</td>\n",
              "      <td>New England</td>\n",
              "      <td>1351.201539</td>\n",
              "      <td>7350.449509</td>\n",
              "      <td>53042.803497</td>\n",
              "      <td>182.080258</td>\n",
              "      <td>22351</td>\n",
              "      <td>15.638928</td>\n",
              "      <td>11.475951</td>\n",
              "      <td>6.81</td>\n",
              "      <td>5.308949</td>\n",
              "      <td>6.071196</td>\n",
              "      <td>45.305024</td>\n",
              "      <td>7279</td>\n",
              "      <td>329775.266933</td>\n",
              "    </tr>\n",
              "    <tr>\n",
              "      <th>1</th>\n",
              "      <td>1002</td>\n",
              "      <td>36794</td>\n",
              "      <td>2.46</td>\n",
              "      <td>178200</td>\n",
              "      <td>42567</td>\n",
              "      <td>42.376860</td>\n",
              "      <td>-72.469140</td>\n",
              "      <td>140</td>\n",
              "      <td>MA</td>\n",
              "      <td>Massachusetts</td>\n",
              "      <td>AMHERST</td>\n",
              "      <td>HAMPSHIRE</td>\n",
              "      <td>Metro</td>\n",
              "      <td>Springfield, MA</td>\n",
              "      <td>Springfield, MA MSA</td>\n",
              "      <td>NaN</td>\n",
              "      <td>Northeast</td>\n",
              "      <td>New England</td>\n",
              "      <td>640.779895</td>\n",
              "      <td>6340.253417</td>\n",
              "      <td>32533.160667</td>\n",
              "      <td>327.750703</td>\n",
              "      <td>19817</td>\n",
              "      <td>13.895789</td>\n",
              "      <td>11.545354</td>\n",
              "      <td>7.38</td>\n",
              "      <td>5.180926</td>\n",
              "      <td>5.807919</td>\n",
              "      <td>43.809988</td>\n",
              "      <td>10177</td>\n",
              "      <td>445854.242972</td>\n",
              "    </tr>\n",
              "    <tr>\n",
              "      <th>2</th>\n",
              "      <td>1005</td>\n",
              "      <td>5077</td>\n",
              "      <td>2.69</td>\n",
              "      <td>123800</td>\n",
              "      <td>50395</td>\n",
              "      <td>42.433445</td>\n",
              "      <td>-72.114991</td>\n",
              "      <td>475</td>\n",
              "      <td>MA</td>\n",
              "      <td>Massachusetts</td>\n",
              "      <td>BARRE</td>\n",
              "      <td>WORCESTER</td>\n",
              "      <td>Metro</td>\n",
              "      <td>Worcester, MA</td>\n",
              "      <td>Boston-Worcester-Lawrence, MA-NH-ME-CT CMSA</td>\n",
              "      <td>Worcester, MA-CT PMSA</td>\n",
              "      <td>Northeast</td>\n",
              "      <td>New England</td>\n",
              "      <td>120.016408</td>\n",
              "      <td>7749.788691</td>\n",
              "      <td>21038.638333</td>\n",
              "      <td>595.222740</td>\n",
              "      <td>28008</td>\n",
              "      <td>19.192342</td>\n",
              "      <td>14.817438</td>\n",
              "      <td>8.07</td>\n",
              "      <td>5.764939</td>\n",
              "      <td>6.497346</td>\n",
              "      <td>54.342065</td>\n",
              "      <td>1979</td>\n",
              "      <td>107542.947356</td>\n",
              "    </tr>\n",
              "    <tr>\n",
              "      <th>3</th>\n",
              "      <td>1007</td>\n",
              "      <td>13017</td>\n",
              "      <td>2.65</td>\n",
              "      <td>145100</td>\n",
              "      <td>52425</td>\n",
              "      <td>42.278884</td>\n",
              "      <td>-72.410245</td>\n",
              "      <td>140</td>\n",
              "      <td>MA</td>\n",
              "      <td>Massachusetts</td>\n",
              "      <td>BELCHERTOWN</td>\n",
              "      <td>HAMPSHIRE</td>\n",
              "      <td>Metro</td>\n",
              "      <td>Springfield, MA</td>\n",
              "      <td>Springfield, MA MSA</td>\n",
              "      <td>NaN</td>\n",
              "      <td>Northeast</td>\n",
              "      <td>New England</td>\n",
              "      <td>242.579110</td>\n",
              "      <td>7505.683391</td>\n",
              "      <td>21794.624043</td>\n",
              "      <td>546.546883</td>\n",
              "      <td>29962</td>\n",
              "      <td>20.486840</td>\n",
              "      <td>14.111831</td>\n",
              "      <td>7.95</td>\n",
              "      <td>5.880773</td>\n",
              "      <td>6.670959</td>\n",
              "      <td>55.100403</td>\n",
              "      <td>5065</td>\n",
              "      <td>279083.543255</td>\n",
              "    </tr>\n",
              "    <tr>\n",
              "      <th>4</th>\n",
              "      <td>1008</td>\n",
              "      <td>1235</td>\n",
              "      <td>2.68</td>\n",
              "      <td>128100</td>\n",
              "      <td>52663</td>\n",
              "      <td>42.143237</td>\n",
              "      <td>-72.930317</td>\n",
              "      <td>70</td>\n",
              "      <td>MA</td>\n",
              "      <td>Massachusetts</td>\n",
              "      <td>BLANDFORD</td>\n",
              "      <td>HAMPDEN</td>\n",
              "      <td>Metro</td>\n",
              "      <td>Springfield, MA</td>\n",
              "      <td>NaN</td>\n",
              "      <td>NaN</td>\n",
              "      <td>Northeast</td>\n",
              "      <td>New England</td>\n",
              "      <td>23.707662</td>\n",
              "      <td>8174.445069</td>\n",
              "      <td>20478.550900</td>\n",
              "      <td>634.731912</td>\n",
              "      <td>33132</td>\n",
              "      <td>22.438266</td>\n",
              "      <td>15.495700</td>\n",
              "      <td>8.04</td>\n",
              "      <td>5.906753</td>\n",
              "      <td>6.693114</td>\n",
              "      <td>58.573833</td>\n",
              "      <td>525</td>\n",
              "      <td>30751.262386</td>\n",
              "    </tr>\n",
              "    <tr>\n",
              "      <th>...</th>\n",
              "      <td>...</td>\n",
              "      <td>...</td>\n",
              "      <td>...</td>\n",
              "      <td>...</td>\n",
              "      <td>...</td>\n",
              "      <td>...</td>\n",
              "      <td>...</td>\n",
              "      <td>...</td>\n",
              "      <td>...</td>\n",
              "      <td>...</td>\n",
              "      <td>...</td>\n",
              "      <td>...</td>\n",
              "      <td>...</td>\n",
              "      <td>...</td>\n",
              "      <td>...</td>\n",
              "      <td>...</td>\n",
              "      <td>...</td>\n",
              "      <td>...</td>\n",
              "      <td>...</td>\n",
              "      <td>...</td>\n",
              "      <td>...</td>\n",
              "      <td>...</td>\n",
              "      <td>...</td>\n",
              "      <td>...</td>\n",
              "      <td>...</td>\n",
              "      <td>...</td>\n",
              "      <td>...</td>\n",
              "      <td>...</td>\n",
              "      <td>...</td>\n",
              "      <td>...</td>\n",
              "      <td>...</td>\n",
              "    </tr>\n",
              "    <tr>\n",
              "      <th>31526</th>\n",
              "      <td>99925</td>\n",
              "      <td>955</td>\n",
              "      <td>2.74</td>\n",
              "      <td>114100</td>\n",
              "      <td>36328</td>\n",
              "      <td>55.555164</td>\n",
              "      <td>-133.094002</td>\n",
              "      <td>0</td>\n",
              "      <td>AK</td>\n",
              "      <td>Alaska</td>\n",
              "      <td>KLAWOCK</td>\n",
              "      <td>PRINCE WALES KETCHIKAN</td>\n",
              "      <td>NaN</td>\n",
              "      <td>NaN</td>\n",
              "      <td>NaN</td>\n",
              "      <td>NaN</td>\n",
              "      <td>West</td>\n",
              "      <td>Pacific</td>\n",
              "      <td>18.925748</td>\n",
              "      <td>6022.071770</td>\n",
              "      <td>23428.611918</td>\n",
              "      <td>504.031720</td>\n",
              "      <td>19543</td>\n",
              "      <td>13.399865</td>\n",
              "      <td>12.541041</td>\n",
              "      <td>8.22</td>\n",
              "      <td>4.881058</td>\n",
              "      <td>5.282491</td>\n",
              "      <td>44.324455</td>\n",
              "      <td>409</td>\n",
              "      <td>18128.702103</td>\n",
              "    </tr>\n",
              "    <tr>\n",
              "      <th>31527</th>\n",
              "      <td>99926</td>\n",
              "      <td>1447</td>\n",
              "      <td>2.95</td>\n",
              "      <td>104800</td>\n",
              "      <td>43516</td>\n",
              "      <td>55.131392</td>\n",
              "      <td>-131.491678</td>\n",
              "      <td>0</td>\n",
              "      <td>AK</td>\n",
              "      <td>Alaska</td>\n",
              "      <td>METLAKATLA</td>\n",
              "      <td>PRINCE WALES KETCHIKAN</td>\n",
              "      <td>NaN</td>\n",
              "      <td>NaN</td>\n",
              "      <td>NaN</td>\n",
              "      <td>NaN</td>\n",
              "      <td>West</td>\n",
              "      <td>Pacific</td>\n",
              "      <td>11.117909</td>\n",
              "      <td>6490.370595</td>\n",
              "      <td>21839.409660</td>\n",
              "      <td>515.621828</td>\n",
              "      <td>16656</td>\n",
              "      <td>11.861202</td>\n",
              "      <td>13.022926</td>\n",
              "      <td>8.85</td>\n",
              "      <td>5.416896</td>\n",
              "      <td>5.915490</td>\n",
              "      <td>45.066514</td>\n",
              "      <td>562</td>\n",
              "      <td>25327.381064</td>\n",
              "    </tr>\n",
              "    <tr>\n",
              "      <th>31528</th>\n",
              "      <td>99927</td>\n",
              "      <td>120</td>\n",
              "      <td>2.26</td>\n",
              "      <td>80600</td>\n",
              "      <td>17143</td>\n",
              "      <td>56.247484</td>\n",
              "      <td>-133.357185</td>\n",
              "      <td>0</td>\n",
              "      <td>AK</td>\n",
              "      <td>Alaska</td>\n",
              "      <td>POINT BAKER</td>\n",
              "      <td>PRINCE WALES KETCHIKAN</td>\n",
              "      <td>NaN</td>\n",
              "      <td>NaN</td>\n",
              "      <td>NaN</td>\n",
              "      <td>NaN</td>\n",
              "      <td>West</td>\n",
              "      <td>Pacific</td>\n",
              "      <td>8.703807</td>\n",
              "      <td>4984.944435</td>\n",
              "      <td>25418.469753</td>\n",
              "      <td>112.117934</td>\n",
              "      <td>7411</td>\n",
              "      <td>5.343660</td>\n",
              "      <td>6.939461</td>\n",
              "      <td>6.78</td>\n",
              "      <td>3.397453</td>\n",
              "      <td>3.585235</td>\n",
              "      <td>26.045810</td>\n",
              "      <td>91</td>\n",
              "      <td>2370.168687</td>\n",
              "    </tr>\n",
              "    <tr>\n",
              "      <th>31529</th>\n",
              "      <td>99929</td>\n",
              "      <td>2424</td>\n",
              "      <td>2.49</td>\n",
              "      <td>127600</td>\n",
              "      <td>43696</td>\n",
              "      <td>56.468324</td>\n",
              "      <td>-132.383670</td>\n",
              "      <td>0</td>\n",
              "      <td>AK</td>\n",
              "      <td>Alaska</td>\n",
              "      <td>WRANGELL</td>\n",
              "      <td>WRANGELL PETERSBURG</td>\n",
              "      <td>NaN</td>\n",
              "      <td>NaN</td>\n",
              "      <td>NaN</td>\n",
              "      <td>NaN</td>\n",
              "      <td>West</td>\n",
              "      <td>Pacific</td>\n",
              "      <td>2.273400</td>\n",
              "      <td>6280.346814</td>\n",
              "      <td>22678.031651</td>\n",
              "      <td>539.722361</td>\n",
              "      <td>20138</td>\n",
              "      <td>14.131708</td>\n",
              "      <td>13.063402</td>\n",
              "      <td>7.47</td>\n",
              "      <td>5.264022</td>\n",
              "      <td>5.907187</td>\n",
              "      <td>45.836319</td>\n",
              "      <td>1252</td>\n",
              "      <td>57387.071847</td>\n",
              "    </tr>\n",
              "    <tr>\n",
              "      <th>31530</th>\n",
              "      <td>99950</td>\n",
              "      <td>36</td>\n",
              "      <td>2.40</td>\n",
              "      <td>0</td>\n",
              "      <td>37708</td>\n",
              "      <td>55.340000</td>\n",
              "      <td>-131.640000</td>\n",
              "      <td>0</td>\n",
              "      <td>AK</td>\n",
              "      <td>Alaska</td>\n",
              "      <td>KETCHIKAN</td>\n",
              "      <td>KETCHIKAN GATEWAY</td>\n",
              "      <td>Micro</td>\n",
              "      <td>Ketchikan, AK</td>\n",
              "      <td>NaN</td>\n",
              "      <td>NaN</td>\n",
              "      <td>West</td>\n",
              "      <td>Pacific</td>\n",
              "      <td>0.373929</td>\n",
              "      <td>5660.096352</td>\n",
              "      <td>21667.961681</td>\n",
              "      <td>250.980047</td>\n",
              "      <td>12356</td>\n",
              "      <td>9.193466</td>\n",
              "      <td>9.030403</td>\n",
              "      <td>7.20</td>\n",
              "      <td>4.755070</td>\n",
              "      <td>5.370776</td>\n",
              "      <td>35.549715</td>\n",
              "      <td>23</td>\n",
              "      <td>817.643438</td>\n",
              "    </tr>\n",
              "  </tbody>\n",
              "</table>\n",
              "<p>31531 rows × 31 columns</p>\n",
              "</div>"
            ],
            "text/plain": [
              "       ZipCode  ...  Total Zip Code Carbon Footprint (tCO2e/yr)\n",
              "0         1001  ...                               329775.266933\n",
              "1         1002  ...                               445854.242972\n",
              "2         1005  ...                               107542.947356\n",
              "3         1007  ...                               279083.543255\n",
              "4         1008  ...                                30751.262386\n",
              "...        ...  ...                                         ...\n",
              "31526    99925  ...                                18128.702103\n",
              "31527    99926  ...                                25327.381064\n",
              "31528    99927  ...                                 2370.168687\n",
              "31529    99929  ...                                57387.071847\n",
              "31530    99950  ...                                  817.643438\n",
              "\n",
              "[31531 rows x 31 columns]"
            ]
          },
          "metadata": {
            "tags": []
          },
          "execution_count": 7
        }
      ]
    },
    {
      "cell_type": "markdown",
      "metadata": {
        "id": "nIQJjw29YpJq"
      },
      "source": [
        "## 2020 US Election Results DF"
      ]
    },
    {
      "cell_type": "code",
      "metadata": {
        "id": "zHypNy3GEVgi"
      },
      "source": [
        "# I converted the geojson to a csv (and removed the geometry column to do so)\n",
        "# It saves a metric ton of RAM, and decreases the data file size from 866MB to 6MB.\n",
        "# Here's a link: https://drive.google.com/file/d/1_8VCSPJbtGBY_iT3mJ81zM4iTra6Nsiq/view?usp=sharing\n",
        "# Dunc: thank you!\n",
        "# We can always use the geojson later if we discover that the geometry is useful to plot it\n",
        "df2 = pd.read_csv('/content/drive/My Drive/Data Science/BrainStation/Colab/data/election_results.csv')"
      ],
      "execution_count": null,
      "outputs": []
    },
    {
      "cell_type": "code",
      "metadata": {
        "colab": {
          "base_uri": "https://localhost:8080/",
          "height": 487
        },
        "id": "KU0mxJhHFSLc",
        "outputId": "36e87a77-8387-4b48-c4a7-f6c3be1a75ec"
      },
      "source": [
        "df2"
      ],
      "execution_count": null,
      "outputs": [
        {
          "output_type": "execute_result",
          "data": {
            "text/html": [
              "<div>\n",
              "<style scoped>\n",
              "    .dataframe tbody tr th:only-of-type {\n",
              "        vertical-align: middle;\n",
              "    }\n",
              "\n",
              "    .dataframe tbody tr th {\n",
              "        vertical-align: top;\n",
              "    }\n",
              "\n",
              "    .dataframe thead th {\n",
              "        text-align: right;\n",
              "    }\n",
              "</style>\n",
              "<table border=\"1\" class=\"dataframe\">\n",
              "  <thead>\n",
              "    <tr style=\"text-align: right;\">\n",
              "      <th></th>\n",
              "      <th>GEOID</th>\n",
              "      <th>COUNTY</th>\n",
              "      <th>votes_dem</th>\n",
              "      <th>votes_rep</th>\n",
              "      <th>votes_total</th>\n",
              "      <th>votes_per_sqkm</th>\n",
              "      <th>pct_dem_lead</th>\n",
              "    </tr>\n",
              "  </thead>\n",
              "  <tbody>\n",
              "    <tr>\n",
              "      <th>0</th>\n",
              "      <td>05047-1-A (Oz Wd 1)</td>\n",
              "      <td>5047</td>\n",
              "      <td>79.0</td>\n",
              "      <td>279.0</td>\n",
              "      <td>366.0</td>\n",
              "      <td>54.2</td>\n",
              "      <td>-54.6</td>\n",
              "    </tr>\n",
              "    <tr>\n",
              "      <th>1</th>\n",
              "      <td>05149-11 - Dutch Creek</td>\n",
              "      <td>5149</td>\n",
              "      <td>6.0</td>\n",
              "      <td>31.0</td>\n",
              "      <td>37.0</td>\n",
              "      <td>0.3</td>\n",
              "      <td>-67.6</td>\n",
              "    </tr>\n",
              "    <tr>\n",
              "      <th>2</th>\n",
              "      <td>05081-Franklin Township</td>\n",
              "      <td>5081</td>\n",
              "      <td>53.0</td>\n",
              "      <td>383.0</td>\n",
              "      <td>450.0</td>\n",
              "      <td>3.8</td>\n",
              "      <td>-73.3</td>\n",
              "    </tr>\n",
              "    <tr>\n",
              "      <th>3</th>\n",
              "      <td>05027-McNeil City</td>\n",
              "      <td>5027</td>\n",
              "      <td>64.0</td>\n",
              "      <td>68.0</td>\n",
              "      <td>138.0</td>\n",
              "      <td>41.9</td>\n",
              "      <td>-2.9</td>\n",
              "    </tr>\n",
              "    <tr>\n",
              "      <th>4</th>\n",
              "      <td>05027-Taylor Township</td>\n",
              "      <td>5027</td>\n",
              "      <td>67.0</td>\n",
              "      <td>342.0</td>\n",
              "      <td>423.0</td>\n",
              "      <td>1.7</td>\n",
              "      <td>-65.0</td>\n",
              "    </tr>\n",
              "    <tr>\n",
              "      <th>...</th>\n",
              "      <td>...</td>\n",
              "      <td>...</td>\n",
              "      <td>...</td>\n",
              "      <td>...</td>\n",
              "      <td>...</td>\n",
              "      <td>...</td>\n",
              "      <td>...</td>\n",
              "    </tr>\n",
              "    <tr>\n",
              "      <th>146591</th>\n",
              "      <td>56007-01-01</td>\n",
              "      <td>56007</td>\n",
              "      <td>173.0</td>\n",
              "      <td>300.0</td>\n",
              "      <td>486.0</td>\n",
              "      <td>21.8</td>\n",
              "      <td>-26.1</td>\n",
              "    </tr>\n",
              "    <tr>\n",
              "      <th>146592</th>\n",
              "      <td>56045-05-01</td>\n",
              "      <td>56045</td>\n",
              "      <td>70.0</td>\n",
              "      <td>390.0</td>\n",
              "      <td>480.0</td>\n",
              "      <td>259.5</td>\n",
              "      <td>-66.7</td>\n",
              "    </tr>\n",
              "    <tr>\n",
              "      <th>146593</th>\n",
              "      <td>56045-05-02</td>\n",
              "      <td>56045</td>\n",
              "      <td>67.0</td>\n",
              "      <td>376.0</td>\n",
              "      <td>454.0</td>\n",
              "      <td>66.5</td>\n",
              "      <td>-68.1</td>\n",
              "    </tr>\n",
              "    <tr>\n",
              "      <th>146594</th>\n",
              "      <td>56045-05-03</td>\n",
              "      <td>56045</td>\n",
              "      <td>63.0</td>\n",
              "      <td>419.0</td>\n",
              "      <td>498.0</td>\n",
              "      <td>141.4</td>\n",
              "      <td>-71.5</td>\n",
              "    </tr>\n",
              "    <tr>\n",
              "      <th>146595</th>\n",
              "      <td>56041-130</td>\n",
              "      <td>56041</td>\n",
              "      <td>168.0</td>\n",
              "      <td>654.0</td>\n",
              "      <td>851.0</td>\n",
              "      <td>1.7</td>\n",
              "      <td>-57.1</td>\n",
              "    </tr>\n",
              "  </tbody>\n",
              "</table>\n",
              "<p>146596 rows × 7 columns</p>\n",
              "</div>"
            ],
            "text/plain": [
              "                          GEOID  COUNTY  ...  votes_per_sqkm  pct_dem_lead\n",
              "0           05047-1-A (Oz Wd 1)    5047  ...            54.2         -54.6\n",
              "1        05149-11 - Dutch Creek    5149  ...             0.3         -67.6\n",
              "2       05081-Franklin Township    5081  ...             3.8         -73.3\n",
              "3             05027-McNeil City    5027  ...            41.9          -2.9\n",
              "4         05027-Taylor Township    5027  ...             1.7         -65.0\n",
              "...                         ...     ...  ...             ...           ...\n",
              "146591              56007-01-01   56007  ...            21.8         -26.1\n",
              "146592              56045-05-01   56045  ...           259.5         -66.7\n",
              "146593              56045-05-02   56045  ...            66.5         -68.1\n",
              "146594              56045-05-03   56045  ...           141.4         -71.5\n",
              "146595                56041-130   56041  ...             1.7         -57.1\n",
              "\n",
              "[146596 rows x 7 columns]"
            ]
          },
          "metadata": {
            "tags": []
          },
          "execution_count": 9
        }
      ]
    },
    {
      "cell_type": "markdown",
      "metadata": {
        "id": "rmgm-TG1ZVAW"
      },
      "source": [
        "# EDA"
      ]
    },
    {
      "cell_type": "markdown",
      "metadata": {
        "id": "b2TJBUKQoUrB"
      },
      "source": [
        "## Clean and examine\n",
        "#### Take some steps to clean the data. Some specific questions to consider:\n",
        "\n",
        "### 1.1 - What is the size of each data frame? How many rows? How many columns?"
      ]
    },
    {
      "cell_type": "code",
      "metadata": {
        "colab": {
          "base_uri": "https://localhost:8080/",
          "height": 385
        },
        "id": "ribbukskavbz",
        "outputId": "e6a8b5c4-77a3-48be-bb3d-71571271b77f"
      },
      "source": [
        "df.describe()"
      ],
      "execution_count": null,
      "outputs": [
        {
          "output_type": "execute_result",
          "data": {
            "text/html": [
              "<div>\n",
              "<style scoped>\n",
              "    .dataframe tbody tr th:only-of-type {\n",
              "        vertical-align: middle;\n",
              "    }\n",
              "\n",
              "    .dataframe tbody tr th {\n",
              "        vertical-align: top;\n",
              "    }\n",
              "\n",
              "    .dataframe thead th {\n",
              "        text-align: right;\n",
              "    }\n",
              "</style>\n",
              "<table border=\"1\" class=\"dataframe\">\n",
              "  <thead>\n",
              "    <tr style=\"text-align: right;\">\n",
              "      <th></th>\n",
              "      <th>ZipCode</th>\n",
              "      <th>Population</th>\n",
              "      <th>PersonsPerHousehold</th>\n",
              "      <th>AverageHouseValue</th>\n",
              "      <th>IncomePerHousehold</th>\n",
              "      <th>Latitude</th>\n",
              "      <th>Longitude</th>\n",
              "      <th>Elevation</th>\n",
              "      <th>popden</th>\n",
              "      <th>electricity (kWh)</th>\n",
              "      <th>Nat. Gas (cu.ft.)</th>\n",
              "      <th>FUELOIL (gallons)</th>\n",
              "      <th>Vehicle miles traveled</th>\n",
              "      <th>Transport (tCO2e/yr)</th>\n",
              "      <th>Housing (tCO2e/yr)</th>\n",
              "      <th>Food (tCO2e/yr)</th>\n",
              "      <th>Goods (tCO2e/yr)</th>\n",
              "      <th>Services (tCO2e/yr)</th>\n",
              "      <th>Total Household Carbon Footprint (tCO2e/yr)</th>\n",
              "      <th>HouseholdsPerZipCode</th>\n",
              "      <th>Total Zip Code Carbon Footprint (tCO2e/yr)</th>\n",
              "    </tr>\n",
              "  </thead>\n",
              "  <tbody>\n",
              "    <tr>\n",
              "      <th>count</th>\n",
              "      <td>31531.000000</td>\n",
              "      <td>31531.000000</td>\n",
              "      <td>31531.000000</td>\n",
              "      <td>3.153100e+04</td>\n",
              "      <td>31531.000000</td>\n",
              "      <td>31531.000000</td>\n",
              "      <td>31531.000000</td>\n",
              "      <td>31531.000000</td>\n",
              "      <td>31531.000000</td>\n",
              "      <td>31531.000000</td>\n",
              "      <td>31531.000000</td>\n",
              "      <td>31531.000000</td>\n",
              "      <td>31531.000000</td>\n",
              "      <td>31531.000000</td>\n",
              "      <td>31448.000000</td>\n",
              "      <td>31531.000000</td>\n",
              "      <td>31531.000000</td>\n",
              "      <td>31531.000000</td>\n",
              "      <td>31531.000000</td>\n",
              "      <td>31531.000000</td>\n",
              "      <td>3.153100e+04</td>\n",
              "    </tr>\n",
              "    <tr>\n",
              "      <th>mean</th>\n",
              "      <td>49960.985094</td>\n",
              "      <td>8910.310837</td>\n",
              "      <td>2.585086</td>\n",
              "      <td>1.051256e+05</td>\n",
              "      <td>39730.148267</td>\n",
              "      <td>38.910613</td>\n",
              "      <td>-91.059999</td>\n",
              "      <td>999.581777</td>\n",
              "      <td>1130.088828</td>\n",
              "      <td>11034.389620</td>\n",
              "      <td>37516.319919</td>\n",
              "      <td>97.421359</td>\n",
              "      <td>25081.638832</td>\n",
              "      <td>16.980136</td>\n",
              "      <td>14.439640</td>\n",
              "      <td>7.755258</td>\n",
              "      <td>5.043130</td>\n",
              "      <td>5.568718</td>\n",
              "      <td>49.748874</td>\n",
              "      <td>3668.983794</td>\n",
              "      <td>1.765234e+05</td>\n",
              "    </tr>\n",
              "    <tr>\n",
              "      <th>std</th>\n",
              "      <td>27190.912681</td>\n",
              "      <td>13032.530277</td>\n",
              "      <td>0.341909</td>\n",
              "      <td>8.978152e+04</td>\n",
              "      <td>16197.066163</td>\n",
              "      <td>5.116360</td>\n",
              "      <td>14.801973</td>\n",
              "      <td>1290.881610</td>\n",
              "      <td>4294.122749</td>\n",
              "      <td>2682.044623</td>\n",
              "      <td>17168.064854</td>\n",
              "      <td>166.455147</td>\n",
              "      <td>6913.248319</td>\n",
              "      <td>4.324491</td>\n",
              "      <td>3.418261</td>\n",
              "      <td>1.025728</td>\n",
              "      <td>1.069375</td>\n",
              "      <td>1.405190</td>\n",
              "      <td>8.337518</td>\n",
              "      <td>5149.337609</td>\n",
              "      <td>2.406803e+05</td>\n",
              "    </tr>\n",
              "    <tr>\n",
              "      <th>min</th>\n",
              "      <td>1001.000000</td>\n",
              "      <td>2.000000</td>\n",
              "      <td>1.000000</td>\n",
              "      <td>0.000000e+00</td>\n",
              "      <td>2499.000000</td>\n",
              "      <td>19.060680</td>\n",
              "      <td>-174.430124</td>\n",
              "      <td>0.000000</td>\n",
              "      <td>0.022884</td>\n",
              "      <td>2456.245588</td>\n",
              "      <td>3505.628749</td>\n",
              "      <td>0.000000</td>\n",
              "      <td>3271.000000</td>\n",
              "      <td>2.755386</td>\n",
              "      <td>3.843588</td>\n",
              "      <td>3.000000</td>\n",
              "      <td>2.220804</td>\n",
              "      <td>2.307464</td>\n",
              "      <td>16.529748</td>\n",
              "      <td>1.000000</td>\n",
              "      <td>5.617314e+01</td>\n",
              "    </tr>\n",
              "    <tr>\n",
              "      <th>25%</th>\n",
              "      <td>27590.000000</td>\n",
              "      <td>787.000000</td>\n",
              "      <td>2.400000</td>\n",
              "      <td>5.800000e+04</td>\n",
              "      <td>29877.000000</td>\n",
              "      <td>35.484274</td>\n",
              "      <td>-97.169206</td>\n",
              "      <td>248.000000</td>\n",
              "      <td>20.901737</td>\n",
              "      <td>9305.692873</td>\n",
              "      <td>24524.829655</td>\n",
              "      <td>0.153990</td>\n",
              "      <td>20962.500000</td>\n",
              "      <td>14.232573</td>\n",
              "      <td>12.191491</td>\n",
              "      <td>7.200000</td>\n",
              "      <td>4.383778</td>\n",
              "      <td>4.712672</td>\n",
              "      <td>44.509707</td>\n",
              "      <td>372.000000</td>\n",
              "      <td>1.862414e+04</td>\n",
              "    </tr>\n",
              "    <tr>\n",
              "      <th>50%</th>\n",
              "      <td>50040.000000</td>\n",
              "      <td>2775.000000</td>\n",
              "      <td>2.560000</td>\n",
              "      <td>8.280000e+04</td>\n",
              "      <td>36250.000000</td>\n",
              "      <td>39.517391</td>\n",
              "      <td>-88.358714</td>\n",
              "      <td>661.000000</td>\n",
              "      <td>71.233752</td>\n",
              "      <td>11221.324493</td>\n",
              "      <td>32195.365113</td>\n",
              "      <td>14.696323</td>\n",
              "      <td>24875.000000</td>\n",
              "      <td>16.768598</td>\n",
              "      <td>14.528254</td>\n",
              "      <td>7.680000</td>\n",
              "      <td>4.819537</td>\n",
              "      <td>5.267436</td>\n",
              "      <td>49.083492</td>\n",
              "      <td>1244.000000</td>\n",
              "      <td>6.211725e+04</td>\n",
              "    </tr>\n",
              "    <tr>\n",
              "      <th>75%</th>\n",
              "      <td>72034.000000</td>\n",
              "      <td>11843.500000</td>\n",
              "      <td>2.730000</td>\n",
              "      <td>1.222000e+05</td>\n",
              "      <td>45808.500000</td>\n",
              "      <td>42.119939</td>\n",
              "      <td>-80.446401</td>\n",
              "      <td>1082.000000</td>\n",
              "      <td>527.633855</td>\n",
              "      <td>12797.153320</td>\n",
              "      <td>48456.788842</td>\n",
              "      <td>107.620673</td>\n",
              "      <td>29042.500000</td>\n",
              "      <td>19.582230</td>\n",
              "      <td>16.786524</td>\n",
              "      <td>8.190000</td>\n",
              "      <td>5.454407</td>\n",
              "      <td>6.095813</td>\n",
              "      <td>54.430953</td>\n",
              "      <td>4931.500000</td>\n",
              "      <td>2.450414e+05</td>\n",
              "    </tr>\n",
              "    <tr>\n",
              "      <th>max</th>\n",
              "      <td>99950.000000</td>\n",
              "      <td>114124.000000</td>\n",
              "      <td>7.430000</td>\n",
              "      <td>1.000001e+06</td>\n",
              "      <td>200001.000000</td>\n",
              "      <td>70.669760</td>\n",
              "      <td>-66.993158</td>\n",
              "      <td>10190.000000</td>\n",
              "      <td>153873.584737</td>\n",
              "      <td>27728.955729</td>\n",
              "      <td>123259.133369</td>\n",
              "      <td>1024.031600</td>\n",
              "      <td>425781.000000</td>\n",
              "      <td>80.519842</td>\n",
              "      <td>33.059536</td>\n",
              "      <td>22.290000</td>\n",
              "      <td>15.705566</td>\n",
              "      <td>19.496106</td>\n",
              "      <td>144.724973</td>\n",
              "      <td>69449.000000</td>\n",
              "      <td>2.509112e+06</td>\n",
              "    </tr>\n",
              "  </tbody>\n",
              "</table>\n",
              "</div>"
            ],
            "text/plain": [
              "            ZipCode  ...  Total Zip Code Carbon Footprint (tCO2e/yr)\n",
              "count  31531.000000  ...                                3.153100e+04\n",
              "mean   49960.985094  ...                                1.765234e+05\n",
              "std    27190.912681  ...                                2.406803e+05\n",
              "min     1001.000000  ...                                5.617314e+01\n",
              "25%    27590.000000  ...                                1.862414e+04\n",
              "50%    50040.000000  ...                                6.211725e+04\n",
              "75%    72034.000000  ...                                2.450414e+05\n",
              "max    99950.000000  ...                                2.509112e+06\n",
              "\n",
              "[8 rows x 21 columns]"
            ]
          },
          "metadata": {
            "tags": []
          },
          "execution_count": 12
        }
      ]
    },
    {
      "cell_type": "code",
      "metadata": {
        "colab": {
          "base_uri": "https://localhost:8080/"
        },
        "id": "S0132WeVZUtJ",
        "outputId": "d172c151-e9c9-4f4f-a7f7-c6fd26eba824"
      },
      "source": [
        "df.shape"
      ],
      "execution_count": null,
      "outputs": [
        {
          "output_type": "execute_result",
          "data": {
            "text/plain": [
              "(31531, 31)"
            ]
          },
          "metadata": {
            "tags": []
          },
          "execution_count": 13
        }
      ]
    },
    {
      "cell_type": "markdown",
      "metadata": {
        "id": "rv2BanN8Zf_C"
      },
      "source": [
        "- emissions df has 31,531 rows and 31 columns"
      ]
    },
    {
      "cell_type": "code",
      "metadata": {
        "colab": {
          "base_uri": "https://localhost:8080/",
          "height": 317
        },
        "id": "vm44ZsLmapK2",
        "outputId": "7e1124e7-3b14-4a71-f194-84cec337e908"
      },
      "source": [
        "df2.describe()"
      ],
      "execution_count": null,
      "outputs": [
        {
          "output_type": "execute_result",
          "data": {
            "text/html": [
              "<div>\n",
              "<style scoped>\n",
              "    .dataframe tbody tr th:only-of-type {\n",
              "        vertical-align: middle;\n",
              "    }\n",
              "\n",
              "    .dataframe tbody tr th {\n",
              "        vertical-align: top;\n",
              "    }\n",
              "\n",
              "    .dataframe thead th {\n",
              "        text-align: right;\n",
              "    }\n",
              "</style>\n",
              "<table border=\"1\" class=\"dataframe\">\n",
              "  <thead>\n",
              "    <tr style=\"text-align: right;\">\n",
              "      <th></th>\n",
              "      <th>COUNTY</th>\n",
              "      <th>votes_dem</th>\n",
              "      <th>votes_rep</th>\n",
              "      <th>votes_total</th>\n",
              "      <th>votes_per_sqkm</th>\n",
              "      <th>pct_dem_lead</th>\n",
              "    </tr>\n",
              "  </thead>\n",
              "  <tbody>\n",
              "    <tr>\n",
              "      <th>count</th>\n",
              "      <td>146596.000000</td>\n",
              "      <td>146500.000000</td>\n",
              "      <td>146500.000000</td>\n",
              "      <td>146500.000000</td>\n",
              "      <td>146500.000000</td>\n",
              "      <td>142609.000000</td>\n",
              "    </tr>\n",
              "    <tr>\n",
              "      <th>mean</th>\n",
              "      <td>29017.883462</td>\n",
              "      <td>502.591850</td>\n",
              "      <td>439.802812</td>\n",
              "      <td>960.460253</td>\n",
              "      <td>1073.152356</td>\n",
              "      <td>3.339162</td>\n",
              "    </tr>\n",
              "    <tr>\n",
              "      <th>std</th>\n",
              "      <td>16010.371314</td>\n",
              "      <td>833.281492</td>\n",
              "      <td>631.041229</td>\n",
              "      <td>1348.790866</td>\n",
              "      <td>4416.264004</td>\n",
              "      <td>46.625831</td>\n",
              "    </tr>\n",
              "    <tr>\n",
              "      <th>min</th>\n",
              "      <td>4001.000000</td>\n",
              "      <td>0.000000</td>\n",
              "      <td>0.000000</td>\n",
              "      <td>0.000000</td>\n",
              "      <td>0.000000</td>\n",
              "      <td>-100.000000</td>\n",
              "    </tr>\n",
              "    <tr>\n",
              "      <th>25%</th>\n",
              "      <td>16027.000000</td>\n",
              "      <td>138.000000</td>\n",
              "      <td>113.000000</td>\n",
              "      <td>368.000000</td>\n",
              "      <td>22.900000</td>\n",
              "      <td>-33.100000</td>\n",
              "    </tr>\n",
              "    <tr>\n",
              "      <th>50%</th>\n",
              "      <td>31141.000000</td>\n",
              "      <td>331.000000</td>\n",
              "      <td>286.000000</td>\n",
              "      <td>665.000000</td>\n",
              "      <td>339.200000</td>\n",
              "      <td>1.400000</td>\n",
              "    </tr>\n",
              "    <tr>\n",
              "      <th>75%</th>\n",
              "      <td>42013.000000</td>\n",
              "      <td>618.250000</td>\n",
              "      <td>542.000000</td>\n",
              "      <td>1166.000000</td>\n",
              "      <td>959.900000</td>\n",
              "      <td>38.300000</td>\n",
              "    </tr>\n",
              "    <tr>\n",
              "      <th>max</th>\n",
              "      <td>90151.000000</td>\n",
              "      <td>78209.000000</td>\n",
              "      <td>32778.000000</td>\n",
              "      <td>96247.000000</td>\n",
              "      <td>987935.300000</td>\n",
              "      <td>100.000000</td>\n",
              "    </tr>\n",
              "  </tbody>\n",
              "</table>\n",
              "</div>"
            ],
            "text/plain": [
              "              COUNTY      votes_dem  ...  votes_per_sqkm   pct_dem_lead\n",
              "count  146596.000000  146500.000000  ...   146500.000000  142609.000000\n",
              "mean    29017.883462     502.591850  ...     1073.152356       3.339162\n",
              "std     16010.371314     833.281492  ...     4416.264004      46.625831\n",
              "min      4001.000000       0.000000  ...        0.000000    -100.000000\n",
              "25%     16027.000000     138.000000  ...       22.900000     -33.100000\n",
              "50%     31141.000000     331.000000  ...      339.200000       1.400000\n",
              "75%     42013.000000     618.250000  ...      959.900000      38.300000\n",
              "max     90151.000000   78209.000000  ...   987935.300000     100.000000\n",
              "\n",
              "[8 rows x 6 columns]"
            ]
          },
          "metadata": {
            "tags": []
          },
          "execution_count": 14
        }
      ]
    },
    {
      "cell_type": "code",
      "metadata": {
        "colab": {
          "base_uri": "https://localhost:8080/"
        },
        "id": "RjHTCjGCZrPM",
        "outputId": "ffa87574-f1cc-432c-eb57-193a8ccbadaa"
      },
      "source": [
        "df2.shape"
      ],
      "execution_count": null,
      "outputs": [
        {
          "output_type": "execute_result",
          "data": {
            "text/plain": [
              "(146596, 7)"
            ]
          },
          "metadata": {
            "tags": []
          },
          "execution_count": 15
        }
      ]
    },
    {
      "cell_type": "markdown",
      "metadata": {
        "id": "gyzZO6bnaM2g"
      },
      "source": [
        "- election df has 146,596 rows and 7 columns"
      ]
    },
    {
      "cell_type": "code",
      "metadata": {
        "colab": {
          "base_uri": "https://localhost:8080/"
        },
        "id": "3iOyguWwHvTa",
        "outputId": "825861e8-2df6-409d-9232-a5c4f80033d3"
      },
      "source": [
        "# check if the values are categorical or numeric\n",
        "df.dtypes"
      ],
      "execution_count": null,
      "outputs": [
        {
          "output_type": "execute_result",
          "data": {
            "text/plain": [
              "ZipCode                                          int64\n",
              "Population                                       int64\n",
              "PersonsPerHousehold                            float64\n",
              "AverageHouseValue                                int64\n",
              "IncomePerHousehold                               int64\n",
              "Latitude                                       float64\n",
              "Longitude                                      float64\n",
              "Elevation                                        int64\n",
              "State                                           object\n",
              "StateFullName                                   object\n",
              "City                                            object\n",
              "CountyName                                      object\n",
              "CBSAType                                        object\n",
              "CBSAName                                        object\n",
              "MSAName                                         object\n",
              "PMSA_Name                                       object\n",
              "Region                                          object\n",
              "Division                                        object\n",
              "popden                                         float64\n",
              "electricity (kWh)                              float64\n",
              "Nat. Gas (cu.ft.)                              float64\n",
              "FUELOIL (gallons)                              float64\n",
              "Vehicle miles traveled                           int64\n",
              "Transport (tCO2e/yr)                           float64\n",
              "Housing (tCO2e/yr)                             float64\n",
              "Food (tCO2e/yr)                                float64\n",
              "Goods (tCO2e/yr)                               float64\n",
              "Services (tCO2e/yr)                            float64\n",
              "Total Household Carbon Footprint (tCO2e/yr)    float64\n",
              "HouseholdsPerZipCode                             int64\n",
              "Total Zip Code Carbon Footprint (tCO2e/yr)     float64\n",
              "dtype: object"
            ]
          },
          "metadata": {
            "tags": []
          },
          "execution_count": 16
        }
      ]
    },
    {
      "cell_type": "code",
      "metadata": {
        "colab": {
          "base_uri": "https://localhost:8080/"
        },
        "id": "myta6ebfH4dA",
        "outputId": "a9240e8b-b0ba-48ec-8eba-8076059131d9"
      },
      "source": [
        "df2.dtypes"
      ],
      "execution_count": null,
      "outputs": [
        {
          "output_type": "execute_result",
          "data": {
            "text/plain": [
              "GEOID              object\n",
              "COUNTY              int64\n",
              "votes_dem         float64\n",
              "votes_rep         float64\n",
              "votes_total       float64\n",
              "votes_per_sqkm    float64\n",
              "pct_dem_lead      float64\n",
              "dtype: object"
            ]
          },
          "metadata": {
            "tags": []
          },
          "execution_count": 17
        }
      ]
    },
    {
      "cell_type": "code",
      "metadata": {
        "colab": {
          "base_uri": "https://localhost:8080/"
        },
        "id": "E8eTvy8NbCdn",
        "outputId": "810177e3-dcaa-4c85-d91c-e895a1b7bfe9"
      },
      "source": [
        "# check for null values\n",
        "print(df.isnull().sum())"
      ],
      "execution_count": null,
      "outputs": [
        {
          "output_type": "stream",
          "text": [
            "ZipCode                                            0\n",
            "Population                                         0\n",
            "PersonsPerHousehold                                0\n",
            "AverageHouseValue                                  0\n",
            "IncomePerHousehold                                 0\n",
            "Latitude                                           0\n",
            "Longitude                                          0\n",
            "Elevation                                          0\n",
            "State                                              0\n",
            "StateFullName                                      0\n",
            "City                                               0\n",
            "CountyName                                         0\n",
            "CBSAType                                        8823\n",
            "CBSAName                                        8823\n",
            "MSAName                                        16864\n",
            "PMSA_Name                                      26173\n",
            "Region                                             0\n",
            "Division                                           0\n",
            "popden                                             0\n",
            "electricity (kWh)                                  0\n",
            "Nat. Gas (cu.ft.)                                  0\n",
            "FUELOIL (gallons)                                  0\n",
            "Vehicle miles traveled                             0\n",
            "Transport (tCO2e/yr)                               0\n",
            "Housing (tCO2e/yr)                                83\n",
            "Food (tCO2e/yr)                                    0\n",
            "Goods (tCO2e/yr)                                   0\n",
            "Services (tCO2e/yr)                                0\n",
            "Total Household Carbon Footprint (tCO2e/yr)        0\n",
            "HouseholdsPerZipCode                               0\n",
            "Total Zip Code Carbon Footprint (tCO2e/yr)         0\n",
            "dtype: int64\n"
          ],
          "name": "stdout"
        }
      ]
    },
    {
      "cell_type": "code",
      "metadata": {
        "colab": {
          "base_uri": "https://localhost:8080/"
        },
        "id": "1P866I8XFvZg",
        "outputId": "34a47c79-eb9a-466a-bd08-3c5ac41960b6"
      },
      "source": [
        "# what are the these null value columns?\n",
        "df['CBSAType']"
      ],
      "execution_count": null,
      "outputs": [
        {
          "output_type": "execute_result",
          "data": {
            "text/plain": [
              "0        Metro\n",
              "1        Metro\n",
              "2        Metro\n",
              "3        Metro\n",
              "4        Metro\n",
              "         ...  \n",
              "31526      NaN\n",
              "31527      NaN\n",
              "31528      NaN\n",
              "31529      NaN\n",
              "31530    Micro\n",
              "Name: CBSAType, Length: 31531, dtype: object"
            ]
          },
          "metadata": {
            "tags": []
          },
          "execution_count": 19
        }
      ]
    },
    {
      "cell_type": "code",
      "metadata": {
        "id": "pbDEUj4DIBsS"
      },
      "source": [
        "# let's go ahead and drop those columns for now\n",
        "df.drop(columns=['CBSAType', 'CBSAName', 'MSAName', 'PMSA_Name'], axis=1, inplace=True)"
      ],
      "execution_count": null,
      "outputs": []
    },
    {
      "cell_type": "code",
      "metadata": {
        "colab": {
          "base_uri": "https://localhost:8080/",
          "height": 233
        },
        "id": "xPfB89tnIsbH",
        "outputId": "66525237-6880-4fe5-cabb-428fb968263f"
      },
      "source": [
        "df.head(2)"
      ],
      "execution_count": null,
      "outputs": [
        {
          "output_type": "execute_result",
          "data": {
            "text/html": [
              "<div>\n",
              "<style scoped>\n",
              "    .dataframe tbody tr th:only-of-type {\n",
              "        vertical-align: middle;\n",
              "    }\n",
              "\n",
              "    .dataframe tbody tr th {\n",
              "        vertical-align: top;\n",
              "    }\n",
              "\n",
              "    .dataframe thead th {\n",
              "        text-align: right;\n",
              "    }\n",
              "</style>\n",
              "<table border=\"1\" class=\"dataframe\">\n",
              "  <thead>\n",
              "    <tr style=\"text-align: right;\">\n",
              "      <th></th>\n",
              "      <th>ZipCode</th>\n",
              "      <th>Population</th>\n",
              "      <th>PersonsPerHousehold</th>\n",
              "      <th>AverageHouseValue</th>\n",
              "      <th>IncomePerHousehold</th>\n",
              "      <th>Latitude</th>\n",
              "      <th>Longitude</th>\n",
              "      <th>Elevation</th>\n",
              "      <th>State</th>\n",
              "      <th>StateFullName</th>\n",
              "      <th>City</th>\n",
              "      <th>CountyName</th>\n",
              "      <th>Region</th>\n",
              "      <th>Division</th>\n",
              "      <th>popden</th>\n",
              "      <th>electricity (kWh)</th>\n",
              "      <th>Nat. Gas (cu.ft.)</th>\n",
              "      <th>FUELOIL (gallons)</th>\n",
              "      <th>Vehicle miles traveled</th>\n",
              "      <th>Transport (tCO2e/yr)</th>\n",
              "      <th>Housing (tCO2e/yr)</th>\n",
              "      <th>Food (tCO2e/yr)</th>\n",
              "      <th>Goods (tCO2e/yr)</th>\n",
              "      <th>Services (tCO2e/yr)</th>\n",
              "      <th>Total Household Carbon Footprint (tCO2e/yr)</th>\n",
              "      <th>HouseholdsPerZipCode</th>\n",
              "      <th>Total Zip Code Carbon Footprint (tCO2e/yr)</th>\n",
              "    </tr>\n",
              "  </thead>\n",
              "  <tbody>\n",
              "    <tr>\n",
              "      <th>0</th>\n",
              "      <td>1001</td>\n",
              "      <td>16576</td>\n",
              "      <td>2.27</td>\n",
              "      <td>127300</td>\n",
              "      <td>45735</td>\n",
              "      <td>42.070743</td>\n",
              "      <td>-72.625036</td>\n",
              "      <td>70</td>\n",
              "      <td>MA</td>\n",
              "      <td>Massachusetts</td>\n",
              "      <td>AGAWAM</td>\n",
              "      <td>HAMPDEN</td>\n",
              "      <td>Northeast</td>\n",
              "      <td>New England</td>\n",
              "      <td>1351.201539</td>\n",
              "      <td>7350.449509</td>\n",
              "      <td>53042.803497</td>\n",
              "      <td>182.080258</td>\n",
              "      <td>22351</td>\n",
              "      <td>15.638928</td>\n",
              "      <td>11.475951</td>\n",
              "      <td>6.81</td>\n",
              "      <td>5.308949</td>\n",
              "      <td>6.071196</td>\n",
              "      <td>45.305024</td>\n",
              "      <td>7279</td>\n",
              "      <td>329775.266933</td>\n",
              "    </tr>\n",
              "    <tr>\n",
              "      <th>1</th>\n",
              "      <td>1002</td>\n",
              "      <td>36794</td>\n",
              "      <td>2.46</td>\n",
              "      <td>178200</td>\n",
              "      <td>42567</td>\n",
              "      <td>42.376860</td>\n",
              "      <td>-72.469140</td>\n",
              "      <td>140</td>\n",
              "      <td>MA</td>\n",
              "      <td>Massachusetts</td>\n",
              "      <td>AMHERST</td>\n",
              "      <td>HAMPSHIRE</td>\n",
              "      <td>Northeast</td>\n",
              "      <td>New England</td>\n",
              "      <td>640.779895</td>\n",
              "      <td>6340.253417</td>\n",
              "      <td>32533.160667</td>\n",
              "      <td>327.750703</td>\n",
              "      <td>19817</td>\n",
              "      <td>13.895789</td>\n",
              "      <td>11.545354</td>\n",
              "      <td>7.38</td>\n",
              "      <td>5.180926</td>\n",
              "      <td>5.807919</td>\n",
              "      <td>43.809988</td>\n",
              "      <td>10177</td>\n",
              "      <td>445854.242972</td>\n",
              "    </tr>\n",
              "  </tbody>\n",
              "</table>\n",
              "</div>"
            ],
            "text/plain": [
              "   ZipCode  ...  Total Zip Code Carbon Footprint (tCO2e/yr)\n",
              "0     1001  ...                               329775.266933\n",
              "1     1002  ...                               445854.242972\n",
              "\n",
              "[2 rows x 27 columns]"
            ]
          },
          "metadata": {
            "tags": []
          },
          "execution_count": 21
        }
      ]
    },
    {
      "cell_type": "code",
      "metadata": {
        "colab": {
          "base_uri": "https://localhost:8080/"
        },
        "id": "WZeaGIvcIto4",
        "outputId": "2a7cf3c3-fe1d-467a-bb4c-f97e7d592c88"
      },
      "source": [
        "# check for null values\n",
        "print(df.isnull().sum())"
      ],
      "execution_count": null,
      "outputs": [
        {
          "output_type": "stream",
          "text": [
            "ZipCode                                         0\n",
            "Population                                      0\n",
            "PersonsPerHousehold                             0\n",
            "AverageHouseValue                               0\n",
            "IncomePerHousehold                              0\n",
            "Latitude                                        0\n",
            "Longitude                                       0\n",
            "Elevation                                       0\n",
            "State                                           0\n",
            "StateFullName                                   0\n",
            "City                                            0\n",
            "CountyName                                      0\n",
            "Region                                          0\n",
            "Division                                        0\n",
            "popden                                          0\n",
            "electricity (kWh)                               0\n",
            "Nat. Gas (cu.ft.)                               0\n",
            "FUELOIL (gallons)                               0\n",
            "Vehicle miles traveled                          0\n",
            "Transport (tCO2e/yr)                            0\n",
            "Housing (tCO2e/yr)                             83\n",
            "Food (tCO2e/yr)                                 0\n",
            "Goods (tCO2e/yr)                                0\n",
            "Services (tCO2e/yr)                             0\n",
            "Total Household Carbon Footprint (tCO2e/yr)     0\n",
            "HouseholdsPerZipCode                            0\n",
            "Total Zip Code Carbon Footprint (tCO2e/yr)      0\n",
            "dtype: int64\n"
          ],
          "name": "stdout"
        }
      ]
    },
    {
      "cell_type": "code",
      "metadata": {
        "colab": {
          "base_uri": "https://localhost:8080/"
        },
        "id": "uCVy7QV0Ixek",
        "outputId": "ce067684-ea2f-41fc-a779-9139edabf6bd"
      },
      "source": [
        "# just the Housing (tCO2e/yr) column with 83 nulls. \n",
        "# perhaps we can impute the median value of the state for where those nulls are. \n",
        "# check df2 nulls\n",
        "print(df2.isnull().sum())"
      ],
      "execution_count": null,
      "outputs": [
        {
          "output_type": "stream",
          "text": [
            "GEOID                0\n",
            "COUNTY               0\n",
            "votes_dem           96\n",
            "votes_rep           96\n",
            "votes_total         96\n",
            "votes_per_sqkm      96\n",
            "pct_dem_lead      3987\n",
            "dtype: int64\n"
          ],
          "name": "stdout"
        }
      ]
    },
    {
      "cell_type": "code",
      "metadata": {
        "colab": {
          "base_uri": "https://localhost:8080/",
          "height": 677
        },
        "id": "iACYGNOdJFK2",
        "outputId": "34b1bcfb-5c07-438b-fe87-023aaa2d3deb"
      },
      "source": [
        "# looks like the same nulls for votes columns, and a lot (3987) for pct_dem_lead \n",
        "## Inspect null rows for the columns\n",
        "df2[df2['votes_dem'].isnull()]\n"
      ],
      "execution_count": null,
      "outputs": [
        {
          "output_type": "execute_result",
          "data": {
            "text/html": [
              "<div>\n",
              "<style scoped>\n",
              "    .dataframe tbody tr th:only-of-type {\n",
              "        vertical-align: middle;\n",
              "    }\n",
              "\n",
              "    .dataframe tbody tr th {\n",
              "        vertical-align: top;\n",
              "    }\n",
              "\n",
              "    .dataframe thead th {\n",
              "        text-align: right;\n",
              "    }\n",
              "</style>\n",
              "<table border=\"1\" class=\"dataframe\">\n",
              "  <thead>\n",
              "    <tr style=\"text-align: right;\">\n",
              "      <th></th>\n",
              "      <th>GEOID</th>\n",
              "      <th>COUNTY</th>\n",
              "      <th>votes_dem</th>\n",
              "      <th>votes_rep</th>\n",
              "      <th>votes_total</th>\n",
              "      <th>votes_per_sqkm</th>\n",
              "      <th>pct_dem_lead</th>\n",
              "    </tr>\n",
              "  </thead>\n",
              "  <tbody>\n",
              "    <tr>\n",
              "      <th>79527</th>\n",
              "      <td>32003-1365</td>\n",
              "      <td>32003</td>\n",
              "      <td>NaN</td>\n",
              "      <td>NaN</td>\n",
              "      <td>NaN</td>\n",
              "      <td>NaN</td>\n",
              "      <td>NaN</td>\n",
              "    </tr>\n",
              "    <tr>\n",
              "      <th>79735</th>\n",
              "      <td>32003-1644</td>\n",
              "      <td>32003</td>\n",
              "      <td>NaN</td>\n",
              "      <td>NaN</td>\n",
              "      <td>NaN</td>\n",
              "      <td>NaN</td>\n",
              "      <td>NaN</td>\n",
              "    </tr>\n",
              "    <tr>\n",
              "      <th>79764</th>\n",
              "      <td>32003-4613</td>\n",
              "      <td>32003</td>\n",
              "      <td>NaN</td>\n",
              "      <td>NaN</td>\n",
              "      <td>NaN</td>\n",
              "      <td>NaN</td>\n",
              "      <td>NaN</td>\n",
              "    </tr>\n",
              "    <tr>\n",
              "      <th>79863</th>\n",
              "      <td>32003-1533</td>\n",
              "      <td>32003</td>\n",
              "      <td>NaN</td>\n",
              "      <td>NaN</td>\n",
              "      <td>NaN</td>\n",
              "      <td>NaN</td>\n",
              "      <td>NaN</td>\n",
              "    </tr>\n",
              "    <tr>\n",
              "      <th>79989</th>\n",
              "      <td>32003-1376</td>\n",
              "      <td>32003</td>\n",
              "      <td>NaN</td>\n",
              "      <td>NaN</td>\n",
              "      <td>NaN</td>\n",
              "      <td>NaN</td>\n",
              "      <td>NaN</td>\n",
              "    </tr>\n",
              "    <tr>\n",
              "      <th>...</th>\n",
              "      <td>...</td>\n",
              "      <td>...</td>\n",
              "      <td>...</td>\n",
              "      <td>...</td>\n",
              "      <td>...</td>\n",
              "      <td>...</td>\n",
              "      <td>...</td>\n",
              "    </tr>\n",
              "    <tr>\n",
              "      <th>81215</th>\n",
              "      <td>32031-8226</td>\n",
              "      <td>32031</td>\n",
              "      <td>NaN</td>\n",
              "      <td>NaN</td>\n",
              "      <td>NaN</td>\n",
              "      <td>NaN</td>\n",
              "      <td>NaN</td>\n",
              "    </tr>\n",
              "    <tr>\n",
              "      <th>81216</th>\n",
              "      <td>32031-7567</td>\n",
              "      <td>32031</td>\n",
              "      <td>NaN</td>\n",
              "      <td>NaN</td>\n",
              "      <td>NaN</td>\n",
              "      <td>NaN</td>\n",
              "      <td>NaN</td>\n",
              "    </tr>\n",
              "    <tr>\n",
              "      <th>81217</th>\n",
              "      <td>32031-7585</td>\n",
              "      <td>32031</td>\n",
              "      <td>NaN</td>\n",
              "      <td>NaN</td>\n",
              "      <td>NaN</td>\n",
              "      <td>NaN</td>\n",
              "      <td>NaN</td>\n",
              "    </tr>\n",
              "    <tr>\n",
              "      <th>81220</th>\n",
              "      <td>32031-7428</td>\n",
              "      <td>32031</td>\n",
              "      <td>NaN</td>\n",
              "      <td>NaN</td>\n",
              "      <td>NaN</td>\n",
              "      <td>NaN</td>\n",
              "      <td>NaN</td>\n",
              "    </tr>\n",
              "    <tr>\n",
              "      <th>81221</th>\n",
              "      <td>32031-7403</td>\n",
              "      <td>32031</td>\n",
              "      <td>NaN</td>\n",
              "      <td>NaN</td>\n",
              "      <td>NaN</td>\n",
              "      <td>NaN</td>\n",
              "      <td>NaN</td>\n",
              "    </tr>\n",
              "  </tbody>\n",
              "</table>\n",
              "<p>96 rows × 7 columns</p>\n",
              "</div>"
            ],
            "text/plain": [
              "            GEOID  COUNTY  votes_dem  ...  votes_total  votes_per_sqkm  pct_dem_lead\n",
              "79527  32003-1365   32003        NaN  ...          NaN             NaN           NaN\n",
              "79735  32003-1644   32003        NaN  ...          NaN             NaN           NaN\n",
              "79764  32003-4613   32003        NaN  ...          NaN             NaN           NaN\n",
              "79863  32003-1533   32003        NaN  ...          NaN             NaN           NaN\n",
              "79989  32003-1376   32003        NaN  ...          NaN             NaN           NaN\n",
              "...           ...     ...        ...  ...          ...             ...           ...\n",
              "81215  32031-8226   32031        NaN  ...          NaN             NaN           NaN\n",
              "81216  32031-7567   32031        NaN  ...          NaN             NaN           NaN\n",
              "81217  32031-7585   32031        NaN  ...          NaN             NaN           NaN\n",
              "81220  32031-7428   32031        NaN  ...          NaN             NaN           NaN\n",
              "81221  32031-7403   32031        NaN  ...          NaN             NaN           NaN\n",
              "\n",
              "[96 rows x 7 columns]"
            ]
          },
          "metadata": {
            "tags": []
          },
          "execution_count": 24
        }
      ]
    },
    {
      "cell_type": "code",
      "metadata": {
        "colab": {
          "base_uri": "https://localhost:8080/",
          "height": 233
        },
        "id": "RelJsHWrLcy4",
        "outputId": "3407259d-7fe5-48c6-f9f3-1563202e57ef"
      },
      "source": [
        "df2.head(2)"
      ],
      "execution_count": null,
      "outputs": [
        {
          "output_type": "execute_result",
          "data": {
            "text/html": [
              "<div>\n",
              "<style scoped>\n",
              "    .dataframe tbody tr th:only-of-type {\n",
              "        vertical-align: middle;\n",
              "    }\n",
              "\n",
              "    .dataframe tbody tr th {\n",
              "        vertical-align: top;\n",
              "    }\n",
              "\n",
              "    .dataframe thead th {\n",
              "        text-align: right;\n",
              "    }\n",
              "</style>\n",
              "<table border=\"1\" class=\"dataframe\">\n",
              "  <thead>\n",
              "    <tr style=\"text-align: right;\">\n",
              "      <th></th>\n",
              "      <th>GEOID</th>\n",
              "      <th>COUNTY</th>\n",
              "      <th>votes_dem</th>\n",
              "      <th>votes_rep</th>\n",
              "      <th>votes_total</th>\n",
              "      <th>votes_per_sqkm</th>\n",
              "      <th>pct_dem_lead</th>\n",
              "    </tr>\n",
              "  </thead>\n",
              "  <tbody>\n",
              "    <tr>\n",
              "      <th>0</th>\n",
              "      <td>05047-1-A (Oz Wd 1)</td>\n",
              "      <td>5047</td>\n",
              "      <td>79.0</td>\n",
              "      <td>279.0</td>\n",
              "      <td>366.0</td>\n",
              "      <td>54.2</td>\n",
              "      <td>-54.6</td>\n",
              "    </tr>\n",
              "    <tr>\n",
              "      <th>1</th>\n",
              "      <td>05149-11 - Dutch Creek</td>\n",
              "      <td>5149</td>\n",
              "      <td>6.0</td>\n",
              "      <td>31.0</td>\n",
              "      <td>37.0</td>\n",
              "      <td>0.3</td>\n",
              "      <td>-67.6</td>\n",
              "    </tr>\n",
              "  </tbody>\n",
              "</table>\n",
              "</div>"
            ],
            "text/plain": [
              "                    GEOID  COUNTY  ...  votes_per_sqkm  pct_dem_lead\n",
              "0     05047-1-A (Oz Wd 1)    5047  ...            54.2         -54.6\n",
              "1  05149-11 - Dutch Creek    5149  ...             0.3         -67.6\n",
              "\n",
              "[2 rows x 7 columns]"
            ]
          },
          "metadata": {
            "tags": []
          },
          "execution_count": 25
        }
      ]
    },
    {
      "cell_type": "code",
      "metadata": {
        "colab": {
          "base_uri": "https://localhost:8080/",
          "height": 419
        },
        "id": "bauasYFQcNMg",
        "outputId": "ec561809-ed22-4a2a-d529-47da79f29f5a"
      },
      "source": [
        "# Since zip-codes and election precincts don't map onto each other, we need to aggregate at the county level.\n",
        "# So, before we merge, we're going to try and roll-up to the county level \n",
        "df3 = df2.groupby(['COUNTY'])[['votes_dem', 'votes_rep', 'votes_total']].agg('sum')\n",
        "df3.reset_index(inplace=True)\n",
        "df3"
      ],
      "execution_count": null,
      "outputs": [
        {
          "output_type": "execute_result",
          "data": {
            "text/html": [
              "<div>\n",
              "<style scoped>\n",
              "    .dataframe tbody tr th:only-of-type {\n",
              "        vertical-align: middle;\n",
              "    }\n",
              "\n",
              "    .dataframe tbody tr th {\n",
              "        vertical-align: top;\n",
              "    }\n",
              "\n",
              "    .dataframe thead th {\n",
              "        text-align: right;\n",
              "    }\n",
              "</style>\n",
              "<table border=\"1\" class=\"dataframe\">\n",
              "  <thead>\n",
              "    <tr style=\"text-align: right;\">\n",
              "      <th></th>\n",
              "      <th>COUNTY</th>\n",
              "      <th>votes_dem</th>\n",
              "      <th>votes_rep</th>\n",
              "      <th>votes_total</th>\n",
              "    </tr>\n",
              "  </thead>\n",
              "  <tbody>\n",
              "    <tr>\n",
              "      <th>0</th>\n",
              "      <td>4001</td>\n",
              "      <td>22730.0</td>\n",
              "      <td>11240.0</td>\n",
              "      <td>34397.0</td>\n",
              "    </tr>\n",
              "    <tr>\n",
              "      <th>1</th>\n",
              "      <td>4003</td>\n",
              "      <td>22997.0</td>\n",
              "      <td>33580.0</td>\n",
              "      <td>57672.0</td>\n",
              "    </tr>\n",
              "    <tr>\n",
              "      <th>2</th>\n",
              "      <td>4005</td>\n",
              "      <td>44408.0</td>\n",
              "      <td>26914.0</td>\n",
              "      <td>72832.0</td>\n",
              "    </tr>\n",
              "    <tr>\n",
              "      <th>3</th>\n",
              "      <td>4007</td>\n",
              "      <td>8943.0</td>\n",
              "      <td>18375.0</td>\n",
              "      <td>27660.0</td>\n",
              "    </tr>\n",
              "    <tr>\n",
              "      <th>4</th>\n",
              "      <td>4009</td>\n",
              "      <td>4034.0</td>\n",
              "      <td>10747.0</td>\n",
              "      <td>14993.0</td>\n",
              "    </tr>\n",
              "    <tr>\n",
              "      <th>...</th>\n",
              "      <td>...</td>\n",
              "      <td>...</td>\n",
              "      <td>...</td>\n",
              "      <td>...</td>\n",
              "    </tr>\n",
              "    <tr>\n",
              "      <th>2526</th>\n",
              "      <td>90111</td>\n",
              "      <td>32265.0</td>\n",
              "      <td>23436.0</td>\n",
              "      <td>56855.0</td>\n",
              "    </tr>\n",
              "    <tr>\n",
              "      <th>2527</th>\n",
              "      <td>90130</td>\n",
              "      <td>22467.0</td>\n",
              "      <td>16579.0</td>\n",
              "      <td>39961.0</td>\n",
              "    </tr>\n",
              "    <tr>\n",
              "      <th>2528</th>\n",
              "      <td>90131</td>\n",
              "      <td>21539.0</td>\n",
              "      <td>18240.0</td>\n",
              "      <td>40585.0</td>\n",
              "    </tr>\n",
              "    <tr>\n",
              "      <th>2529</th>\n",
              "      <td>90150</td>\n",
              "      <td>9424.0</td>\n",
              "      <td>11640.0</td>\n",
              "      <td>21557.0</td>\n",
              "    </tr>\n",
              "    <tr>\n",
              "      <th>2530</th>\n",
              "      <td>90151</td>\n",
              "      <td>17277.0</td>\n",
              "      <td>17501.0</td>\n",
              "      <td>35520.0</td>\n",
              "    </tr>\n",
              "  </tbody>\n",
              "</table>\n",
              "<p>2531 rows × 4 columns</p>\n",
              "</div>"
            ],
            "text/plain": [
              "      COUNTY  votes_dem  votes_rep  votes_total\n",
              "0       4001    22730.0    11240.0      34397.0\n",
              "1       4003    22997.0    33580.0      57672.0\n",
              "2       4005    44408.0    26914.0      72832.0\n",
              "3       4007     8943.0    18375.0      27660.0\n",
              "4       4009     4034.0    10747.0      14993.0\n",
              "...      ...        ...        ...          ...\n",
              "2526   90111    32265.0    23436.0      56855.0\n",
              "2527   90130    22467.0    16579.0      39961.0\n",
              "2528   90131    21539.0    18240.0      40585.0\n",
              "2529   90150     9424.0    11640.0      21557.0\n",
              "2530   90151    17277.0    17501.0      35520.0\n",
              "\n",
              "[2531 rows x 4 columns]"
            ]
          },
          "metadata": {
            "tags": []
          },
          "execution_count": 11
        }
      ]
    },
    {
      "cell_type": "markdown",
      "metadata": {
        "id": "sjHrANmjn1ua"
      },
      "source": [
        "## ZIP-COUNTY and COUNTY-ZIP Crosswalk Merge"
      ]
    },
    {
      "cell_type": "code",
      "metadata": {
        "id": "4mpuhd-1GGn5"
      },
      "source": [
        "# let's merge the votes df with HUD-USPS ZIP Crosswalk Files: https://www.huduser.gov/portal/datasets/usps_crosswalk.html\n",
        "# before merging we'll have to just take the first 5 number from the GEOID column\n",
        "## GEOID: unique identifier for the precinct, formed from the **five-digit county FIPS code** followed by the precinct name/ID (eg, 30003-08 or 39091-WEST MANSFIELD)\n",
        "## I'm not sure how important the precinct code is\n",
        "## If necessary, I can also merge the two on the CBSA\t5 digit CBSA code for Micropolitan and Metropolitan Areas as defined by OMB in February of 2013. \n",
        "## ZIP codes with a CBSA code of ‘99999’ are not located within a CBSA. In Metropolitan Areas that are broken out into Divisions, the code reported is the CBSA Metropolitan Division code.\n",
        "\n",
        "zip_county_df = pd.read_excel('/content/drive/My Drive/Data Science/BrainStation/Colab/data/ZIP_COUNTY_092014.xlsx')\n",
        "# zip_county_df.drop(columns=['RES_RATIO', 'BUS_RATIO', 'OTH_RATIO', 'TOT_RATIO'], inplace=True)"
      ],
      "execution_count": null,
      "outputs": []
    },
    {
      "cell_type": "code",
      "metadata": {
        "colab": {
          "base_uri": "https://localhost:8080/"
        },
        "id": "wg6EezjDopqT",
        "outputId": "53596bd0-c5d9-496d-f0a0-bba69259a3ed"
      },
      "source": [
        "zip_county_df.info()"
      ],
      "execution_count": null,
      "outputs": [
        {
          "output_type": "stream",
          "text": [
            "<class 'pandas.core.frame.DataFrame'>\n",
            "RangeIndex: 51252 entries, 0 to 51251\n",
            "Data columns (total 6 columns):\n",
            " #   Column     Non-Null Count  Dtype  \n",
            "---  ------     --------------  -----  \n",
            " 0   ZIP        51252 non-null  int64  \n",
            " 1   COUNTY     51252 non-null  int64  \n",
            " 2   RES_RATIO  51252 non-null  float64\n",
            " 3   BUS_RATIO  51252 non-null  float64\n",
            " 4   OTH_RATIO  51252 non-null  float64\n",
            " 5   TOT_RATIO  51252 non-null  float64\n",
            "dtypes: float64(4), int64(2)\n",
            "memory usage: 2.3 MB\n"
          ],
          "name": "stdout"
        }
      ]
    },
    {
      "cell_type": "code",
      "metadata": {
        "id": "PeybQlaMG3dw"
      },
      "source": [
        "county_zip_df = pd.read_excel('/content/drive/My Drive/Data Science/BrainStation/Colab/data/COUNTY_ZIP_032020.xlsx')\n",
        "# county_zip_df.drop(columns=['RES_RATIO', 'BUS_RATIO', 'OTH_RATIO', 'TOT_RATIO'], inplace=True)"
      ],
      "execution_count": null,
      "outputs": []
    },
    {
      "cell_type": "code",
      "metadata": {
        "colab": {
          "base_uri": "https://localhost:8080/"
        },
        "id": "o9GkAuqpoukp",
        "outputId": "e4c1f692-6133-45c3-ddd8-962900159203"
      },
      "source": [
        "# Another oddity: There are a total of 41,692 zip codes according to\n",
        "# https://facts.usps.com/42000-zip-codes/.\n",
        "#\n",
        "# Also, I had a poor understanding of the relation between zip code and county...\n",
        "# https://www.census.gov/newsroom/blogs/random-samplings/2014/07/understanding-geographic-relationships-counties-places-tracts-and-more.html\n",
        "# Therein is a diagram of the \"Standard Hierarchy of Census Geographic Entities\"\n",
        "# Apparently, according to https://greatdata.com/product/11/county-zipcode,\n",
        "# zip codes span more than one county about 20% of the time.\n",
        "\n",
        "county_zip_df.info()"
      ],
      "execution_count": null,
      "outputs": [
        {
          "output_type": "stream",
          "text": [
            "<class 'pandas.core.frame.DataFrame'>\n",
            "RangeIndex: 54181 entries, 0 to 54180\n",
            "Data columns (total 6 columns):\n",
            " #   Column     Non-Null Count  Dtype  \n",
            "---  ------     --------------  -----  \n",
            " 0   COUNTY     54181 non-null  int64  \n",
            " 1   ZIP        54181 non-null  int64  \n",
            " 2   RES_RATIO  54181 non-null  float64\n",
            " 3   BUS_RATIO  54181 non-null  float64\n",
            " 4   OTH_RATIO  54181 non-null  float64\n",
            " 5   TOT_RATIO  54181 non-null  float64\n",
            "dtypes: float64(4), int64(2)\n",
            "memory usage: 2.5 MB\n"
          ],
          "name": "stdout"
        }
      ]
    },
    {
      "cell_type": "code",
      "metadata": {
        "id": "r0IpsalqOhZP"
      },
      "source": [
        "# rename the emissions df column to ZIP for another merge\n",
        "df.rename(columns={\"ZipCode\": \"ZIP\"}, inplace=True)"
      ],
      "execution_count": null,
      "outputs": []
    },
    {
      "cell_type": "code",
      "metadata": {
        "id": "SsjSf_VOPuG7"
      },
      "source": [
        "emissions_df = pd.merge(df, zip_county_df, how='left', on='ZIP')"
      ],
      "execution_count": null,
      "outputs": []
    },
    {
      "cell_type": "code",
      "metadata": {
        "colab": {
          "base_uri": "https://localhost:8080/",
          "height": 329
        },
        "id": "2KnLOIPadiRT",
        "outputId": "8485d13e-ae7b-43af-aa6f-1f588cd79c40"
      },
      "source": [
        "emissions_df.head(4)"
      ],
      "execution_count": null,
      "outputs": [
        {
          "output_type": "execute_result",
          "data": {
            "text/html": [
              "<div>\n",
              "<style scoped>\n",
              "    .dataframe tbody tr th:only-of-type {\n",
              "        vertical-align: middle;\n",
              "    }\n",
              "\n",
              "    .dataframe tbody tr th {\n",
              "        vertical-align: top;\n",
              "    }\n",
              "\n",
              "    .dataframe thead th {\n",
              "        text-align: right;\n",
              "    }\n",
              "</style>\n",
              "<table border=\"1\" class=\"dataframe\">\n",
              "  <thead>\n",
              "    <tr style=\"text-align: right;\">\n",
              "      <th></th>\n",
              "      <th>ZIP</th>\n",
              "      <th>Population</th>\n",
              "      <th>PersonsPerHousehold</th>\n",
              "      <th>AverageHouseValue</th>\n",
              "      <th>IncomePerHousehold</th>\n",
              "      <th>Latitude</th>\n",
              "      <th>Longitude</th>\n",
              "      <th>Elevation</th>\n",
              "      <th>State</th>\n",
              "      <th>StateFullName</th>\n",
              "      <th>City</th>\n",
              "      <th>CountyName</th>\n",
              "      <th>Region</th>\n",
              "      <th>Division</th>\n",
              "      <th>popden</th>\n",
              "      <th>electricity (kWh)</th>\n",
              "      <th>Nat. Gas (cu.ft.)</th>\n",
              "      <th>FUELOIL (gallons)</th>\n",
              "      <th>Vehicle miles traveled</th>\n",
              "      <th>Transport (tCO2e/yr)</th>\n",
              "      <th>Housing (tCO2e/yr)</th>\n",
              "      <th>Food (tCO2e/yr)</th>\n",
              "      <th>Goods (tCO2e/yr)</th>\n",
              "      <th>Services (tCO2e/yr)</th>\n",
              "      <th>Total Household Carbon Footprint (tCO2e/yr)</th>\n",
              "      <th>HouseholdsPerZipCode</th>\n",
              "      <th>Total Zip Code Carbon Footprint (tCO2e/yr)</th>\n",
              "      <th>COUNTY</th>\n",
              "      <th>RES_RATIO</th>\n",
              "      <th>BUS_RATIO</th>\n",
              "      <th>OTH_RATIO</th>\n",
              "      <th>TOT_RATIO</th>\n",
              "    </tr>\n",
              "  </thead>\n",
              "  <tbody>\n",
              "    <tr>\n",
              "      <th>0</th>\n",
              "      <td>1001</td>\n",
              "      <td>16576</td>\n",
              "      <td>2.27</td>\n",
              "      <td>127300</td>\n",
              "      <td>45735</td>\n",
              "      <td>42.070743</td>\n",
              "      <td>-72.625036</td>\n",
              "      <td>70</td>\n",
              "      <td>MA</td>\n",
              "      <td>Massachusetts</td>\n",
              "      <td>AGAWAM</td>\n",
              "      <td>HAMPDEN</td>\n",
              "      <td>Northeast</td>\n",
              "      <td>New England</td>\n",
              "      <td>1351.201539</td>\n",
              "      <td>7350.449509</td>\n",
              "      <td>53042.803497</td>\n",
              "      <td>182.080258</td>\n",
              "      <td>22351</td>\n",
              "      <td>15.638928</td>\n",
              "      <td>11.475951</td>\n",
              "      <td>6.81</td>\n",
              "      <td>5.308949</td>\n",
              "      <td>6.071196</td>\n",
              "      <td>45.305024</td>\n",
              "      <td>7279</td>\n",
              "      <td>329775.266933</td>\n",
              "      <td>25013.0</td>\n",
              "      <td>1.000000</td>\n",
              "      <td>1.000000</td>\n",
              "      <td>1.000000</td>\n",
              "      <td>1.000000</td>\n",
              "    </tr>\n",
              "    <tr>\n",
              "      <th>1</th>\n",
              "      <td>1002</td>\n",
              "      <td>36794</td>\n",
              "      <td>2.46</td>\n",
              "      <td>178200</td>\n",
              "      <td>42567</td>\n",
              "      <td>42.376860</td>\n",
              "      <td>-72.469140</td>\n",
              "      <td>140</td>\n",
              "      <td>MA</td>\n",
              "      <td>Massachusetts</td>\n",
              "      <td>AMHERST</td>\n",
              "      <td>HAMPSHIRE</td>\n",
              "      <td>Northeast</td>\n",
              "      <td>New England</td>\n",
              "      <td>640.779895</td>\n",
              "      <td>6340.253417</td>\n",
              "      <td>32533.160667</td>\n",
              "      <td>327.750703</td>\n",
              "      <td>19817</td>\n",
              "      <td>13.895789</td>\n",
              "      <td>11.545354</td>\n",
              "      <td>7.38</td>\n",
              "      <td>5.180926</td>\n",
              "      <td>5.807919</td>\n",
              "      <td>43.809988</td>\n",
              "      <td>10177</td>\n",
              "      <td>445854.242972</td>\n",
              "      <td>25015.0</td>\n",
              "      <td>0.988912</td>\n",
              "      <td>0.998864</td>\n",
              "      <td>0.996234</td>\n",
              "      <td>0.989902</td>\n",
              "    </tr>\n",
              "    <tr>\n",
              "      <th>2</th>\n",
              "      <td>1002</td>\n",
              "      <td>36794</td>\n",
              "      <td>2.46</td>\n",
              "      <td>178200</td>\n",
              "      <td>42567</td>\n",
              "      <td>42.376860</td>\n",
              "      <td>-72.469140</td>\n",
              "      <td>140</td>\n",
              "      <td>MA</td>\n",
              "      <td>Massachusetts</td>\n",
              "      <td>AMHERST</td>\n",
              "      <td>HAMPSHIRE</td>\n",
              "      <td>Northeast</td>\n",
              "      <td>New England</td>\n",
              "      <td>640.779895</td>\n",
              "      <td>6340.253417</td>\n",
              "      <td>32533.160667</td>\n",
              "      <td>327.750703</td>\n",
              "      <td>19817</td>\n",
              "      <td>13.895789</td>\n",
              "      <td>11.545354</td>\n",
              "      <td>7.38</td>\n",
              "      <td>5.180926</td>\n",
              "      <td>5.807919</td>\n",
              "      <td>43.809988</td>\n",
              "      <td>10177</td>\n",
              "      <td>445854.242972</td>\n",
              "      <td>25011.0</td>\n",
              "      <td>0.011088</td>\n",
              "      <td>0.001136</td>\n",
              "      <td>0.003766</td>\n",
              "      <td>0.010098</td>\n",
              "    </tr>\n",
              "    <tr>\n",
              "      <th>3</th>\n",
              "      <td>1005</td>\n",
              "      <td>5077</td>\n",
              "      <td>2.69</td>\n",
              "      <td>123800</td>\n",
              "      <td>50395</td>\n",
              "      <td>42.433445</td>\n",
              "      <td>-72.114991</td>\n",
              "      <td>475</td>\n",
              "      <td>MA</td>\n",
              "      <td>Massachusetts</td>\n",
              "      <td>BARRE</td>\n",
              "      <td>WORCESTER</td>\n",
              "      <td>Northeast</td>\n",
              "      <td>New England</td>\n",
              "      <td>120.016408</td>\n",
              "      <td>7749.788691</td>\n",
              "      <td>21038.638333</td>\n",
              "      <td>595.222740</td>\n",
              "      <td>28008</td>\n",
              "      <td>19.192342</td>\n",
              "      <td>14.817438</td>\n",
              "      <td>8.07</td>\n",
              "      <td>5.764939</td>\n",
              "      <td>6.497346</td>\n",
              "      <td>54.342065</td>\n",
              "      <td>1979</td>\n",
              "      <td>107542.947356</td>\n",
              "      <td>25027.0</td>\n",
              "      <td>1.000000</td>\n",
              "      <td>1.000000</td>\n",
              "      <td>1.000000</td>\n",
              "      <td>1.000000</td>\n",
              "    </tr>\n",
              "  </tbody>\n",
              "</table>\n",
              "</div>"
            ],
            "text/plain": [
              "    ZIP  Population  PersonsPerHousehold  ...  BUS_RATIO  OTH_RATIO  TOT_RATIO\n",
              "0  1001       16576                 2.27  ...   1.000000   1.000000   1.000000\n",
              "1  1002       36794                 2.46  ...   0.998864   0.996234   0.989902\n",
              "2  1002       36794                 2.46  ...   0.001136   0.003766   0.010098\n",
              "3  1005        5077                 2.69  ...   1.000000   1.000000   1.000000\n",
              "\n",
              "[4 rows x 32 columns]"
            ]
          },
          "metadata": {
            "tags": []
          },
          "execution_count": 18
        }
      ]
    },
    {
      "cell_type": "code",
      "metadata": {
        "id": "cagexC3CPmwS",
        "colab": {
          "base_uri": "https://localhost:8080/"
        },
        "outputId": "c1cea86c-ae9c-430b-d446-11b5b5ff714a"
      },
      "source": [
        "# This is odd: the left join on ZIP should theoretically not add any rows to the dataset.\n",
        "# The fact that the resulting dataset has more rows means that one zip code can\n",
        "# map to many county codes, and one county code can map to many zip codes.\n",
        "# The ideal situation is that county-to-zip is one-to-many.\n",
        "\n",
        "# Dunc: Not ideal! Just seeing now that it's why the ratio columns are provided\n",
        "# Ben: Note above note-to-self from Ben and below info on ratios by Duncan\n",
        "emissions_df.shape"
      ],
      "execution_count": null,
      "outputs": [
        {
          "output_type": "execute_result",
          "data": {
            "text/plain": [
              "(43106, 32)"
            ]
          },
          "metadata": {
            "tags": []
          },
          "execution_count": 19
        }
      ]
    },
    {
      "cell_type": "code",
      "metadata": {
        "colab": {
          "base_uri": "https://localhost:8080/"
        },
        "id": "s7XM-6CJU5Je",
        "outputId": "270aca99-c82a-4fd1-b244-2a27453e712d"
      },
      "source": [
        "print(emissions_df.isnull().sum())"
      ],
      "execution_count": null,
      "outputs": [
        {
          "output_type": "stream",
          "text": [
            "ZIP                                              0\n",
            "Population                                       0\n",
            "PersonsPerHousehold                              0\n",
            "AverageHouseValue                                0\n",
            "IncomePerHousehold                               0\n",
            "Latitude                                         0\n",
            "Longitude                                        0\n",
            "Elevation                                        0\n",
            "State                                            0\n",
            "StateFullName                                    0\n",
            "City                                             0\n",
            "CountyName                                       0\n",
            "Region                                           0\n",
            "Division                                         0\n",
            "popden                                           0\n",
            "electricity (kWh)                                0\n",
            "Nat. Gas (cu.ft.)                                0\n",
            "FUELOIL (gallons)                                0\n",
            "Vehicle miles traveled                           0\n",
            "Transport (tCO2e/yr)                             0\n",
            "Housing (tCO2e/yr)                              84\n",
            "Food (tCO2e/yr)                                  0\n",
            "Goods (tCO2e/yr)                                 0\n",
            "Services (tCO2e/yr)                              0\n",
            "Total Household Carbon Footprint (tCO2e/yr)      0\n",
            "HouseholdsPerZipCode                             0\n",
            "Total Zip Code Carbon Footprint (tCO2e/yr)       0\n",
            "COUNTY                                         132\n",
            "RES_RATIO                                      132\n",
            "BUS_RATIO                                      132\n",
            "OTH_RATIO                                      132\n",
            "TOT_RATIO                                      132\n",
            "dtype: int64\n"
          ],
          "name": "stdout"
        }
      ]
    },
    {
      "cell_type": "code",
      "metadata": {
        "id": "dePlUwwci9zM"
      },
      "source": [
        "# Ben: With more time, one could try to get at some of these nulls by using another\n",
        "# crosswalk from the CDC. Much larger files but they don't have ratios.\n",
        "# Link: https://wonder.cdc.gov/wonder/sci_data/codes/fips/type_txt/cntyxref.asp"
      ],
      "execution_count": null,
      "outputs": []
    },
    {
      "cell_type": "code",
      "metadata": {
        "id": "oKCA4fsqpW4X"
      },
      "source": [
        "votes_df = pd.merge(df3, county_zip_df, how='left', on='COUNTY')"
      ],
      "execution_count": null,
      "outputs": []
    },
    {
      "cell_type": "code",
      "metadata": {
        "colab": {
          "base_uri": "https://localhost:8080/",
          "height": 317
        },
        "id": "la14mwP-pgNN",
        "outputId": "c1e8b13e-145f-43b8-8eca-b0a63cf919fe"
      },
      "source": [
        "votes_df.head(8)"
      ],
      "execution_count": null,
      "outputs": [
        {
          "output_type": "execute_result",
          "data": {
            "text/html": [
              "<div>\n",
              "<style scoped>\n",
              "    .dataframe tbody tr th:only-of-type {\n",
              "        vertical-align: middle;\n",
              "    }\n",
              "\n",
              "    .dataframe tbody tr th {\n",
              "        vertical-align: top;\n",
              "    }\n",
              "\n",
              "    .dataframe thead th {\n",
              "        text-align: right;\n",
              "    }\n",
              "</style>\n",
              "<table border=\"1\" class=\"dataframe\">\n",
              "  <thead>\n",
              "    <tr style=\"text-align: right;\">\n",
              "      <th></th>\n",
              "      <th>COUNTY</th>\n",
              "      <th>votes_dem</th>\n",
              "      <th>votes_rep</th>\n",
              "      <th>votes_total</th>\n",
              "      <th>ZIP</th>\n",
              "      <th>RES_RATIO</th>\n",
              "      <th>BUS_RATIO</th>\n",
              "      <th>OTH_RATIO</th>\n",
              "      <th>TOT_RATIO</th>\n",
              "    </tr>\n",
              "  </thead>\n",
              "  <tbody>\n",
              "    <tr>\n",
              "      <th>0</th>\n",
              "      <td>4001</td>\n",
              "      <td>22730.0</td>\n",
              "      <td>11240.0</td>\n",
              "      <td>34397.0</td>\n",
              "      <td>86511.0</td>\n",
              "      <td>0.000000</td>\n",
              "      <td>0.006289</td>\n",
              "      <td>0.008197</td>\n",
              "      <td>0.000550</td>\n",
              "    </tr>\n",
              "    <tr>\n",
              "      <th>1</th>\n",
              "      <td>4001</td>\n",
              "      <td>22730.0</td>\n",
              "      <td>11240.0</td>\n",
              "      <td>34397.0</td>\n",
              "      <td>85940.0</td>\n",
              "      <td>0.000298</td>\n",
              "      <td>0.000000</td>\n",
              "      <td>0.008197</td>\n",
              "      <td>0.000550</td>\n",
              "    </tr>\n",
              "    <tr>\n",
              "      <th>2</th>\n",
              "      <td>4001</td>\n",
              "      <td>22730.0</td>\n",
              "      <td>11240.0</td>\n",
              "      <td>34397.0</td>\n",
              "      <td>86504.0</td>\n",
              "      <td>0.000000</td>\n",
              "      <td>0.000000</td>\n",
              "      <td>0.008197</td>\n",
              "      <td>0.000275</td>\n",
              "    </tr>\n",
              "    <tr>\n",
              "      <th>3</th>\n",
              "      <td>4001</td>\n",
              "      <td>22730.0</td>\n",
              "      <td>11240.0</td>\n",
              "      <td>34397.0</td>\n",
              "      <td>86503.0</td>\n",
              "      <td>0.000298</td>\n",
              "      <td>0.081761</td>\n",
              "      <td>0.024590</td>\n",
              "      <td>0.004672</td>\n",
              "    </tr>\n",
              "    <tr>\n",
              "      <th>4</th>\n",
              "      <td>4001</td>\n",
              "      <td>22730.0</td>\n",
              "      <td>11240.0</td>\n",
              "      <td>34397.0</td>\n",
              "      <td>85927.0</td>\n",
              "      <td>0.019059</td>\n",
              "      <td>0.031447</td>\n",
              "      <td>0.016393</td>\n",
              "      <td>0.019511</td>\n",
              "    </tr>\n",
              "    <tr>\n",
              "      <th>5</th>\n",
              "      <td>4001</td>\n",
              "      <td>22730.0</td>\n",
              "      <td>11240.0</td>\n",
              "      <td>34397.0</td>\n",
              "      <td>86538.0</td>\n",
              "      <td>0.000000</td>\n",
              "      <td>0.000000</td>\n",
              "      <td>0.008197</td>\n",
              "      <td>0.000275</td>\n",
              "    </tr>\n",
              "    <tr>\n",
              "      <th>6</th>\n",
              "      <td>4001</td>\n",
              "      <td>22730.0</td>\n",
              "      <td>11240.0</td>\n",
              "      <td>34397.0</td>\n",
              "      <td>86535.0</td>\n",
              "      <td>0.000000</td>\n",
              "      <td>0.006289</td>\n",
              "      <td>0.000000</td>\n",
              "      <td>0.000275</td>\n",
              "    </tr>\n",
              "    <tr>\n",
              "      <th>7</th>\n",
              "      <td>4001</td>\n",
              "      <td>22730.0</td>\n",
              "      <td>11240.0</td>\n",
              "      <td>34397.0</td>\n",
              "      <td>86502.0</td>\n",
              "      <td>0.000298</td>\n",
              "      <td>0.000000</td>\n",
              "      <td>0.008197</td>\n",
              "      <td>0.000550</td>\n",
              "    </tr>\n",
              "  </tbody>\n",
              "</table>\n",
              "</div>"
            ],
            "text/plain": [
              "   COUNTY  votes_dem  votes_rep  ...  BUS_RATIO  OTH_RATIO  TOT_RATIO\n",
              "0    4001    22730.0    11240.0  ...   0.006289   0.008197   0.000550\n",
              "1    4001    22730.0    11240.0  ...   0.000000   0.008197   0.000550\n",
              "2    4001    22730.0    11240.0  ...   0.000000   0.008197   0.000275\n",
              "3    4001    22730.0    11240.0  ...   0.081761   0.024590   0.004672\n",
              "4    4001    22730.0    11240.0  ...   0.031447   0.016393   0.019511\n",
              "5    4001    22730.0    11240.0  ...   0.000000   0.008197   0.000275\n",
              "6    4001    22730.0    11240.0  ...   0.006289   0.000000   0.000275\n",
              "7    4001    22730.0    11240.0  ...   0.000000   0.008197   0.000550\n",
              "\n",
              "[8 rows x 9 columns]"
            ]
          },
          "metadata": {
            "tags": []
          },
          "execution_count": 23
        }
      ]
    },
    {
      "cell_type": "code",
      "metadata": {
        "colab": {
          "base_uri": "https://localhost:8080/"
        },
        "id": "I3hMuHG0pxO5",
        "outputId": "54830a03-e841-4324-bd41-7bbb180e6cb1"
      },
      "source": [
        "votes_df.shape"
      ],
      "execution_count": null,
      "outputs": [
        {
          "output_type": "execute_result",
          "data": {
            "text/plain": [
              "(45050, 9)"
            ]
          },
          "metadata": {
            "tags": []
          },
          "execution_count": 24
        }
      ]
    },
    {
      "cell_type": "markdown",
      "metadata": {
        "id": "SCpSjBaMekJJ"
      },
      "source": [
        "## Notes on `RATIO` columns\n",
        "\n",
        "*   When a Census tract, county or CBSA is split by a ZIP code, that tract, county or CBSA code is duplicated in the crosswalk file. \n",
        "\n",
        "*   In the example below tract 01001020200 is split by two different ZIP codes, 36008 and 36067, which appear in the ZIP column. \n",
        "\n",
        "*   The ratio of residential addresses in the first tract-ZIP record to the total number of residential addresses in the tract is .0272 (2.72%). \n",
        "\n",
        "*   The remaining residential addresses in that tract (97.28%) fall into the second tract-ZIP record. \n",
        "\n",
        "*   So, for example, if one wanted to allocate data from Census tract 01001020200 to the ZIP code level, one would multiply the number of observations in the Census tract by the residential ratio for each ZIP code associated with that Census tract. \n",
        "*   Note that the sum of each ratio column for each distinct ZIP code may not always equal 1.00 (or 100%) due to rounding issues.\n",
        "\n",
        "\n"
      ]
    },
    {
      "cell_type": "markdown",
      "metadata": {
        "id": "4diTBDDHdCYK"
      },
      "source": [
        "**Why do ZIP Codes appear multiple times in the Crosswalk Files?**\n",
        "\n",
        "ZIP Codes have the potential to intersect with multiple geographies. Each record in the Crosswalk File represents a geography that intersects with a particular ZIP Code. For example, if you are reviewing a ZIP to County file, if a ZIP Code appears twice then it intersects with two counties. The ratio fields describe the percentage of the respective addresses that fall in both that ZIP Code and each county.\n",
        "\n",
        "`RES_RATIO`\tThe ratio of residential addresses in the ZIP – Tract, County, or CBSA to the total number of residential addresses in the entire ZIP.\n",
        "`BUS_RATIO`\tThe ratio of business addresses in the ZIP – Tract, County, or CBSA part to the total number of business addresses in the entire ZIP.\n",
        "`OTH_RATIO`\tThe ratio of other addresses in the ZIP – Tract, County, or CBSA part to the total number of other addresses in the entire ZIP.\n",
        "`TOTAL_RATIO`\tThe ratio of all addresses in the ZIP – Tract, County, or CBSA part to the total number of all types of addresses in the entire ZIP.\n",
        "\n"
      ]
    },
    {
      "cell_type": "markdown",
      "metadata": {
        "id": "q8We3aI2pZBx"
      },
      "source": [
        "## Reorganize Emissions Data"
      ]
    },
    {
      "cell_type": "code",
      "metadata": {
        "colab": {
          "base_uri": "https://localhost:8080/"
        },
        "id": "bJeW__Dp5kaz",
        "outputId": "7e04a52b-67cc-4c0b-d636-216c1e052854"
      },
      "source": [
        "# how much memory are we using now with each dataframe?\n",
        "emissions_df.info()"
      ],
      "execution_count": null,
      "outputs": [
        {
          "output_type": "stream",
          "text": [
            "<class 'pandas.core.frame.DataFrame'>\n",
            "Int64Index: 43106 entries, 0 to 43105\n",
            "Data columns (total 32 columns):\n",
            " #   Column                                       Non-Null Count  Dtype  \n",
            "---  ------                                       --------------  -----  \n",
            " 0   ZIP                                          43106 non-null  int64  \n",
            " 1   Population                                   43106 non-null  int64  \n",
            " 2   PersonsPerHousehold                          43106 non-null  float64\n",
            " 3   AverageHouseValue                            43106 non-null  int64  \n",
            " 4   IncomePerHousehold                           43106 non-null  int64  \n",
            " 5   Latitude                                     43106 non-null  float64\n",
            " 6   Longitude                                    43106 non-null  float64\n",
            " 7   Elevation                                    43106 non-null  int64  \n",
            " 8   State                                        43106 non-null  object \n",
            " 9   StateFullName                                43106 non-null  object \n",
            " 10  City                                         43106 non-null  object \n",
            " 11  CountyName                                   43106 non-null  object \n",
            " 12  Region                                       43106 non-null  object \n",
            " 13  Division                                     43106 non-null  object \n",
            " 14  popden                                       43106 non-null  float64\n",
            " 15  electricity (kWh)                            43106 non-null  float64\n",
            " 16  Nat. Gas (cu.ft.)                            43106 non-null  float64\n",
            " 17  FUELOIL (gallons)                            43106 non-null  float64\n",
            " 18  Vehicle miles traveled                       43106 non-null  int64  \n",
            " 19  Transport (tCO2e/yr)                         43106 non-null  float64\n",
            " 20  Housing (tCO2e/yr)                           43022 non-null  float64\n",
            " 21  Food (tCO2e/yr)                              43106 non-null  float64\n",
            " 22  Goods (tCO2e/yr)                             43106 non-null  float64\n",
            " 23  Services (tCO2e/yr)                          43106 non-null  float64\n",
            " 24  Total Household Carbon Footprint (tCO2e/yr)  43106 non-null  float64\n",
            " 25  HouseholdsPerZipCode                         43106 non-null  int64  \n",
            " 26  Total Zip Code Carbon Footprint (tCO2e/yr)   43106 non-null  float64\n",
            " 27  COUNTY                                       42974 non-null  float64\n",
            " 28  RES_RATIO                                    42974 non-null  float64\n",
            " 29  BUS_RATIO                                    42974 non-null  float64\n",
            " 30  OTH_RATIO                                    42974 non-null  float64\n",
            " 31  TOT_RATIO                                    42974 non-null  float64\n",
            "dtypes: float64(19), int64(7), object(6)\n",
            "memory usage: 10.9+ MB\n"
          ],
          "name": "stdout"
        }
      ]
    },
    {
      "cell_type": "code",
      "metadata": {
        "colab": {
          "base_uri": "https://localhost:8080/"
        },
        "id": "trOJ6yyC5qEK",
        "outputId": "0b944209-f155-43b0-e0d7-8eb376ae6d63"
      },
      "source": [
        "votes_df.info()"
      ],
      "execution_count": null,
      "outputs": [
        {
          "output_type": "stream",
          "text": [
            "<class 'pandas.core.frame.DataFrame'>\n",
            "Int64Index: 45050 entries, 0 to 45049\n",
            "Data columns (total 9 columns):\n",
            " #   Column       Non-Null Count  Dtype  \n",
            "---  ------       --------------  -----  \n",
            " 0   COUNTY       45050 non-null  int64  \n",
            " 1   votes_dem    45050 non-null  float64\n",
            " 2   votes_rep    45050 non-null  float64\n",
            " 3   votes_total  45050 non-null  float64\n",
            " 4   ZIP          45033 non-null  float64\n",
            " 5   RES_RATIO    45033 non-null  float64\n",
            " 6   BUS_RATIO    45033 non-null  float64\n",
            " 7   OTH_RATIO    45033 non-null  float64\n",
            " 8   TOT_RATIO    45033 non-null  float64\n",
            "dtypes: float64(8), int64(1)\n",
            "memory usage: 3.4 MB\n"
          ],
          "name": "stdout"
        }
      ]
    },
    {
      "cell_type": "code",
      "metadata": {
        "id": "XhK-2AP4cmh7"
      },
      "source": [
        "# make a new dataframe for the emissions data by \"ZipCounty\"\n",
        "zipcounty_emissions_df = emissions_df.copy()"
      ],
      "execution_count": null,
      "outputs": []
    },
    {
      "cell_type": "code",
      "metadata": {
        "id": "H6-WbaJNcpwD"
      },
      "source": [
        "# for the zip codes with a null county code, let's just leave the data as is for now\n",
        "# use 1.0 for the ratio\n",
        "zipcounty_emissions_df['TOT_RATIO'].fillna(1, inplace=True)"
      ],
      "execution_count": null,
      "outputs": []
    },
    {
      "cell_type": "code",
      "metadata": {
        "id": "F9cX88Wxqrqs"
      },
      "source": [
        "\n",
        "# Ideally we would multiply by the residental ratio for every column with data\n",
        "# that is not expressed on a per-household basis. But in some cases, even though\n",
        "# there are residential addresses in the zip-county, the ratio is 0. So we can\n",
        "# use the total ratio (which always adds to ~1) as a close substitute instead.\n",
        "#\n",
        "# I'm sure there is a more elegant way of doing this... but: \n",
        "zipcounty_emissions_df['Population'] = emissions_df['Population'] * emissions_df['TOT_RATIO']\n",
        "zipcounty_emissions_df['HouseholdsPerZipCode'] = emissions_df['HouseholdsPerZipCode'] * emissions_df['TOT_RATIO']\n",
        "zipcounty_emissions_df['Total Zip Code Carbon Footprint (tCO2e/yr)'] = emissions_df['Total Zip Code Carbon Footprint (tCO2e/yr)'] * emissions_df['TOT_RATIO']"
      ],
      "execution_count": null,
      "outputs": []
    },
    {
      "cell_type": "code",
      "metadata": {
        "id": "e9cn_2f0M2i3"
      },
      "source": [
        "zipcounty_emissions_df.rename(columns={'HouseholdsPerZipCode':'HouseholdsPerZipCounty',\n",
        "                                       'Total Zip Code Carbon Footprint (tCO2e/yr)': 'Total ZipCounty Carbon Footprint (tCO2e/yr)'},\n",
        "                              inplace=True)"
      ],
      "execution_count": null,
      "outputs": []
    },
    {
      "cell_type": "code",
      "metadata": {
        "colab": {
          "base_uri": "https://localhost:8080/",
          "height": 329
        },
        "id": "oY5Q6wMPlmXT",
        "outputId": "b98aaea1-a7f3-4ee9-900f-066c002bb52c"
      },
      "source": [
        "# verify that zipcodes spanning >1 county were indeed split\n",
        "# and zipcodes with all addresses in a single county remain unchanged\n",
        "# (the gross amounts in rows 2 and 3, for example, should be split proportionally to the TOT_RATIO)\n",
        "zipcounty_emissions_df.head(4)"
      ],
      "execution_count": null,
      "outputs": [
        {
          "output_type": "execute_result",
          "data": {
            "text/html": [
              "<div>\n",
              "<style scoped>\n",
              "    .dataframe tbody tr th:only-of-type {\n",
              "        vertical-align: middle;\n",
              "    }\n",
              "\n",
              "    .dataframe tbody tr th {\n",
              "        vertical-align: top;\n",
              "    }\n",
              "\n",
              "    .dataframe thead th {\n",
              "        text-align: right;\n",
              "    }\n",
              "</style>\n",
              "<table border=\"1\" class=\"dataframe\">\n",
              "  <thead>\n",
              "    <tr style=\"text-align: right;\">\n",
              "      <th></th>\n",
              "      <th>ZIP</th>\n",
              "      <th>Population</th>\n",
              "      <th>PersonsPerHousehold</th>\n",
              "      <th>AverageHouseValue</th>\n",
              "      <th>IncomePerHousehold</th>\n",
              "      <th>Latitude</th>\n",
              "      <th>Longitude</th>\n",
              "      <th>Elevation</th>\n",
              "      <th>State</th>\n",
              "      <th>StateFullName</th>\n",
              "      <th>City</th>\n",
              "      <th>CountyName</th>\n",
              "      <th>Region</th>\n",
              "      <th>Division</th>\n",
              "      <th>popden</th>\n",
              "      <th>electricity (kWh)</th>\n",
              "      <th>Nat. Gas (cu.ft.)</th>\n",
              "      <th>FUELOIL (gallons)</th>\n",
              "      <th>Vehicle miles traveled</th>\n",
              "      <th>Transport (tCO2e/yr)</th>\n",
              "      <th>Housing (tCO2e/yr)</th>\n",
              "      <th>Food (tCO2e/yr)</th>\n",
              "      <th>Goods (tCO2e/yr)</th>\n",
              "      <th>Services (tCO2e/yr)</th>\n",
              "      <th>Total Household Carbon Footprint (tCO2e/yr)</th>\n",
              "      <th>HouseholdsPerZipCounty</th>\n",
              "      <th>Total ZipCounty Carbon Footprint (tCO2e/yr)</th>\n",
              "      <th>COUNTY</th>\n",
              "      <th>RES_RATIO</th>\n",
              "      <th>BUS_RATIO</th>\n",
              "      <th>OTH_RATIO</th>\n",
              "      <th>TOT_RATIO</th>\n",
              "    </tr>\n",
              "  </thead>\n",
              "  <tbody>\n",
              "    <tr>\n",
              "      <th>0</th>\n",
              "      <td>1001</td>\n",
              "      <td>16576.000000</td>\n",
              "      <td>2.27</td>\n",
              "      <td>127300</td>\n",
              "      <td>45735</td>\n",
              "      <td>42.070743</td>\n",
              "      <td>-72.625036</td>\n",
              "      <td>70</td>\n",
              "      <td>MA</td>\n",
              "      <td>Massachusetts</td>\n",
              "      <td>AGAWAM</td>\n",
              "      <td>HAMPDEN</td>\n",
              "      <td>Northeast</td>\n",
              "      <td>New England</td>\n",
              "      <td>1351.201539</td>\n",
              "      <td>7350.449509</td>\n",
              "      <td>53042.803497</td>\n",
              "      <td>182.080258</td>\n",
              "      <td>22351</td>\n",
              "      <td>15.638928</td>\n",
              "      <td>11.475951</td>\n",
              "      <td>6.81</td>\n",
              "      <td>5.308949</td>\n",
              "      <td>6.071196</td>\n",
              "      <td>45.305024</td>\n",
              "      <td>7279.000000</td>\n",
              "      <td>329775.266933</td>\n",
              "      <td>25013.0</td>\n",
              "      <td>1.000000</td>\n",
              "      <td>1.000000</td>\n",
              "      <td>1.000000</td>\n",
              "      <td>1.000000</td>\n",
              "    </tr>\n",
              "    <tr>\n",
              "      <th>1</th>\n",
              "      <td>1002</td>\n",
              "      <td>36422.459804</td>\n",
              "      <td>2.46</td>\n",
              "      <td>178200</td>\n",
              "      <td>42567</td>\n",
              "      <td>42.376860</td>\n",
              "      <td>-72.469140</td>\n",
              "      <td>140</td>\n",
              "      <td>MA</td>\n",
              "      <td>Massachusetts</td>\n",
              "      <td>AMHERST</td>\n",
              "      <td>HAMPSHIRE</td>\n",
              "      <td>Northeast</td>\n",
              "      <td>New England</td>\n",
              "      <td>640.779895</td>\n",
              "      <td>6340.253417</td>\n",
              "      <td>32533.160667</td>\n",
              "      <td>327.750703</td>\n",
              "      <td>19817</td>\n",
              "      <td>13.895789</td>\n",
              "      <td>11.545354</td>\n",
              "      <td>7.38</td>\n",
              "      <td>5.180926</td>\n",
              "      <td>5.807919</td>\n",
              "      <td>43.809988</td>\n",
              "      <td>10074.234207</td>\n",
              "      <td>441352.074883</td>\n",
              "      <td>25015.0</td>\n",
              "      <td>0.988912</td>\n",
              "      <td>0.998864</td>\n",
              "      <td>0.996234</td>\n",
              "      <td>0.989902</td>\n",
              "    </tr>\n",
              "    <tr>\n",
              "      <th>2</th>\n",
              "      <td>1002</td>\n",
              "      <td>371.540196</td>\n",
              "      <td>2.46</td>\n",
              "      <td>178200</td>\n",
              "      <td>42567</td>\n",
              "      <td>42.376860</td>\n",
              "      <td>-72.469140</td>\n",
              "      <td>140</td>\n",
              "      <td>MA</td>\n",
              "      <td>Massachusetts</td>\n",
              "      <td>AMHERST</td>\n",
              "      <td>HAMPSHIRE</td>\n",
              "      <td>Northeast</td>\n",
              "      <td>New England</td>\n",
              "      <td>640.779895</td>\n",
              "      <td>6340.253417</td>\n",
              "      <td>32533.160667</td>\n",
              "      <td>327.750703</td>\n",
              "      <td>19817</td>\n",
              "      <td>13.895789</td>\n",
              "      <td>11.545354</td>\n",
              "      <td>7.38</td>\n",
              "      <td>5.180926</td>\n",
              "      <td>5.807919</td>\n",
              "      <td>43.809988</td>\n",
              "      <td>102.765793</td>\n",
              "      <td>4502.168089</td>\n",
              "      <td>25011.0</td>\n",
              "      <td>0.011088</td>\n",
              "      <td>0.001136</td>\n",
              "      <td>0.003766</td>\n",
              "      <td>0.010098</td>\n",
              "    </tr>\n",
              "    <tr>\n",
              "      <th>3</th>\n",
              "      <td>1005</td>\n",
              "      <td>5077.000000</td>\n",
              "      <td>2.69</td>\n",
              "      <td>123800</td>\n",
              "      <td>50395</td>\n",
              "      <td>42.433445</td>\n",
              "      <td>-72.114991</td>\n",
              "      <td>475</td>\n",
              "      <td>MA</td>\n",
              "      <td>Massachusetts</td>\n",
              "      <td>BARRE</td>\n",
              "      <td>WORCESTER</td>\n",
              "      <td>Northeast</td>\n",
              "      <td>New England</td>\n",
              "      <td>120.016408</td>\n",
              "      <td>7749.788691</td>\n",
              "      <td>21038.638333</td>\n",
              "      <td>595.222740</td>\n",
              "      <td>28008</td>\n",
              "      <td>19.192342</td>\n",
              "      <td>14.817438</td>\n",
              "      <td>8.07</td>\n",
              "      <td>5.764939</td>\n",
              "      <td>6.497346</td>\n",
              "      <td>54.342065</td>\n",
              "      <td>1979.000000</td>\n",
              "      <td>107542.947356</td>\n",
              "      <td>25027.0</td>\n",
              "      <td>1.000000</td>\n",
              "      <td>1.000000</td>\n",
              "      <td>1.000000</td>\n",
              "      <td>1.000000</td>\n",
              "    </tr>\n",
              "  </tbody>\n",
              "</table>\n",
              "</div>"
            ],
            "text/plain": [
              "    ZIP    Population  PersonsPerHousehold  ...  BUS_RATIO  OTH_RATIO  TOT_RATIO\n",
              "0  1001  16576.000000                 2.27  ...   1.000000   1.000000   1.000000\n",
              "1  1002  36422.459804                 2.46  ...   0.998864   0.996234   0.989902\n",
              "2  1002    371.540196                 2.46  ...   0.001136   0.003766   0.010098\n",
              "3  1005   5077.000000                 2.69  ...   1.000000   1.000000   1.000000\n",
              "\n",
              "[4 rows x 32 columns]"
            ]
          },
          "metadata": {
            "tags": []
          },
          "execution_count": 29
        }
      ]
    },
    {
      "cell_type": "markdown",
      "metadata": {
        "id": "_8WlTRxuqpGs"
      },
      "source": [
        "## Group Emissions data by County"
      ]
    },
    {
      "cell_type": "code",
      "metadata": {
        "colab": {
          "base_uri": "https://localhost:8080/",
          "height": 221
        },
        "id": "EPvHQ3DTqw8F",
        "outputId": "1316ccbc-9a23-42fb-fe30-d8066dcc3c4e"
      },
      "source": [
        "# To do that we need to sum the population, energy use, and # of households\n",
        "# Weighted average (by # of households) the persons per household, average house\n",
        "# value, income per household, elevation (how?), and popden.\n",
        "# \n",
        "# Formula for popden (since we don't have area):\n",
        "# popden_county =\n",
        "#   (pop_zipcounty_a + pop_zipcount_b + ...) /\n",
        "#   ( (pop_zipcounty_a / popden_zipcounty_a) + (pop_zipcounty_b / popden_zipcounty_b) + ...)\n",
        "# not sure how to actually do this though ... a lambda function?\n",
        "zipcounty_footprint_df = zipcounty_emissions_df[['COUNTY',\n",
        "                                                 'IncomePerHousehold',\n",
        "                                                 'HouseholdsPerZipCounty',\n",
        "                                                 'Total ZipCounty Carbon Footprint (tCO2e/yr)']].copy()\n",
        "zipcounty_footprint_df['TotalIncome'] = zipcounty_footprint_df['IncomePerHousehold'] * zipcounty_footprint_df['HouseholdsPerZipCounty']\n",
        "zipcounty_footprint_df.head()"
      ],
      "execution_count": null,
      "outputs": [
        {
          "output_type": "execute_result",
          "data": {
            "text/html": [
              "<div>\n",
              "<style scoped>\n",
              "    .dataframe tbody tr th:only-of-type {\n",
              "        vertical-align: middle;\n",
              "    }\n",
              "\n",
              "    .dataframe tbody tr th {\n",
              "        vertical-align: top;\n",
              "    }\n",
              "\n",
              "    .dataframe thead th {\n",
              "        text-align: right;\n",
              "    }\n",
              "</style>\n",
              "<table border=\"1\" class=\"dataframe\">\n",
              "  <thead>\n",
              "    <tr style=\"text-align: right;\">\n",
              "      <th></th>\n",
              "      <th>COUNTY</th>\n",
              "      <th>IncomePerHousehold</th>\n",
              "      <th>HouseholdsPerZipCounty</th>\n",
              "      <th>Total ZipCounty Carbon Footprint (tCO2e/yr)</th>\n",
              "      <th>TotalIncome</th>\n",
              "    </tr>\n",
              "  </thead>\n",
              "  <tbody>\n",
              "    <tr>\n",
              "      <th>0</th>\n",
              "      <td>25013.0</td>\n",
              "      <td>45735</td>\n",
              "      <td>7279.000000</td>\n",
              "      <td>329775.266933</td>\n",
              "      <td>3.329051e+08</td>\n",
              "    </tr>\n",
              "    <tr>\n",
              "      <th>1</th>\n",
              "      <td>25015.0</td>\n",
              "      <td>42567</td>\n",
              "      <td>10074.234207</td>\n",
              "      <td>441352.074883</td>\n",
              "      <td>4.288299e+08</td>\n",
              "    </tr>\n",
              "    <tr>\n",
              "      <th>2</th>\n",
              "      <td>25011.0</td>\n",
              "      <td>42567</td>\n",
              "      <td>102.765793</td>\n",
              "      <td>4502.168089</td>\n",
              "      <td>4.374431e+06</td>\n",
              "    </tr>\n",
              "    <tr>\n",
              "      <th>3</th>\n",
              "      <td>25027.0</td>\n",
              "      <td>50395</td>\n",
              "      <td>1979.000000</td>\n",
              "      <td>107542.947356</td>\n",
              "      <td>9.973170e+07</td>\n",
              "    </tr>\n",
              "    <tr>\n",
              "      <th>4</th>\n",
              "      <td>25015.0</td>\n",
              "      <td>52425</td>\n",
              "      <td>5065.000000</td>\n",
              "      <td>279083.543255</td>\n",
              "      <td>2.655326e+08</td>\n",
              "    </tr>\n",
              "  </tbody>\n",
              "</table>\n",
              "</div>"
            ],
            "text/plain": [
              "    COUNTY  ...   TotalIncome\n",
              "0  25013.0  ...  3.329051e+08\n",
              "1  25015.0  ...  4.288299e+08\n",
              "2  25011.0  ...  4.374431e+06\n",
              "3  25027.0  ...  9.973170e+07\n",
              "4  25015.0  ...  2.655326e+08\n",
              "\n",
              "[5 rows x 5 columns]"
            ]
          },
          "metadata": {
            "tags": []
          },
          "execution_count": 30
        }
      ]
    },
    {
      "cell_type": "code",
      "metadata": {
        "colab": {
          "base_uri": "https://localhost:8080/",
          "height": 221
        },
        "id": "t84y5s7J-zHn",
        "outputId": "41de24df-a1d0-46b8-ec22-b64afb35c100"
      },
      "source": [
        "county_footprint_df = zipcounty_footprint_df.groupby(['COUNTY'], as_index=False).agg('sum')\n",
        "county_footprint_df.rename(columns={'HouseholdsPerZipCounty': 'HouseholdsPerCounty'}, inplace=True)\n",
        "county_footprint_df['IncomePerHousehold'] = county_footprint_df['TotalIncome'] / county_footprint_df['HouseholdsPerCounty']\n",
        "county_footprint_df.head()"
      ],
      "execution_count": null,
      "outputs": [
        {
          "output_type": "execute_result",
          "data": {
            "text/html": [
              "<div>\n",
              "<style scoped>\n",
              "    .dataframe tbody tr th:only-of-type {\n",
              "        vertical-align: middle;\n",
              "    }\n",
              "\n",
              "    .dataframe tbody tr th {\n",
              "        vertical-align: top;\n",
              "    }\n",
              "\n",
              "    .dataframe thead th {\n",
              "        text-align: right;\n",
              "    }\n",
              "</style>\n",
              "<table border=\"1\" class=\"dataframe\">\n",
              "  <thead>\n",
              "    <tr style=\"text-align: right;\">\n",
              "      <th></th>\n",
              "      <th>COUNTY</th>\n",
              "      <th>IncomePerHousehold</th>\n",
              "      <th>HouseholdsPerCounty</th>\n",
              "      <th>Total ZipCounty Carbon Footprint (tCO2e/yr)</th>\n",
              "      <th>TotalIncome</th>\n",
              "    </tr>\n",
              "  </thead>\n",
              "  <tbody>\n",
              "    <tr>\n",
              "      <th>0</th>\n",
              "      <td>1001.0</td>\n",
              "      <td>41790.263600</td>\n",
              "      <td>17609.330132</td>\n",
              "      <td>9.453398e+05</td>\n",
              "      <td>7.358985e+08</td>\n",
              "    </tr>\n",
              "    <tr>\n",
              "      <th>1</th>\n",
              "      <td>1003.0</td>\n",
              "      <td>40896.617284</td>\n",
              "      <td>74200.224779</td>\n",
              "      <td>3.581456e+06</td>\n",
              "      <td>3.034538e+09</td>\n",
              "    </tr>\n",
              "    <tr>\n",
              "      <th>2</th>\n",
              "      <td>1005.0</td>\n",
              "      <td>25008.429113</td>\n",
              "      <td>12781.424878</td>\n",
              "      <td>5.573463e+05</td>\n",
              "      <td>3.196434e+08</td>\n",
              "    </tr>\n",
              "    <tr>\n",
              "      <th>3</th>\n",
              "      <td>1007.0</td>\n",
              "      <td>31768.128991</td>\n",
              "      <td>8430.882361</td>\n",
              "      <td>4.257092e+05</td>\n",
              "      <td>2.678334e+08</td>\n",
              "    </tr>\n",
              "    <tr>\n",
              "      <th>4</th>\n",
              "      <td>1009.0</td>\n",
              "      <td>34394.301014</td>\n",
              "      <td>21564.767255</td>\n",
              "      <td>1.119262e+06</td>\n",
              "      <td>7.417051e+08</td>\n",
              "    </tr>\n",
              "  </tbody>\n",
              "</table>\n",
              "</div>"
            ],
            "text/plain": [
              "   COUNTY  ...   TotalIncome\n",
              "0  1001.0  ...  7.358985e+08\n",
              "1  1003.0  ...  3.034538e+09\n",
              "2  1005.0  ...  3.196434e+08\n",
              "3  1007.0  ...  2.678334e+08\n",
              "4  1009.0  ...  7.417051e+08\n",
              "\n",
              "[5 rows x 5 columns]"
            ]
          },
          "metadata": {
            "tags": []
          },
          "execution_count": 31
        }
      ]
    },
    {
      "cell_type": "code",
      "metadata": {
        "colab": {
          "base_uri": "https://localhost:8080/"
        },
        "id": "yy0KdfyZ_leY",
        "outputId": "71a66120-75fd-4e6e-8c5d-8d21924c7664"
      },
      "source": [
        "# About as many counties exist in the US -- good\n",
        "county_footprint_df.shape"
      ],
      "execution_count": null,
      "outputs": [
        {
          "output_type": "execute_result",
          "data": {
            "text/plain": [
              "(3132, 5)"
            ]
          },
          "metadata": {
            "tags": []
          },
          "execution_count": 32
        }
      ]
    },
    {
      "cell_type": "code",
      "metadata": {
        "colab": {
          "base_uri": "https://localhost:8080/",
          "height": 439
        },
        "id": "F_AzqPgEAvJv",
        "outputId": "4072e804-6e8f-445d-c369-9f7f087425db"
      },
      "source": [
        "# Let's merge with the voting data\n",
        "# inner join because if either votes or emissions are null we can't correlate\n",
        "# we're using df3 because this is the voting data by county\n",
        "# so, we can probably go back and remove the merge of the voting data with\n",
        "# the county-zip crosswalk ... ?\n",
        "county_voting_footprint_df = pd.merge(df3, \n",
        "                                      county_footprint_df,\n",
        "                                      how='inner',\n",
        "                                      on='COUNTY')\n",
        "county_voting_footprint_df.rename(columns={'Total ZipCounty Carbon Footprint (tCO2e/yr)':'footprint_tCO2eq'}, inplace=True)\n",
        "county_voting_footprint_df"
      ],
      "execution_count": null,
      "outputs": [
        {
          "output_type": "execute_result",
          "data": {
            "text/html": [
              "<div>\n",
              "<style scoped>\n",
              "    .dataframe tbody tr th:only-of-type {\n",
              "        vertical-align: middle;\n",
              "    }\n",
              "\n",
              "    .dataframe tbody tr th {\n",
              "        vertical-align: top;\n",
              "    }\n",
              "\n",
              "    .dataframe thead th {\n",
              "        text-align: right;\n",
              "    }\n",
              "</style>\n",
              "<table border=\"1\" class=\"dataframe\">\n",
              "  <thead>\n",
              "    <tr style=\"text-align: right;\">\n",
              "      <th></th>\n",
              "      <th>COUNTY</th>\n",
              "      <th>votes_dem</th>\n",
              "      <th>votes_rep</th>\n",
              "      <th>votes_total</th>\n",
              "      <th>IncomePerHousehold</th>\n",
              "      <th>HouseholdsPerCounty</th>\n",
              "      <th>footprint_tCO2eq</th>\n",
              "      <th>TotalIncome</th>\n",
              "    </tr>\n",
              "  </thead>\n",
              "  <tbody>\n",
              "    <tr>\n",
              "      <th>0</th>\n",
              "      <td>4001</td>\n",
              "      <td>22730.0</td>\n",
              "      <td>11240.0</td>\n",
              "      <td>34397.0</td>\n",
              "      <td>22864.954358</td>\n",
              "      <td>30939.456343</td>\n",
              "      <td>1.206455e+06</td>\n",
              "      <td>7.074293e+08</td>\n",
              "    </tr>\n",
              "    <tr>\n",
              "      <th>1</th>\n",
              "      <td>4003</td>\n",
              "      <td>22997.0</td>\n",
              "      <td>33580.0</td>\n",
              "      <td>57672.0</td>\n",
              "      <td>33220.822488</td>\n",
              "      <td>51169.539205</td>\n",
              "      <td>2.296048e+06</td>\n",
              "      <td>1.699894e+09</td>\n",
              "    </tr>\n",
              "    <tr>\n",
              "      <th>2</th>\n",
              "      <td>4005</td>\n",
              "      <td>44408.0</td>\n",
              "      <td>26914.0</td>\n",
              "      <td>72832.0</td>\n",
              "      <td>39247.974968</td>\n",
              "      <td>51604.390308</td>\n",
              "      <td>2.311336e+06</td>\n",
              "      <td>2.025368e+09</td>\n",
              "    </tr>\n",
              "    <tr>\n",
              "      <th>3</th>\n",
              "      <td>4007</td>\n",
              "      <td>8943.0</td>\n",
              "      <td>18375.0</td>\n",
              "      <td>27660.0</td>\n",
              "      <td>32963.186058</td>\n",
              "      <td>26210.514464</td>\n",
              "      <td>1.116179e+06</td>\n",
              "      <td>8.639821e+08</td>\n",
              "    </tr>\n",
              "    <tr>\n",
              "      <th>4</th>\n",
              "      <td>4009</td>\n",
              "      <td>4034.0</td>\n",
              "      <td>10747.0</td>\n",
              "      <td>14993.0</td>\n",
              "      <td>28447.708355</td>\n",
              "      <td>12382.244058</td>\n",
              "      <td>5.738637e+05</td>\n",
              "      <td>3.522465e+08</td>\n",
              "    </tr>\n",
              "    <tr>\n",
              "      <th>...</th>\n",
              "      <td>...</td>\n",
              "      <td>...</td>\n",
              "      <td>...</td>\n",
              "      <td>...</td>\n",
              "      <td>...</td>\n",
              "      <td>...</td>\n",
              "      <td>...</td>\n",
              "      <td>...</td>\n",
              "    </tr>\n",
              "    <tr>\n",
              "      <th>2500</th>\n",
              "      <td>56037</td>\n",
              "      <td>3823.0</td>\n",
              "      <td>12229.0</td>\n",
              "      <td>16603.0</td>\n",
              "      <td>46300.632227</td>\n",
              "      <td>15757.000000</td>\n",
              "      <td>8.072292e+05</td>\n",
              "      <td>7.295591e+08</td>\n",
              "    </tr>\n",
              "    <tr>\n",
              "      <th>2501</th>\n",
              "      <td>56039</td>\n",
              "      <td>9848.0</td>\n",
              "      <td>4341.0</td>\n",
              "      <td>14677.0</td>\n",
              "      <td>55822.355190</td>\n",
              "      <td>9837.000000</td>\n",
              "      <td>4.371903e+05</td>\n",
              "      <td>5.491245e+08</td>\n",
              "    </tr>\n",
              "    <tr>\n",
              "      <th>2502</th>\n",
              "      <td>56041</td>\n",
              "      <td>1591.0</td>\n",
              "      <td>7496.0</td>\n",
              "      <td>9402.0</td>\n",
              "      <td>44997.197478</td>\n",
              "      <td>8011.000000</td>\n",
              "      <td>4.251340e+05</td>\n",
              "      <td>3.604725e+08</td>\n",
              "    </tr>\n",
              "    <tr>\n",
              "      <th>2503</th>\n",
              "      <td>56043</td>\n",
              "      <td>651.0</td>\n",
              "      <td>3245.0</td>\n",
              "      <td>4012.0</td>\n",
              "      <td>34914.070645</td>\n",
              "      <td>3626.446396</td>\n",
              "      <td>1.696856e+05</td>\n",
              "      <td>1.266140e+08</td>\n",
              "    </tr>\n",
              "    <tr>\n",
              "      <th>2504</th>\n",
              "      <td>56045</td>\n",
              "      <td>360.0</td>\n",
              "      <td>3107.0</td>\n",
              "      <td>3542.0</td>\n",
              "      <td>32962.428987</td>\n",
              "      <td>3275.110567</td>\n",
              "      <td>1.677043e+05</td>\n",
              "      <td>1.079556e+08</td>\n",
              "    </tr>\n",
              "  </tbody>\n",
              "</table>\n",
              "<p>2505 rows × 8 columns</p>\n",
              "</div>"
            ],
            "text/plain": [
              "      COUNTY  votes_dem  ...  footprint_tCO2eq   TotalIncome\n",
              "0       4001    22730.0  ...      1.206455e+06  7.074293e+08\n",
              "1       4003    22997.0  ...      2.296048e+06  1.699894e+09\n",
              "2       4005    44408.0  ...      2.311336e+06  2.025368e+09\n",
              "3       4007     8943.0  ...      1.116179e+06  8.639821e+08\n",
              "4       4009     4034.0  ...      5.738637e+05  3.522465e+08\n",
              "...      ...        ...  ...               ...           ...\n",
              "2500   56037     3823.0  ...      8.072292e+05  7.295591e+08\n",
              "2501   56039     9848.0  ...      4.371903e+05  5.491245e+08\n",
              "2502   56041     1591.0  ...      4.251340e+05  3.604725e+08\n",
              "2503   56043      651.0  ...      1.696856e+05  1.266140e+08\n",
              "2504   56045      360.0  ...      1.677043e+05  1.079556e+08\n",
              "\n",
              "[2505 rows x 8 columns]"
            ]
          },
          "metadata": {
            "tags": []
          },
          "execution_count": 33
        }
      ]
    },
    {
      "cell_type": "markdown",
      "metadata": {
        "id": "4QrQPJc6lWEP"
      },
      "source": [
        "## Exploratory Data Analysis (EDA)\n",
        "\n",
        "- Our ultimate aim is to see how the emissions df and votes df correlate\n",
        "- Our hypothesis is that party affiliation is correlated with household carbon emissions\n",
        "\n",
        "- look at the voter base as a whole\n",
        "- looking at the voter base in terms of Total Houshold Carbon Footprint/year\n",
        "\n",
        "It may make sense to drop some more columns that aren't necessary"
      ]
    },
    {
      "cell_type": "code",
      "metadata": {
        "id": "TuCeqSM-mCO9"
      },
      "source": [
        "emissions_df.drop(columns='StateFullName', inplace=True)"
      ],
      "execution_count": null,
      "outputs": []
    },
    {
      "cell_type": "code",
      "metadata": {
        "id": "eGHFQGw_UReB",
        "colab": {
          "base_uri": "https://localhost:8080/",
          "height": 295
        },
        "outputId": "e5e7a9a0-00c7-4363-bf1a-15e3fc66d1c4"
      },
      "source": [
        "# plot the distribution for tCO2e/yr\n",
        "\n",
        "plt.figure()\n",
        "plt.hist(emissions_df['Total Household Carbon Footprint (tCO2e/yr)'], bins=30)\n",
        "plt.title('Destribution of the tCO2e/yr column')\n",
        "plt.xlabel('tCO2e/yr')\n",
        "plt.ylabel('Frequency')\n",
        "\n",
        "# Plot the mean and median\n",
        "plt.axvline(emissions_df['Total Household Carbon Footprint (tCO2e/yr)'].mean(), c='red', label='mean')\n",
        "plt.axvline(emissions_df['Total Household Carbon Footprint (tCO2e/yr)'].median(), c='blue', label='median')\n",
        "plt.legend()\n",
        "plt.show()"
      ],
      "execution_count": null,
      "outputs": [
        {
          "output_type": "display_data",
          "data": {
            "image/png": "[encoded data removed]",
            "text/plain": [
              "<Figure size 432x288 with 1 Axes>"
            ]
          },
          "metadata": {
            "tags": [],
            "needs_background": "light"
          }
        }
      ]
    },
    {
      "cell_type": "code",
      "metadata": {
        "id": "1cNtEX7-oLX2"
      },
      "source": [
        "# Ben: See if you can now with the geometry data removed. In short there are no\n",
        "# duplicates, because the merge ensured every row was unique. What is a very\n",
        "# curious thing is the the abovementioned many-to-many relationship between zip\n",
        "# and county."
      ],
      "execution_count": null,
      "outputs": []
    },
    {
      "cell_type": "code",
      "metadata": {
        "id": "UU98eYvKEvyq",
        "colab": {
          "base_uri": "https://localhost:8080/"
        },
        "outputId": "dda55601-a2fe-4e37-8319-20d1154200b9"
      },
      "source": [
        "emissions_df.groupby(['CountyName', 'COUNTY']).size()"
      ],
      "execution_count": null,
      "outputs": [
        {
          "output_type": "execute_result",
          "data": {
            "text/plain": [
              "CountyName  COUNTY \n",
              "ABBEVILLE   45001.0     5\n",
              "            45047.0     1\n",
              "ACADIA      22001.0    10\n",
              "            22055.0     2\n",
              "            22097.0     1\n",
              "                       ..\n",
              "YUMA        8125.0      7\n",
              "ZAPATA      48505.0     1\n",
              "ZAVALA      48127.0     1\n",
              "            48507.0     3\n",
              "ZIEBACH     46137.0     2\n",
              "Length: 10705, dtype: int64"
            ]
          },
          "metadata": {
            "tags": []
          },
          "execution_count": 37
        }
      ]
    },
    {
      "cell_type": "code",
      "metadata": {
        "id": "QuHvA019bmp6"
      },
      "source": [
        ""
      ],
      "execution_count": null,
      "outputs": []
    },
    {
      "cell_type": "code",
      "metadata": {
        "colab": {
          "base_uri": "https://localhost:8080/",
          "height": 346
        },
        "id": "el0aZ9s8aVwN",
        "outputId": "bdb3dea5-a60e-4287-b3f5-d47c27b22561"
      },
      "source": [
        "# Average Household Income on a 0 to 100 scale\n",
        "x = county_voting_footprint_df.IncomePerHousehold\n",
        "x = (x-x.min())/(x.max()-x.min())*100\n",
        "# Percent Republican Lead\n",
        "y = (county_voting_footprint_df.votes_dem - county_voting_footprint_df.votes_rep) / county_voting_footprint_df.votes_total * 100\n",
        "m, b = np.polyfit(x, y, 1)\n",
        "plt.scatter(x, y)\n",
        "plt.title('Household Income and Partisan Alignment in the 2020 Election by County')\n",
        "plt.xlabel('Average Household Income (0 to 100 index)')\n",
        "plt.ylabel('Percent Democratic Lead')\n",
        "plt.plot(x, m*x + b, 'r')\n",
        "print(\"slope: \", m, \"\\n\\n\")\n",
        "plt.show()"
      ],
      "execution_count": null,
      "outputs": [
        {
          "output_type": "stream",
          "text": [
            "slope:  0.9809549049836519 \n",
            "\n",
            "\n"
          ],
          "name": "stdout"
        },
        {
          "output_type": "display_data",
          "data": {
            "image/png": "[encoded data removed]",
            "text/plain": [
              "<Figure size 432x288 with 1 Axes>"
            ]
          },
          "metadata": {
            "tags": [],
            "needs_background": "light"
          }
        }
      ]
    },
    {
      "cell_type": "code",
      "metadata": {
        "id": "QAETGpUIbuFu",
        "colab": {
          "base_uri": "https://localhost:8080/",
          "height": 346
        },
        "outputId": "1373abfb-0ec7-4413-97b5-ea1006e655e3"
      },
      "source": [
        "# Average Household Footprint on a 0 to 100 scale\n",
        "x = county_voting_footprint_df.footprint_tCO2eq / county_voting_footprint_df.HouseholdsPerCounty\n",
        "x = (x-x.min())/(x.max()-x.min())*100\n",
        "# Percent Republican Lead\n",
        "y = (county_voting_footprint_df.votes_rep - county_voting_footprint_df.votes_dem) / county_voting_footprint_df.votes_total * 100\n",
        "m, b = np.polyfit(x, y, 1)\n",
        "plt.scatter(x, y)\n",
        "plt.title('Carbon Footprint and Partisan Alignment in the 2020 Election by County')\n",
        "plt.xlabel('Average Household Carbon-eq Footprint (0 to 100 index)')\n",
        "plt.ylabel('Percent Republican Lead')\n",
        "plt.plot(x, m*x + b, 'r')\n",
        "print(\"slope: \", m, \"\\n\\n\")\n",
        "plt.show()"
      ],
      "execution_count": null,
      "outputs": [
        {
          "output_type": "stream",
          "text": [
            "slope:  0.4107006496307212 \n",
            "\n",
            "\n"
          ],
          "name": "stdout"
        },
        {
          "output_type": "display_data",
          "data": {
            "image/png": "[encoded data removed]",
            "text/plain": [
              "<Figure size 432x288 with 1 Axes>"
            ]
          },
          "metadata": {
            "tags": [],
            "needs_background": "light"
          }
        }
      ]
    },
    {
      "cell_type": "code",
      "metadata": {
        "colab": {
          "base_uri": "https://localhost:8080/",
          "height": 100
        },
        "id": "4741FuMpNqh6",
        "outputId": "76e9b1f0-1c50-4359-e361-489012ef800e"
      },
      "source": [
        "# create relative_vote_share column for rep\n",
        "county_voting_footprint_df['relative_votes_rep'] = (county_voting_footprint_df.votes_rep / county_voting_footprint_df.votes_total) * 100\n",
        "county_voting_footprint_df.head(1)"
      ],
      "execution_count": null,
      "outputs": [
        {
          "output_type": "execute_result",
          "data": {
            "text/html": [
              "<div>\n",
              "<style scoped>\n",
              "    .dataframe tbody tr th:only-of-type {\n",
              "        vertical-align: middle;\n",
              "    }\n",
              "\n",
              "    .dataframe tbody tr th {\n",
              "        vertical-align: top;\n",
              "    }\n",
              "\n",
              "    .dataframe thead th {\n",
              "        text-align: right;\n",
              "    }\n",
              "</style>\n",
              "<table border=\"1\" class=\"dataframe\">\n",
              "  <thead>\n",
              "    <tr style=\"text-align: right;\">\n",
              "      <th></th>\n",
              "      <th>COUNTY</th>\n",
              "      <th>votes_dem</th>\n",
              "      <th>votes_rep</th>\n",
              "      <th>votes_total</th>\n",
              "      <th>IncomePerHousehold</th>\n",
              "      <th>HouseholdsPerCounty</th>\n",
              "      <th>footprint_tCO2eq</th>\n",
              "      <th>TotalIncome</th>\n",
              "      <th>relative_votes_rep</th>\n",
              "    </tr>\n",
              "  </thead>\n",
              "  <tbody>\n",
              "    <tr>\n",
              "      <th>0</th>\n",
              "      <td>4001</td>\n",
              "      <td>22730.0</td>\n",
              "      <td>11240.0</td>\n",
              "      <td>34397.0</td>\n",
              "      <td>22864.954358</td>\n",
              "      <td>30939.456343</td>\n",
              "      <td>1.206455e+06</td>\n",
              "      <td>7.074293e+08</td>\n",
              "      <td>32.677268</td>\n",
              "    </tr>\n",
              "  </tbody>\n",
              "</table>\n",
              "</div>"
            ],
            "text/plain": [
              "   COUNTY  votes_dem  ...   TotalIncome  relative_votes_rep\n",
              "0    4001    22730.0  ...  7.074293e+08           32.677268\n",
              "\n",
              "[1 rows x 9 columns]"
            ]
          },
          "metadata": {
            "tags": []
          },
          "execution_count": 40
        }
      ]
    },
    {
      "cell_type": "code",
      "metadata": {
        "colab": {
          "base_uri": "https://localhost:8080/",
          "height": 100
        },
        "id": "V598FGnNNvtV",
        "outputId": "62c121dd-2b7d-4385-d2d1-b32deff92ec0"
      },
      "source": [
        "# create relative_vote_share column for dem\n",
        "county_voting_footprint_df['relative_votes_dem'] = (county_voting_footprint_df.votes_dem / county_voting_footprint_df.votes_total) * 100\n",
        "county_voting_footprint_df.head(1)"
      ],
      "execution_count": null,
      "outputs": [
        {
          "output_type": "execute_result",
          "data": {
            "text/html": [
              "<div>\n",
              "<style scoped>\n",
              "    .dataframe tbody tr th:only-of-type {\n",
              "        vertical-align: middle;\n",
              "    }\n",
              "\n",
              "    .dataframe tbody tr th {\n",
              "        vertical-align: top;\n",
              "    }\n",
              "\n",
              "    .dataframe thead th {\n",
              "        text-align: right;\n",
              "    }\n",
              "</style>\n",
              "<table border=\"1\" class=\"dataframe\">\n",
              "  <thead>\n",
              "    <tr style=\"text-align: right;\">\n",
              "      <th></th>\n",
              "      <th>COUNTY</th>\n",
              "      <th>votes_dem</th>\n",
              "      <th>votes_rep</th>\n",
              "      <th>votes_total</th>\n",
              "      <th>IncomePerHousehold</th>\n",
              "      <th>HouseholdsPerCounty</th>\n",
              "      <th>footprint_tCO2eq</th>\n",
              "      <th>TotalIncome</th>\n",
              "      <th>relative_votes_rep</th>\n",
              "      <th>relative_votes_dem</th>\n",
              "    </tr>\n",
              "  </thead>\n",
              "  <tbody>\n",
              "    <tr>\n",
              "      <th>0</th>\n",
              "      <td>4001</td>\n",
              "      <td>22730.0</td>\n",
              "      <td>11240.0</td>\n",
              "      <td>34397.0</td>\n",
              "      <td>22864.954358</td>\n",
              "      <td>30939.456343</td>\n",
              "      <td>1.206455e+06</td>\n",
              "      <td>7.074293e+08</td>\n",
              "      <td>32.677268</td>\n",
              "      <td>66.081344</td>\n",
              "    </tr>\n",
              "  </tbody>\n",
              "</table>\n",
              "</div>"
            ],
            "text/plain": [
              "   COUNTY  votes_dem  ...  relative_votes_rep  relative_votes_dem\n",
              "0    4001    22730.0  ...           32.677268           66.081344\n",
              "\n",
              "[1 rows x 10 columns]"
            ]
          },
          "metadata": {
            "tags": []
          },
          "execution_count": 41
        }
      ]
    },
    {
      "cell_type": "code",
      "metadata": {
        "colab": {
          "base_uri": "https://localhost:8080/",
          "height": 100
        },
        "id": "vQQLkfJFNxyO",
        "outputId": "7b84fd1a-7ded-422d-d692-ce883d3d4dc3"
      },
      "source": [
        "# create majority of votes column\n",
        "# 1 = rep, 0 = dem\n",
        "county_voting_footprint_df['maj_vote'] = np.where(county_voting_footprint_df['relative_votes_rep'] > 50, 1, 0)\n",
        "county_voting_footprint_df.head(1)"
      ],
      "execution_count": null,
      "outputs": [
        {
          "output_type": "execute_result",
          "data": {
            "text/html": [
              "<div>\n",
              "<style scoped>\n",
              "    .dataframe tbody tr th:only-of-type {\n",
              "        vertical-align: middle;\n",
              "    }\n",
              "\n",
              "    .dataframe tbody tr th {\n",
              "        vertical-align: top;\n",
              "    }\n",
              "\n",
              "    .dataframe thead th {\n",
              "        text-align: right;\n",
              "    }\n",
              "</style>\n",
              "<table border=\"1\" class=\"dataframe\">\n",
              "  <thead>\n",
              "    <tr style=\"text-align: right;\">\n",
              "      <th></th>\n",
              "      <th>COUNTY</th>\n",
              "      <th>votes_dem</th>\n",
              "      <th>votes_rep</th>\n",
              "      <th>votes_total</th>\n",
              "      <th>IncomePerHousehold</th>\n",
              "      <th>HouseholdsPerCounty</th>\n",
              "      <th>footprint_tCO2eq</th>\n",
              "      <th>TotalIncome</th>\n",
              "      <th>relative_votes_rep</th>\n",
              "      <th>relative_votes_dem</th>\n",
              "      <th>maj_vote</th>\n",
              "    </tr>\n",
              "  </thead>\n",
              "  <tbody>\n",
              "    <tr>\n",
              "      <th>0</th>\n",
              "      <td>4001</td>\n",
              "      <td>22730.0</td>\n",
              "      <td>11240.0</td>\n",
              "      <td>34397.0</td>\n",
              "      <td>22864.954358</td>\n",
              "      <td>30939.456343</td>\n",
              "      <td>1.206455e+06</td>\n",
              "      <td>7.074293e+08</td>\n",
              "      <td>32.677268</td>\n",
              "      <td>66.081344</td>\n",
              "      <td>0</td>\n",
              "    </tr>\n",
              "  </tbody>\n",
              "</table>\n",
              "</div>"
            ],
            "text/plain": [
              "   COUNTY  votes_dem  ...  relative_votes_dem  maj_vote\n",
              "0    4001    22730.0  ...           66.081344         0\n",
              "\n",
              "[1 rows x 11 columns]"
            ]
          },
          "metadata": {
            "tags": []
          },
          "execution_count": 42
        }
      ]
    },
    {
      "cell_type": "code",
      "metadata": {
        "colab": {
          "base_uri": "https://localhost:8080/",
          "height": 265
        },
        "id": "tTJ9GHxcNz8o",
        "outputId": "524d133c-7b3a-4724-a871-2eb59312f500"
      },
      "source": [
        "# Visualise\n",
        "county_voting_footprint_df['maj_vote'].value_counts().plot(kind='barh')\n",
        "plt.show()"
      ],
      "execution_count": null,
      "outputs": [
        {
          "output_type": "display_data",
          "data": {
            "image/png": "[encoded data removed]",
            "text/plain": [
              "<Figure size 432x288 with 1 Axes>"
            ]
          },
          "metadata": {
            "tags": [],
            "needs_background": "light"
          }
        }
      ]
    },
    {
      "cell_type": "code",
      "metadata": {
        "colab": {
          "base_uri": "https://localhost:8080/",
          "height": 162
        },
        "id": "E3TEXGSmN5Jd",
        "outputId": "a7d80a8e-937d-4c04-e65c-08a4804c4a4f"
      },
      "source": [
        "# merge geometry (lat and long) columns onto county codes\n",
        "# dataset from https://data.beta.nyc/dataset/state-county-and-county-seat-data-set\n",
        "# will attempt to map correlation now\n",
        "\n",
        "county_geo = pd.read_csv('/content/drive/My Drive/Data Science/BrainStation/Colab/data/seatsandcounties-utf8.csv')\n",
        "county_geo.head(3)"
      ],
      "execution_count": null,
      "outputs": [
        {
          "output_type": "execute_result",
          "data": {
            "text/html": [
              "<div>\n",
              "<style scoped>\n",
              "    .dataframe tbody tr th:only-of-type {\n",
              "        vertical-align: middle;\n",
              "    }\n",
              "\n",
              "    .dataframe tbody tr th {\n",
              "        vertical-align: top;\n",
              "    }\n",
              "\n",
              "    .dataframe thead th {\n",
              "        text-align: right;\n",
              "    }\n",
              "</style>\n",
              "<table border=\"1\" class=\"dataframe\">\n",
              "  <thead>\n",
              "    <tr style=\"text-align: right;\">\n",
              "      <th></th>\n",
              "      <th>StateAbbrev</th>\n",
              "      <th>CountySeat</th>\n",
              "      <th>CountyName</th>\n",
              "      <th>CountyFIPS</th>\n",
              "      <th>StateName</th>\n",
              "      <th>UniqueCountyNames_stateAbbr</th>\n",
              "      <th>Latitude</th>\n",
              "      <th>Longitude</th>\n",
              "    </tr>\n",
              "  </thead>\n",
              "  <tbody>\n",
              "    <tr>\n",
              "      <th>0</th>\n",
              "      <td>NY</td>\n",
              "      <td>New York</td>\n",
              "      <td>New York</td>\n",
              "      <td>36061</td>\n",
              "      <td>New York</td>\n",
              "      <td>NY</td>\n",
              "      <td>40.75205</td>\n",
              "      <td>-73.994517</td>\n",
              "    </tr>\n",
              "    <tr>\n",
              "      <th>1</th>\n",
              "      <td>NY</td>\n",
              "      <td>Unknown</td>\n",
              "      <td>Unknown</td>\n",
              "      <td>36000</td>\n",
              "      <td>New York</td>\n",
              "      <td>NY</td>\n",
              "      <td>40.75215</td>\n",
              "      <td>-73.994517</td>\n",
              "    </tr>\n",
              "    <tr>\n",
              "      <th>2</th>\n",
              "      <td>IN</td>\n",
              "      <td>LaPorte</td>\n",
              "      <td>LaPorte</td>\n",
              "      <td>18091</td>\n",
              "      <td>Indiana</td>\n",
              "      <td>IN</td>\n",
              "      <td>41.41204</td>\n",
              "      <td>-86.779640</td>\n",
              "    </tr>\n",
              "  </tbody>\n",
              "</table>\n",
              "</div>"
            ],
            "text/plain": [
              "  StateAbbrev CountySeat  ...  Latitude  Longitude\n",
              "0          NY   New York  ...  40.75205 -73.994517\n",
              "1          NY    Unknown  ...  40.75215 -73.994517\n",
              "2          IN    LaPorte  ...  41.41204 -86.779640\n",
              "\n",
              "[3 rows x 8 columns]"
            ]
          },
          "metadata": {
            "tags": []
          },
          "execution_count": 45
        }
      ]
    },
    {
      "cell_type": "code",
      "metadata": {
        "id": "Q4jKoV8QOGpO"
      },
      "source": [
        "county_geo.drop(columns=['StateAbbrev', 'CountySeat', 'CountyName', 'StateName'], inplace=True)"
      ],
      "execution_count": null,
      "outputs": []
    },
    {
      "cell_type": "code",
      "metadata": {
        "id": "aKEdf7zwOJ-Q"
      },
      "source": [
        "# rename the CountyFIPS column to COUNTY for another merge\n",
        "county_geo.rename(columns={\"CountyFIPS\": \"COUNTY\"}, inplace=True)"
      ],
      "execution_count": null,
      "outputs": []
    },
    {
      "cell_type": "code",
      "metadata": {
        "colab": {
          "base_uri": "https://localhost:8080/",
          "height": 131
        },
        "id": "fCAo9PFMOM8m",
        "outputId": "0f9b9f4d-b8ba-4f51-e0b0-14380de711f7"
      },
      "source": [
        "geo_footprint = pd.merge(county_voting_footprint_df, county_geo, how='left', on='COUNTY')\n",
        "geo_footprint.head(2)"
      ],
      "execution_count": null,
      "outputs": [
        {
          "output_type": "execute_result",
          "data": {
            "text/html": [
              "<div>\n",
              "<style scoped>\n",
              "    .dataframe tbody tr th:only-of-type {\n",
              "        vertical-align: middle;\n",
              "    }\n",
              "\n",
              "    .dataframe tbody tr th {\n",
              "        vertical-align: top;\n",
              "    }\n",
              "\n",
              "    .dataframe thead th {\n",
              "        text-align: right;\n",
              "    }\n",
              "</style>\n",
              "<table border=\"1\" class=\"dataframe\">\n",
              "  <thead>\n",
              "    <tr style=\"text-align: right;\">\n",
              "      <th></th>\n",
              "      <th>COUNTY</th>\n",
              "      <th>votes_dem</th>\n",
              "      <th>votes_rep</th>\n",
              "      <th>votes_total</th>\n",
              "      <th>IncomePerHousehold</th>\n",
              "      <th>HouseholdsPerCounty</th>\n",
              "      <th>footprint_tCO2eq</th>\n",
              "      <th>TotalIncome</th>\n",
              "      <th>relative_votes_rep</th>\n",
              "      <th>relative_votes_dem</th>\n",
              "      <th>maj_vote</th>\n",
              "      <th>UniqueCountyNames_stateAbbr</th>\n",
              "      <th>Latitude</th>\n",
              "      <th>Longitude</th>\n",
              "    </tr>\n",
              "  </thead>\n",
              "  <tbody>\n",
              "    <tr>\n",
              "      <th>0</th>\n",
              "      <td>4001</td>\n",
              "      <td>22730.0</td>\n",
              "      <td>11240.0</td>\n",
              "      <td>34397.0</td>\n",
              "      <td>22864.954358</td>\n",
              "      <td>30939.456343</td>\n",
              "      <td>1.206455e+06</td>\n",
              "      <td>7.074293e+08</td>\n",
              "      <td>32.677268</td>\n",
              "      <td>66.081344</td>\n",
              "      <td>0</td>\n",
              "      <td>AZ</td>\n",
              "      <td>33.815834</td>\n",
              "      <td>-109.202378</td>\n",
              "    </tr>\n",
              "    <tr>\n",
              "      <th>1</th>\n",
              "      <td>4003</td>\n",
              "      <td>22997.0</td>\n",
              "      <td>33580.0</td>\n",
              "      <td>57672.0</td>\n",
              "      <td>33220.822488</td>\n",
              "      <td>51169.539205</td>\n",
              "      <td>2.296048e+06</td>\n",
              "      <td>1.699894e+09</td>\n",
              "      <td>58.225829</td>\n",
              "      <td>39.875503</td>\n",
              "      <td>1</td>\n",
              "      <td>AZ</td>\n",
              "      <td>31.965389</td>\n",
              "      <td>-110.296656</td>\n",
              "    </tr>\n",
              "  </tbody>\n",
              "</table>\n",
              "</div>"
            ],
            "text/plain": [
              "   COUNTY  votes_dem  ...   Latitude   Longitude\n",
              "0    4001    22730.0  ...  33.815834 -109.202378\n",
              "1    4003    22997.0  ...  31.965389 -110.296656\n",
              "\n",
              "[2 rows x 14 columns]"
            ]
          },
          "metadata": {
            "tags": []
          },
          "execution_count": 48
        }
      ]
    },
    {
      "cell_type": "code",
      "metadata": {
        "colab": {
          "base_uri": "https://localhost:8080/"
        },
        "id": "hbn3uq9wOQGX",
        "outputId": "4ae38732-7381-4fed-ea1b-5deefd177f6e"
      },
      "source": [
        "geo_footprint.shape"
      ],
      "execution_count": null,
      "outputs": [
        {
          "output_type": "execute_result",
          "data": {
            "text/plain": [
              "(2507, 14)"
            ]
          },
          "metadata": {
            "tags": []
          },
          "execution_count": 49
        }
      ]
    },
    {
      "cell_type": "code",
      "metadata": {
        "id": "B1a-swUnWVm4"
      },
      "source": [
        ""
      ],
      "execution_count": null,
      "outputs": []
    },
    {
      "cell_type": "markdown",
      "metadata": {
        "id": "REwiD8q8WW1m"
      },
      "source": [
        "## Further visualizing correlations"
      ]
    },
    {
      "cell_type": "code",
      "metadata": {
        "colab": {
          "base_uri": "https://localhost:8080/",
          "height": 542
        },
        "id": "DM4BxooUOSHY",
        "outputId": "9dfdd296-70f0-4d9a-b7b9-9fb1a609f07f"
      },
      "source": [
        "# testing package\n",
        "\n",
        "import plotly.express as px\n",
        "fig = px.scatter(geo_footprint, x=\"footprint_tCO2eq\", y=\"relative_votes_dem\", size=\"footprint_tCO2eq\", color=\"maj_vote\",\n",
        "           hover_name=\"UniqueCountyNames_stateAbbr\", log_x=True, size_max=60)\n",
        "fig.show()"
      ],
      "execution_count": null,
      "outputs": [
        {
          "output_type": "display_data",
          "data": {
            "text/html": [
              "<html>\n",
              "<head><meta charset=\"utf-8\" /></head>\n",
              "<body>\n",
              "    <div>\n",
              "            <script src=\"https://cdnjs.cloudflare.com/ajax/libs/mathjax/2.7.5/MathJax.js?config=TeX-AMS-MML_SVG\"></script><script type=\"text/javascript\">if (window.MathJax) {MathJax.Hub.Config({SVG: {font: \"STIX-Web\"}});}</script>\n",
              "                <script type=\"text/javascript\">window.PlotlyConfig = {MathJaxConfig: 'local'};</script>\n",
              "        <script src=\"https://cdn.plot.ly/plotly-latest.min.js\"></script>    \n",
              "            <div id=\"d0f2a84f-cb2f-4bc3-8e0c-4821e3790943\" class=\"plotly-graph-div\" style=\"height:525px; width:100%;\"></div>\n",
              "            <script type=\"text/javascript\">\n",
              "                \n",
              "                    window.PLOTLYENV=window.PLOTLYENV || {};\n",
              "                    \n",
              "                if (document.getElementById(\"d0f2a84f-cb2f-4bc3-8e0c-4821e3790943\")) {\n",
              "                    Plotly.newPlot(\n",
              "                        'd0f2a84f-cb2f-4bc3-8e0c-4821e3790943',\n",
              "                        [{\"hoverlabel\": {\"namelength\": 0}, \"hovertemplate\": \"<b>%{hovertext}</b><br><br>footprint_tCO2eq=%{marker.size}<br>relative_votes_dem=%{y}<br>maj_vote=%{marker.color}\", \"hovertext\": [\"AZ\", \"AZ\", \"AZ\", \"AZ\", \"AZ\", \"AZ\", \"AZ\", \"AZ\", \"AZ\", \"AZ\", \"AZ\", \"AZ\", \"AZ\", \"AZ\", \"AZ\", \"AR\", \"AR\", \"AR\", \"AR\", \"AR\", \"AR\", \"AR\", \"AR\", \"AR\", \"AR\", \"AR\", \"AR\", \"AR\", \"AR\", \"AR\", \"AR\", \"AR\", \"AR\", \"AR\", \"AR\", \"AR\", \"AR\", \"AR\", \"AR\", \"AR\", \"AR\", \"AR\", \"AR\", \"AR\", \"AR\", \"AR\", \"AR\", \"AR\", \"AR\", \"AR\", \"AR\", \"AR\", \"AR\", \"AR\", \"AR\", \"AR\", \"AR\", \"AR\", \"AR\", \"AR\", \"AR\", \"AR\", \"AR\", \"AR\", \"AR\", \"AR\", \"AR\", \"AR\", \"AR\", \"AR\", \"AR\", \"AR\", \"AR\", \"AR\", \"AR\", \"AR\", \"AR\", \"AR\", \"AR\", \"AR\", \"AR\", \"AR\", \"AR\", \"AR\", \"AR\", \"AR\", \"AR\", \"AR\", \"CA\", \"CA\", \"CA\", \"CA\", \"CA\", \"CA\", \"CA\", \"CA\", \"CA\", \"CA\", \"CA\", \"CA\", \"CA\", \"CA\", \"CA\", \"CA\", \"CA\", \"CA\", \"CA\", \"CA\", \"CA\", \"CA\", \"CA\", \"CA\", \"CA\", \"CA\", \"CA\", \"CA\", \"CA\", \"CA\", \"CA\", \"CA\", \"CA\", \"CA\", \"CA\", \"CA\", \"CA\", \"CA\", \"CA\", \"CA\", \"CA\", \"CA\", \"CA\", \"CA\", \"CA\", \"CA\", \"CA\", \"CA\", \"CA\", \"CA\", \"CA\", \"CA\", \"CA\", \"CA\", \"CA\", \"CA\", \"CA\", \"CA\", \"CO\", \"CO\", \"CO\", \"CO\", \"CO\", \"CO\", \"CO\", \"CO\", \"CO\", \"CO\", \"CO\", \"CO\", \"CO\", \"CO\", \"CO\", \"CO\", \"CO\", \"CO\", \"CO\", \"CO\", \"CO\", \"CO\", \"CO\", \"CO\", \"CO\", \"CO\", \"CO\", \"CO\", \"CO\", \"CO\", \"CO\", \"CO\", \"CO\", \"CO\", \"CO\", \"CO\", \"CO\", \"CO\", \"CO\", \"CO\", \"CO\", \"CO\", \"CO\", \"CO\", \"CO\", \"CO\", \"CO\", \"CO\", \"CO\", \"CO\", \"CO\", \"CO\", \"CO\", \"CO\", \"CO\", \"CO\", \"CO\", \"CO\", \"CO\", \"CO\", \"CO\", \"CO\", \"CO\", \"CO\", \"DE\", \"DE\", \"DE\", \"DC\", \"FL\", \"FL\", \"FL\", \"FL\", \"FL\", \"FL\", \"FL\", \"FL\", \"FL\", \"FL\", \"FL\", \"FL\", \"FL\", \"FL\", \"FL\", \"FL\", \"FL\", \"FL\", \"FL\", \"FL\", \"FL\", \"FL\", \"FL\", \"FL\", \"FL\", \"FL\", \"FL\", \"FL\", \"FL\", \"FL\", \"FL\", \"FL\", \"FL\", \"FL\", \"FL\", \"FL\", \"FL\", \"FL\", \"FL\", \"FL\", \"FL\", \"FL\", \"FL\", \"FL\", \"FL\", \"FL\", \"FL\", \"FL\", \"FL\", \"FL\", \"FL\", \"FL\", \"FL\", \"FL\", \"FL\", \"FL\", \"FL\", \"FL\", \"FL\", \"FL\", \"FL\", \"FL\", \"FL\", \"FL\", \"FL\", \"FL\", \"FL\", \"GA\", \"GA\", \"GA\", \"GA\", \"GA\", \"GA\", \"GA\", \"GA\", \"GA\", \"GA\", \"GA\", \"GA\", \"GA\", \"GA\", \"GA\", \"GA\", \"GA\", \"GA\", \"GA\", \"GA\", \"GA\", \"GA\", \"GA\", \"GA\", \"GA\", \"GA\", \"GA\", \"GA\", \"GA\", \"GA\", \"GA\", \"GA\", \"GA\", \"GA\", \"GA\", \"GA\", \"GA\", \"GA\", \"GA\", \"GA\", \"GA\", \"GA\", \"GA\", \"GA\", \"GA\", \"GA\", \"GA\", \"GA\", \"GA\", \"GA\", \"GA\", \"GA\", \"GA\", \"GA\", \"GA\", \"GA\", \"GA\", \"GA\", \"GA\", \"GA\", \"GA\", \"GA\", \"GA\", \"GA\", \"GA\", \"GA\", \"GA\", \"GA\", \"GA\", \"GA\", \"GA\", \"GA\", \"GA\", \"GA\", \"GA\", \"GA\", \"GA\", \"GA\", \"GA\", \"GA\", \"GA\", \"GA\", \"GA\", \"GA\", \"GA\", \"GA\", \"GA\", \"GA\", \"GA\", \"GA\", \"GA\", \"GA\", \"GA\", \"GA\", \"GA\", \"GA\", \"GA\", \"GA\", \"GA\", \"GA\", \"GA\", \"GA\", \"GA\", \"GA\", \"GA\", \"GA\", \"GA\", \"GA\", \"GA\", \"GA\", \"GA\", \"GA\", \"GA\", \"GA\", \"GA\", \"GA\", \"GA\", \"GA\", \"GA\", \"GA\", \"GA\", \"GA\", \"GA\", \"GA\", \"GA\", \"GA\", \"GA\", \"GA\", \"GA\", \"GA\", \"GA\", \"GA\", \"GA\", \"GA\", \"GA\", \"GA\", \"GA\", \"GA\", \"GA\", \"GA\", \"GA\", \"GA\", \"GA\", \"GA\", \"GA\", \"GA\", \"GA\", \"GA\", \"GA\", \"GA\", \"HI\", \"HI\", \"HI\", \"HI\", \"ID\", \"ID\", \"ID\", \"ID\", \"ID\", \"ID\", \"ID\", \"ID\", \"ID\", \"ID\", \"ID\", \"ID\", \"ID\", \"ID\", \"ID\", \"ID\", \"ID\", \"ID\", \"ID\", \"IL\", \"IL\", \"IL\", \"IL\", \"IL\", \"IL\", \"IL\", \"IL\", \"IL\", \"IL\", \"IL\", \"IL\", \"IL\", \"IL\", \"IL\", \"IL\", \"IL\", \"IL\", \"IL\", \"IL\", \"IL\", \"IL\", \"IL\", \"IL\", \"IL\", \"IL\", \"IL\", \"IL\", \"IL\", \"IL\", \"IL\", \"IL\", \"IL\", \"IL\", \"IL\", \"IL\", \"IL\", \"IL\", \"IL\", \"IL\", \"IL\", \"IL\", \"IL\", \"IL\", \"IL\", \"IL\", \"IL\", \"IL\", \"IL\", \"IL\", \"IL\", \"IL\", \"IL\", \"IL\", \"IL\", \"IL\", \"IL\", \"IL\", \"IL\", \"IL\", \"IL\", \"IL\", \"IL\", \"IL\", \"IL\", \"IL\", \"IL\", \"IL\", \"IL\", \"IL\", \"IL\", \"IL\", \"IL\", \"IL\", \"IL\", \"IL\", \"IL\", \"IL\", \"IL\", \"IL\", \"IL\", \"IL\", \"IL\", \"IL\", \"IL\", \"IL\", \"IL\", \"IL\", \"IL\", \"IL\", \"IL\", \"IL\", \"IL\", \"IL\", \"IL\", \"IL\", \"IL\", \"IL\", \"IL\", \"IL\", \"IL\", \"IL\", \"IN\", \"IN\", \"IN\", \"IN\", \"IN\", \"IN\", \"IN\", \"IN\", \"IN\", \"IN\", \"IN\", \"IN\", \"IN\", \"IN\", \"IN\", \"IN\", \"IN\", \"IN\", \"IN\", \"IN\", \"IN\", \"IN\", \"IN\", \"IN\", \"IN\", \"IN\", \"IN\", \"IN\", \"IN\", \"IN\", \"IN\", \"IN\", \"IN\", \"IN\", \"IN\", \"IN\", \"IN\", \"IN\", \"IN\", \"IN\", \"IN\", \"IN\", \"IN\", \"IN\", \"IA\", \"IA\", \"IA\", \"IA\", \"IA\", \"IA\", \"IA\", \"IA\", \"IA\", \"IA\", \"IA\", \"IA\", \"IA\", \"IA\", \"IA\", \"IA\", \"IA\", \"IA\", \"IA\", \"IA\", \"IA\", \"IA\", \"IA\", \"IA\", \"IA\", \"IA\", \"IA\", \"IA\", \"IA\", \"IA\", \"IA\", \"IA\", \"IA\", \"IA\", \"IA\", \"IA\", \"IA\", \"IA\", \"IA\", \"IA\", \"IA\", \"IA\", \"IA\", \"IA\", \"IA\", \"IA\", \"IA\", \"IA\", \"IA\", \"IA\", \"IA\", \"IA\", \"IA\", \"IA\", \"IA\", \"IA\", \"IA\", \"IA\", \"IA\", \"IA\", \"IA\", \"IA\", \"IA\", \"IA\", \"IA\", \"IA\", \"IA\", \"IA\", \"IA\", \"IA\", \"IA\", \"IA\", \"IA\", \"IA\", \"IA\", \"IA\", \"IA\", \"IA\", \"IA\", \"IA\", \"IA\", \"IA\", \"IA\", \"IA\", \"IA\", \"IA\", \"IA\", \"IA\", \"IA\", \"IA\", \"IA\", \"IA\", \"IA\", \"IA\", \"IA\", \"IA\", \"IA\", \"IA\", \"KS\", \"KS\", \"KS\", \"KS\", \"KS\", \"KS\", \"KS\", \"KS\", \"KS\", \"KS\", \"KS\", \"KS\", \"KS\", \"KS\", \"KS\", \"KS\", \"KS\", \"KS\", \"KS\", \"KS\", \"KS\", \"KS\", \"KS\", \"KS\", \"KS\", \"KS\", \"KS\", \"KS\", \"KS\", \"KS\", \"KS\", \"KS\", \"KS\", \"KS\", \"KS\", \"KS\", \"KS\", \"KS\", \"KS\", \"KS\", \"KS\", \"KS\", \"KS\", \"KS\", \"KS\", \"KS\", \"KS\", \"KS\", \"KS\", \"KS\", \"KS\", \"KS\", \"KS\", \"KS\", \"KS\", \"KS\", \"KS\", \"KS\", \"KS\", \"KS\", \"KS\", \"KS\", \"KS\", \"KS\", \"KS\", \"KS\", \"KS\", \"KS\", \"KS\", \"KS\", \"KS\", \"KS\", \"KS\", \"KS\", \"KS\", \"KS\", \"KS\", \"KS\", \"KS\", \"KS\", \"KS\", \"KS\", \"KS\", \"KS\", \"KS\", \"KS\", \"KS\", \"KS\", \"KS\", \"KS\", \"KS\", \"KS\", \"KS\", \"KS\", \"KS\", \"KS\", \"KS\", \"KS\", \"KS\", \"KS\", \"KS\", \"KS\", \"KS\", \"KS\", \"KS\", \"KY\", \"KY\", \"KY\", \"KY\", \"KY\", \"KY\", \"KY\", \"KY\", \"KY\", \"KY\", \"ME\", \"ME\", \"ME\", \"ME\", \"ME\", \"ME\", \"ME\", \"ME\", \"ME\", \"ME\", \"ME\", \"ME\", \"ME\", \"ME\", \"ME\", \"ME\", \"MD\", \"MD\", \"MD\", \"MD\", \"MD\", \"MD\", \"MD\", \"MD\", \"MD\", \"MD\", \"MD\", \"MD\", \"MD\", \"MD\", \"MD\", \"MD\", \"MD\", \"MD\", \"MD\", \"MD\", \"MD\", \"MD\", \"MD\", \"MD\", \"MA\", \"MA\", \"MA\", \"MA\", \"MA\", \"MA\", \"MA\", \"MA\", \"MA\", \"MA\", \"MA\", \"MA\", \"MA\", \"MA\", \"MI\", \"MI\", \"MI\", \"MI\", \"MI\", \"MI\", \"MI\", \"MI\", \"MI\", \"MI\", \"MI\", \"MI\", \"MI\", \"MI\", \"MI\", \"MI\", \"MI\", \"MI\", \"MI\", \"MI\", \"MI\", \"MI\", \"MI\", \"MI\", \"MI\", \"MI\", \"MI\", \"MI\", \"MI\", \"MI\", \"MI\", \"MI\", \"MI\", \"MI\", \"MI\", \"MI\", \"MI\", \"MI\", \"MI\", \"MI\", \"MI\", \"MI\", \"MI\", \"MI\", \"MI\", \"MI\", \"MI\", \"MI\", \"MI\", \"MI\", \"MI\", \"MI\", \"MI\", \"MI\", \"MI\", \"MI\", \"MI\", \"MI\", \"MI\", \"MI\", \"MI\", \"MI\", \"MI\", \"MI\", \"MI\", \"MI\", \"MI\", \"MI\", \"MN\", \"MN\", \"MN\", \"MN\", \"MN\", \"MN\", \"MN\", \"MN\", \"MN\", \"MN\", \"MN\", \"MN\", \"MN\", \"MN\", \"MN\", \"MN\", \"MN\", \"MN\", \"MN\", \"MN\", \"MN\", \"MN\", \"MN\", \"MN\", \"MN\", \"MN\", \"MN\", \"MN\", \"MN\", \"MN\", \"MN\", \"MN\", \"MN\", \"MN\", \"MN\", \"MN\", \"MN\", \"MN\", \"MN\", \"MN\", \"MN\", \"MN\", \"MN\", \"MN\", \"MN\", \"MN\", \"MN\", \"MN\", \"MN\", \"MN\", \"MN\", \"MN\", \"MN\", \"MN\", \"MN\", \"MN\", \"MN\", \"MN\", \"MN\", \"MN\", \"MN\", \"MN\", \"MN\", \"MN\", \"MN\", \"MN\", \"MN\", \"MN\", \"MN\", \"MN\", \"MN\", \"MN\", \"MN\", \"MN\", \"MN\", \"MN\", \"MN\", \"MN\", \"MN\", \"MN\", \"MN\", \"MN\", \"MN\", \"MN\", \"MN\", \"MN\", \"MN\", \"MS\", \"MS\", \"MS\", \"MS\", \"MS\", \"MS\", \"MS\", \"MS\", \"MS\", \"MS\", \"MS\", \"MS\", \"MS\", \"MS\", \"MS\", \"MS\", \"MS\", \"MS\", \"MS\", \"MS\", \"MS\", \"MS\", \"MS\", \"MS\", \"MS\", \"MS\", \"MS\", \"MS\", \"MS\", \"MS\", \"MS\", \"MS\", \"MS\", \"MS\", \"MS\", \"MS\", \"MS\", \"MS\", \"MS\", \"MS\", \"MS\", \"MS\", \"MS\", \"MS\", \"MS\", \"MS\", \"MS\", \"MS\", \"MS\", \"MS\", \"MS\", \"MS\", \"MS\", \"MS\", \"MS\", \"MS\", \"MS\", \"MS\", \"MS\", \"MS\", \"MS\", \"MS\", \"MS\", \"MS\", \"MS\", \"MS\", \"MS\", \"MS\", \"MS\", \"MS\", \"MS\", \"MS\", \"MS\", \"MS\", \"MS\", \"MS\", \"MS\", \"MS\", \"MS\", \"MS\", \"MS\", \"MS\", \"MO\", \"MO\", \"MO\", \"MO\", \"MT\", \"MT\", \"MT\", \"MT\", \"MT\", \"MT\", \"MT\", \"MT\", \"MT\", \"MT\", \"MT\", \"MT\", \"MT\", \"MT\", \"MT\", \"MT\", \"MT\", \"MT\", \"MT\", \"MT\", \"MT\", \"MT\", \"MT\", \"MT\", \"MT\", \"MT\", \"MT\", \"MT\", \"MT\", \"MT\", \"MT\", \"MT\", \"MT\", \"MT\", \"MT\", \"MT\", \"MT\", \"MT\", \"MT\", \"MT\", \"MT\", \"MT\", \"MT\", \"MT\", \"MT\", \"MT\", \"MT\", \"MT\", \"MT\", \"MT\", \"MT\", \"MT\", \"MT\", \"MT\", \"MT\", \"MT\", \"NE\", \"NE\", \"NE\", \"NE\", \"NE\", \"NE\", \"NE\", \"NE\", \"NE\", \"NE\", \"NE\", \"NE\", \"NE\", \"NE\", \"NE\", \"NE\", \"NE\", \"NE\", \"NE\", \"NE\", \"NE\", \"NE\", \"NE\", \"NE\", \"NE\", \"NE\", \"NE\", \"NE\", \"NE\", \"NE\", \"NE\", \"NE\", \"NE\", \"NE\", \"NE\", \"NE\", \"NE\", \"NE\", \"NE\", \"NE\", \"NE\", \"NE\", \"NE\", \"NE\", \"NE\", \"NE\", \"NE\", \"NE\", \"NE\", \"NE\", \"NE\", \"NE\", \"NE\", \"NE\", \"NE\", \"NE\", \"NE\", \"NE\", \"NE\", \"NE\", \"NE\", \"NE\", \"NE\", \"NE\", \"NE\", \"NE\", \"NE\", \"NE\", \"NE\", \"NE\", \"NE\", \"NE\", \"NE\", \"NE\", \"NE\", \"NE\", \"NE\", \"NE\", \"NE\", \"NE\", \"NE\", \"NE\", \"NE\", \"NE\", \"NE\", \"NE\", \"NE\", \"NE\", \"NE\", \"NE\", \"NE\", \"NE\", \"NE\", \"NV\", \"NV\", \"NV\", \"NV\", \"NV\", \"NV\", \"NV\", \"NV\", \"NV\", \"NV\", \"NV\", \"NV\", \"NV\", \"NV\", \"NV\", \"NV\", \"NV\", \"NH\", \"NH\", \"NH\", \"NH\", \"NH\", \"NH\", \"NH\", \"NH\", \"NH\", \"NH\", \"NJ\", \"NJ\", \"NJ\", \"NJ\", \"NJ\", \"NJ\", \"NJ\", \"NJ\", \"NJ\", \"NJ\", \"NJ\", \"NJ\", \"NJ\", \"NJ\", \"NJ\", \"NJ\", \"NJ\", \"NJ\", \"NJ\", \"NJ\", \"NJ\", \"NM\", \"NM\", \"NM\", \"NM\", \"NM\", \"NM\", \"NM\", \"NM\", \"NM\", \"NM\", \"NM\", \"NM\", \"NM\", \"NM\", \"NM\", \"NM\", \"NM\", \"NM\", \"NM\", \"NM\", \"NM\", \"NM\", \"NM\", \"NM\", \"NM\", \"NM\", \"NM\", \"NM\", \"NM\", \"NM\", \"NM\", \"NM\", \"NM\", \"NY\", \"NY\", \"NY\", \"NY\", \"NY\", \"NY\", \"NY\", \"NY\", \"NY\", \"NY\", \"NY\", \"NY\", \"NY\", \"NY\", \"NY\", \"NY\", \"NY\", \"NY\", \"NY\", \"NY\", \"NY\", \"NY\", \"NY\", \"NY\", \"NY\", \"NY\", \"NY\", \"NY\", \"NY\", \"NY\", \"NY\", \"NY\", \"NY\", \"NY\", \"NY\", \"NY\", \"NY\", \"NY\", \"NY\", \"NY\", \"NY\", \"NY\", \"NY\", \"NY\", \"NY\", \"NY\", \"NY\", \"NY\", \"NY\", \"NY\", \"NY\", \"NY\", \"NY\", \"NY\", \"NY\", \"NY\", \"NY\", \"NY\", \"NY\", \"NY\", \"NY\", \"NY\", \"NY\", \"NC\", \"NC\", \"NC\", \"NC\", \"NC\", \"NC\", \"NC\", \"NC\", \"NC\", \"NC\", \"NC\", \"NC\", \"NC\", \"NC\", \"NC\", \"NC\", \"NC\", \"NC\", \"NC\", \"NC\", \"NC\", \"NC\", \"NC\", \"NC\", \"NC\", \"NC\", \"NC\", \"NC\", \"NC\", \"NC\", \"NC\", \"NC\", \"NC\", \"NC\", \"NC\", \"NC\", \"NC\", \"NC\", \"NC\", \"NC\", \"NC\", \"NC\", \"NC\", \"NC\", \"NC\", \"NC\", \"NC\", \"NC\", \"NC\", \"NC\", \"NC\", \"NC\", \"NC\", \"NC\", \"NC\", \"NC\", \"NC\", \"NC\", \"NC\", \"NC\", \"NC\", \"NC\", \"NC\", \"NC\", \"NC\", \"NC\", \"NC\", \"NC\", \"NC\", \"NC\", \"NC\", \"NC\", \"NC\", \"NC\", \"NC\", \"NC\", \"NC\", \"NC\", \"NC\", \"NC\", \"NC\", \"NC\", \"NC\", \"NC\", \"NC\", \"NC\", \"NC\", \"NC\", \"NC\", \"NC\", \"NC\", \"NC\", \"NC\", \"NC\", \"NC\", \"NC\", \"NC\", \"NC\", \"NC\", \"NC\", \"ND\", \"ND\", \"ND\", \"ND\", \"ND\", \"ND\", \"ND\", \"ND\", \"ND\", \"ND\", \"ND\", \"ND\", \"ND\", \"ND\", \"ND\", \"ND\", \"ND\", \"ND\", \"ND\", \"ND\", \"ND\", \"ND\", \"ND\", \"ND\", \"ND\", \"ND\", \"ND\", \"ND\", \"ND\", \"ND\", \"ND\", \"ND\", \"ND\", \"ND\", \"ND\", \"ND\", \"ND\", \"ND\", \"ND\", \"ND\", \"ND\", \"ND\", \"ND\", \"ND\", \"ND\", \"ND\", \"ND\", \"ND\", \"ND\", \"ND\", \"ND\", \"ND\", \"ND\", \"OH\", \"OH\", \"OH\", \"OH\", \"OH\", \"OH\", \"OH\", \"OH\", \"OH\", \"OH\", \"OH\", \"OH\", \"OH\", \"OH\", \"OH\", \"OH\", \"OH\", \"OH\", \"OH\", \"OH\", \"OH\", \"OH\", \"OH\", \"OH\", \"OH\", \"OH\", \"OH\", \"OH\", \"OH\", \"OH\", \"OH\", \"OH\", \"OH\", \"OH\", \"OH\", \"OH\", \"OH\", \"OH\", \"OH\", \"OH\", \"OH\", \"OH\", \"OH\", \"OH\", \"OH\", \"OH\", \"OH\", \"OH\", \"OH\", \"OH\", \"OH\", \"OH\", \"OH\", \"OH\", \"OH\", \"OH\", \"OH\", \"OH\", \"OH\", \"OH\", \"OH\", \"OH\", \"OH\", \"OH\", \"OH\", \"OH\", \"OH\", \"OH\", \"OH\", \"OH\", \"OH\", \"OH\", \"OH\", \"OH\", \"OH\", \"OH\", \"OH\", \"OH\", \"OH\", \"OH\", \"OH\", \"OH\", \"OH\", \"OH\", \"OH\", \"OH\", \"OH\", \"OH\", \"OK\", \"OK\", \"OK\", \"OK\", \"OK\", \"OK\", \"OK\", \"OK\", \"OK\", \"OK\", \"OK\", \"OK\", \"OK\", \"OK\", \"OK\", \"OK\", \"OK\", \"OK\", \"OK\", \"OK\", \"OK\", \"OK\", \"OK\", \"OK\", \"OK\", \"OK\", \"OK\", \"OK\", \"OK\", \"OK\", \"OK\", \"OK\", \"OK\", \"OK\", \"OK\", \"OK\", \"OK\", \"OK\", \"OK\", \"OK\", \"OK\", \"OK\", \"OK\", \"OK\", \"OK\", \"OK\", \"OK\", \"OK\", \"OK\", \"OK\", \"OK\", \"OK\", \"OK\", \"OK\", \"OK\", \"OK\", \"OK\", \"OK\", \"OK\", \"OK\", \"OK\", \"OK\", \"OK\", \"OK\", \"OK\", \"OK\", \"OK\", \"OK\", \"OK\", \"OK\", \"OK\", \"OK\", \"OK\", \"OK\", \"OK\", \"OR\", \"OR\", \"OR\", \"OR\", \"OR\", \"OR\", \"OR\", \"OR\", \"OR\", \"OR\", \"OR\", \"OR\", \"OR\", \"OR\", \"OR\", \"OR\", \"OR\", \"OR\", \"OR\", \"OR\", \"OR\", \"OR\", \"OR\", \"OR\", \"OR\", \"OR\", \"OR\", \"OR\", \"OR\", \"OR\", \"OR\", \"OR\", \"OR\", \"OR\", \"OR\", \"OR\", \"PA\", \"PA\", \"PA\", \"PA\", \"PA\", \"PA\", \"PA\", \"PA\", \"PA\", \"PA\", \"PA\", \"PA\", \"PA\", \"PA\", \"PA\", \"PA\", \"PA\", \"PA\", \"PA\", \"PA\", \"PA\", \"PA\", \"PA\", \"PA\", \"PA\", \"PA\", \"PA\", \"PA\", \"PA\", \"PA\", \"PA\", \"PA\", \"PA\", \"PA\", \"PA\", \"PA\", \"PA\", \"PA\", \"PA\", \"PA\", \"PA\", \"PA\", \"PA\", \"PA\", \"PA\", \"PA\", \"PA\", \"PA\", \"PA\", \"PA\", \"PA\", \"PA\", \"PA\", \"PA\", \"PA\", \"PA\", \"PA\", \"PA\", \"PA\", \"PA\", \"PA\", \"PA\", \"PA\", \"PA\", \"PA\", \"PA\", \"PA\", \"RI\", \"RI\", \"RI\", \"RI\", \"RI\", \"SC\", \"SC\", \"SC\", \"SC\", \"SC\", \"SC\", \"SC\", \"SC\", \"SC\", \"SC\", \"SC\", \"SC\", \"SC\", \"SC\", \"SC\", \"SC\", \"SC\", \"SC\", \"SC\", \"SC\", \"SC\", \"SC\", \"SC\", \"SC\", \"SC\", \"SC\", \"SC\", \"SC\", \"SC\", \"SC\", \"SC\", \"SC\", \"SC\", \"SC\", \"SC\", \"SC\", \"SC\", \"SC\", \"SC\", \"SC\", \"SC\", \"SC\", \"SC\", \"SC\", \"SC\", \"SC\", \"SD\", \"SD\", \"SD\", \"SD\", \"SD\", \"SD\", \"SD\", \"SD\", \"SD\", \"SD\", \"SD\", \"SD\", \"SD\", \"SD\", \"SD\", \"SD\", \"SD\", \"SD\", \"SD\", \"SD\", \"SD\", \"SD\", \"SD\", \"SD\", \"SD\", \"SD\", \"SD\", \"SD\", \"SD\", \"SD\", \"SD\", \"SD\", \"SD\", \"SD\", \"SD\", \"SD\", \"SD\", \"SD\", \"SD\", \"SD\", \"SD\", \"SD\", \"SD\", \"SD\", \"SD\", \"SD\", \"SD\", \"SD\", \"SD\", \"SD\", \"SD\", \"SD\", \"SD\", \"SD\", \"SD\", \"TN\", \"TN\", \"TN\", \"TN\", \"TN\", \"TN\", \"TN\", \"TN\", \"TN\", \"TN\", \"TN\", \"TN\", \"TN\", \"TN\", \"TN\", \"TN\", \"TN\", \"TN\", \"TN\", \"TN\", \"TN\", \"TN\", \"TN\", \"TN\", \"TN\", \"TN\", \"TN\", \"TN\", \"TN\", \"TN\", \"TN\", \"TN\", \"TN\", \"TN\", \"TN\", \"TN\", \"TN\", \"TN\", \"TN\", \"TN\", \"TN\", \"TN\", \"TN\", \"TN\", \"TN\", \"TN\", \"TN\", \"TN\", \"TN\", \"TN\", \"TN\", \"TN\", \"TN\", \"TN\", \"TN\", \"TN\", \"TN\", \"TN\", \"TN\", \"TN\", \"TN\", \"TN\", \"TN\", \"TN\", \"TN\", \"TN\", \"TN\", \"TN\", \"TN\", \"TN\", \"TN\", \"TN\", \"TN\", \"TN\", \"TN\", \"TN\", \"TN\", \"TN\", \"TN\", \"TN\", \"TN\", \"TN\", \"TN\", \"TN\", \"TN\", \"TN\", \"TN\", \"TN\", \"TN\", \"TN\", \"TN\", \"TN\", \"TN\", \"TN\", \"TX\", \"TX\", \"TX\", \"TX\", \"TX\", \"TX\", \"TX\", \"TX\", \"TX\", \"TX\", \"TX\", \"TX\", \"TX\", \"TX\", \"TX\", \"TX\", \"TX\", \"TX\", \"TX\", \"TX\", \"TX\", \"TX\", \"TX\", \"TX\", \"TX\", \"TX\", \"TX\", \"TX\", \"TX\", \"TX\", \"TX\", \"TX\", \"TX\", \"TX\", \"TX\", \"TX\", \"TX\", \"TX\", \"TX\", \"TX\", \"TX\", \"TX\", \"TX\", \"TX\", \"TX\", \"TX\", \"TX\", \"TX\", \"TX\", \"TX\", \"TX\", \"TX\", \"TX\", \"TX\", \"TX\", \"TX\", \"TX\", \"TX\", \"TX\", \"TX\", \"TX\", \"TX\", \"TX\", \"TX\", \"TX\", \"TX\", \"TX\", \"TX\", \"TX\", \"TX\", \"TX\", \"TX\", \"TX\", \"TX\", \"TX\", \"TX\", \"TX\", \"TX\", \"TX\", \"TX\", \"TX\", \"TX\", \"TX\", \"TX\", \"TX\", \"TX\", \"TX\", \"TX\", \"TX\", \"TX\", \"TX\", \"TX\", \"TX\", \"TX\", \"TX\", \"TX\", \"TX\", \"TX\", \"TX\", \"TX\", \"TX\", \"TX\", \"TX\", \"TX\", \"TX\", \"TX\", \"TX\", \"TX\", \"TX\", \"TX\", \"TX\", \"TX\", \"TX\", \"TX\", \"TX\", \"TX\", \"TX\", \"TX\", \"TX\", \"TX\", \"TX\", \"TX\", \"TX\", \"TX\", \"TX\", \"TX\", \"TX\", \"TX\", \"TX\", \"TX\", \"TX\", \"TX\", \"TX\", \"TX\", \"TX\", \"TX\", \"TX\", \"TX\", \"TX\", \"TX\", \"TX\", \"TX\", \"TX\", \"TX\", \"TX\", \"TX\", \"TX\", \"TX\", \"TX\", \"TX\", \"TX\", \"TX\", \"TX\", \"TX\", \"TX\", \"TX\", \"TX\", \"TX\", \"TX\", \"TX\", \"TX\", \"TX\", \"TX\", \"TX\", \"TX\", \"TX\", \"TX\", \"TX\", \"TX\", \"TX\", \"TX\", \"TX\", \"TX\", \"TX\", \"TX\", \"TX\", \"TX\", \"TX\", \"TX\", \"TX\", \"TX\", \"TX\", \"TX\", \"TX\", \"TX\", \"TX\", \"TX\", \"TX\", \"TX\", \"TX\", \"TX\", \"TX\", \"TX\", \"TX\", \"TX\", \"TX\", \"TX\", \"TX\", \"TX\", \"TX\", \"TX\", \"TX\", \"TX\", \"TX\", \"TX\", \"TX\", \"TX\", \"TX\", \"TX\", \"TX\", \"TX\", \"TX\", \"TX\", \"TX\", \"TX\", \"TX\", \"TX\", \"TX\", \"TX\", \"TX\", \"TX\", \"TX\", \"TX\", \"TX\", \"TX\", \"TX\", \"TX\", \"TX\", \"TX\", \"TX\", \"TX\", \"TX\", \"TX\", \"TX\", \"TX\", \"TX\", \"TX\", \"TX\", \"TX\", \"TX\", \"TX\", \"TX\", \"TX\", \"TX\", \"TX\", \"TX\", \"TX\", \"TX\", \"TX\", \"TX\", \"TX\", \"TX\", \"TX\", \"TX\", \"UT\", \"UT\", \"UT\", \"UT\", \"UT\", \"UT\", \"UT\", \"UT\", \"UT\", \"UT\", \"UT\", \"UT\", \"UT\", \"UT\", \"UT\", \"UT\", \"UT\", \"UT\", \"UT\", \"UT\", \"UT\", \"UT\", \"UT\", \"UT\", \"UT\", \"UT\", \"UT\", \"UT\", \"UT\", \"VT\", \"VT\", \"VT\", \"VT\", \"VT\", \"VT\", \"VT\", \"VT\", \"VT\", \"VT\", \"VT\", \"VT\", \"VT\", \"VT\", \"WA\", \"WA\", \"WA\", \"WA\", \"WA\", \"WA\", \"WA\", \"WA\", \"WA\", \"WA\", \"WA\", \"WA\", \"WA\", \"WA\", \"WA\", \"WA\", \"WA\", \"WA\", \"WA\", \"WA\", \"WA\", \"WA\", \"WA\", \"WA\", \"WA\", \"WA\", \"WA\", \"WA\", \"WA\", \"WA\", \"WA\", \"WA\", \"WA\", \"WA\", \"WA\", \"WA\", \"WA\", \"WA\", \"WA\", \"WV\", \"WV\", \"WV\", \"WV\", \"WV\", \"WV\", \"WV\", \"WV\", \"WV\", \"WV\", \"WV\", \"WV\", \"WV\", \"WV\", \"WV\", \"WV\", \"WV\", \"WV\", \"WV\", \"WV\", \"WV\", \"WV\", \"WV\", \"WV\", \"WV\", \"WV\", \"WV\", \"WV\", \"WV\", \"WV\", \"WV\", \"WV\", \"WV\", \"WV\", \"WV\", \"WV\", \"WV\", \"WV\", \"WV\", \"WV\", \"WV\", \"WV\", \"WV\", \"WV\", \"WV\", \"WV\", \"WV\", \"WV\", \"WV\", \"WV\", \"WV\", \"WV\", \"WV\", \"WV\", \"WV\", \"WI\", \"WI\", \"WI\", \"WI\", \"WI\", \"WI\", \"WI\", \"WI\", \"WI\", \"WI\", \"WI\", \"WI\", \"WI\", \"WI\", \"WI\", \"WI\", \"WI\", \"WI\", \"WI\", \"WI\", \"WI\", \"WI\", \"WI\", \"WI\", \"WI\", \"WI\", \"WI\", \"WI\", \"WI\", \"WI\", \"WI\", \"WI\", \"WI\", \"WI\", \"WI\", \"WI\", \"WI\", \"WI\", \"WI\", \"WI\", \"WI\", \"WI\", \"WI\", \"WI\", \"WI\", \"WI\", \"WI\", \"WI\", \"WI\", \"WI\", \"WI\", \"WI\", \"WI\", \"WI\", \"WI\", \"WI\", \"WI\", \"WI\", \"WI\", \"WI\", \"WI\", \"WI\", \"WI\", \"WI\", \"WI\", \"WI\", \"WI\", \"WI\", \"WI\", \"WI\", \"WI\", \"WI\", \"WI\", \"WY\", \"WY\", \"WY\", \"WY\", \"WY\", \"WY\", \"WY\", \"WY\", \"WY\", \"WY\", \"WY\", \"WY\", \"WY\", \"WY\", \"WY\", \"WY\", \"WY\", \"WY\", \"WY\", \"WY\", \"WY\", \"WY\", \"WY\"], \"legendgroup\": \"\", \"marker\": {\"color\": [0, 1, 0, 1, 1, 1, 1, 0, 1, 1, 0, 1, 0, 1, 1, 1, 1, 1, 1, 1, 1, 1, 1, 0, 1, 1, 1, 1, 1, 1, 1, 1, 0, 1, 1, 0, 1, 1, 1, 1, 1, 1, 1, 1, 1, 1, 1, 1, 1, 1, 1, 1, 0, 1, 1, 1, 1, 1, 1, 1, 1, 1, 1, 1, 1, 1, 1, 1, 1, 1, 1, 1, 0, 1, 0, 1, 1, 1, 1, 1, 1, 1, 1, 1, 1, 1, 1, 1, 0, 0, 1, 0, 1, 1, 0, 1, 1, 0, 1, 0, 0, 0, 1, 1, 0, 1, 0, 1, 0, 1, 0, 0, 1, 0, 0, 0, 0, 0, 1, 1, 0, 0, 0, 0, 0, 0, 0, 0, 0, 0, 0, 0, 1, 1, 1, 0, 0, 0, 1, 1, 1, 1, 1, 0, 0, 1, 0, 0, 0, 1, 1, 1, 0, 0, 0, 1, 0, 1, 0, 1, 1, 1, 0, 1, 1, 0, 1, 1, 1, 0, 0, 0, 0, 1, 0, 1, 0, 1, 1, 0, 0, 0, 1, 1, 1, 1, 1, 1, 1, 1, 1, 1, 0, 1, 1, 0, 1, 0, 1, 1, 0, 0, 0, 0, 1, 0, 1, 1, 1, 1, 0, 0, 1, 0, 0, 1, 1, 1, 1, 0, 1, 1, 1, 1, 1, 1, 1, 1, 0, 1, 1, 1, 0, 1, 1, 1, 1, 1, 1, 1, 1, 0, 1, 1, 1, 1, 1, 1, 1, 0, 1, 1, 1, 1, 1, 1, 0, 1, 1, 1, 1, 0, 0, 0, 1, 0, 1, 1, 1, 1, 1, 1, 0, 1, 1, 1, 1, 1, 1, 1, 1, 1, 1, 1, 0, 1, 1, 1, 1, 1, 0, 1, 1, 1, 1, 1, 1, 1, 1, 1, 1, 1, 1, 0, 1, 1, 1, 0, 0, 1, 0, 1, 1, 1, 1, 1, 1, 1, 1, 1, 1, 0, 1, 1, 0, 0, 1, 1, 1, 1, 1, 1, 1, 1, 1, 1, 0, 1, 1, 1, 1, 1, 1, 0, 1, 1, 0, 1, 1, 1, 1, 0, 1, 1, 1, 1, 1, 0, 1, 1, 1, 1, 1, 1, 1, 0, 1, 1, 1, 1, 1, 1, 0, 1, 1, 1, 1, 1, 1, 1, 1, 0, 0, 1, 1, 1, 1, 1, 1, 1, 1, 1, 1, 1, 0, 0, 1, 1, 1, 1, 0, 0, 0, 0, 1, 1, 1, 1, 1, 1, 1, 1, 1, 1, 1, 1, 1, 1, 1, 1, 0, 0, 1, 1, 1, 1, 1, 1, 1, 1, 1, 0, 0, 0, 0, 1, 1, 1, 0, 1, 1, 1, 1, 1, 1, 1, 1, 1, 1, 1, 1, 1, 1, 1, 1, 1, 1, 1, 1, 1, 1, 1, 1, 0, 1, 1, 1, 1, 1, 0, 1, 1, 0, 1, 1, 0, 1, 1, 1, 1, 1, 1, 1, 1, 1, 1, 1, 1, 1, 1, 1, 1, 0, 1, 1, 1, 1, 1, 0, 1, 0, 1, 0, 1, 1, 1, 1, 1, 1, 0, 0, 1, 1, 1, 1, 1, 1, 1, 1, 1, 1, 1, 1, 1, 1, 0, 1, 1, 1, 1, 1, 1, 1, 1, 0, 0, 1, 1, 1, 1, 1, 1, 1, 1, 1, 1, 1, 1, 1, 1, 1, 1, 0, 1, 0, 1, 1, 1, 1, 1, 1, 1, 1, 1, 1, 1, 1, 1, 1, 1, 1, 1, 1, 1, 1, 1, 1, 1, 1, 0, 1, 0, 1, 1, 0, 1, 1, 1, 1, 1, 1, 1, 1, 1, 1, 1, 1, 1, 1, 1, 1, 1, 1, 1, 1, 1, 0, 1, 1, 1, 1, 1, 1, 1, 1, 1, 1, 1, 1, 1, 1, 1, 1, 1, 0, 1, 1, 1, 1, 1, 1, 1, 1, 1, 1, 1, 1, 1, 1, 1, 1, 1, 1, 1, 1, 1, 1, 1, 1, 1, 0, 0, 1, 1, 1, 1, 0, 1, 1, 1, 1, 1, 1, 1, 1, 1, 1, 1, 1, 1, 1, 1, 1, 1, 1, 1, 0, 1, 1, 1, 1, 1, 1, 0, 1, 1, 1, 1, 1, 1, 1, 1, 1, 1, 1, 1, 1, 1, 1, 1, 1, 1, 1, 1, 1, 1, 1, 1, 1, 1, 1, 1, 1, 1, 1, 1, 1, 1, 1, 1, 0, 1, 1, 1, 1, 1, 1, 1, 1, 1, 1, 1, 1, 1, 1, 1, 1, 1, 1, 1, 1, 1, 1, 0, 1, 1, 1, 1, 1, 1, 1, 1, 1, 1, 1, 1, 1, 1, 1, 1, 1, 1, 1, 1, 1, 1, 1, 1, 1, 1, 1, 1, 1, 1, 1, 1, 1, 1, 0, 1, 1, 1, 1, 1, 1, 1, 0, 1, 1, 1, 1, 1, 1, 1, 1, 1, 1, 1, 1, 1, 1, 1, 0, 1, 0, 1, 1, 1, 1, 1, 1, 1, 1, 0, 1, 0, 1, 0, 0, 0, 0, 1, 1, 1, 0, 1, 0, 1, 0, 1, 0, 0, 1, 1, 1, 1, 0, 1, 0, 1, 1, 0, 0, 0, 0, 1, 1, 1, 0, 1, 0, 1, 0, 0, 0, 0, 0, 0, 0, 0, 0, 0, 0, 0, 0, 0, 0, 1, 1, 1, 1, 1, 1, 1, 1, 1, 1, 1, 1, 1, 1, 1, 1, 1, 1, 1, 0, 1, 0, 1, 1, 1, 1, 1, 1, 1, 0, 1, 1, 1, 1, 1, 0, 1, 0, 1, 0, 1, 1, 1, 1, 0, 1, 1, 1, 1, 1, 1, 1, 1, 0, 1, 1, 1, 1, 1, 1, 1, 1, 1, 1, 1, 1, 0, 1, 1, 0, 1, 1, 1, 1, 0, 1, 0, 1, 1, 1, 1, 0, 1, 0, 1, 1, 0, 1, 1, 1, 1, 1, 1, 1, 0, 1, 1, 1, 1, 1, 1, 1, 1, 1, 1, 0, 1, 1, 1, 1, 1, 0, 1, 1, 1, 1, 1, 1, 1, 0, 1, 1, 0, 1, 1, 1, 1, 1, 1, 0, 1, 1, 1, 0, 1, 1, 0, 1, 1, 1, 1, 1, 1, 1, 1, 1, 1, 1, 1, 0, 1, 1, 0, 1, 1, 0, 1, 1, 1, 1, 0, 1, 1, 1, 1, 0, 1, 0, 0, 0, 1, 1, 1, 1, 1, 1, 1, 1, 1, 0, 0, 0, 0, 1, 1, 0, 0, 0, 1, 0, 1, 1, 1, 1, 1, 1, 0, 1, 1, 1, 1, 0, 1, 1, 1, 1, 0, 0, 1, 1, 1, 0, 1, 1, 0, 1, 1, 0, 1, 1, 1, 0, 0, 1, 1, 1, 0, 1, 1, 0, 0, 1, 1, 0, 1, 1, 0, 0, 0, 1, 0, 1, 0, 0, 1, 1, 1, 1, 1, 1, 1, 1, 0, 1, 1, 1, 0, 1, 0, 1, 1, 1, 1, 1, 1, 1, 1, 1, 1, 1, 1, 1, 0, 1, 1, 1, 1, 1, 1, 1, 1, 1, 1, 0, 1, 1, 1, 0, 1, 1, 1, 1, 1, 1, 1, 1, 1, 1, 1, 1, 1, 1, 1, 1, 1, 1, 1, 1, 1, 1, 1, 1, 1, 1, 1, 1, 1, 1, 1, 1, 1, 1, 1, 1, 0, 1, 1, 1, 1, 1, 1, 1, 1, 1, 1, 1, 1, 1, 1, 1, 1, 1, 1, 1, 1, 1, 1, 1, 1, 1, 1, 0, 1, 1, 1, 1, 1, 1, 1, 1, 1, 1, 1, 1, 1, 1, 1, 1, 1, 1, 1, 1, 1, 1, 1, 1, 1, 1, 1, 1, 1, 1, 1, 1, 1, 1, 1, 1, 1, 1, 1, 0, 1, 1, 1, 1, 1, 1, 1, 1, 1, 1, 1, 1, 0, 1, 1, 1, 0, 0, 1, 0, 0, 0, 0, 0, 0, 0, 0, 0, 0, 1, 0, 0, 0, 0, 1, 0, 0, 1, 0, 1, 0, 1, 0, 1, 0, 1, 0, 1, 1, 0, 1, 1, 1, 0, 1, 0, 0, 1, 1, 1, 1, 0, 1, 0, 0, 1, 1, 0, 1, 0, 1, 0, 0, 1, 0, 0, 1, 1, 1, 0, 1, 0, 0, 1, 1, 1, 1, 1, 0, 0, 0, 1, 0, 0, 0, 1, 1, 1, 1, 1, 1, 1, 0, 1, 1, 1, 0, 1, 0, 0, 0, 1, 1, 0, 0, 0, 1, 1, 1, 1, 0, 0, 1, 0, 1, 0, 0, 1, 1, 1, 1, 0, 1, 1, 0, 0, 0, 1, 1, 0, 1, 1, 1, 1, 1, 0, 1, 1, 1, 0, 1, 1, 0, 1, 1, 1, 1, 1, 1, 1, 0, 1, 1, 1, 1, 1, 1, 0, 1, 1, 1, 1, 1, 0, 0, 0, 1, 1, 1, 1, 1, 1, 0, 0, 1, 1, 1, 0, 0, 1, 1, 1, 1, 1, 1, 1, 1, 1, 1, 1, 1, 0, 1, 1, 1, 0, 0, 0, 1, 0, 1, 0, 1, 1, 1, 0, 1, 1, 1, 1, 1, 1, 1, 1, 1, 1, 1, 1, 1, 1, 1, 1, 0, 0, 0, 0, 0, 1, 1, 0, 1, 1, 1, 1, 1, 1, 1, 1, 1, 1, 0, 1, 1, 1, 1, 1, 1, 1, 1, 1, 1, 1, 1, 1, 1, 1, 1, 1, 1, 1, 1, 1, 1, 1, 1, 1, 1, 1, 1, 1, 1, 0, 1, 1, 0, 1, 1, 1, 1, 1, 1, 1, 1, 1, 1, 1, 1, 1, 1, 0, 1, 1, 1, 1, 1, 1, 1, 1, 1, 1, 1, 1, 0, 1, 1, 1, 1, 1, 1, 0, 1, 1, 1, 1, 1, 0, 1, 1, 1, 1, 1, 1, 1, 1, 1, 1, 1, 1, 1, 1, 1, 1, 0, 1, 1, 1, 1, 1, 1, 1, 1, 0, 1, 1, 1, 1, 1, 1, 1, 1, 1, 1, 1, 1, 1, 1, 1, 1, 1, 1, 1, 0, 1, 1, 1, 1, 1, 1, 1, 1, 1, 1, 1, 1, 1, 1, 1, 1, 1, 1, 1, 1, 1, 1, 1, 1, 1, 1, 1, 1, 1, 1, 1, 1, 1, 1, 1, 1, 1, 1, 1, 1, 1, 1, 1, 1, 1, 1, 1, 1, 1, 1, 1, 1, 1, 1, 1, 1, 1, 1, 1, 1, 1, 1, 1, 1, 1, 1, 1, 1, 1, 1, 1, 1, 1, 1, 1, 1, 1, 1, 1, 1, 1, 1, 1, 1, 1, 1, 1, 0, 0, 0, 1, 1, 1, 1, 0, 1, 1, 1, 1, 0, 1, 1, 1, 1, 1, 0, 0, 1, 1, 0, 1, 0, 0, 1, 0, 1, 1, 1, 0, 0, 1, 1, 1, 0, 1, 1, 1, 1, 1, 1, 0, 1, 1, 1, 1, 0, 0, 1, 1, 1, 1, 1, 1, 0, 0, 1, 0, 1, 1, 1, 1, 1, 1, 1, 1, 1, 0, 1, 1, 1, 0, 1, 1, 1, 1, 1, 0, 0, 1, 0, 1, 1, 0, 1, 1, 1, 1, 1, 1, 1, 1, 1, 1, 1, 1, 1, 1, 1, 1, 0, 0, 0, 0, 0, 1, 1, 0, 1, 0, 1, 1, 1, 1, 0, 1, 1, 1, 0, 1, 1, 1, 1, 1, 0, 1, 1, 1, 1, 0, 1, 0, 1, 1, 1, 0, 1, 1, 0, 0, 1, 1, 0, 1, 0, 1, 1, 0, 1, 0, 1, 1, 1, 1, 1, 1, 0, 1, 1, 1, 1, 0, 1, 1, 1, 1, 1, 1, 0, 1, 1, 1, 1, 1, 1, 1, 1, 1, 1, 1, 1, 1, 1, 1, 1, 1, 1, 1, 1, 1, 1, 1, 1, 1, 1, 1, 1, 1, 1, 1, 0, 1, 1, 1, 1, 0, 1, 1, 1, 1, 1, 1, 1, 1, 1, 1, 1, 1, 1, 1, 1, 1, 1, 1, 1, 1, 1, 1, 1, 1, 1, 1, 1, 1, 1, 1, 1, 1, 1, 1, 1, 1, 0, 1, 1, 1, 1, 1, 1, 1, 1, 1, 1, 1, 1, 1, 1, 1, 1, 1, 1, 1, 1, 1, 1, 1, 1, 1, 1, 1, 1, 1, 1, 1, 1, 1, 1, 1, 1, 1, 1, 1, 1, 0, 1, 1, 1, 1, 1, 1, 1, 1, 1, 1, 1, 1, 1, 1, 1, 1, 1, 1, 1, 1, 1, 1, 1, 1, 1, 1, 1, 1, 1, 1, 0, 1, 1, 1, 1, 1, 1, 1, 1, 0, 1, 1, 1, 1, 1, 1, 0, 1, 1, 1, 1, 1, 1, 1, 1, 1, 1, 1, 1, 1, 1, 1, 1, 1, 1, 1, 1, 1, 1, 1, 0, 1, 0, 1, 1, 1, 1, 1, 1, 0, 1, 0, 1, 1, 1, 1, 0, 1, 1, 1, 1, 1, 1, 1, 0, 1, 1, 1, 1, 1, 1, 1, 1, 1, 1, 1, 1, 1, 1, 1, 1, 1, 1, 1, 1, 1, 0, 1, 1, 1, 0, 1, 1, 0, 1, 1, 1, 1, 1, 1, 1, 1, 1, 1, 1, 1, 1, 1, 1, 0, 1, 1, 1, 1, 1, 1, 1, 1, 1, 1, 1, 1, 1, 1, 1, 1, 1, 1, 1, 1, 1, 1, 1, 1, 1, 1, 1, 1, 1, 1, 1, 1, 1, 1, 1, 1, 1, 0, 1, 1, 1, 1, 1, 1, 1, 1, 1, 1, 1, 1, 1, 1, 1, 1, 1, 1, 1, 1, 1, 1, 1, 1, 1, 1, 0, 1, 1, 1, 1, 1, 1, 1, 1, 1, 1, 1, 1, 1, 1, 1, 1, 1, 1, 1, 1, 1, 1, 1, 1, 0, 1, 1, 1, 1, 1, 0, 1, 1, 1, 1, 1, 1, 0, 1, 1, 1, 1, 1, 1, 1, 1, 1, 1, 1, 1, 0, 1, 1, 1, 1, 0, 0, 1, 1, 1, 1, 1, 1, 1, 0, 1, 1, 1, 1, 1, 1, 1, 1, 1, 0, 1, 1, 1, 1, 1, 1, 1, 0, 1, 1, 1, 0, 1, 1, 1, 1, 1, 1, 1, 0, 0, 0, 0, 1, 0, 0, 0, 0, 0, 0, 0, 0, 0, 1, 1, 1, 1, 0, 0, 1, 1, 1, 1, 1, 1, 1, 1, 0, 0, 0, 0, 1, 1, 1, 1, 1, 1, 0, 1, 0, 0, 0, 1, 0, 1, 1, 0, 1, 1, 0, 0, 1, 1, 1, 1, 1, 1, 1, 1, 1, 1, 1, 1, 1, 1, 1, 1, 1, 1, 1, 1, 1, 1, 1, 1, 1, 1, 1, 1, 1, 1, 1, 0, 1, 1, 1, 1, 1, 1, 1, 1, 1, 1, 1, 1, 1, 1, 1, 1, 1, 1, 1, 1, 1, 1, 1, 1, 1, 1, 0, 1, 0, 1, 1, 1, 1, 1, 1, 0, 1, 0, 1, 0, 0, 1, 0, 1, 1, 1, 1, 0, 1, 0, 1, 1, 1, 1, 1, 1, 0, 1, 1, 1, 1, 1, 1, 1, 0, 0, 1, 1, 1, 1, 1, 1, 1, 1, 0, 1, 1, 1, 0, 1, 1, 0, 1, 1, 1, 1, 1, 1, 1, 1, 1, 1, 1, 1, 1, 1, 1, 0, 1, 1, 1, 1, 1, 1, 1, 1, 1, 1, 1, 1, 1, 1, 1, 1, 1, 1, 0, 1, 1, 1], \"coloraxis\": \"coloraxis\", \"size\": [1206454.5252833997, 2296048.1770155393, 2311336.1624288764, 1116178.5427318527, 573863.6643788791, 184263.7947134758, 574361.9843126021, 59185957.43252099, 3376110.458875861, 1971359.3659613421, 16371753.85730182, 396722.97652583173, 602058.7637407132, 3701948.898932721, 3112493.6706046304, 444209.43054359267, 472676.8059242938, 841546.3366609119, 3394085.7850159216, 679412.5153857005, 240679.7241973633, 106595.69062345945, 525007.7071189244, 253521.6973441474, 449374.20176084404, 364193.4261067768, 595484.2509121038, 174583.39579919798, 501880.482968088, 395273.17097217496, 1569250.7657931258, 1006656.125446272, 898483.8314271728, 361498.777876742, 181564.17587576053, 291618.16795607255, 368148.04943961493, 1642851.7486211774, 371585.06582004396, 226361.1370092401, 1844766.7792540335, 348738.3547524197, 707252.0293315214, 454386.188849127, 625101.1936164823, 283953.29769262, 671985.6797264987, 244277.42842848782, 349748.8478418775, 411554.04361874145, 194974.75070931972, 351884.5055819473, 187530.6534803023, 186981.4812948253, 284853.6738037884, 473385.01681024506, 1092763.502347304, 309878.45390258037, 320402.6602785524, 777651.4990164797, 964726.6323622856, 197832.75512795048, 210447.61370162683, 205235.15507972892, 163267.04022223328, 602044.3747538258, 211972.2957723044, 226351.23885620042, 490522.700229744, 402142.1214876077, 1081326.4898748011, 187756.71682995697, 7239095.879587221, 368706.5790709963, 464862.79932153947, 1741744.3443414487, 192315.34480312138, 183605.1189574116, 2361783.679976199, 314567.69039175607, 409345.6566048171, 215134.18768054704, 870749.7610762522, 367558.9398723368, 3154813.0897314316, 1273949.2123177291, 157548.62055387505, 418059.12344182906, 24624061.389959995, 45506.64558804412, 678518.9215755466, 3444723.0847837776, 957898.9056881901, 315931.8313837954, 18088880.500182252, 407073.0385278055, 3418426.491536379, 11522144.272722082, 434951.3856945436, 2181827.0507686217, 2003192.4460554556, 361347.55104939215, 9975705.804332662, 1599869.551180264, 1236633.8544006592, 465567.92678875115, 138149741.16756624, 1809701.5767751932, 5331742.457721483, 360231.5897467772, 1515742.8362224642, 3029226.599293691, 206796.47563665223, 441404.9210393512, 6021506.050311234, 2091808.3298660533, 2016860.3435401013, 47125163.98825279, 5269466.424758887, 569016.2626061488, 26451474.26691505, 20321425.213753816, 903807.8736445891, 27565994.340680998, 45599931.77756536, 12976080.278834365, 8550960.145868115, 4409388.012714178, 13229558.36937069, 6441495.951996537, 30893358.452553187, 4690733.538739536, 2865161.478942586, 83593.46959322986, 891369.4443024117, 6799586.905490804, 8641592.026590597, 6809492.9133605, 1277894.8783285627, 946884.2554326836, 278602.49271135725, 5220047.627055231, 1130986.257883242, 12894081.953335164, 2601284.1877553347, 927261.6915156643, 6932294.625468654, 281195.16457383346, 10735145.097195033, 289368.05861649924, 114035.84317420135, 114305.22754462091, 5911449.76306162, 1144726.1518629757, 389744.2814362695, 59422.914101594455, 261491.34653285416, 175357.3154339863, 73862.07376137411, 77328.75472121371, 124939.46948609364, 611007.866099735, 10887754.786192339, 48453.43587629662, 4557236.724109002, 1186546.657696601, 491442.83418041345, 10778881.28212242, 840708.2620259343, 1009276.3469716229, 49540.207203468846, 527576.2159477295, 395726.2691056271, 51893.50007662582, 188470.85600120577, 51290.40328461559, 11997000.513413457, 41232.953486973216, 181229.57518976345, 193767.9441865514, 993791.9100448154, 5724439.704469953, 339403.1264853971, 121176.38543696272, 414514.76369191834, 2435486.171404898, 38054.64411552455, 298354.26011774776, 499946.9071742319, 719817.8565399265, 533771.0574097113, 431210.1182282058, 88974.02589861349, 527306.6109931614, 104618.77708468658, 446920.9057206149, 293329.2796130888, 2895692.432505227, 145020.8881247712, 293410.43475213356, 568086.0018409585, 119595.4332308072, 18579.957873672625, 231579.76854758133, 67648.36040389116, 1109783.6162191215, 565268.5487489158, 118539.99301678609, 3455591.0317975827, 224892.83599251282, 2465321.367230183, 10031738.447035301, 3987569.178692533, 10225740.037148027, 3850104.9707895564, 367394.80497902335, 3256705.5127275907, 431601.8587772661, 9600427.576780202, 31066058.25575052, 222710.7642413263, 3203213.6935461382, 2485827.0103406208, 2702239.7384364028, 6254499.42808868, 979539.1977761316, 557296.6016649588, 291022.8651786256, 14101986.434863543, 5568597.485410218, 1059009.968261721, 249930.37338905636, 768885.9353435866, 256701.06297484064, 253936.62226223783, 299367.8529886434, 212469.1001792095, 441812.1566712933, 550952.5649766498, 2579011.1495194132, 1881841.2363242025, 18402047.13506589, 311291.6460299285, 2453769.194857276, 832317.1906434362, 227429.85402768682, 97745.82716852527, 4424418.4816976795, 10223972.280484682, 4371802.780576746, 671957.8608849971, 126167.63554484062, 305261.1275519162, 5595925.628991717, 5053558.380069011, 2748960.635315424, 36414304.94949124, 2032055.1568269143, 1244052.0135189055, 3872857.968188223, 616587.8705792626, 16068784.79408888, 3182537.509955501, 23805358.789655764, 7044788.798267134, 18799902.903764512, 9617789.518464036, 1368375.6258390532, 2723535.8971704664, 3776917.54500726, 2155746.0681975833, 7535301.984020236, 6988539.402627312, 931474.5410552565, 699696.2887551562, 385825.6044470456, 167285.40672538168, 8592518.813748183, 455605.47579168854, 931392.2596702512, 441769.70874011057, 369475.6344633172, 139064.30602392205, 208719.8771243451, 808191.8194021329, 284311.94546924124, 907874.0453288044, 1586456.7634062667, 346001.3142275168, 311052.67819022486, 3110135.4190295385, 238646.34805961483, 302397.28037491336, 307480.82332342456, 499579.6129961574, 1033142.3978364797, 420983.9338825252, 361978.130103263, 852249.5914263806, 158827.81752462682, 1706727.0708088556, 1101560.8326866291, 146365.29328534013, 4680730.518899595, 177542.09043848552, 498216.5303144661, 3319953.522762421, 1789562.9360642042, 4402480.313265975, 122558.7262601698, 13502491.119692393, 720630.9730106898, 805328.8266761746, 1938896.9315642999, 303900.0702991913, 1963264.5724563128, 218706.93699041626, 408660.186871225, 313364.4643492782, 348473.2417182052, 3050.3835272745937, 13504527.635264162, 406033.2217384619, 204045.67382118295, 1776706.7276206189, 2041951.9028339195, 60764.73108144673, 776243.5966638435, 414581.3033057051, 397225.5166068889, 185296.0787706082, 511620.0739227026, 2084819.9825001773, 1776082.4629727986, 2602224.3897980163, 444271.6843926462, 17156158.038535655, 554242.5039659494, 62292.42080062556, 1553357.54286725, 865458.4864421183, 54819.56535748169, 337107.5295493854, 12488488.653754828, 745042.6743120571, 2688506.676610778, 173451.04791692563, 520566.6095474948, 567636.2374449744, 517545.3268197003, 218114.58464232704, 2650414.0516106924, 2268190.7494826047, 179779.45643494252, 838264.1780279825, 255544.65480731855, 249705.51024248105, 325801.46986892365, 176612.1532651677, 160183.90321701867, 505203.6413501777, 318542.41225736827, 128070.25658358722, 918239.3779897607, 457183.14234249166, 1061345.6040145808, 202770.77221352054, 158840.61675515282, 1739757.2897199283, 462427.08264601516, 431351.46511157474, 251689.65734172292, 237649.8683602989, 532904.6518044772, 144715.57818213312, 445771.58436769916, 403241.14404165937, 451799.03856078547, 163811.55891247274, 310455.70986582065, 738695.270018135, 3489449.6410636846, 1286406.8625091044, 556907.8812237073, 259840.96047479048, 1827606.026700245, 431865.60505485046, 587548.687334056, 323089.43410539476, 293682.92674976814, 728188.4195730877, 181072.07922489062, 478675.7034214116, 436713.27488342155, 3744340.908973183, 1455496.057489368, 77297.44754307327, 314870.21928544337, 1116245.0429233212, 544889.959551227, 105442.13892051802, 614102.0925976528, 132152.45192828478, 46700.76881231463, 415956.8342644925, 168883.27131548795, 205970.8089405836, 834797.5911547337, 713718.1651944725, 512699.7026124429, 264717.2643292504, 120462.23681192381, 1153603.7210521693, 175179.9954699668, 204939.80681393784, 465420.5063451547, 548727.5653528853, 1222758.1518147297, 1143461.3900478766, 698006.2721959394, 118459.01790399716, 394363.99828442157, 518278.08794171014, 40262.95862732291, 88686.17805958468, 454357.2188262403, 1538860.1953933192, 158043.6770951324, 235387.0889681194, 219449.61064855754, 425191.1023415867, 2538848.0627552094, 14111964.599189932, 939809.1459920182, 2453983.7219488746, 5829199.724157152, 150740.6197877609, 190044.72289517432, 554327.6089046142, 842461.9048001269, 66071.7472593775, 24318.166241213523, 2283619.5060946923, 155926.75939273354, 359629.85950432764, 17580.768372670915, 256037.76050221457, 2173099.606465977, 94893.7783773396, 78421.7948836927, 85877.13782073437, 369285.50471657503, 132837.47706241044, 190717.37652448047, 1482637.8318520077, 204159.3833881365, 362195.5181380691, 945214.7245248659, 123547.60661331707, 857491.3035467428, 132043.8732296094, 415984.51536536345, 311001.5388652568, 3639615.5646885782, 816491.1859901665, 413410.9664524701, 319159.9680503062, 750091.9906753036, 1113899.640857391, 103677214.37777832, 458397.5153650709, 281839.9968355189, 1799330.1074966753, 412089.04029041796, 445727.84805624373, 20437088.405066647, 457396.4061635915, 168045.15662804717, 779287.2332087694, 422748.5196857691, 332647.53840124054, 880423.8720001166, 856835.5579244224, 155207.07728336073, 315080.00167972443, 928380.9570054446, 184259.1470153682, 493449.68731025467, 101854.3029251208, 203913.0772360178, 1195231.3009422822, 743078.7872515968, 1158000.7327143059, 238631.32605141142, 834780.7367598688, 508895.2217054288, 615148.9789452269, 240667.32444415276, 8839838.30050729, 2114243.4566351054, 1409426.3660515745, 1205239.665433655, 14415503.147611504, 2480557.3707251977, 344983.60030560644, 771550.1064842482, 826253.8863023156, 636282.5234735527, 648960.8260028017, 5960880.700102916, 3298409.726595075, 2563066.7022919925, 1138476.4645824367, 5807680.239080165, 950803.6285967798, 333792.96329061245, 384293.58337289636, 353666.2716955068, 308227.7283106247, 408089.299628555, 651644.0242079082, 655935.4565275832, 781428.1995090165, 272837.8696332079, 1147363.829925678, 4005808.728320801, 484719.8729121197, 412614.3038864895, 418830.80512831244, 80807.65916812804, 152149.54238360032, 169220.71883027267, 709973.4708752291, 379291.33880837966, 3238884.1672133547, 5422588.08780821, 616719.6479794169, 4423708.181765276, 164267.88012904712, 134089.92391615993, 506724.75442597264, 144980.3685097786, 1124439.0682531933, 2948302.334601245, 381394.0924689178, 1820261.1581749488, 297053.26243895566, 428753.7774306606, 358581.9117124254, 382663.1304417469, 374004.42160817806, 1334715.1029656231, 10795277.482430596, 1280327.468778583, 6041746.276821005, 822590.1476612837, 676431.2850194008, 7379901.023479187, 1594980.8682147358, 311907.73624855315, 1074838.169529504, 722946.7532212827, 535734.4089648098, 916921.3323539798, 2476069.0072928863, 3824827.1713414304, 458256.7406030602, 743920.3232024625, 1520049.390464248, 4579754.791129217, 777073.4918680408, 1104102.4542249967, 1951676.987377963, 830630.9598614213, 654104.7876304865, 2627033.282072558, 846872.3632969229, 1741531.3413646047, 705236.9043950476, 10235026.074020112, 2916368.3482696987, 18437188.56134881, 262201.66750237945, 799702.7425649584, 2309005.4686424886, 124805.9650893742, 291733.190567166, 3358869.3599984962, 608630.8101545197, 714104.6405402288, 396429.89504829125, 948177.8913307292, 451918.57392745506, 164007.53208151378, 372912.1225937156, 752219.2595504611, 1481791.0028158505, 605371.2061283259, 637026.7300365155, 705628.7198159596, 191945.32927002283, 104389.06981191157, 340743.75563733815, 306535.18496464565, 153542.59320673166, 586869.1211021076, 2530538.9855980803, 582238.4644964476, 518314.19369026343, 459891.8124761129, 415375.7609573312, 357121.517752956, 261517.23347877664, 470493.91965517274, 334603.2202483164, 413889.12421340065, 1037922.9023253686, 296514.97359152033, 299207.52818260196, 197155.5843251589, 383058.7114719844, 436245.26449952484, 1087093.0985961163, 351330.9196602053, 1081038.4418771295, 189870.67701136268, 178850.6081166738, 405629.194378302, 921144.0762724925, 526491.774889169, 1806902.5520028523, 244094.31413517304, 475275.94119112985, 377481.06732776196, 240244.45953643054, 184805.3701012145, 237196.3302531918, 286490.3578194596, 287847.7030909778, 366833.847917452, 273879.88413697964, 432025.75655022875, 355763.2460429956, 435307.7553130895, 227119.51975877158, 243902.30183882988, 183811.51889471864, 363073.6234045318, 454387.7932102725, 815379.500356424, 350554.46705328353, 2187262.3466405612, 418474.1580432829, 265899.77758387884, 387456.76515964384, 816632.7437471789, 4247757.735437421, 275608.0701016205, 210545.72544537933, 265710.25118641416, 318097.8872579723, 482959.04060128925, 691853.5597391862, 831072.8620047604, 320857.6753403327, 236391.95028215184, 228062.71087608222, 187925.65489485336, 271829.16008752765, 902323.7472936854, 335151.08068403596, 152155.0097273817, 359557.10335198377, 235894.8426867928, 547637.1969922734, 204123.78555763146, 7897030.127420532, 1852831.1653675635, 421910.37568487594, 124349.79320947395, 274479.5682282348, 291971.2785906582, 618309.0389511484, 1532390.2260678639, 403518.73508012906, 172750.36233412183, 276746.8255422512, 170044.52292465695, 758474.7629028586, 876164.0025717028, 466542.4839069204, 163320.24459102142, 842978.8855581383, 268478.1754054336, 415821.1113606601, 2097901.9837699044, 185523.84640387335, 331369.64934883424, 330620.836457633, 195593.1059805918, 353409.9767681956, 141042.07348560842, 676641.2459883771, 359580.32309271535, 251970.82085547142, 1368635.3113611452, 70415.40165088189, 109823.39454911827, 507635.4797479437, 84065.53550585892, 51100.55602858765, 217762.57383922907, 257469.3772532316, 220292.22357543005, 56761.75761644938, 811612.2114204568, 835484.2326658258, 92418.39474043717, 479113.3396526976, 179146.64791709828, 2049461.7167458234, 90713.62208577391, 87347.26673398321, 609147.551287353, 163107.07416463317, 778923.3375108098, 645180.2810840205, 565612.4535119919, 552828.8492561308, 84656.91124246542, 74305.43444267251, 194523.42383253932, 130269.29347198049, 37869.36512698537, 205377.60722027763, 67255.42300478434, 166577.1925289133, 730308.9874043085, 69001.79040005169, 47312.868181273836, 296803.37447075604, 445078.8040665728, 101098.02706127857, 11198102.235122146, 92316.18738245442, 214049.88470213214, 86255.17620243649, 518852.96747359826, 58563.54097782048, 1370001.0948799038, 93340.57579196671, 253549.05877204076, 85733.94653515524, 727180.6363536811, 672133.9027050711, 319555.19559034467, 267212.76620378153, 110202.88311593857, 653831.3266408745, 173794.9315287932, 858963.7944042806, 172023.1915587377, 84056.78855243314, 235369.2092930781, 392911.56355710025, 102520.19483367002, 132357.24207661673, 402025.173128761, 128388.81133256233, 150802.48822769788, 160789.1459111325, 165042.74711133863, 433940.60273458273, 249053.61417446123, 76795.86594019926, 1438910.4922066655, 151548.64166879203, 251562.65659085798, 1116098.8606052697, 149717.96101965447, 99060.95974250977, 200979.80901173383, 1163039.060680507, 133415.88044129297, 10099160.771924144, 428613.2919707331, 3813450.999916218, 61097.93852590771, 170355.41804052878, 117010.7612109849, 125710.79028350592, 60026.41488212312, 119011.80902523045, 624652.8181685214, 199230.89242713703, 79263.57180154114, 169373.96987768987, 43666.58350563312, 164866.7065056974, 59083.31841970709, 255247.19057797804, 101146.0431222576, 3294645.8583520437, 828663.6219101737, 15081443.031755628, 438539.97769529157, 332427.232568474, 236554.29968185574, 245849.7644812783, 249136.3508485096, 153001.56067036992, 261052.60596738488, 318151.2396830856, 2171939.7871148093, 1712557.5326974005, 6062106.315474645, 851201.7269330878, 1491453.5993965645, 2672379.822808062, 979467.3153849847, 983798.0523998551, 1479086.3893445488, 3123337.0225612405, 527066.2907143097, 825352.7054973285, 1261659.0879233056, 890643.2935033382, 887310.9865526401, 4650653.661191681, 1578585.5832346848, 10446238.280333612, 15402912.59587304, 1717061.5919038588, 608815.4539280231, 3403010.1627545543, 1852558.0390996127, 2641662.6079019615, 671371.0661294392, 4431281.324635279, 813058.4060643099, 4689827.81422763, 5520570.689255951, 449300.25493341393, 19056153.240731232, 15534468.534809697, 933194.750526321, 1897978.4871021374, 429974.8999308981, 792133.7898044694, 2753376.4535629917, 1625209.1316038964, 1823479.1268319546, 11842871.069746297, 6532162.108834201, 2968609.6119862986, 10214766.577745015, 628708.0110634025, 14319501.553849462, 1534899.404932243, 8347473.429929883, 2770066.5856875307, 29867852.529529024, 399510.3124427317, 13744845.489280792, 9787106.83604619, 11133083.216260763, 14929107.795657257, 452775.7002524816, 286797.28183249844, 2431794.861302906, 764751.4359030165, 718236.0230513796, 448320.8337164281, 219860.83495736783, 497172.1602249845, 3674780.846140899, 1037459.9797586015, 3010317.277797927, 1258505.8083621385, 757932.1334208912, 767463.716737061, 872808.4834117074, 942270.2517386707, 1564127.7508298755, 469990.3354095663, 942383.5487619293, 2375741.2013671515, 915485.0795332488, 9801336.833854262, 777610.5065837991, 466111.44516232755, 1807164.6279419991, 822328.0933157469, 1094126.7899238947, 783834.3806477855, 1009224.8776213318, 5745726.60085578, 1287603.7409720318, 917974.2296624255, 365155.91216039466, 1224382.5737877754, 3422888.312996254, 5152848.685466576, 492505.4316206297, 12411310.06104141, 506104.59893992357, 728498.564976654, 2267744.829639128, 3871243.220542739, 370615.1007212683, 668466.5216635542, 1540678.3248009183, 758018.7102426639, 938934.058864794, 621963.0058380956, 402976.3876544705, 3380050.5313478615, 1385346.9281108472, 375237.0372993227, 1158799.0501686963, 29778583.551060047, 666870.9344047114, 234085.3781183676, 623687.5262903154, 387598.36586809944, 656254.2691438555, 5085716.501956857, 451185.2784499546, 977509.4075653885, 1095547.6898533974, 242294.07396980724, 1290881.0102453774, 1802548.1343838335, 6975053.211530533, 743753.701940616, 559852.3010752553, 6473835.624325899, 816797.1813453134, 793048.6281943657, 702069.1696319525, 155187.7784435012, 1107149.008592988, 611728.5729745923, 716302.1731355803, 1609707.6852570781, 910621.5035993434, 300597.4143127148, 1013953.6014114989, 978896.8068317982, 188627.3061533328, 190838.23606955895, 274227.73518202186, 1573477.3019765473, 8087863.043936905, 397006.5649303536, 807329.7703671977, 378559.74948937166, 439666.23074705247, 694490.384721772, 1012109.0538110142, 146078.16824473938, 24732888.59239805, 438503.9548662844, 540833.0800892251, 658086.8720251599, 1133443.2743171875, 260174.071649743, 345799.44335388544, 924518.5020952855, 131340.3765668677, 344934.4627178043, 168478.5656033358, 304204.64098848164, 127441.26042923142, 610532.1213312484, 143046.28713413165, 533219.1148380593, 789637.3988985232, 106348.19116000309, 219383.89532693254, 495137.0180933858, 520826.0544795593, 545169.1836482153, 724238.6288680425, 836762.185205339, 216075.92262870996, 616582.5139324357, 412877.869629742, 174233.20611277214, 2721953.9248618046, 1571090.6108118063, 294493.03707231575, 718540.7462452748, 213750.15704113946, 684408.1276813507, 280217.86119473993, 10240632.463848116, 93010.12851986919, 370034.2022609763, 386514.7598742538, 1115373.7651839687, 210223.9288324387, 371107.2140943556, 4514988.010519877, 2097422.33026326, 1457528.4386731964, 331999.63205942966, 2736825.3573152083, 737000.8223918369, 204570.58042122808, 241435.08222821614, 552047.7107598368, 86257.64791444007, 488083.72994421143, 308144.7496744797, 414459.8478179855, 4795924.426090851, 249613.95708543368, 141846.55100317323, 982458.6698927807, 2071944.6175411574, 273846.2962536855, 685314.2505964041, 724073.8437090318, 280141.5954731965, 327241.7653315339, 140156.87118778983, 640161.5852473526, 303334.6066063135, 170468.60919233478, 350483.363360123, 222645.00123365712, 169387.49012959344, 362437.3167979142, 399177.2298622578, 501475.8112701833, 523913.5199006379, 394580.12804127287, 2316490.474376436, 1172591.9629253035, 176487.00947243496, 416962.44420255563, 217072.82845817987, 473669.1708540614, 934972.464967233, 3694507.9189460785, 4480178.712950905, 381813.6897880535, 169680.51693288804, 20960.74016883433, 496024.11211048113, 2656937.526625873, 381807.7425384919, 168319.3906700019, 245067.40561667903, 1261499.192490717, 200387.9835533477, 717284.3957525394, 937831.7593763749, 1549384.9909358853, 270732.64640058135, 417118.3317604802, 1550059.6641771167, 608688.9480055544, 630055.2592649058, 1184638.7625637965, 1457265.379246329, 479376.56156929955, 657188.8965591434, 780648.4740499533, 253709.81261854453, 444402.23050699604, 518511.1308607822, 228908.10060864475, 771514.2306516224, 643373.7874319488, 987924.033548761, 227683.85480836398, 774427.94522298, 563315.425851149, 528193.6598605601, 165335.72055216017, 2411562.845666999, 594724.9904756283, 113990.66792335048, 549381.0329527624, 219147.79199209186, 311101.916533238, 512663.38349792856, 239922.2520976431, 470918.9494332435, 454061.1413483998, 220714.18565763574, 164192.58416948136, 529722.8547372901, 281179.3329800896, 928970.2627343006, 1103851.7890369333, 425759.6553406102, 168249.52571238665, 206619.2980863092, 413711.8827868012, 283905.5995123585, 467817.39258299966, 14807306.860900978, 23780695.278409142, 167852.01440049277, 7220911.484876723, 188363.96317091474, 193918.9307064435, 126746.55829674986, 95475.35165928089, 241196.98029652887, 36315.822790729704, 1546766.5197603323, 134772.65608378095, 261403.60923602147, 47641.48118164469, 232190.5492229829, 210460.34161745594, 74095.98720011507, 251190.50001471562, 1545547.675478375, 1344294.5552229292, 37564.08146018033, 215326.31338533195, 20001.01221776938, 75087.92181528127, 333147.2937334228, 219866.01021831317, 48922.141860132455, 527070.2809577935, 1168960.5355041313, 46371.85384010836, 377770.09551265877, 51628.46549140009, 187878.53143641088, 50648.0587504425, 78046.68582948542, 1806324.8461596377, 103441.39138457386, 344663.7963143682, 11615.492473333745, 114009.50432655223, 135097.331008432, 37873.314189409626, 123405.11983766197, 31281.98424119223, 731707.5306650308, 169434.37076494703, 195627.2519194599, 144590.9710255598, 213873.244922445, 97095.27449737629, 682171.1128656056, 196053.29462017585, 82730.39389364775, 138816.93366787868, 106484.50105537083, 66859.35519267154, 227593.9721711371, 43744.18726935434, 28666.029075529936, 2479874.1280227993, 686469.0636011107, 171910.55832364273, 11156.18554553661, 16998.253377998135, 17011.48914908239, 153980.86794364656, 311547.426256239, 55998.13018661737, 94564.35883504512, 914186.3779104515, 200891.38749333384, 208791.2263297737, 602335.9514307796, 228414.51312722178, 113763.95264668962, 134111.72982598815, 243095.74056901195, 178596.94577681905, 228608.4078014075, 238482.01471117983, 278815.3201806278, 401661.0073714067, 59826.907306568544, 532936.1702168265, 58859.52219431686, 148722.86361426243, 820240.001883407, 10268522.859281806, 55723.23900235842, 167822.49416700014, 77343.6383014854, 57625.10652106066, 152367.61253938597, 528769.3516806932, 77500.28203997893, 53065.20630504206, 72415.14681620176, 18327.829975262423, 62126.11746953236, 1158617.7688686727, 230151.01587382788, 112558.54587962572, 15560.991353206822, 86968.92169148524, 285003.95298811264, 25347.010858443813, 157561.05313777414, 205601.90826633712, 113631.71596318789, 196013.0182621945, 256293.4065385728, 23288.341596240927, 104820.63643000074, 237970.02856271184, 5429913.810235058, 833355.0481027194, 17263.686440550995, 18108.590900098556, 12021.979297803096, 767840.8911786223, 205268.5902897161, 132509.52121317602, 94707.56995950693, 173760.44412298125, 123456.78854425203, 366762.5125502157, 77054.35956819536, 74284.5863085958, 241289.140562244, 174310.77208043862, 710010.1386221544, 127774.84604116835, 279971.3248660072, 235698.7096516206, 45285.769087450106, 317666.64402940025, 2764475.048525683, 474569.3277111425, 816375.5738291666, 372156.81870977057, 149339.77807430475, 84341.47366754388, 35568.30052680584, 122558.18478928183, 153514.72149958226, 22331.8895715939, 117289.22009898888, 111524.35524952743, 443641.8644575448, 196543.8460977475, 103166.44897992146, 20316.627585612492, 332337.6987944427, 467574.79606833326, 25337602.268704917, 972390.9904683394, 890106.8349597214, 28138.18199246398, 37593.07925494553, 346992.78700723534, 133824.48839143955, 87231.4245975971, 707641.8928310688, 112887.60180425514, 707000.1579765745, 102721.85460987745, 46486.69252004786, 6484754.10520718, 185535.41247342777, 943547.0624481465, 1521644.5879065397, 1560196.7507336491, 1596604.7658693953, 887239.8313455892, 2070098.342890672, 7897531.23035702, 2829383.075095717, 6272676.416574265, 2261752.1451520687, 959888.6234924122, 5019646.638795447, 17992017.237084076, 8538209.839858148, 9765240.435131181, 3563354.0946832937, 2460860.9374964847, 13774025.506975403, 5079520.992587023, 9442473.237449741, 2928076.053200766, 6817823.289660001, 14279166.009851128, 13157401.407507224, 10662152.380206153, 11517197.667051822, 8292713.969310497, 1304226.4153696857, 6476302.044518862, 3337828.980352, 10008215.766796803, 2196582.079467785, 10992546.799873846, 102069.61372337042, 1138769.4948339667, 407407.80516058864, 394415.28202427586, 861952.6518821525, 54841.71425112144, 3046385.504061083, 1021110.8783680274, 620474.7666790092, 84955.25270531014, 24343.769057327227, 99684.56584960657, 1089553.9412988333, 637286.8883813615, 493020.27313174034, 455716.00471638254, 1062711.7730524521, 112688.35653057099, 1214303.1016100293, 245565.6528021514, 717652.6667345761, 351967.7031472496, 1877629.1395747724, 1980368.4013288023, 598551.2923349425, 2816905.449201918, 340327.5456380292, 330612.7734948164, 727001.5844120118, 319419.99252686393, 93842.48046739626, 1275218.9363450815, 5327914.780088733, 966838.1748071258, 16547248.925760146, 3574302.746555038, 1600080.5953812152, 1505323.19273269, 2555945.964533026, 1565616.364981308, 997652.0005449501, 1411678.518310395, 1359288.9985455316, 844415.2234813714, 1179067.3662727051, 5272314.170305732, 16875902.71868497, 944221.9421341983, 960165.8461776396, 1143041.6672769645, 1109412.3746556367, 1119534.0234771462, 275022.1025759659, 1305019.7677141596, 2175826.653921175, 32281649.92036048, 606070.0637084212, 1102026.4750621628, 1278281.0711948182, 13109884.169467196, 927534.6684669462, 27070448.48458554, 26310021.705742486, 26310021.705742486, 3963443.6043131426, 4244147.251524543, 8212244.934137407, 1898347.7537633083, 6041276.510132303, 766952.5407627671, 2219717.104326402, 1212397.5247879273, 2027583.9259381006, 31932727.675968073, 2890853.394977457, 7421507.512494134, 5021609.143880186, 2044617.357702114, 3992526.3350329553, 2816020.7263262174, 673699.9389670664, 374934.6258587006, 622464.4991972925, 1908216.278361651, 30456399.926442046, 1830905.430309271, 954928.4629590709, 1469952.1966998787, 3500161.0054858075, 1437165.794228175, 1190866.7295862301, 1787917.4747306125, 17612567.663077995, 754887.7645969904, 501995.52258057066, 2581057.783749368, 685620.2063444327, 283338.4184661772, 451700.1377493426, 604539.2970764145, 538134.9646856105, 958408.0145127835, 381771.87540399295, 643625.3500153759, 2102247.0009050784, 4358749.793911643, 1668278.4376606308, 2684635.840877965, 1576214.7084474785, 156902.87670392825, 1644261.0724888376, 418903.367997192, 2768355.734136621, 889326.1535763235, 590544.0249828971, 272780.8806673052, 231780.6862436961, 1798610.6864469713, 1007110.9601026592, 1676227.8613853562, 5258390.111559239, 514316.51161766297, 1070889.7643384826, 2893975.4292221693, 739600.8086103606, 880138.8612600624, 4124286.8081344943, 956605.6702064526, 6133091.34866856, 943570.3495328154, 3698385.9699017378, 213235.60180564248, 224864.42835619676, 876367.0658033594, 320241.2830389035, 8263710.3380299695, 1029795.5334005632, 1554808.714922921, 1328902.3577483124, 1949848.046947382, 417469.65321680496, 555004.8992367758, 122098.65131642431, 2537127.627031667, 813807.192253159, 2414827.7192561505, 176681.2964201403, 1025543.8746385166, 1157428.727926701, 1350477.5480094852, 846671.9827733499, 860509.8688448467, 472725.33442661713, 469186.75564424926, 14105448.81324787, 361493.7851604743, 577524.4027060408, 1615431.5179012667, 1692338.9209293765, 3348717.0068709916, 427050.68055040395, 2476926.8279180834, 2424728.9217408355, 281033.0760276491, 604383.3574848576, 840769.9795361841, 257125.52441772915, 739127.58381439, 2435323.9651022446, 406176.224207177, 2581402.3751067226, 853776.7203693816, 2037534.8125400904, 1867149.3401198927, 2493401.357223621, 1301388.802699953, 1122821.6277937503, 627408.6974561637, 1204334.2992177175, 901862.5223155618, 1454848.2541630925, 320344.1606751366, 692390.6655140022, 77645.82830794493, 2471137.948994415, 798318.0284233895, 12915740.784611478, 432811.8454974223, 260073.7397062911, 1002196.4989006986, 2078081.2358501342, 1371525.4974814474, 1343642.4888446862, 761025.2176443881, 455432.92597343586, 63882.91520804621, 271044.2000498533, 141792.79341029574, 24693.748696354047, 204893.69057486625, 90349.55999064483, 64953.861104990996, 1528560.5164587859, 2577693.7130531953, 135877.3355041826, 130326.46524989903, 70712.767960543, 89679.64616315329, 72198.00177808639, 108299.47171106783, 92513.68528784667, 54103.021438335185, 1312078.8553882362, 75625.58893183035, 74632.17397498978, 72864.5221653445, 78337.21739832562, 116925.59270896831, 57779.60991715782, 148951.6055632158, 85264.69064029705, 122389.82718869952, 268667.38483944756, 230806.91547329997, 590599.187948829, 173818.18049295826, 94406.7229704614, 51074.891769079455, 215237.69280275566, 107250.79698916602, 275419.7552191695, 142931.1920391944, 68728.4004380146, 387872.4218215336, 221377.28172672773, 108541.27798753789, 45583.594797486534, 56346.756999659374, 13064.730062301347, 490727.47248563165, 35834.85849369218, 493136.09748535877, 87353.48214282372, 209362.19362595532, 282319.157199969, 1264149.0124426023, 128887.58930527024, 472660.04084895283, 552701.1114117098, 2169446.8491357714, 1073974.941952472, 2173276.3467832725, 1077610.569417351, 980140.98221216, 1430590.7584214476, 899957.5755207111, 6719337.150995787, 651692.8387777098, 845310.0186501174, 3038391.8542214637, 3793055.4507114585, 809647.2829600088, 2261443.9500921546, 782768.0624562528, 1010571.4462797587, 28907459.31222819, 1110618.9127143798, 856414.869323634, 2698544.881835958, 1757893.568395773, 2644628.912056647, 599555.61484133, 22426209.34453235, 895379.0569046304, 621462.8371911208, 2026585.1075466138, 3160249.8778132414, 866527.7211178679, 17300492.24258013, 1509367.4145091465, 646623.6611961016, 361594.23109298554, 637506.3404215648, 849486.482670535, 574467.2676741729, 660401.727427351, 1237642.3598833466, 659171.510040955, 1530856.372340232, 1127434.4611079323, 4970425.277322663, 1228502.9054056387, 3114280.0125827277, 1066125.147128489, 5848209.021098987, 9179491.949822646, 764354.935779957, 5306268.971686465, 1301208.7085419558, 3349845.56216075, 498571.89350039075, 856950.7372659261, 2125923.662907912, 355997.8604989461, 10926354.685029548, 364688.00851687737, 657158.2604553624, 1694127.2176282904, 275636.2710351898, 1220786.3410069686, 432637.22672530124, 704529.9049754367, 1009156.9974583045, 560034.3160650574, 3203559.6233767164, 919082.8961084281, 717382.6822859595, 2617404.396745053, 1423489.42485121, 1309457.9980486778, 1527130.1909927784, 1180271.2307426832, 986493.251658602, 7928650.621880081, 11760956.109296883, 4743854.423266039, 1914195.1984884252, 910795.1663875706, 634264.571733551, 273231.9530918293, 3540991.9144678493, 1354438.1398515103, 2213700.0749729923, 832883.2893170426, 2480221.2073627003, 488654.53473741113, 392836.7250572955, 150256.58625716012, 272652.34271845885, 153861.1938036096, 441307.80282064906, 256007.0814444972, 809373.6180995048, 658940.4003752324, 2012940.0665405632, 1041005.9265600167, 914826.2387052428, 351233.57812268747, 78646.99474899918, 4620406.918231463, 131399.00425579172, 2289003.979472245, 158690.96062002543, 371674.6468640107, 1458707.5090767585, 559507.7148444945, 926254.2358935191, 141588.93297028015, 117428.94914934816, 1360714.426333411, 653322.2544996149, 1073037.749391732, 141983.35736903216, 139546.06700887007, 79979.14164498592, 104998.03065864128, 318409.1248727922, 310407.60433125217, 637645.0148416659, 179198.5847518245, 225755.79750446868, 1139814.308492224, 314669.59269732994, 267619.3522395749, 229650.96509341267, 987080.2738584107, 717813.3454975196, 756347.3480528288, 207118.0192207693, 673216.7111744863, 748195.9314143197, 609751.792045042, 184438.61597888675, 383169.91951554175, 918515.7854392905, 310532.35069680685, 1441654.8304446633, 273777.3310673086, 220151.31458451948, 252144.88299027807, 907566.7746974456, 1011576.7356328527, 733341.3254355373, 401201.93064745597, 1437691.3675893294, 932082.8103410357, 778756.4453561411, 1458466.196465987, 235905.87099347173, 90586.68965319011, 1620387.787027656, 499647.44063698617, 844888.2478263574, 1019407.0469034959, 445445.73000189033, 213752.9892378556, 1352679.3018917334, 1205416.8237076371, 288798.7982782091, 231237.95496265666, 437019.4012835499, 362467.1420934945, 1522172.2856171804, 6618247.8881527595, 815620.6160648178, 907021.2769933586, 1197116.6656698168, 382343.6147691929, 438320.9592728175, 2507081.318318638, 1921210.7967199294, 48696.21519401808, 169833.05549969611, 157595.92480477292, 350474.6735177875, 3401034.4730391414, 403860.7462484325, 1399139.0694508536, 1239696.31901664, 167562.30302403873, 5868664.656206311, 1031426.2489943986, 1850202.1534977045, 400184.9601541506, 4974093.842142517, 208609.1106605691, 12637662.513320813, 1173710.0290645137, 42226.10095348819, 623287.4309974366, 1280203.5446890376, 489736.71465377475, 170210.18706208508, 460950.32985512284, 8694063.927138524, 37507.823960216374, 1504305.8266156511, 1783045.7533750269, 27033896.97950293, 1549629.8860842718, 3805879.9575564424, 1134283.716382442, 7416072.801922727, 2476124.8119109813, 1291083.6510326706, 12477595.59215967, 3729986.0371986115, 2908727.887260491, 196919.69700473195, 1359816.3184444443, 2448703.561735704, 9124931.663268818, 909636.9615060465, 1721737.7380839568, 796019.3782341939, 1291772.527809948, 1874286.260365912, 4208467.746561693, 5010914.745730646, 10761525.660126017, 857964.4451614068, 5153777.975313039, 3059417.9901863043, 266780.17852452997, 2690666.355437042, 345740.9045414695, 801194.4713820984, 972228.2573521716, 1657223.18167984, 1001200.1978896662, 469517.48395230493, 4284906.301084054, 8765319.75889279, 1942009.3784797713, 2393593.4440265847, 6071824.156149409, 6308274.536026736, 2350856.004936809, 988358.4339023192, 2442953.409534755, 950546.8682251271, 3305023.209766646, 15905835.990983495, 352701.8411218098, 5262568.775967533, 1894875.6390196716, 969292.132246207, 25232500.592286885, 1537005.6303788421, 513032.29861737625, 3050822.5993153513, 712868.085707784, 1672655.4850326187, 259181.51520325724, 968744.2786404826, 920077.9466705878, 688559.8155348734, 1189298.4529177947, 1021734.5755965253, 4334989.104672377, 1255661.5486709427, 7988905.370191158, 631799.1868675963, 7766678.346211659, 1021521.5568865992, 3467859.663135993, 1932661.620821597, 11081668.24652325, 2909677.678796041, 541968.2285582358, 2951222.0278597153, 171691.41050756458, 3383420.698481043, 274295.25449096144, 449534.4355372746, 2773547.4808017537, 2302998.9449379104, 317331.3088985126, 6439308.931621782, 1012602.7789488876, 681372.2168572618, 819476.4302732507, 628956.2187134316, 764446.9481340989, 1242195.362619162, 542347.6442040536, 1804468.0296525487, 459155.328022873, 457738.2920751549, 2323926.2221700554, 1258857.3043253028, 7544617.053534438, 1260198.5453783511, 392330.2432631899, 4869650.12830652, 332833.7164380928, 1086881.5238891938, 1080730.931843875, 1400472.2161929174, 328099.57116719073, 4503993.168494803, 188816.36548959473, 628554.7106204805, 492083.40690681105, 796666.7544628128, 1467724.168704011, 1697015.0233227974, 2144238.2737714793, 5843175.269751714, 342535.9708633352, 4972823.350587542, 1859253.4138219983, 597406.5806128788, 645832.3632791587, 3409953.743625598, 66723.93942214132, 388363.20353594975, 58756.15926075229, 149044.85079226928, 114219.32671236426, 20958.510585121232, 194798.23849856778, 49768.79834603109, 185079.3817123719, 96406.47958676297, 248405.88229074448, 566800.140226263, 62093.8227992106, 171728.33403524646, 402073.99368419277, 170308.4014342752, 108508.8008720051, 107220.06557180565, 81770.8968605189, 173238.9642816692, 59015.53062499794, 186162.08396256718, 105856.89926676673, 54729.46447713552, 129909.17441051941, 90607.13866213307, 68392.83955904389, 33889.05512683304, 178156.8722784045, 47077.499539041215, 52546.28137263036, 29727.129746508133, 264163.64968421945, 579505.893450055, 77014.47876159291, 131014.32000892823, 68333.62548246322, 120232.30157149056, 564219.8967280083, 34719.501359337206, 73465.83872975857, 3126224.4657523283, 140572.0678445819, 1860083.488689632, 54594.30960824872, 200531.34961665358, 66271.72899562225, 169840.9181449939, 69293.1050797313, 117549.00263784749, 143261.60194650674, 209050.41741837765, 301921.0997087279, 148522.72213334174, 20374.627717327432, 1583481.5091867922, 766178.6406517925, 400977.8922681481, 239854.4787856398, 2351119.1913782777, 1781532.2810944195, 828303.823562951, 278046.71430055384, 637004.2657903526, 1118307.5508664811, 776354.9129955343, 323006.1385505325, 619005.3315986253, 196673.77725998324, 711902.063483945, 1048703.8525582976, 326389.7389582785, 1067696.3982798804, 306476.42604222114, 409197.30674891395, 954216.602600471, 777142.7639735965, 642571.3003697537, 351040.58936874836, 842383.0773391722, 1031486.3146063013, 646313.2698701802, 461278.0945175699, 1321257.1380773052, 281367.96586117445, 1147304.5008345996, 6526232.706688013, 122871.78802457816, 521225.60996727075, 604254.9038957548, 1140184.9884857791, 370867.4194879927, 591531.1657811254, 729053.450144478, 439793.02888462046, 186800.378471742, 439723.7448901909, 223143.91672201655, 943062.11365924, 359843.553635179, 8174875.222048974, 121733.55236990708, 519518.25234674965, 838956.9445907221, 248868.14524177506, 709149.5552856729, 895204.2299254078, 1034176.9990790382, 542293.9882537215, 417828.198700939, 1867730.6323826648, 605722.4363214823, 592596.9599293313, 1479954.5625191163, 251388.06409889582, 842106.7250310746, 2691174.7345819855, 127846.87537816158, 387252.6412565036, 719871.635820223, 413704.7101378225, 199744.25413497267, 128528.00962765486, 356461.5265196982, 1279464.0088478508, 586750.1378653877, 1154769.6376262342, 1171220.420533333, 3799502.57754137, 429547.55165414466, 286475.11771857564, 1752863.2706174427, 18135338.991413005, 388660.95567727933, 297388.33322346077, 3215377.2413252923, 2821770.291151958, 1077414.1741790962, 151480.63881752145, 395167.76626313664, 367860.10549690673, 132781.69736661256, 800852.8190012085, 2254549.1007388774, 320527.33934910555, 705679.8095374624, 509963.9106040601, 3083024.627903768, 1968207.4948313741, 815086.4541607565, 260436.36606905138, 1510442.2612886059, 529688.5249892358, 186784.56242414287, 50430.10254934571, 731964.3728612335, 528942.7150768748, 148015.00186479566, 460241.5005493292, 1159050.4096212348, 117346.53023260413, 478728.819604774, 4357345.269148405, 24614374.234409537, 191890.8491055012, 20520.95629142502, 403563.9898838654, 1722811.0608536678, 4848709.742602592, 2602958.742667013, 177047.15234732546, 47004.38594973493, 140298.67051657647, 796012.5016164533, 371315.77062157897, 833059.7058933995, 588716.0113362209, 473262.9847141963, 280261.5188670093, 5394064.112240382, 242810.40448843935, 145055.3773307073, 634233.51125907, 164411.83340910313, 307029.5762052569, 866856.7014229458, 135058.8216907715, 223739.65311439274, 74498.8298227741, 114304.53188192296, 220291.23216389655, 11441224.818953773, 73527.06461466447, 434948.58908006817, 1672145.1397562611, 313849.3602640087, 62898.483551648635, 744795.9242607582, 1056776.4895179952, 36413.010333871265, 72329.10958091667, 82745.86913471251, 144866.551147931, 58877.658480402315, 152129.61504149722, 40285807.93879439, 254412.31557767894, 341263.4073430012, 111607.66505301105, 9374885.491402807, 403366.16565470677, 70628.4481863968, 179531.18172237842, 102229.85781876865, 227717.25127104303, 417466.97769855964, 2196793.02251622, 39205.037362953706, 2225294.00237022, 10771943.412646133, 656015.2624568447, 324941.0774464485, 609450.8964802561, 527133.3521912919, 99377.00885209334, 158289.36568654046, 37818.05713710933, 7281365.106002374, 196051.37850865696, 342674.53254824475, 256862.3026022027, 270102.8874637193, 5320337.170075619, 94903.28801100052, 483502.8323863437, 24296.610967757693, 162384.02119584513, 350150.9631543421, 512138.36329328397, 2328858.321727224, 2264178.828306709, 451722.23225236527, 1665836.3740297356, 671709.8795796611, 84666.68897566292, 162105.4901517034, 134320.2972095347, 106744.97138908853, 977320.2424863846, 62970275.52947349, 1309176.2194496125, 81488.01397608925, 149828.6375066445, 1896186.2702957366, 80445.40667510017, 1330121.9650702581, 8869275.124870064, 696755.5018632598, 454844.45652387006, 948238.8112411452, 628916.5170883897, 473741.0853578337, 609556.3821635045, 58793.65991096968, 1554858.052871652, 571774.6449634949, 43463.95621810289, 159920.648997879, 311789.594929368, 789426.8733189446, 62311.725959715506, 4494161.152652082, 102777.08494534483, 745028.8728285565, 2408128.2405311437, 328061.8735162409, 250950.76820521924, 1812420.5587994005, 539926.5944700667, 6462.081269940411, 28810.298862626594, 892554.1339552472, 123563.3170030321, 13613.860804021075, 78558.8500359244, 560549.5159107527, 95351.00047018263, 965236.4781534985, 274406.39451812877, 379181.53599709756, 101416.91965199308, 438657.8547500353, 330023.94948339264, 399400.97957032267, 1497449.171571358, 435910.9828959995, 80296.37533590752, 232347.66677010406, 427025.33133545925, 2366.364550114033, 4665252.972906292, 129670.34156341752, 169758.9154572613, 3920478.7265154324, 22438.903661933276, 222998.06180389423, 293198.4488982513, 21774.381524310193, 103443.54747822064, 814708.6883309112, 657284.6693660449, 731085.9518401625, 61440.99642455649, 2367031.46365078, 505820.90334891586, 117036.90187482316, 174039.44530253197, 462494.2851438223, 6351555.11587547, 392338.7041443899, 313257.43361464725, 34701.54683392952, 1098111.269966451, 859072.4285102447, 248171.2687721711, 310293.1129221347, 5721165.737283103, 196719.17084079763, 54694.75015369627, 1687816.834257773, 626606.0218090173, 500123.0712111131, 1879089.044275758, 197277.79303240136, 301780.0515520526, 872360.556122906, 2145832.8479666295, 138327.5623128624, 183116.2691335501, 2179972.8661974557, 67133.95827423959, 85604.50678531374, 312834.7126413693, 218553.80305835325, 175721.86363933986, 21013.86575896585, 336526.4683474942, 962646.3207742134, 240920.0012866639, 901859.7761550165, 325909.0846476559, 200546.90611087583, 398637.87670027977, 1259222.089609241, 135153.72161289307, 62668.60526752069, 313666.62506264186, 71337.12486759193, 545720.1189720224, 51612.168540800216, 3442261.9325754233, 142951.78221388595, 785289.6036150542, 214136.0532158853, 31706.04378751742, 36758.86044801637, 96460.81038091614, 157927.6852873077, 28456811.865330167, 2396993.71515804, 33632.95592852237, 252210.6406149649, 46414.156929018805, 539364.8127357669, 1978931.621444496, 16223902.166910265, 329813.4710884723, 435158.65873571055, 808785.3805147959, 72742.08388556389, 455683.4023788313, 740776.080794233, 974876.0742192506, 1612354.1984604152, 928270.3917369314, 574905.0626473118, 214781.13880437455, 619411.9208362127, 2621471.62729486, 772190.9879065906, 138592.08500303893, 2476285.805319273, 292264.99102694535, 312844.659925276, 5302048.523518764, 664144.1651742762, 150875.27949275335, 1000920.8812219732, 830852.6949969362, 156715.83919091162, 401609.4857658484, 265191.54062562337, 163862.15206963892, 127693.73385448387, 801906.3760732879, 1528845.4258384346, 417887.28414173983, 40072.60932857762, 4328009.677262821, 321720.95739290817, 224761.60451420338, 120773.83854948403, 170412.64749176436, 640155.3492058225, 147173.6034999471, 160544.01198055205, 231685.27942032774, 141833.12841538282, 32304.04108918193, 100773.18781615765, 16070288.666243184, 199723.7589476435, 405575.3343188665, 360466.9068975673, 862951.1754379799, 758874.664267252, 430298.58534033434, 5881208.098407716, 381961.44467534387, 1644057.108743875, 58779.140952797025, 3579277.848463215, 766728.0958999419, 952668.8548394553, 692663.0484014219, 2874019.4561472554, 191897.8942895421, 974022.5530575624, 222102.9914367717, 527391.2348307068, 646448.4175475338, 652445.2681703451, 1509985.1229184256, 1300237.4392511288, 1194903.4204348393, 1488452.9354311395, 281212.3707407399, 423297.60343084973, 2747521.869076721, 1314527.970350932, 1292832.8418816724, 6646083.086923481, 94747.07583144096, 1708852.5804827877, 580613.8584832501, 158951.2726216353, 786644.2386502161, 56153.06933453623, 1326367.4842693736, 1357357.9215677388, 1181767.3331361646, 592717.6878470674, 34866048.06619953, 4536561.3292896515, 698140.8014532356, 401016.43845791474, 1370366.4595539984, 251439.67321378068, 1133175.5826285023, 814935.8113070693, 534711.6369873346, 271350.9624347391, 13300204.809118904, 393719.13678275136, 2071609.005402415, 183194.12009384134, 11956283.598194852, 8173267.246808399, 826129.7401632755, 4162637.1786355926, 85074.49745706952, 319225.9560899412, 3281001.9525624723, 682126.431856959, 3687187.2492691274, 321257.3144192589, 1727146.684285079, 523799.48690382484, 348321.2884404576, 571668.8162440488, 2121332.4290799065, 151752.988893765, 230061.4604323053, 142626.76525866962, 968705.7865330206, 178410.26743272017, 266323.10291440185, 882838.9300304947, 492693.1066605019, 752635.1304189367, 371922.34635120333, 1616685.1879562142, 639480.827352846, 968328.5171350401, 4564473.0563258575, 422183.9266975731, 501703.8852552569, 749989.5825782324, 538684.1081421248, 1277277.0472648405, 719595.2961977385, 573792.4384652886, 1366090.6259071783, 641329.2578731157, 560906.1232954765, 1682434.8404057065, 316299.84816188435, 438054.6725386109, 595722.6362803372, 1072649.8917107705, 245805.56550456025, 168516.24861414585, 284192.6892720417, 680121.4066450422, 1194187.1064157304, 1653185.6578135889, 652542.1868116469, 285629.3823765737, 351868.67506956094, 286614.3646394125, 320805.77599380567, 196293.24151270263, 238161.4371678182, 508069.07225753303, 877383.1901175192, 224009.8894220517, 445943.3595778285, 159586.1026039575, 2025270.7752174956, 532445.7131762311, 617260.8176669086, 617260.8176669086, 410273.762810771, 1044667.2488428422, 476342.9012448236, 4714584.28040687, 317361.7445491539, 536983.3426033014, 947925.9210546112, 1195617.5600092988, 697511.7258843988, 1223712.5928489224, 397904.0644569727, 9145730.281656485, 1815293.6743911572, 883595.2212960535, 986630.0523602397, 795445.2663718609, 1847785.0648410935, 174154.13884547548, 2088778.4675725137, 352290.30978557543, 1031835.3363978639, 764369.879209194, 501429.8475494684, 528500.7319396355, 227519.97786414938, 406176.11444510566, 1624712.5479722463, 592819.4495422182, 3131426.5772773405, 462021.4599713308, 2146603.0369417844, 357241.3454886006, 525081.2635420889, 736030.6745551754, 1817040.5252287292, 2724171.280490223, 1221182.0829364322, 413903.10870790295, 88046.37556725602, 18268271.64398918, 856612.930818579, 974377.992219559, 1186889.930558253, 3349148.474930007, 1972547.1662941182, 164299.12762197253, 781151.1015527218, 1067813.5993485176, 1389186.8064626837, 450028.32184241747, 3997442.457662702, 402407.4227796587, 3281002.830463234, 355149.6463899375, 1459955.4135589467, 1259531.2154295943, 557863.4238692983, 907783.8634138675, 2399378.824785925, 436403.1907117926, 614001.0456688699, 611076.1803657281, 946321.8255709306, 2312294.559490153, 485752.53918291954, 2698119.785181421, 8479315.974738507, 1171666.259505801, 637916.2619102326, 3315903.9496125113, 1646146.3924361186, 681207.8252354688, 254789.63440840843, 775863.5742511032, 367225.59219592216, 276141.56948498666, 151841.4019983639, 736778.6662018413, 292651.9360878765, 107462.01572040467, 181045.32900401397, 1615586.345330545, 318139.5969569975, 1424248.9282212884, 65939.58482064222, 541091.6795806808, 235980.92502271058, 602284.9587314875, 152296.9818492454, 807229.1569635764, 437190.25120133674, 425134.0145219514, 169685.62121003517, 167704.25141245703], \"sizemode\": \"area\", \"sizeref\": 38374.92810210173, \"symbol\": \"circle\"}, \"mode\": \"markers\", \"name\": \"\", \"showlegend\": false, \"type\": \"scattergl\", \"x\": [1206454.5252833997, 2296048.1770155393, 2311336.1624288764, 1116178.5427318527, 573863.6643788791, 184263.7947134758, 574361.9843126021, 59185957.43252099, 3376110.458875861, 1971359.3659613421, 16371753.85730182, 396722.97652583173, 602058.7637407132, 3701948.898932721, 3112493.6706046304, 444209.43054359267, 472676.8059242938, 841546.3366609119, 3394085.7850159216, 679412.5153857005, 240679.7241973633, 106595.69062345945, 525007.7071189244, 253521.6973441474, 449374.20176084404, 364193.4261067768, 595484.2509121038, 174583.39579919798, 501880.482968088, 395273.17097217496, 1569250.7657931258, 1006656.125446272, 898483.8314271728, 361498.777876742, 181564.17587576053, 291618.16795607255, 368148.04943961493, 1642851.7486211774, 371585.06582004396, 226361.1370092401, 1844766.7792540335, 348738.3547524197, 707252.0293315214, 454386.188849127, 625101.1936164823, 283953.29769262, 671985.6797264987, 244277.42842848782, 349748.8478418775, 411554.04361874145, 194974.75070931972, 351884.5055819473, 187530.6534803023, 186981.4812948253, 284853.6738037884, 473385.01681024506, 1092763.502347304, 309878.45390258037, 320402.6602785524, 777651.4990164797, 964726.6323622856, 197832.75512795048, 210447.61370162683, 205235.15507972892, 163267.04022223328, 602044.3747538258, 211972.2957723044, 226351.23885620042, 490522.700229744, 402142.1214876077, 1081326.4898748011, 187756.71682995697, 7239095.879587221, 368706.5790709963, 464862.79932153947, 1741744.3443414487, 192315.34480312138, 183605.1189574116, 2361783.679976199, 314567.69039175607, 409345.6566048171, 215134.18768054704, 870749.7610762522, 367558.9398723368, 3154813.0897314316, 1273949.2123177291, 157548.62055387505, 418059.12344182906, 24624061.389959995, 45506.64558804412, 678518.9215755466, 3444723.0847837776, 957898.9056881901, 315931.8313837954, 18088880.500182252, 407073.0385278055, 3418426.491536379, 11522144.272722082, 434951.3856945436, 2181827.0507686217, 2003192.4460554556, 361347.55104939215, 9975705.804332662, 1599869.551180264, 1236633.8544006592, 465567.92678875115, 138149741.16756624, 1809701.5767751932, 5331742.457721483, 360231.5897467772, 1515742.8362224642, 3029226.599293691, 206796.47563665223, 441404.9210393512, 6021506.050311234, 2091808.3298660533, 2016860.3435401013, 47125163.98825279, 5269466.424758887, 569016.2626061488, 26451474.26691505, 20321425.213753816, 903807.8736445891, 27565994.340680998, 45599931.77756536, 12976080.278834365, 8550960.145868115, 4409388.012714178, 13229558.36937069, 6441495.951996537, 30893358.452553187, 4690733.538739536, 2865161.478942586, 83593.46959322986, 891369.4443024117, 6799586.905490804, 8641592.026590597, 6809492.9133605, 1277894.8783285627, 946884.2554326836, 278602.49271135725, 5220047.627055231, 1130986.257883242, 12894081.953335164, 2601284.1877553347, 927261.6915156643, 6932294.625468654, 281195.16457383346, 10735145.097195033, 289368.05861649924, 114035.84317420135, 114305.22754462091, 5911449.76306162, 1144726.1518629757, 389744.2814362695, 59422.914101594455, 261491.34653285416, 175357.3154339863, 73862.07376137411, 77328.75472121371, 124939.46948609364, 611007.866099735, 10887754.786192339, 48453.43587629662, 4557236.724109002, 1186546.657696601, 491442.83418041345, 10778881.28212242, 840708.2620259343, 1009276.3469716229, 49540.207203468846, 527576.2159477295, 395726.2691056271, 51893.50007662582, 188470.85600120577, 51290.40328461559, 11997000.513413457, 41232.953486973216, 181229.57518976345, 193767.9441865514, 993791.9100448154, 5724439.704469953, 339403.1264853971, 121176.38543696272, 414514.76369191834, 2435486.171404898, 38054.64411552455, 298354.26011774776, 499946.9071742319, 719817.8565399265, 533771.0574097113, 431210.1182282058, 88974.02589861349, 527306.6109931614, 104618.77708468658, 446920.9057206149, 293329.2796130888, 2895692.432505227, 145020.8881247712, 293410.43475213356, 568086.0018409585, 119595.4332308072, 18579.957873672625, 231579.76854758133, 67648.36040389116, 1109783.6162191215, 565268.5487489158, 118539.99301678609, 3455591.0317975827, 224892.83599251282, 2465321.367230183, 10031738.447035301, 3987569.178692533, 10225740.037148027, 3850104.9707895564, 367394.80497902335, 3256705.5127275907, 431601.8587772661, 9600427.576780202, 31066058.25575052, 222710.7642413263, 3203213.6935461382, 2485827.0103406208, 2702239.7384364028, 6254499.42808868, 979539.1977761316, 557296.6016649588, 291022.8651786256, 14101986.434863543, 5568597.485410218, 1059009.968261721, 249930.37338905636, 768885.9353435866, 256701.06297484064, 253936.62226223783, 299367.8529886434, 212469.1001792095, 441812.1566712933, 550952.5649766498, 2579011.1495194132, 1881841.2363242025, 18402047.13506589, 311291.6460299285, 2453769.194857276, 832317.1906434362, 227429.85402768682, 97745.82716852527, 4424418.4816976795, 10223972.280484682, 4371802.780576746, 671957.8608849971, 126167.63554484062, 305261.1275519162, 5595925.628991717, 5053558.380069011, 2748960.635315424, 36414304.94949124, 2032055.1568269143, 1244052.0135189055, 3872857.968188223, 616587.8705792626, 16068784.79408888, 3182537.509955501, 23805358.789655764, 7044788.798267134, 18799902.903764512, 9617789.518464036, 1368375.6258390532, 2723535.8971704664, 3776917.54500726, 2155746.0681975833, 7535301.984020236, 6988539.402627312, 931474.5410552565, 699696.2887551562, 385825.6044470456, 167285.40672538168, 8592518.813748183, 455605.47579168854, 931392.2596702512, 441769.70874011057, 369475.6344633172, 139064.30602392205, 208719.8771243451, 808191.8194021329, 284311.94546924124, 907874.0453288044, 1586456.7634062667, 346001.3142275168, 311052.67819022486, 3110135.4190295385, 238646.34805961483, 302397.28037491336, 307480.82332342456, 499579.6129961574, 1033142.3978364797, 420983.9338825252, 361978.130103263, 852249.5914263806, 158827.81752462682, 1706727.0708088556, 1101560.8326866291, 146365.29328534013, 4680730.518899595, 177542.09043848552, 498216.5303144661, 3319953.522762421, 1789562.9360642042, 4402480.313265975, 122558.7262601698, 13502491.119692393, 720630.9730106898, 805328.8266761746, 1938896.9315642999, 303900.0702991913, 1963264.5724563128, 218706.93699041626, 408660.186871225, 313364.4643492782, 348473.2417182052, 3050.3835272745937, 13504527.635264162, 406033.2217384619, 204045.67382118295, 1776706.7276206189, 2041951.9028339195, 60764.73108144673, 776243.5966638435, 414581.3033057051, 397225.5166068889, 185296.0787706082, 511620.0739227026, 2084819.9825001773, 1776082.4629727986, 2602224.3897980163, 444271.6843926462, 17156158.038535655, 554242.5039659494, 62292.42080062556, 1553357.54286725, 865458.4864421183, 54819.56535748169, 337107.5295493854, 12488488.653754828, 745042.6743120571, 2688506.676610778, 173451.04791692563, 520566.6095474948, 567636.2374449744, 517545.3268197003, 218114.58464232704, 2650414.0516106924, 2268190.7494826047, 179779.45643494252, 838264.1780279825, 255544.65480731855, 249705.51024248105, 325801.46986892365, 176612.1532651677, 160183.90321701867, 505203.6413501777, 318542.41225736827, 128070.25658358722, 918239.3779897607, 457183.14234249166, 1061345.6040145808, 202770.77221352054, 158840.61675515282, 1739757.2897199283, 462427.08264601516, 431351.46511157474, 251689.65734172292, 237649.8683602989, 532904.6518044772, 144715.57818213312, 445771.58436769916, 403241.14404165937, 451799.03856078547, 163811.55891247274, 310455.70986582065, 738695.270018135, 3489449.6410636846, 1286406.8625091044, 556907.8812237073, 259840.96047479048, 1827606.026700245, 431865.60505485046, 587548.687334056, 323089.43410539476, 293682.92674976814, 728188.4195730877, 181072.07922489062, 478675.7034214116, 436713.27488342155, 3744340.908973183, 1455496.057489368, 77297.44754307327, 314870.21928544337, 1116245.0429233212, 544889.959551227, 105442.13892051802, 614102.0925976528, 132152.45192828478, 46700.76881231463, 415956.8342644925, 168883.27131548795, 205970.8089405836, 834797.5911547337, 713718.1651944725, 512699.7026124429, 264717.2643292504, 120462.23681192381, 1153603.7210521693, 175179.9954699668, 204939.80681393784, 465420.5063451547, 548727.5653528853, 1222758.1518147297, 1143461.3900478766, 698006.2721959394, 118459.01790399716, 394363.99828442157, 518278.08794171014, 40262.95862732291, 88686.17805958468, 454357.2188262403, 1538860.1953933192, 158043.6770951324, 235387.0889681194, 219449.61064855754, 425191.1023415867, 2538848.0627552094, 14111964.599189932, 939809.1459920182, 2453983.7219488746, 5829199.724157152, 150740.6197877609, 190044.72289517432, 554327.6089046142, 842461.9048001269, 66071.7472593775, 24318.166241213523, 2283619.5060946923, 155926.75939273354, 359629.85950432764, 17580.768372670915, 256037.76050221457, 2173099.606465977, 94893.7783773396, 78421.7948836927, 85877.13782073437, 369285.50471657503, 132837.47706241044, 190717.37652448047, 1482637.8318520077, 204159.3833881365, 362195.5181380691, 945214.7245248659, 123547.60661331707, 857491.3035467428, 132043.8732296094, 415984.51536536345, 311001.5388652568, 3639615.5646885782, 816491.1859901665, 413410.9664524701, 319159.9680503062, 750091.9906753036, 1113899.640857391, 103677214.37777832, 458397.5153650709, 281839.9968355189, 1799330.1074966753, 412089.04029041796, 445727.84805624373, 20437088.405066647, 457396.4061635915, 168045.15662804717, 779287.2332087694, 422748.5196857691, 332647.53840124054, 880423.8720001166, 856835.5579244224, 155207.07728336073, 315080.00167972443, 928380.9570054446, 184259.1470153682, 493449.68731025467, 101854.3029251208, 203913.0772360178, 1195231.3009422822, 743078.7872515968, 1158000.7327143059, 238631.32605141142, 834780.7367598688, 508895.2217054288, 615148.9789452269, 240667.32444415276, 8839838.30050729, 2114243.4566351054, 1409426.3660515745, 1205239.665433655, 14415503.147611504, 2480557.3707251977, 344983.60030560644, 771550.1064842482, 826253.8863023156, 636282.5234735527, 648960.8260028017, 5960880.700102916, 3298409.726595075, 2563066.7022919925, 1138476.4645824367, 5807680.239080165, 950803.6285967798, 333792.96329061245, 384293.58337289636, 353666.2716955068, 308227.7283106247, 408089.299628555, 651644.0242079082, 655935.4565275832, 781428.1995090165, 272837.8696332079, 1147363.829925678, 4005808.728320801, 484719.8729121197, 412614.3038864895, 418830.80512831244, 80807.65916812804, 152149.54238360032, 169220.71883027267, 709973.4708752291, 379291.33880837966, 3238884.1672133547, 5422588.08780821, 616719.6479794169, 4423708.181765276, 164267.88012904712, 134089.92391615993, 506724.75442597264, 144980.3685097786, 1124439.0682531933, 2948302.334601245, 381394.0924689178, 1820261.1581749488, 297053.26243895566, 428753.7774306606, 358581.9117124254, 382663.1304417469, 374004.42160817806, 1334715.1029656231, 10795277.482430596, 1280327.468778583, 6041746.276821005, 822590.1476612837, 676431.2850194008, 7379901.023479187, 1594980.8682147358, 311907.73624855315, 1074838.169529504, 722946.7532212827, 535734.4089648098, 916921.3323539798, 2476069.0072928863, 3824827.1713414304, 458256.7406030602, 743920.3232024625, 1520049.390464248, 4579754.791129217, 777073.4918680408, 1104102.4542249967, 1951676.987377963, 830630.9598614213, 654104.7876304865, 2627033.282072558, 846872.3632969229, 1741531.3413646047, 705236.9043950476, 10235026.074020112, 2916368.3482696987, 18437188.56134881, 262201.66750237945, 799702.7425649584, 2309005.4686424886, 124805.9650893742, 291733.190567166, 3358869.3599984962, 608630.8101545197, 714104.6405402288, 396429.89504829125, 948177.8913307292, 451918.57392745506, 164007.53208151378, 372912.1225937156, 752219.2595504611, 1481791.0028158505, 605371.2061283259, 637026.7300365155, 705628.7198159596, 191945.32927002283, 104389.06981191157, 340743.75563733815, 306535.18496464565, 153542.59320673166, 586869.1211021076, 2530538.9855980803, 582238.4644964476, 518314.19369026343, 459891.8124761129, 415375.7609573312, 357121.517752956, 261517.23347877664, 470493.91965517274, 334603.2202483164, 413889.12421340065, 1037922.9023253686, 296514.97359152033, 299207.52818260196, 197155.5843251589, 383058.7114719844, 436245.26449952484, 1087093.0985961163, 351330.9196602053, 1081038.4418771295, 189870.67701136268, 178850.6081166738, 405629.194378302, 921144.0762724925, 526491.774889169, 1806902.5520028523, 244094.31413517304, 475275.94119112985, 377481.06732776196, 240244.45953643054, 184805.3701012145, 237196.3302531918, 286490.3578194596, 287847.7030909778, 366833.847917452, 273879.88413697964, 432025.75655022875, 355763.2460429956, 435307.7553130895, 227119.51975877158, 243902.30183882988, 183811.51889471864, 363073.6234045318, 454387.7932102725, 815379.500356424, 350554.46705328353, 2187262.3466405612, 418474.1580432829, 265899.77758387884, 387456.76515964384, 816632.7437471789, 4247757.735437421, 275608.0701016205, 210545.72544537933, 265710.25118641416, 318097.8872579723, 482959.04060128925, 691853.5597391862, 831072.8620047604, 320857.6753403327, 236391.95028215184, 228062.71087608222, 187925.65489485336, 271829.16008752765, 902323.7472936854, 335151.08068403596, 152155.0097273817, 359557.10335198377, 235894.8426867928, 547637.1969922734, 204123.78555763146, 7897030.127420532, 1852831.1653675635, 421910.37568487594, 124349.79320947395, 274479.5682282348, 291971.2785906582, 618309.0389511484, 1532390.2260678639, 403518.73508012906, 172750.36233412183, 276746.8255422512, 170044.52292465695, 758474.7629028586, 876164.0025717028, 466542.4839069204, 163320.24459102142, 842978.8855581383, 268478.1754054336, 415821.1113606601, 2097901.9837699044, 185523.84640387335, 331369.64934883424, 330620.836457633, 195593.1059805918, 353409.9767681956, 141042.07348560842, 676641.2459883771, 359580.32309271535, 251970.82085547142, 1368635.3113611452, 70415.40165088189, 109823.39454911827, 507635.4797479437, 84065.53550585892, 51100.55602858765, 217762.57383922907, 257469.3772532316, 220292.22357543005, 56761.75761644938, 811612.2114204568, 835484.2326658258, 92418.39474043717, 479113.3396526976, 179146.64791709828, 2049461.7167458234, 90713.62208577391, 87347.26673398321, 609147.551287353, 163107.07416463317, 778923.3375108098, 645180.2810840205, 565612.4535119919, 552828.8492561308, 84656.91124246542, 74305.43444267251, 194523.42383253932, 130269.29347198049, 37869.36512698537, 205377.60722027763, 67255.42300478434, 166577.1925289133, 730308.9874043085, 69001.79040005169, 47312.868181273836, 296803.37447075604, 445078.8040665728, 101098.02706127857, 11198102.235122146, 92316.18738245442, 214049.88470213214, 86255.17620243649, 518852.96747359826, 58563.54097782048, 1370001.0948799038, 93340.57579196671, 253549.05877204076, 85733.94653515524, 727180.6363536811, 672133.9027050711, 319555.19559034467, 267212.76620378153, 110202.88311593857, 653831.3266408745, 173794.9315287932, 858963.7944042806, 172023.1915587377, 84056.78855243314, 235369.2092930781, 392911.56355710025, 102520.19483367002, 132357.24207661673, 402025.173128761, 128388.81133256233, 150802.48822769788, 160789.1459111325, 165042.74711133863, 433940.60273458273, 249053.61417446123, 76795.86594019926, 1438910.4922066655, 151548.64166879203, 251562.65659085798, 1116098.8606052697, 149717.96101965447, 99060.95974250977, 200979.80901173383, 1163039.060680507, 133415.88044129297, 10099160.771924144, 428613.2919707331, 3813450.999916218, 61097.93852590771, 170355.41804052878, 117010.7612109849, 125710.79028350592, 60026.41488212312, 119011.80902523045, 624652.8181685214, 199230.89242713703, 79263.57180154114, 169373.96987768987, 43666.58350563312, 164866.7065056974, 59083.31841970709, 255247.19057797804, 101146.0431222576, 3294645.8583520437, 828663.6219101737, 15081443.031755628, 438539.97769529157, 332427.232568474, 236554.29968185574, 245849.7644812783, 249136.3508485096, 153001.56067036992, 261052.60596738488, 318151.2396830856, 2171939.7871148093, 1712557.5326974005, 6062106.315474645, 851201.7269330878, 1491453.5993965645, 2672379.822808062, 979467.3153849847, 983798.0523998551, 1479086.3893445488, 3123337.0225612405, 527066.2907143097, 825352.7054973285, 1261659.0879233056, 890643.2935033382, 887310.9865526401, 4650653.661191681, 1578585.5832346848, 10446238.280333612, 15402912.59587304, 1717061.5919038588, 608815.4539280231, 3403010.1627545543, 1852558.0390996127, 2641662.6079019615, 671371.0661294392, 4431281.324635279, 813058.4060643099, 4689827.81422763, 5520570.689255951, 449300.25493341393, 19056153.240731232, 15534468.534809697, 933194.750526321, 1897978.4871021374, 429974.8999308981, 792133.7898044694, 2753376.4535629917, 1625209.1316038964, 1823479.1268319546, 11842871.069746297, 6532162.108834201, 2968609.6119862986, 10214766.577745015, 628708.0110634025, 14319501.553849462, 1534899.404932243, 8347473.429929883, 2770066.5856875307, 29867852.529529024, 399510.3124427317, 13744845.489280792, 9787106.83604619, 11133083.216260763, 14929107.795657257, 452775.7002524816, 286797.28183249844, 2431794.861302906, 764751.4359030165, 718236.0230513796, 448320.8337164281, 219860.83495736783, 497172.1602249845, 3674780.846140899, 1037459.9797586015, 3010317.277797927, 1258505.8083621385, 757932.1334208912, 767463.716737061, 872808.4834117074, 942270.2517386707, 1564127.7508298755, 469990.3354095663, 942383.5487619293, 2375741.2013671515, 915485.0795332488, 9801336.833854262, 777610.5065837991, 466111.44516232755, 1807164.6279419991, 822328.0933157469, 1094126.7899238947, 783834.3806477855, 1009224.8776213318, 5745726.60085578, 1287603.7409720318, 917974.2296624255, 365155.91216039466, 1224382.5737877754, 3422888.312996254, 5152848.685466576, 492505.4316206297, 12411310.06104141, 506104.59893992357, 728498.564976654, 2267744.829639128, 3871243.220542739, 370615.1007212683, 668466.5216635542, 1540678.3248009183, 758018.7102426639, 938934.058864794, 621963.0058380956, 402976.3876544705, 3380050.5313478615, 1385346.9281108472, 375237.0372993227, 1158799.0501686963, 29778583.551060047, 666870.9344047114, 234085.3781183676, 623687.5262903154, 387598.36586809944, 656254.2691438555, 5085716.501956857, 451185.2784499546, 977509.4075653885, 1095547.6898533974, 242294.07396980724, 1290881.0102453774, 1802548.1343838335, 6975053.211530533, 743753.701940616, 559852.3010752553, 6473835.624325899, 816797.1813453134, 793048.6281943657, 702069.1696319525, 155187.7784435012, 1107149.008592988, 611728.5729745923, 716302.1731355803, 1609707.6852570781, 910621.5035993434, 300597.4143127148, 1013953.6014114989, 978896.8068317982, 188627.3061533328, 190838.23606955895, 274227.73518202186, 1573477.3019765473, 8087863.043936905, 397006.5649303536, 807329.7703671977, 378559.74948937166, 439666.23074705247, 694490.384721772, 1012109.0538110142, 146078.16824473938, 24732888.59239805, 438503.9548662844, 540833.0800892251, 658086.8720251599, 1133443.2743171875, 260174.071649743, 345799.44335388544, 924518.5020952855, 131340.3765668677, 344934.4627178043, 168478.5656033358, 304204.64098848164, 127441.26042923142, 610532.1213312484, 143046.28713413165, 533219.1148380593, 789637.3988985232, 106348.19116000309, 219383.89532693254, 495137.0180933858, 520826.0544795593, 545169.1836482153, 724238.6288680425, 836762.185205339, 216075.92262870996, 616582.5139324357, 412877.869629742, 174233.20611277214, 2721953.9248618046, 1571090.6108118063, 294493.03707231575, 718540.7462452748, 213750.15704113946, 684408.1276813507, 280217.86119473993, 10240632.463848116, 93010.12851986919, 370034.2022609763, 386514.7598742538, 1115373.7651839687, 210223.9288324387, 371107.2140943556, 4514988.010519877, 2097422.33026326, 1457528.4386731964, 331999.63205942966, 2736825.3573152083, 737000.8223918369, 204570.58042122808, 241435.08222821614, 552047.7107598368, 86257.64791444007, 488083.72994421143, 308144.7496744797, 414459.8478179855, 4795924.426090851, 249613.95708543368, 141846.55100317323, 982458.6698927807, 2071944.6175411574, 273846.2962536855, 685314.2505964041, 724073.8437090318, 280141.5954731965, 327241.7653315339, 140156.87118778983, 640161.5852473526, 303334.6066063135, 170468.60919233478, 350483.363360123, 222645.00123365712, 169387.49012959344, 362437.3167979142, 399177.2298622578, 501475.8112701833, 523913.5199006379, 394580.12804127287, 2316490.474376436, 1172591.9629253035, 176487.00947243496, 416962.44420255563, 217072.82845817987, 473669.1708540614, 934972.464967233, 3694507.9189460785, 4480178.712950905, 381813.6897880535, 169680.51693288804, 20960.74016883433, 496024.11211048113, 2656937.526625873, 381807.7425384919, 168319.3906700019, 245067.40561667903, 1261499.192490717, 200387.9835533477, 717284.3957525394, 937831.7593763749, 1549384.9909358853, 270732.64640058135, 417118.3317604802, 1550059.6641771167, 608688.9480055544, 630055.2592649058, 1184638.7625637965, 1457265.379246329, 479376.56156929955, 657188.8965591434, 780648.4740499533, 253709.81261854453, 444402.23050699604, 518511.1308607822, 228908.10060864475, 771514.2306516224, 643373.7874319488, 987924.033548761, 227683.85480836398, 774427.94522298, 563315.425851149, 528193.6598605601, 165335.72055216017, 2411562.845666999, 594724.9904756283, 113990.66792335048, 549381.0329527624, 219147.79199209186, 311101.916533238, 512663.38349792856, 239922.2520976431, 470918.9494332435, 454061.1413483998, 220714.18565763574, 164192.58416948136, 529722.8547372901, 281179.3329800896, 928970.2627343006, 1103851.7890369333, 425759.6553406102, 168249.52571238665, 206619.2980863092, 413711.8827868012, 283905.5995123585, 467817.39258299966, 14807306.860900978, 23780695.278409142, 167852.01440049277, 7220911.484876723, 188363.96317091474, 193918.9307064435, 126746.55829674986, 95475.35165928089, 241196.98029652887, 36315.822790729704, 1546766.5197603323, 134772.65608378095, 261403.60923602147, 47641.48118164469, 232190.5492229829, 210460.34161745594, 74095.98720011507, 251190.50001471562, 1545547.675478375, 1344294.5552229292, 37564.08146018033, 215326.31338533195, 20001.01221776938, 75087.92181528127, 333147.2937334228, 219866.01021831317, 48922.141860132455, 527070.2809577935, 1168960.5355041313, 46371.85384010836, 377770.09551265877, 51628.46549140009, 187878.53143641088, 50648.0587504425, 78046.68582948542, 1806324.8461596377, 103441.39138457386, 344663.7963143682, 11615.492473333745, 114009.50432655223, 135097.331008432, 37873.314189409626, 123405.11983766197, 31281.98424119223, 731707.5306650308, 169434.37076494703, 195627.2519194599, 144590.9710255598, 213873.244922445, 97095.27449737629, 682171.1128656056, 196053.29462017585, 82730.39389364775, 138816.93366787868, 106484.50105537083, 66859.35519267154, 227593.9721711371, 43744.18726935434, 28666.029075529936, 2479874.1280227993, 686469.0636011107, 171910.55832364273, 11156.18554553661, 16998.253377998135, 17011.48914908239, 153980.86794364656, 311547.426256239, 55998.13018661737, 94564.35883504512, 914186.3779104515, 200891.38749333384, 208791.2263297737, 602335.9514307796, 228414.51312722178, 113763.95264668962, 134111.72982598815, 243095.74056901195, 178596.94577681905, 228608.4078014075, 238482.01471117983, 278815.3201806278, 401661.0073714067, 59826.907306568544, 532936.1702168265, 58859.52219431686, 148722.86361426243, 820240.001883407, 10268522.859281806, 55723.23900235842, 167822.49416700014, 77343.6383014854, 57625.10652106066, 152367.61253938597, 528769.3516806932, 77500.28203997893, 53065.20630504206, 72415.14681620176, 18327.829975262423, 62126.11746953236, 1158617.7688686727, 230151.01587382788, 112558.54587962572, 15560.991353206822, 86968.92169148524, 285003.95298811264, 25347.010858443813, 157561.05313777414, 205601.90826633712, 113631.71596318789, 196013.0182621945, 256293.4065385728, 23288.341596240927, 104820.63643000074, 237970.02856271184, 5429913.810235058, 833355.0481027194, 17263.686440550995, 18108.590900098556, 12021.979297803096, 767840.8911786223, 205268.5902897161, 132509.52121317602, 94707.56995950693, 173760.44412298125, 123456.78854425203, 366762.5125502157, 77054.35956819536, 74284.5863085958, 241289.140562244, 174310.77208043862, 710010.1386221544, 127774.84604116835, 279971.3248660072, 235698.7096516206, 45285.769087450106, 317666.64402940025, 2764475.048525683, 474569.3277111425, 816375.5738291666, 372156.81870977057, 149339.77807430475, 84341.47366754388, 35568.30052680584, 122558.18478928183, 153514.72149958226, 22331.8895715939, 117289.22009898888, 111524.35524952743, 443641.8644575448, 196543.8460977475, 103166.44897992146, 20316.627585612492, 332337.6987944427, 467574.79606833326, 25337602.268704917, 972390.9904683394, 890106.8349597214, 28138.18199246398, 37593.07925494553, 346992.78700723534, 133824.48839143955, 87231.4245975971, 707641.8928310688, 112887.60180425514, 707000.1579765745, 102721.85460987745, 46486.69252004786, 6484754.10520718, 185535.41247342777, 943547.0624481465, 1521644.5879065397, 1560196.7507336491, 1596604.7658693953, 887239.8313455892, 2070098.342890672, 7897531.23035702, 2829383.075095717, 6272676.416574265, 2261752.1451520687, 959888.6234924122, 5019646.638795447, 17992017.237084076, 8538209.839858148, 9765240.435131181, 3563354.0946832937, 2460860.9374964847, 13774025.506975403, 5079520.992587023, 9442473.237449741, 2928076.053200766, 6817823.289660001, 14279166.009851128, 13157401.407507224, 10662152.380206153, 11517197.667051822, 8292713.969310497, 1304226.4153696857, 6476302.044518862, 3337828.980352, 10008215.766796803, 2196582.079467785, 10992546.799873846, 102069.61372337042, 1138769.4948339667, 407407.80516058864, 394415.28202427586, 861952.6518821525, 54841.71425112144, 3046385.504061083, 1021110.8783680274, 620474.7666790092, 84955.25270531014, 24343.769057327227, 99684.56584960657, 1089553.9412988333, 637286.8883813615, 493020.27313174034, 455716.00471638254, 1062711.7730524521, 112688.35653057099, 1214303.1016100293, 245565.6528021514, 717652.6667345761, 351967.7031472496, 1877629.1395747724, 1980368.4013288023, 598551.2923349425, 2816905.449201918, 340327.5456380292, 330612.7734948164, 727001.5844120118, 319419.99252686393, 93842.48046739626, 1275218.9363450815, 5327914.780088733, 966838.1748071258, 16547248.925760146, 3574302.746555038, 1600080.5953812152, 1505323.19273269, 2555945.964533026, 1565616.364981308, 997652.0005449501, 1411678.518310395, 1359288.9985455316, 844415.2234813714, 1179067.3662727051, 5272314.170305732, 16875902.71868497, 944221.9421341983, 960165.8461776396, 1143041.6672769645, 1109412.3746556367, 1119534.0234771462, 275022.1025759659, 1305019.7677141596, 2175826.653921175, 32281649.92036048, 606070.0637084212, 1102026.4750621628, 1278281.0711948182, 13109884.169467196, 927534.6684669462, 27070448.48458554, 26310021.705742486, 26310021.705742486, 3963443.6043131426, 4244147.251524543, 8212244.934137407, 1898347.7537633083, 6041276.510132303, 766952.5407627671, 2219717.104326402, 1212397.5247879273, 2027583.9259381006, 31932727.675968073, 2890853.394977457, 7421507.512494134, 5021609.143880186, 2044617.357702114, 3992526.3350329553, 2816020.7263262174, 673699.9389670664, 374934.6258587006, 622464.4991972925, 1908216.278361651, 30456399.926442046, 1830905.430309271, 954928.4629590709, 1469952.1966998787, 3500161.0054858075, 1437165.794228175, 1190866.7295862301, 1787917.4747306125, 17612567.663077995, 754887.7645969904, 501995.52258057066, 2581057.783749368, 685620.2063444327, 283338.4184661772, 451700.1377493426, 604539.2970764145, 538134.9646856105, 958408.0145127835, 381771.87540399295, 643625.3500153759, 2102247.0009050784, 4358749.793911643, 1668278.4376606308, 2684635.840877965, 1576214.7084474785, 156902.87670392825, 1644261.0724888376, 418903.367997192, 2768355.734136621, 889326.1535763235, 590544.0249828971, 272780.8806673052, 231780.6862436961, 1798610.6864469713, 1007110.9601026592, 1676227.8613853562, 5258390.111559239, 514316.51161766297, 1070889.7643384826, 2893975.4292221693, 739600.8086103606, 880138.8612600624, 4124286.8081344943, 956605.6702064526, 6133091.34866856, 943570.3495328154, 3698385.9699017378, 213235.60180564248, 224864.42835619676, 876367.0658033594, 320241.2830389035, 8263710.3380299695, 1029795.5334005632, 1554808.714922921, 1328902.3577483124, 1949848.046947382, 417469.65321680496, 555004.8992367758, 122098.65131642431, 2537127.627031667, 813807.192253159, 2414827.7192561505, 176681.2964201403, 1025543.8746385166, 1157428.727926701, 1350477.5480094852, 846671.9827733499, 860509.8688448467, 472725.33442661713, 469186.75564424926, 14105448.81324787, 361493.7851604743, 577524.4027060408, 1615431.5179012667, 1692338.9209293765, 3348717.0068709916, 427050.68055040395, 2476926.8279180834, 2424728.9217408355, 281033.0760276491, 604383.3574848576, 840769.9795361841, 257125.52441772915, 739127.58381439, 2435323.9651022446, 406176.224207177, 2581402.3751067226, 853776.7203693816, 2037534.8125400904, 1867149.3401198927, 2493401.357223621, 1301388.802699953, 1122821.6277937503, 627408.6974561637, 1204334.2992177175, 901862.5223155618, 1454848.2541630925, 320344.1606751366, 692390.6655140022, 77645.82830794493, 2471137.948994415, 798318.0284233895, 12915740.784611478, 432811.8454974223, 260073.7397062911, 1002196.4989006986, 2078081.2358501342, 1371525.4974814474, 1343642.4888446862, 761025.2176443881, 455432.92597343586, 63882.91520804621, 271044.2000498533, 141792.79341029574, 24693.748696354047, 204893.69057486625, 90349.55999064483, 64953.861104990996, 1528560.5164587859, 2577693.7130531953, 135877.3355041826, 130326.46524989903, 70712.767960543, 89679.64616315329, 72198.00177808639, 108299.47171106783, 92513.68528784667, 54103.021438335185, 1312078.8553882362, 75625.58893183035, 74632.17397498978, 72864.5221653445, 78337.21739832562, 116925.59270896831, 57779.60991715782, 148951.6055632158, 85264.69064029705, 122389.82718869952, 268667.38483944756, 230806.91547329997, 590599.187948829, 173818.18049295826, 94406.7229704614, 51074.891769079455, 215237.69280275566, 107250.79698916602, 275419.7552191695, 142931.1920391944, 68728.4004380146, 387872.4218215336, 221377.28172672773, 108541.27798753789, 45583.594797486534, 56346.756999659374, 13064.730062301347, 490727.47248563165, 35834.85849369218, 493136.09748535877, 87353.48214282372, 209362.19362595532, 282319.157199969, 1264149.0124426023, 128887.58930527024, 472660.04084895283, 552701.1114117098, 2169446.8491357714, 1073974.941952472, 2173276.3467832725, 1077610.569417351, 980140.98221216, 1430590.7584214476, 899957.5755207111, 6719337.150995787, 651692.8387777098, 845310.0186501174, 3038391.8542214637, 3793055.4507114585, 809647.2829600088, 2261443.9500921546, 782768.0624562528, 1010571.4462797587, 28907459.31222819, 1110618.9127143798, 856414.869323634, 2698544.881835958, 1757893.568395773, 2644628.912056647, 599555.61484133, 22426209.34453235, 895379.0569046304, 621462.8371911208, 2026585.1075466138, 3160249.8778132414, 866527.7211178679, 17300492.24258013, 1509367.4145091465, 646623.6611961016, 361594.23109298554, 637506.3404215648, 849486.482670535, 574467.2676741729, 660401.727427351, 1237642.3598833466, 659171.510040955, 1530856.372340232, 1127434.4611079323, 4970425.277322663, 1228502.9054056387, 3114280.0125827277, 1066125.147128489, 5848209.021098987, 9179491.949822646, 764354.935779957, 5306268.971686465, 1301208.7085419558, 3349845.56216075, 498571.89350039075, 856950.7372659261, 2125923.662907912, 355997.8604989461, 10926354.685029548, 364688.00851687737, 657158.2604553624, 1694127.2176282904, 275636.2710351898, 1220786.3410069686, 432637.22672530124, 704529.9049754367, 1009156.9974583045, 560034.3160650574, 3203559.6233767164, 919082.8961084281, 717382.6822859595, 2617404.396745053, 1423489.42485121, 1309457.9980486778, 1527130.1909927784, 1180271.2307426832, 986493.251658602, 7928650.621880081, 11760956.109296883, 4743854.423266039, 1914195.1984884252, 910795.1663875706, 634264.571733551, 273231.9530918293, 3540991.9144678493, 1354438.1398515103, 2213700.0749729923, 832883.2893170426, 2480221.2073627003, 488654.53473741113, 392836.7250572955, 150256.58625716012, 272652.34271845885, 153861.1938036096, 441307.80282064906, 256007.0814444972, 809373.6180995048, 658940.4003752324, 2012940.0665405632, 1041005.9265600167, 914826.2387052428, 351233.57812268747, 78646.99474899918, 4620406.918231463, 131399.00425579172, 2289003.979472245, 158690.96062002543, 371674.6468640107, 1458707.5090767585, 559507.7148444945, 926254.2358935191, 141588.93297028015, 117428.94914934816, 1360714.426333411, 653322.2544996149, 1073037.749391732, 141983.35736903216, 139546.06700887007, 79979.14164498592, 104998.03065864128, 318409.1248727922, 310407.60433125217, 637645.0148416659, 179198.5847518245, 225755.79750446868, 1139814.308492224, 314669.59269732994, 267619.3522395749, 229650.96509341267, 987080.2738584107, 717813.3454975196, 756347.3480528288, 207118.0192207693, 673216.7111744863, 748195.9314143197, 609751.792045042, 184438.61597888675, 383169.91951554175, 918515.7854392905, 310532.35069680685, 1441654.8304446633, 273777.3310673086, 220151.31458451948, 252144.88299027807, 907566.7746974456, 1011576.7356328527, 733341.3254355373, 401201.93064745597, 1437691.3675893294, 932082.8103410357, 778756.4453561411, 1458466.196465987, 235905.87099347173, 90586.68965319011, 1620387.787027656, 499647.44063698617, 844888.2478263574, 1019407.0469034959, 445445.73000189033, 213752.9892378556, 1352679.3018917334, 1205416.8237076371, 288798.7982782091, 231237.95496265666, 437019.4012835499, 362467.1420934945, 1522172.2856171804, 6618247.8881527595, 815620.6160648178, 907021.2769933586, 1197116.6656698168, 382343.6147691929, 438320.9592728175, 2507081.318318638, 1921210.7967199294, 48696.21519401808, 169833.05549969611, 157595.92480477292, 350474.6735177875, 3401034.4730391414, 403860.7462484325, 1399139.0694508536, 1239696.31901664, 167562.30302403873, 5868664.656206311, 1031426.2489943986, 1850202.1534977045, 400184.9601541506, 4974093.842142517, 208609.1106605691, 12637662.513320813, 1173710.0290645137, 42226.10095348819, 623287.4309974366, 1280203.5446890376, 489736.71465377475, 170210.18706208508, 460950.32985512284, 8694063.927138524, 37507.823960216374, 1504305.8266156511, 1783045.7533750269, 27033896.97950293, 1549629.8860842718, 3805879.9575564424, 1134283.716382442, 7416072.801922727, 2476124.8119109813, 1291083.6510326706, 12477595.59215967, 3729986.0371986115, 2908727.887260491, 196919.69700473195, 1359816.3184444443, 2448703.561735704, 9124931.663268818, 909636.9615060465, 1721737.7380839568, 796019.3782341939, 1291772.527809948, 1874286.260365912, 4208467.746561693, 5010914.745730646, 10761525.660126017, 857964.4451614068, 5153777.975313039, 3059417.9901863043, 266780.17852452997, 2690666.355437042, 345740.9045414695, 801194.4713820984, 972228.2573521716, 1657223.18167984, 1001200.1978896662, 469517.48395230493, 4284906.301084054, 8765319.75889279, 1942009.3784797713, 2393593.4440265847, 6071824.156149409, 6308274.536026736, 2350856.004936809, 988358.4339023192, 2442953.409534755, 950546.8682251271, 3305023.209766646, 15905835.990983495, 352701.8411218098, 5262568.775967533, 1894875.6390196716, 969292.132246207, 25232500.592286885, 1537005.6303788421, 513032.29861737625, 3050822.5993153513, 712868.085707784, 1672655.4850326187, 259181.51520325724, 968744.2786404826, 920077.9466705878, 688559.8155348734, 1189298.4529177947, 1021734.5755965253, 4334989.104672377, 1255661.5486709427, 7988905.370191158, 631799.1868675963, 7766678.346211659, 1021521.5568865992, 3467859.663135993, 1932661.620821597, 11081668.24652325, 2909677.678796041, 541968.2285582358, 2951222.0278597153, 171691.41050756458, 3383420.698481043, 274295.25449096144, 449534.4355372746, 2773547.4808017537, 2302998.9449379104, 317331.3088985126, 6439308.931621782, 1012602.7789488876, 681372.2168572618, 819476.4302732507, 628956.2187134316, 764446.9481340989, 1242195.362619162, 542347.6442040536, 1804468.0296525487, 459155.328022873, 457738.2920751549, 2323926.2221700554, 1258857.3043253028, 7544617.053534438, 1260198.5453783511, 392330.2432631899, 4869650.12830652, 332833.7164380928, 1086881.5238891938, 1080730.931843875, 1400472.2161929174, 328099.57116719073, 4503993.168494803, 188816.36548959473, 628554.7106204805, 492083.40690681105, 796666.7544628128, 1467724.168704011, 1697015.0233227974, 2144238.2737714793, 5843175.269751714, 342535.9708633352, 4972823.350587542, 1859253.4138219983, 597406.5806128788, 645832.3632791587, 3409953.743625598, 66723.93942214132, 388363.20353594975, 58756.15926075229, 149044.85079226928, 114219.32671236426, 20958.510585121232, 194798.23849856778, 49768.79834603109, 185079.3817123719, 96406.47958676297, 248405.88229074448, 566800.140226263, 62093.8227992106, 171728.33403524646, 402073.99368419277, 170308.4014342752, 108508.8008720051, 107220.06557180565, 81770.8968605189, 173238.9642816692, 59015.53062499794, 186162.08396256718, 105856.89926676673, 54729.46447713552, 129909.17441051941, 90607.13866213307, 68392.83955904389, 33889.05512683304, 178156.8722784045, 47077.499539041215, 52546.28137263036, 29727.129746508133, 264163.64968421945, 579505.893450055, 77014.47876159291, 131014.32000892823, 68333.62548246322, 120232.30157149056, 564219.8967280083, 34719.501359337206, 73465.83872975857, 3126224.4657523283, 140572.0678445819, 1860083.488689632, 54594.30960824872, 200531.34961665358, 66271.72899562225, 169840.9181449939, 69293.1050797313, 117549.00263784749, 143261.60194650674, 209050.41741837765, 301921.0997087279, 148522.72213334174, 20374.627717327432, 1583481.5091867922, 766178.6406517925, 400977.8922681481, 239854.4787856398, 2351119.1913782777, 1781532.2810944195, 828303.823562951, 278046.71430055384, 637004.2657903526, 1118307.5508664811, 776354.9129955343, 323006.1385505325, 619005.3315986253, 196673.77725998324, 711902.063483945, 1048703.8525582976, 326389.7389582785, 1067696.3982798804, 306476.42604222114, 409197.30674891395, 954216.602600471, 777142.7639735965, 642571.3003697537, 351040.58936874836, 842383.0773391722, 1031486.3146063013, 646313.2698701802, 461278.0945175699, 1321257.1380773052, 281367.96586117445, 1147304.5008345996, 6526232.706688013, 122871.78802457816, 521225.60996727075, 604254.9038957548, 1140184.9884857791, 370867.4194879927, 591531.1657811254, 729053.450144478, 439793.02888462046, 186800.378471742, 439723.7448901909, 223143.91672201655, 943062.11365924, 359843.553635179, 8174875.222048974, 121733.55236990708, 519518.25234674965, 838956.9445907221, 248868.14524177506, 709149.5552856729, 895204.2299254078, 1034176.9990790382, 542293.9882537215, 417828.198700939, 1867730.6323826648, 605722.4363214823, 592596.9599293313, 1479954.5625191163, 251388.06409889582, 842106.7250310746, 2691174.7345819855, 127846.87537816158, 387252.6412565036, 719871.635820223, 413704.7101378225, 199744.25413497267, 128528.00962765486, 356461.5265196982, 1279464.0088478508, 586750.1378653877, 1154769.6376262342, 1171220.420533333, 3799502.57754137, 429547.55165414466, 286475.11771857564, 1752863.2706174427, 18135338.991413005, 388660.95567727933, 297388.33322346077, 3215377.2413252923, 2821770.291151958, 1077414.1741790962, 151480.63881752145, 395167.76626313664, 367860.10549690673, 132781.69736661256, 800852.8190012085, 2254549.1007388774, 320527.33934910555, 705679.8095374624, 509963.9106040601, 3083024.627903768, 1968207.4948313741, 815086.4541607565, 260436.36606905138, 1510442.2612886059, 529688.5249892358, 186784.56242414287, 50430.10254934571, 731964.3728612335, 528942.7150768748, 148015.00186479566, 460241.5005493292, 1159050.4096212348, 117346.53023260413, 478728.819604774, 4357345.269148405, 24614374.234409537, 191890.8491055012, 20520.95629142502, 403563.9898838654, 1722811.0608536678, 4848709.742602592, 2602958.742667013, 177047.15234732546, 47004.38594973493, 140298.67051657647, 796012.5016164533, 371315.77062157897, 833059.7058933995, 588716.0113362209, 473262.9847141963, 280261.5188670093, 5394064.112240382, 242810.40448843935, 145055.3773307073, 634233.51125907, 164411.83340910313, 307029.5762052569, 866856.7014229458, 135058.8216907715, 223739.65311439274, 74498.8298227741, 114304.53188192296, 220291.23216389655, 11441224.818953773, 73527.06461466447, 434948.58908006817, 1672145.1397562611, 313849.3602640087, 62898.483551648635, 744795.9242607582, 1056776.4895179952, 36413.010333871265, 72329.10958091667, 82745.86913471251, 144866.551147931, 58877.658480402315, 152129.61504149722, 40285807.93879439, 254412.31557767894, 341263.4073430012, 111607.66505301105, 9374885.491402807, 403366.16565470677, 70628.4481863968, 179531.18172237842, 102229.85781876865, 227717.25127104303, 417466.97769855964, 2196793.02251622, 39205.037362953706, 2225294.00237022, 10771943.412646133, 656015.2624568447, 324941.0774464485, 609450.8964802561, 527133.3521912919, 99377.00885209334, 158289.36568654046, 37818.05713710933, 7281365.106002374, 196051.37850865696, 342674.53254824475, 256862.3026022027, 270102.8874637193, 5320337.170075619, 94903.28801100052, 483502.8323863437, 24296.610967757693, 162384.02119584513, 350150.9631543421, 512138.36329328397, 2328858.321727224, 2264178.828306709, 451722.23225236527, 1665836.3740297356, 671709.8795796611, 84666.68897566292, 162105.4901517034, 134320.2972095347, 106744.97138908853, 977320.2424863846, 62970275.52947349, 1309176.2194496125, 81488.01397608925, 149828.6375066445, 1896186.2702957366, 80445.40667510017, 1330121.9650702581, 8869275.124870064, 696755.5018632598, 454844.45652387006, 948238.8112411452, 628916.5170883897, 473741.0853578337, 609556.3821635045, 58793.65991096968, 1554858.052871652, 571774.6449634949, 43463.95621810289, 159920.648997879, 311789.594929368, 789426.8733189446, 62311.725959715506, 4494161.152652082, 102777.08494534483, 745028.8728285565, 2408128.2405311437, 328061.8735162409, 250950.76820521924, 1812420.5587994005, 539926.5944700667, 6462.081269940411, 28810.298862626594, 892554.1339552472, 123563.3170030321, 13613.860804021075, 78558.8500359244, 560549.5159107527, 95351.00047018263, 965236.4781534985, 274406.39451812877, 379181.53599709756, 101416.91965199308, 438657.8547500353, 330023.94948339264, 399400.97957032267, 1497449.171571358, 435910.9828959995, 80296.37533590752, 232347.66677010406, 427025.33133545925, 2366.364550114033, 4665252.972906292, 129670.34156341752, 169758.9154572613, 3920478.7265154324, 22438.903661933276, 222998.06180389423, 293198.4488982513, 21774.381524310193, 103443.54747822064, 814708.6883309112, 657284.6693660449, 731085.9518401625, 61440.99642455649, 2367031.46365078, 505820.90334891586, 117036.90187482316, 174039.44530253197, 462494.2851438223, 6351555.11587547, 392338.7041443899, 313257.43361464725, 34701.54683392952, 1098111.269966451, 859072.4285102447, 248171.2687721711, 310293.1129221347, 5721165.737283103, 196719.17084079763, 54694.75015369627, 1687816.834257773, 626606.0218090173, 500123.0712111131, 1879089.044275758, 197277.79303240136, 301780.0515520526, 872360.556122906, 2145832.8479666295, 138327.5623128624, 183116.2691335501, 2179972.8661974557, 67133.95827423959, 85604.50678531374, 312834.7126413693, 218553.80305835325, 175721.86363933986, 21013.86575896585, 336526.4683474942, 962646.3207742134, 240920.0012866639, 901859.7761550165, 325909.0846476559, 200546.90611087583, 398637.87670027977, 1259222.089609241, 135153.72161289307, 62668.60526752069, 313666.62506264186, 71337.12486759193, 545720.1189720224, 51612.168540800216, 3442261.9325754233, 142951.78221388595, 785289.6036150542, 214136.0532158853, 31706.04378751742, 36758.86044801637, 96460.81038091614, 157927.6852873077, 28456811.865330167, 2396993.71515804, 33632.95592852237, 252210.6406149649, 46414.156929018805, 539364.8127357669, 1978931.621444496, 16223902.166910265, 329813.4710884723, 435158.65873571055, 808785.3805147959, 72742.08388556389, 455683.4023788313, 740776.080794233, 974876.0742192506, 1612354.1984604152, 928270.3917369314, 574905.0626473118, 214781.13880437455, 619411.9208362127, 2621471.62729486, 772190.9879065906, 138592.08500303893, 2476285.805319273, 292264.99102694535, 312844.659925276, 5302048.523518764, 664144.1651742762, 150875.27949275335, 1000920.8812219732, 830852.6949969362, 156715.83919091162, 401609.4857658484, 265191.54062562337, 163862.15206963892, 127693.73385448387, 801906.3760732879, 1528845.4258384346, 417887.28414173983, 40072.60932857762, 4328009.677262821, 321720.95739290817, 224761.60451420338, 120773.83854948403, 170412.64749176436, 640155.3492058225, 147173.6034999471, 160544.01198055205, 231685.27942032774, 141833.12841538282, 32304.04108918193, 100773.18781615765, 16070288.666243184, 199723.7589476435, 405575.3343188665, 360466.9068975673, 862951.1754379799, 758874.664267252, 430298.58534033434, 5881208.098407716, 381961.44467534387, 1644057.108743875, 58779.140952797025, 3579277.848463215, 766728.0958999419, 952668.8548394553, 692663.0484014219, 2874019.4561472554, 191897.8942895421, 974022.5530575624, 222102.9914367717, 527391.2348307068, 646448.4175475338, 652445.2681703451, 1509985.1229184256, 1300237.4392511288, 1194903.4204348393, 1488452.9354311395, 281212.3707407399, 423297.60343084973, 2747521.869076721, 1314527.970350932, 1292832.8418816724, 6646083.086923481, 94747.07583144096, 1708852.5804827877, 580613.8584832501, 158951.2726216353, 786644.2386502161, 56153.06933453623, 1326367.4842693736, 1357357.9215677388, 1181767.3331361646, 592717.6878470674, 34866048.06619953, 4536561.3292896515, 698140.8014532356, 401016.43845791474, 1370366.4595539984, 251439.67321378068, 1133175.5826285023, 814935.8113070693, 534711.6369873346, 271350.9624347391, 13300204.809118904, 393719.13678275136, 2071609.005402415, 183194.12009384134, 11956283.598194852, 8173267.246808399, 826129.7401632755, 4162637.1786355926, 85074.49745706952, 319225.9560899412, 3281001.9525624723, 682126.431856959, 3687187.2492691274, 321257.3144192589, 1727146.684285079, 523799.48690382484, 348321.2884404576, 571668.8162440488, 2121332.4290799065, 151752.988893765, 230061.4604323053, 142626.76525866962, 968705.7865330206, 178410.26743272017, 266323.10291440185, 882838.9300304947, 492693.1066605019, 752635.1304189367, 371922.34635120333, 1616685.1879562142, 639480.827352846, 968328.5171350401, 4564473.0563258575, 422183.9266975731, 501703.8852552569, 749989.5825782324, 538684.1081421248, 1277277.0472648405, 719595.2961977385, 573792.4384652886, 1366090.6259071783, 641329.2578731157, 560906.1232954765, 1682434.8404057065, 316299.84816188435, 438054.6725386109, 595722.6362803372, 1072649.8917107705, 245805.56550456025, 168516.24861414585, 284192.6892720417, 680121.4066450422, 1194187.1064157304, 1653185.6578135889, 652542.1868116469, 285629.3823765737, 351868.67506956094, 286614.3646394125, 320805.77599380567, 196293.24151270263, 238161.4371678182, 508069.07225753303, 877383.1901175192, 224009.8894220517, 445943.3595778285, 159586.1026039575, 2025270.7752174956, 532445.7131762311, 617260.8176669086, 617260.8176669086, 410273.762810771, 1044667.2488428422, 476342.9012448236, 4714584.28040687, 317361.7445491539, 536983.3426033014, 947925.9210546112, 1195617.5600092988, 697511.7258843988, 1223712.5928489224, 397904.0644569727, 9145730.281656485, 1815293.6743911572, 883595.2212960535, 986630.0523602397, 795445.2663718609, 1847785.0648410935, 174154.13884547548, 2088778.4675725137, 352290.30978557543, 1031835.3363978639, 764369.879209194, 501429.8475494684, 528500.7319396355, 227519.97786414938, 406176.11444510566, 1624712.5479722463, 592819.4495422182, 3131426.5772773405, 462021.4599713308, 2146603.0369417844, 357241.3454886006, 525081.2635420889, 736030.6745551754, 1817040.5252287292, 2724171.280490223, 1221182.0829364322, 413903.10870790295, 88046.37556725602, 18268271.64398918, 856612.930818579, 974377.992219559, 1186889.930558253, 3349148.474930007, 1972547.1662941182, 164299.12762197253, 781151.1015527218, 1067813.5993485176, 1389186.8064626837, 450028.32184241747, 3997442.457662702, 402407.4227796587, 3281002.830463234, 355149.6463899375, 1459955.4135589467, 1259531.2154295943, 557863.4238692983, 907783.8634138675, 2399378.824785925, 436403.1907117926, 614001.0456688699, 611076.1803657281, 946321.8255709306, 2312294.559490153, 485752.53918291954, 2698119.785181421, 8479315.974738507, 1171666.259505801, 637916.2619102326, 3315903.9496125113, 1646146.3924361186, 681207.8252354688, 254789.63440840843, 775863.5742511032, 367225.59219592216, 276141.56948498666, 151841.4019983639, 736778.6662018413, 292651.9360878765, 107462.01572040467, 181045.32900401397, 1615586.345330545, 318139.5969569975, 1424248.9282212884, 65939.58482064222, 541091.6795806808, 235980.92502271058, 602284.9587314875, 152296.9818492454, 807229.1569635764, 437190.25120133674, 425134.0145219514, 169685.62121003517, 167704.25141245703], \"xaxis\": \"x\", \"y\": [66.08134430328226, 39.87550284366764, 60.9731985940246, 32.33188720173536, 26.905889415060365, 32.17983651226158, 29.981228211316708, 50.37688098227662, 23.75171408570908, 45.169091471908374, 59.081170053424536, 40.650875027862796, 67.18142769482512, 34.70604019263088, 46.12506759027869, 28.893833439287985, 26.81049709815796, 22.064073880135194, 35.23333778103943, 17.90347084258502, 33.22386425834702, 21.952337305224564, 34.10189031109604, 55.08164757494516, 40.95294818344253, 18.56067914335327, 15.678233438485806, 18.083333333333336, 32.66016713091922, 30.109383995394357, 30.954792137311415, 20.584450624714624, 52.01930714242072, 25.525785076346875, 36.35334088335221, 48.414985590778095, 35.11870295309786, 33.70875284779893, 18.235376630663488, 20.218792732955656, 31.776737030249553, 15.463414634146341, 18.993788819875775, 31.220794392523366, 24.54407899976109, 27.72031443938767, 19.33572216097023, 17.57314974182444, 26.812021213906895, 24.03663929248263, 31.31765584173199, 18.43947413351545, 49.96488764044944, 26.63225806451613, 23.68166892022407, 18.772036474164132, 21.805492140108278, 21.262413277105153, 20.405171264827402, 25.682134430395067, 36.93080538000324, 40.731534090909086, 18.87425768138394, 32.04288266825491, 17.733866933466732, 41.489251220272095, 21.871623081910524, 15.167216203485633, 18.93365243983513, 14.676089517078916, 23.62475442043222, 18.9149125407649, 59.98434889030102, 17.836171462125662, 50.70343275182893, 28.195719728225566, 13.601802309208674, 14.630505100771336, 30.73186253712346, 21.453287197231834, 18.477398889770026, 19.872010778039744, 33.62437526344312, 20.404764954527987, 46.489720577939025, 19.34321965149106, 34.5718901453958, 19.047619047619047, 80.22962497272246, 64.23751686909581, 36.55725943861537, 49.55578744112111, 36.98277131497571, 40.68584348699912, 71.6387660650689, 40.84002794271743, 44.447984294546146, 52.91124944834146, 35.37902940134609, 65.04329633288778, 61.16738751043327, 48.876700769960976, 43.69418070544449, 42.63532308814811, 51.87847222222223, 23.35419274092616, 71.04318512649395, 43.12572130598265, 82.34093491055899, 39.766536964980546, 66.4159128669005, 54.109188102627535, 26.509912402028586, 59.56657265845332, 69.53314254681693, 69.07323701505781, 56.16330439618154, 53.492516716226646, 45.472880685227025, 40.520611229566455, 52.992606872368995, 61.36908490999458, 61.163734776725306, 54.20884709922693, 60.226204874381615, 85.27436645634987, 55.864416886525234, 55.304012374672006, 77.90448752041179, 64.88806119188368, 72.65737982086296, 78.90135086604603, 32.29278794402583, 37.82383419689119, 40.908315565031984, 63.95489503524736, 74.53364746581572, 49.25678065488933, 40.72936210131332, 31.02607847916159, 45.55768616171301, 45.02084014383785, 39.40001973619289, 59.47224732551373, 69.49950649777924, 37.7010105079397, 56.69223779031679, 48.142930327868854, 60.998677834161, 40.879265091863516, 14.247191011235955, 32.189973614775724, 77.18607934559533, 62.354177388917485, 52.198002478676095, 11.53169014084507, 55.0397067806964, 45.211170090006924, 61.66924265842349, 24.97142857142857, 30.599889928453493, 30.392359318533813, 79.55091956620547, 23.533471359558316, 45.18715538495417, 63.788606726149624, 23.652741926987307, 42.74552658183076, 28.833587666784048, 49.91910432306498, 53.105590062111794, 47.72036474164133, 63.73547810545129, 40.348101265822784, 47.117566954153425, 19.97716894977169, 57.87516860691599, 10.852713178294573, 17.101524153965382, 58.14188336278717, 57.610676535733305, 56.21874136347832, 43.92664238161035, 17.729158807996985, 21.059627800987464, 34.799496810928915, 41.93121693121693, 17.122117847993167, 37.651612903225804, 30.84423401011155, 28.20139697322468, 37.646198830409354, 58.83084577114428, 39.89422294548413, 19.557344064386317, 75.17772016392071, 26.218306060061142, 49.572475339471566, 15.19913302628014, 39.57176843774782, 62.704432329936, 55.591619946886986, 60.854092526690394, 76.23858558383525, 20.816044260027663, 68.35326586936522, 31.158864159631623, 12.267287234042554, 39.564467442863304, 15.75988757277655, 51.194484343579425, 67.80643322022584, 43.819964128888614, 92.14969392140692, 62.7094591288178, 14.465274818917766, 27.478999710340833, 23.15018315018315, 41.07500836437137, 64.47751240048352, 18.494722349701696, 36.267780847303484, 29.010151197155952, 30.737205198138938, 37.26672588040426, 26.937024054152058, 33.5989271063427, 16.701333659610913, 51.108039687470274, 41.513906447534765, 39.18236104731282, 30.90829566992273, 67.97828465617373, 17.522160379303237, 26.6192581203152, 24.29025942241801, 33.613013698630134, 27.02893436838391, 38.04414942883606, 34.3737975263399, 32.421568439790974, 52.7074452293059, 10.178453403833442, 38.71905054225496, 30.13003206270039, 46.02031176192726, 13.942044833242209, 39.51663661617238, 40.034374293917985, 63.32244488487607, 26.76299331464309, 19.46704067321178, 39.89140849568828, 41.4609696880518, 36.56675589597296, 37.287501768712985, 53.31395890642635, 45.462291402564475, 26.417720444708475, 29.336234292420105, 27.464964964964967, 60.85030277729424, 56.314119635951, 55.97345532792073, 39.347236312086736, 49.442138708855396, 42.16222029730311, 28.90286090824227, 36.06387004580704, 48.81780573139386, 25.7579432452098, 44.31967874500385, 50.67948929761131, 31.677534980134737, 21.29933038894429, 22.67705661866246, 16.8453047512398, 42.3794825857083, 29.00585429314831, 23.605434410320814, 19.027158492095666, 21.32837789233905, 26.148969889064976, 13.389031705227078, 50.0794477014958, 10.58970571525963, 27.565201339627123, 23.960211623437097, 36.46341463414634, 16.388996512979464, 61.39374593938024, 22.97581493165089, 9.024012393493416, 39.29577464788732, 31.579194001874416, 37.372024996675975, 48.75514788468738, 27.814119446096335, 33.63306315433975, 28.63913337846987, 29.808716084737675, 21.268370509005003, 24.156811213315812, 58.65237595562884, 42.16182048040455, 18.44776119402985, 29.54774563281088, 70.22383262228975, 84.98540197963398, 26.08240223463687, 56.3424136372179, 29.650322071775996, 26.033700180314618, 36.282406085952914, 29.267945984363898, 31.5238479667704, 26.46673221894461, 37.143923373553925, 16.962604250739844, 15.459237609601391, 41.11120667412058, 83.12396845772969, 26.90210656753408, 46.552984165651644, 69.60154059641471, 61.954932920387286, 11.589174184594032, 24.4535951853025, 31.392432668193216, 30.35469950531523, 31.174947021426892, 17.313131313131315, 45.928076340755354, 28.832116788321166, 32.63833571787634, 14.797956339990712, 72.64391917651544, 17.742813918305597, 9.897828863346104, 37.82155106707317, 18.241584487995674, 33.800317549266836, 36.347470436560855, 58.43137254901961, 17.438332028191073, 27.651536073705024, 71.66866746698679, 12.57720381807973, 27.297283777699967, 24.805531547104582, 15.284733815618623, 59.6992064655945, 43.07766328535344, 24.184261036468328, 20.286700292009556, 23.03767660910518, 17.813203950788427, 53.14053912588328, 36.6425470332851, 29.804878048780488, 32.66069758118402, 28.930191392853192, 28.49552572706935, 35.51850059395486, 27.270551633361258, 61.241759783066065, 30.86021505376344, 35.94413012729844, 43.3976917268903, 20.127486961560752, 39.866092778574846, 39.00836320191159, 61.282711282711276, 22.83591082546696, 36.175496688741724, 39.41344120621495, 44.57212986723195, 28.116983068240124, 24.684820978315685, 28.658067822670198, 14.958736760023395, 61.49386042238307, 54.93095374177253, 32.43006993006993, 29.959414586151766, 34.788311764361424, 47.19011558389797, 16.405702266884788, 12.157382847038019, 14.039179104477611, 21.024196792919135, 29.982754372998276, 29.084774356811472, 20.735785953177256, 67.94612485060219, 69.91899028778589, 20.307692307692307, 40.14785757392879, 39.12870235090982, 20.06731173748422, 59.39698492462312, 52.0, 60.02271436683703, 60.452586206896555, 25.186361969937675, 36.1292003125814, 34.318024463420265, 39.848075779069234, 32.68439476754898, 26.9287154113982, 19.425993232234614, 30.939226519337016, 38.530400346101366, 37.18354430379747, 45.994599459945995, 18.0012853470437, 32.55327392483534, 19.653198882605437, 24.820432527644584, 29.67164599774521, 55.41305167861184, 50.005285971032876, 21.028329942087964, 45.97122302158274, 30.153172866520787, 16.272948164146868, 29.037174114189302, 26.27247790307833, 42.95088486776695, 43.50104821802935, 25.794291868605278, 66.8811351265174, 62.51249627074643, 63.36388333283578, 66.58549631214458, 46.47035919025094, 10.558069381598793, 19.64608887995174, 67.11565956806382, 30.400585330162794, 13.286219081272085, 22.106824925816024, 28.626258157283484, 12.750074649149, 15.204071035413854, 13.183279742765272, 20.760330578512395, 27.174265371589524, 18.663101604278076, 21.34020618556701, 10.159118727050185, 19.13574780837687, 28.13923227065712, 20.07859281437126, 25.749396009186626, 42.55156608097785, 28.022045315370487, 42.08719259022676, 19.247524752475247, 38.126000457351935, 24.422799422799425, 34.19186263531168, 30.32294404806609, 59.71037845416593, 26.708151068942147, 23.814075755765323, 16.3955852454255, 23.38399084001249, 35.58761249338274, 74.22304983346689, 23.32380044486813, 19.524705077791076, 51.5339091156235, 27.2546336609031, 26.65525114155251, 57.660188262599874, 22.978567949342427, 14.497920380273321, 19.50758570003675, 18.12227074235808, 25.175828907707764, 25.4968128983877, 38.884238220521404, 23.261032161555722, 21.628988295654963, 35.976977126625805, 19.060837381448067, 24.67227965469466, 20.767807585568917, 32.547299149986294, 38.21728106104935, 20.707825963113294, 49.21648032397218, 18.027210884353742, 26.476672029418523, 24.757525083612038, 40.790419161676645, 19.86046511627907, 56.13918563979592, 40.50840344531266, 51.84849384877522, 46.19534723121412, 60.78260221940865, 41.87721589848852, 22.13383247543285, 38.97201946472019, 26.812688821752268, 28.813686501088014, 40.49647116086639, 47.48751351942544, 50.2740682252509, 40.06985524217157, 30.598255089322805, 42.174499580705145, 25.860294958271407, 31.654562677612887, 29.255711127487103, 25.300674684658258, 29.18591224018476, 36.88294163949173, 30.97708195793643, 28.447585051358637, 33.105067501467424, 24.600355239786857, 35.88611449451888, 51.89896030583443, 25.94358363130711, 33.79352350015227, 18.631512868801003, 19.89889705882353, 33.8654503990878, 39.41089837997055, 24.091213950368882, 22.656927076884983, 54.806040599280024, 53.17493053988217, 25.151050590675446, 46.70103584896654, 27.258805513016842, 20.85308056872038, 20.668592653735036, 28.26916406520985, 40.952467097824616, 35.82626017668456, 28.964510332434863, 32.64809133748695, 22.40300375469337, 38.99545683997981, 20.717081176619114, 13.966348982233203, 20.414479881577176, 44.665184267123536, 53.29402048711225, 30.32806371092357, 50.18209866726041, 28.74206793579694, 22.774297980153424, 43.287121920060564, 35.69477024975852, 25.71481965987666, 39.5742471443406, 25.955672252683605, 19.850248229836414, 25.300590992459753, 42.485111327841295, 35.09753048247678, 17.808333333333334, 24.89326155559681, 29.511395854044697, 45.56209052623982, 26.403439414904128, 26.3623395149786, 32.7434281776115, 23.865612204834818, 32.19024290671565, 31.86930698171792, 25.40128661545188, 23.371615391063795, 22.148029718799965, 56.77044499809053, 37.69621377406213, 63.59357113891042, 19.653965785381025, 22.351965729289024, 63.12014061535051, 21.723577235772357, 22.7491961414791, 45.94435261071103, 28.79268661226957, 23.77538109296861, 22.11296016137166, 25.126306838077134, 23.93818100956193, 21.131208728107953, 28.67263734794814, 23.97091108671789, 34.40875754181871, 20.839857651245552, 27.153859931936235, 24.117110959216223, 28.680871438831694, 27.314814814814813, 34.70762597682565, 29.020871700429712, 31.31578947368421, 35.24108728315804, 53.529650263541214, 41.08865710560626, 40.959714010724596, 38.695006497122705, 36.25566303416187, 29.93331686836256, 27.95739825028528, 30.47198941332157, 30.25013743815283, 40.52134915444268, 45.968656779126924, 29.702362687941086, 33.6751621173277, 31.391862955032117, 29.680008919611993, 34.81342505732749, 43.79633005225422, 31.031590718479173, 47.97936524936632, 24.69527059970746, 29.44269190325973, 31.560531840447865, 44.56303868510724, 32.5595873354678, 47.578162667358974, 31.320832474757882, 37.64971529550363, 39.492031872509955, 31.69590643274854, 28.00103707544724, 34.98121415859205, 30.31885651456844, 31.15680426934547, 35.7925217172353, 27.268308489954634, 33.10713093781288, 29.920294297976703, 32.809056301342416, 35.740217829770074, 27.06964520367937, 23.824369966224992, 36.4093615274071, 36.18320610687023, 38.332342449464925, 48.20850541355062, 70.57399434711571, 38.33833833833834, 26.664152366584954, 29.658965896589656, 39.0880841400741, 55.605768174614376, 32.37059264816204, 27.73218142548596, 15.547136820632376, 31.901465798045603, 25.377060680462993, 32.12354409317803, 45.081605646228496, 30.333817126269956, 35.26279628993473, 29.758883248730967, 26.36986301369863, 29.716538389337337, 45.3388805573025, 20.778704807310287, 18.058894230769234, 27.70988310308183, 30.63735377168213, 24.626444882999717, 24.404917603975935, 56.520646944020406, 40.60641832808675, 42.465483234714, 26.1238025055269, 25.094850948509485, 28.83002207505519, 15.846937168652564, 57.16329009757436, 39.53359858532272, 22.960911049553708, 33.322554567502024, 23.08098127143234, 37.23533550821979, 40.51032571925642, 38.767530811729706, 23.383724670312, 37.105824262147905, 35.76214405360134, 46.56001326259947, 41.23274987875314, 36.12494341330919, 31.915574032619126, 26.64630006788866, 20.622362869198312, 31.706989247311828, 12.425277540563622, 21.024258760107816, 23.082684242061113, 24.692462536345335, 28.231857318573184, 23.138832997987926, 12.934716290420988, 24.035933391761613, 15.675297410776768, 13.402061855670103, 21.37733142037303, 21.581046211588085, 21.11719605695509, 13.755458515283841, 30.025999578385214, 37.122258936617605, 14.552736982643525, 22.03444218633009, 18.495551361552977, 68.55197915791244, 18.93780573025856, 14.327700220426157, 27.07971014492754, 22.71293375394322, 36.652542372881356, 33.056646102075156, 29.574416927145947, 41.47662188899302, 11.284840244731475, 17.053103964098728, 20.71171531387445, 14.903846153846153, 12.168486739469579, 18.492037699057523, 16.41443538998836, 17.214339058999254, 38.979721532150904, 19.00709219858156, 14.736842105263156, 28.569258809234512, 32.65180944592108, 13.022113022113022, 53.06784864665596, 18.350515463917525, 19.042795644466953, 13.390557939914164, 31.005488730585075, 12.849162011173185, 38.05426144149082, 16.846105129829006, 17.756638921918352, 12.757201646090536, 43.28710323134115, 28.632774622523893, 24.807723776795942, 24.61869378177552, 14.410958904109588, 29.252383341695936, 17.99419542083199, 24.042901832265752, 25.14660227664712, 12.520868113522537, 16.308937368050668, 26.116038970481313, 9.847984137475214, 15.072463768115943, 26.58369632856254, 14.447300771208226, 15.85709808837355, 23.47572106608251, 11.434735706580366, 25.322938164029658, 22.552574329224075, 14.22872340425532, 31.802727175119, 15.957847196085812, 22.34313498495022, 50.71312224385205, 12.560207484253427, 17.59093619558736, 17.306028266512836, 33.4841628959276, 12.701784197111298, 42.85880333321412, 34.62410275783906, 50.217728848780595, 10.173010380622838, 14.521452145214523, 15.782057303898544, 17.551622418879056, 19.072164948453608, 11.669128508124077, 23.7097364568082, 16.404199475065617, 14.846625766871165, 24.705279343926193, 5.333333333333334, 16.4758931668401, 15.392561983471072, 18.28528072837633, 19.016817593790428, 64.7847142731355, 23.756804697535017, 59.12847969621381, 15.780176643768401, 22.588385858262676, 9.270421949698607, 22.51604122107719, 10.254452926208652, 24.224806201550386, 24.86358675882139, 14.570217139920338, 47.04209038104485, 39.04399204726835, 66.45111346218357, 46.400230017251296, 54.830856334041044, 48.57079239611456, 58.716095437942016, 53.759430363651774, 44.74392667136722, 44.22826584104422, 35.49656842955188, 56.277560529162166, 36.98237725723403, 50.760690789473685, 38.95258397188454, 54.904788715014, 29.88805848373095, 55.81831746964798, 62.27743341077574, 45.98986011850223, 32.25908572875776, 36.33717742980454, 35.4157009818381, 69.46635679009587, 42.917944545283845, 53.34271881330906, 21.017231439369674, 42.57824625808106, 70.70446078377817, 49.370020381693536, 78.60395963302062, 89.25586376528463, 35.35490260812149, 41.566513967484056, 41.79560461220065, 49.04455774772777, 38.42488086280411, 47.7194045352259, 39.63270329115522, 87.28170099511078, 61.19674039580908, 72.44133099824869, 54.91891620923879, 77.4652289420222, 63.4358158638209, 70.72872014696877, 57.727441480999374, 72.12192956496006, 71.46971260235046, 71.73555981385162, 67.02914278567067, 57.52842791634638, 80.64156489129884, 57.58447642900462, 30.327056491575817, 40.035101404056164, 36.385147704442296, 35.35859508515528, 37.369114051037684, 31.412071113124224, 36.520879663948605, 44.69820554649266, 45.33707933201739, 29.937296456520684, 43.567538208536384, 34.791555521682795, 40.81284554758264, 34.2596093257719, 37.620960896383906, 31.90549248235655, 45.83637615540301, 33.9905864393843, 35.93329238909623, 48.65608531409828, 43.5029266096353, 53.94548970702525, 30.954498802600067, 43.18896685216549, 47.5183062191445, 34.95404219761855, 25.246759934769546, 41.817298872281874, 29.769005530853487, 65.1760636457973, 33.844577602533455, 34.982746272543785, 36.688741721854306, 47.849297833996395, 39.49317401930531, 58.21796780432151, 28.258210219252845, 51.90577602470506, 36.133922931143395, 52.04757959521837, 39.134176457382324, 37.90969912812409, 37.46619217081851, 41.60365147489611, 54.50066577896139, 39.36106806532364, 34.98410891323941, 34.1969732984708, 22.46972812428604, 37.77821051787535, 30.227414330218068, 27.76735459662289, 28.94804574033901, 56.357167057614, 29.150239073903194, 36.56677181913775, 26.045380875202596, 27.533853098071397, 32.140678999796705, 38.352112759538386, 34.895708463198275, 34.36211254489823, 26.579345985921766, 33.487881981032665, 29.55324129041012, 42.91955138849858, 72.607638920977, 31.915591515416576, 35.98004987531172, 47.786692685144835, 33.962166898613475, 47.23634709992145, 32.70440251572327, 35.40685944855414, 50.844636764583505, 32.476938845234024, 49.57533506799548, 46.373623061738066, 34.67658155175242, 33.67115413704432, 34.15099797512294, 50.73668538106021, 26.762956669498728, 65.58066211245402, 30.031111838873425, 34.16722674433077, 55.72926000632962, 33.47009108065972, 32.55948686116284, 31.98129896386151, 37.484556461576474, 40.962064454750866, 41.22782511523956, 35.57744937055281, 70.45566683289923, 42.42132867132867, 34.415734670266104, 29.45327006395709, 40.60841082790558, 29.987970441656643, 30.015148236312488, 36.11931356186074, 38.12050018946571, 38.413753250505636, 35.79207920792079, 50.63871146903638, 27.865448504983387, 33.72577000832441, 30.080256821829852, 35.94198402233771, 30.63583815028902, 48.26388888888889, 25.327596323097985, 30.020891997456626, 28.583043831768794, 29.981618898495473, 22.32845894263217, 46.001550788317395, 29.59558823529412, 50.3111111111111, 33.65461847389558, 40.80209241499564, 54.156590250041035, 32.85255089425534, 35.289267555311255, 33.86663333541654, 26.437246963562757, 34.87879953828396, 35.27485046995158, 71.49879889315723, 31.46630236794171, 28.42829550941574, 30.708661417322837, 48.764221263240486, 29.69465648854962, 25.98266239163995, 56.64137336757828, 45.51810379128062, 32.483996259800044, 28.59678182678656, 37.57765073377733, 37.47160166603559, 37.79744346116027, 34.353937993452725, 24.786905031304215, 35.46137339055794, 35.78450049531357, 26.35143936433503, 33.65097699489845, 53.46072212295996, 38.2041915016343, 29.912536443148692, 49.06708865417878, 34.49154393031325, 30.535455861070908, 57.54051893306199, 17.615399227505858, 35.9643102264928, 40.14507537118894, 39.146654231755655, 64.26461901949203, 28.861911987860395, 30.328012629363272, 46.80014740203906, 28.060620412029362, 84.78309732524163, 34.03693931398417, 57.35597212680341, 70.98529582030798, 50.221221765116816, 36.475366036122686, 37.13020860700962, 43.45422379478107, 33.17641784353284, 11.023622047244094, 16.620784583620097, 43.38740720373935, 21.491625709786707, 36.595924400802446, 73.17592648938113, 81.1829944547135, 71.99809023633325, 52.51479289940828, 11.544505037434144, 31.855600168674258, 49.690934065934066, 86.12477349210458, 57.90828640386162, 28.3041440962414, 61.061759729272424, 42.99193100798361, 25.76794804282956, 41.47598169424265, 34.17510963254196, 42.358695652173914, 32.984250690047084, 70.21022675112457, 29.998214392000477, 48.0415550089938, 43.47826086956522, 31.099614026443295, 50.93886324840362, 34.03441682600382, 41.793103448275865, 27.856105272152437, 30.197387803201416, 75.66960104888555, 52.12835956876044, 47.373136238561464, 17.25960138143386, 23.02231237322515, 49.85584131011417, 18.202075064410554, 20.227358136039083, 66.6460012399256, 26.674686858679497, 38.49774277206801, 67.10948236371965, 34.16842996191282, 21.508346343220847, 22.873825844122877, 70.04441689908067, 54.61741424802111, 31.94836935767204, 20.020671834625322, 11.588969139855548, 72.43121841661988, 17.03067097689821, 39.823008849557525, 49.70830145371079, 69.43025322079076, 36.0381861575179, 19.332715477293792, 66.61012842258299, 43.74187960155911, 42.61667941851569, 52.66385588348026, 78.83714118336262, 61.21972652423837, 19.35222672064777, 82.28307908485496, 28.404875463698993, 52.06939799331104, 50.978504972730185, 20.380766414449596, 34.330686330119114, 8.564814814814815, 38.7514103046258, 33.42327150084317, 25.83617747440273, 19.230769230769234, 19.93782383419689, 52.38192598650583, 10.920634920634921, 22.990625480252035, 33.82608115323011, 52.190084391157946, 5.043050430504305, 64.26918283781377, 15.50695825049702, 30.352045670789725, 41.50654413812308, 32.20463746779536, 20.461309523809522, 41.597497894863466, 46.712409795338935, 22.99168975069252, 24.13382140120882, 13.741134751773048, 29.094792180055855, 23.243243243243246, 26.765509168942646, 60.643401636478075, 14.335300242971192, 45.651046169808055, 11.206896551724139, 17.46431570109152, 30.150250417362273, 13.556338028169016, 23.655237496067947, 16.93548387096774, 30.739818290244504, 15.091410831321145, 47.547921334329104, 31.778425655976676, 23.878247179218054, 28.27586206896552, 55.69728802658377, 20.195667365478688, 22.444807849550287, 27.37156836096765, 22.0386974988202, 16.956521739130434, 24.172729406242667, 21.06741573033708, 12.876254180602006, 36.60061321148638, 28.83179170948955, 12.615126988557074, 7.394366197183098, 10.487804878048781, 11.041009463722396, 15.511345974510412, 20.285659139162323, 11.71875, 11.375818939845146, 26.921609361088734, 28.491021173948006, 19.41725978647687, 31.035840882237103, 14.511609287429945, 11.345381526104417, 11.481481481481481, 17.950871299601094, 17.762788083192802, 27.57600215227334, 19.5461694001348, 13.100801068090787, 40.368731563421825, 26.255763164280516, 27.21229293809939, 13.662790697674417, 21.115796302302954, 32.85333333333333, 54.683368431772635, 10.552763819095476, 22.112316528398214, 16.009280742459396, 13.125, 15.340253748558247, 30.576644974692694, 13.472803347280335, 12.406716417910447, 19.230769230769234, 5.05050505050505, 18.247011952191237, 31.51674326986211, 20.206036508223388, 14.626556016597512, 6.367041198501873, 11.91286589516678, 12.389380530973451, 13.378684807256235, 18.50899742930591, 27.341227125941874, 29.02646926873037, 19.450610432852386, 17.4839596700275, 9.262759924385634, 14.316239316239315, 19.267617628273364, 52.721681189133776, 21.57642381008069, 8.444444444444445, 16.519823788546255, 5.629139072847682, 22.06152870282271, 17.46180963572268, 15.09581540868205, 19.616438356164384, 26.906222611744084, 17.7594442032132, 29.949482800096224, 22.533240027991603, 12.888601036269431, 15.015974440894569, 11.982026959560658, 20.804084237396296, 18.3872088981578, 14.878004035956705, 24.145454545454545, 9.988109393579073, 34.42765329164496, 43.076842655514895, 26.146716933710334, 27.120506852857513, 26.668125136731568, 12.734082397003746, 20.200235571260304, 9.876543209876543, 16.83011705156596, 20.920080591000673, 10.53864168618267, 48.29961256995265, 17.60683760683761, 28.642811089619602, 24.333333333333336, 17.8705189941145, 11.752988047808765, 22.832329457907267, 23.662759102554148, 53.66346858003308, 33.91271213764399, 20.809567617295308, 15.0, 10.317460317460316, 21.716129032258063, 17.951541850220266, 13.49141455437449, 28.026067683350426, 35.41039965620971, 28.7150263168309, 23.57758620689655, 31.380753138075313, 50.87809814061569, 19.61952784781114, 42.83310901749663, 43.934153382050816, 50.0390718922818, 57.698050038456316, 46.22458857696031, 61.45696345551872, 52.95360110803324, 53.99334720259882, 50.29782399983915, 56.5869603548129, 50.81409178526022, 52.70832887003593, 57.67219455923074, 59.11675953937178, 66.15813102760227, 41.386974111437155, 52.464427637482366, 77.26947592170536, 50.182302988145956, 72.62437462477487, 46.83768191638375, 69.38234694570905, 60.436155379018174, 47.85457552721142, 51.270400686757455, 34.97815622108481, 57.70807350686389, 42.68321443311125, 59.81577432354634, 39.10587163278091, 67.29290765284141, 40.96435093029759, 61.00306030149169, 25.59774964838256, 28.43202780376955, 53.29664158148939, 43.400930851063826, 28.52128998079597, 25.638179800221977, 58.030517539719995, 23.357161312548445, 52.580533425701425, 56.37277295568753, 35.445544554455445, 41.6919959473151, 19.41390190266756, 30.991655346400155, 61.44960546652567, 43.97136862890287, 67.79241516966069, 64.93273542600897, 35.997624199227864, 30.20914020139427, 66.20899069245495, 27.269975786924938, 52.83653338959806, 29.838168071232047, 68.40690313069118, 76.04558113515026, 38.09924306139613, 51.98324022346369, 76.36924509632735, 32.19338003021563, 21.40860816098379, 44.18936084518388, 64.5511709852629, 29.102107593109423, 83.28564096434673, 50.528827550625564, 30.057662065350343, 44.442935151729195, 38.930950172835345, 42.212636386703885, 36.94536945369454, 51.697539552953096, 57.247964055040725, 47.83430970063195, 39.77638562603324, 53.89221953123966, 56.455394598430985, 51.60788381742739, 48.02262819182064, 33.440148416747476, 32.94314953622891, 41.065333015797414, 34.04624277456648, 33.896050746879475, 39.38646382969003, 76.77981329877764, 29.489355137303303, 39.734403362950225, 43.49933891582195, 59.25262934100459, 37.69136269136269, 54.11132764521888, 86.4185677251642, 86.4185677251642, 44.20637131085351, 41.15161378877603, 58.87752681430774, 48.48060708263069, 49.238143260364325, 30.775586647570783, 38.799588975742225, 46.20726495726496, 45.27230506875657, 72.03182359047065, 51.592388772053546, 41.97917579705398, 50.299266101312526, 43.11354577237402, 51.615845614564094, 56.584540354711045, 34.02291534054742, 39.96518533688306, 44.22978505629478, 34.19377192602538, 49.272909023428554, 44.705169278725435, 38.480587953347175, 73.26000840949831, 59.50523506466845, 48.803563030789235, 41.10100220342597, 39.02788025130234, 67.57381630057704, 23.72853185595568, 39.416331493779815, 45.08767855069098, 20.474191158310695, 24.403880940634764, 51.64599875100365, 26.28953848096471, 23.172924378635642, 36.57869755078792, 60.423486088379704, 42.73953406901384, 36.93969436866503, 59.69641487492887, 29.36252126421345, 44.48595261245586, 23.91010082150859, 25.81891483285738, 28.29566194019374, 40.2951662382887, 30.776326824008628, 55.09687769961743, 21.77983101331226, 41.64956387891226, 24.608922363847043, 33.035227184163354, 35.67355262660977, 39.84174830444612, 57.381882408885566, 25.96558554097549, 40.95893799472295, 25.559145129224653, 26.4990328820116, 38.441408675596556, 80.38353174382218, 63.101121832588056, 56.1423114938932, 42.48334537282286, 35.452822186253044, 42.56813241932787, 19.374866195675445, 46.060165121943506, 43.69441277080958, 60.80845128810475, 57.91415726524727, 37.89991937282349, 35.91587813816113, 39.77389066019247, 66.74800563115907, 54.52949600406522, 41.78985217738714, 33.09278048494673, 44.717456173069756, 37.04930987724167, 39.710669077757686, 41.85076684473548, 47.84091708277657, 26.420126587317384, 25.32679028965996, 29.970640612215433, 37.42935695738506, 47.11638726237267, 66.65555908177299, 20.618442849254556, 33.64173534442544, 35.609137490788825, 49.62324051407589, 50.14621770867356, 59.89691743483001, 33.59173842022204, 74.76573981541355, 35.45858374706036, 49.41430797848273, 34.28880634122086, 33.21338131414101, 38.64943840745138, 53.88806510569329, 36.55339805825243, 21.294465729517473, 42.15063083887124, 40.300025425883554, 33.44976887196972, 31.468598113027735, 26.523620103945877, 38.28375925150119, 48.636209813874785, 23.944035346097202, 20.54192745791704, 24.625531652592, 39.32663743103692, 41.35161606268365, 40.80325960419092, 37.1796143544978, 59.14454277286135, 62.24389842497631, 62.05759720740812, 55.19857927026154, 53.12626058894716, 43.58586676746404, 21.179533620104145, 50.92131413008808, 18.86499222940793, 32.43053112908899, 20.33096926713948, 32.70440251572327, 41.917389087200405, 11.338582677165354, 23.653125900316912, 13.759806879903442, 11.861471861471863, 28.27025003448072, 46.844386598956454, 23.465346534653463, 25.082508250825082, 22.04658901830283, 14.627887082976903, 30.37272006344171, 11.796913887506221, 20.97862767154106, 13.352826510721247, 41.58863416209235, 14.98913830557567, 24.64, 14.939024390243901, 15.136986301369863, 23.749436683190623, 11.895910780669144, 18.78121878121878, 17.938144329896907, 15.089319650323072, 22.21820809248555, 15.058823529411763, 23.29863409350743, 30.15606242496999, 32.97692740574001, 12.101313320825517, 23.596517562293606, 23.355263157894736, 30.51005212211467, 38.50855745721272, 16.67930250189538, 32.13005632360471, 65.24710830704522, 35.65217391304348, 12.807881773399016, 67.79089376053963, 10.304449648711945, 16.6046511627907, 36.029411764705884, 26.870167687518826, 27.001703577512775, 36.09767891682785, 27.869537946895257, 25.81958507399278, 18.618365627632688, 15.131854332356633, 17.752161383285305, 29.481382701643987, 24.778392302447156, 37.372570341171674, 56.710687960687956, 18.046017149730336, 27.6231069193797, 20.762229806598405, 37.29101379402705, 22.881475225225227, 25.353100270459784, 37.512075036614625, 30.867573293736307, 22.88763278432901, 26.79624503550367, 24.643049166616883, 23.768312140405165, 66.53503842532122, 17.439545856679445, 30.879240022716715, 45.8163378672211, 43.37681015671494, 37.49414604272488, 23.588645734221377, 64.91587705547481, 29.27300680869756, 21.668236828755706, 37.85216925549009, 39.27894166516164, 25.10972130787799, 57.17117970433103, 30.335165260469076, 23.114667471880427, 23.09601567602874, 27.520325203252032, 19.31171207808052, 28.07728489760475, 15.408391932617263, 28.541475078168105, 22.380694876301202, 30.08137405038585, 27.363088980216, 42.54467980748598, 26.629449205276817, 35.10514018691589, 21.63955479452055, 48.07367310893404, 57.54466266784338, 28.708182184602983, 48.45980528979537, 29.725357682076353, 37.61530319068501, 22.755912702036344, 16.966277943838673, 27.026140971443365, 22.45383324006715, 50.32190760059613, 25.193515408207972, 21.938001300672013, 29.587246663371232, 18.445530506069684, 37.53020581618198, 23.390762075890496, 24.580134357005758, 25.848462327918746, 25.056397035127297, 43.04180949162362, 20.60158650098583, 16.043183530002512, 29.419613075383587, 31.706511292647765, 35.23543495610535, 28.3378066287997, 32.03503468588924, 17.6845690747782, 39.98166944960943, 54.091414876316016, 44.08607474599434, 29.291850370437704, 33.31140678726267, 20.50133689839572, 22.083955533432885, 33.85061905286748, 28.856420342792923, 30.70571539156238, 25.963858651938445, 45.30683516581085, 23.998946259220233, 19.513224535734384, 10.256410256410255, 14.195583596214512, 8.723599632690542, 13.18570709612481, 17.636503460651117, 20.799949924887333, 27.08185414342225, 27.029383274136258, 22.947789927614355, 34.02393586993339, 18.55281207133059, 6.641366223908918, 41.599458999148425, 14.817749603803488, 38.58157222643204, 15.279937791601867, 20.175729442970823, 21.560399934436976, 22.158825180057992, 20.133371991881706, 9.07164052564646, 8.649225840896957, 21.93045028979046, 17.075627174510164, 17.938617375871175, 12.578616352201259, 16.624429802331477, 18.971061093247588, 9.145931405514458, 15.616274431591542, 18.921144739551163, 20.02189514657584, 13.375262054507337, 17.3606210303458, 23.421647631746765, 13.209590100541377, 20.39684855558798, 17.9336314426924, 17.54320659399096, 17.524180548092424, 25.28506535644758, 17.443572129538765, 18.621334996880847, 16.20301735414668, 24.367126574685063, 9.22988174214018, 18.139841688654354, 21.538554071935522, 19.61316593145572, 32.00430604840317, 20.311867152693395, 16.21498519699385, 22.18920257553244, 30.440857961293926, 29.223877690135357, 23.48312642070292, 20.085470085470085, 36.78440103903114, 21.022093282749385, 26.873368146214098, 25.811601915912718, 14.095800801856932, 9.16030534351145, 21.522680852018944, 25.788652992683218, 19.72572468477837, 16.550348953140578, 16.192718710378553, 22.045790251107828, 23.951553568396626, 24.637249478745584, 12.518316935315053, 16.06851549755302, 12.909441233140656, 23.668280871670703, 67.8554518077994, 53.95977165387944, 54.019238812212464, 42.937835573073464, 38.41672285906945, 24.605126877265665, 40.5896147403685, 52.670999888209266, 29.77513248069123, 27.504244482173174, 20.261723009814613, 19.950903816112476, 66.95187165775401, 46.77230369991743, 36.8756820280366, 35.729362328382486, 28.285138593911668, 18.152647261058906, 60.45632679873838, 56.58074594805702, 36.49893302127074, 27.617756692646562, 48.85522007563401, 26.840250587314017, 79.20670147673182, 47.45604771075356, 21.52317880794702, 47.76172430127901, 32.40813608571948, 28.466274089935762, 31.559526121577004, 46.73743807501769, 65.53772352822985, 22.487046632124354, 46.11859746783884, 32.13223256878312, 59.4314293598234, 23.216932959973647, 40.384757990190366, 15.816733067729082, 45.08092354020518, 27.66518165275773, 26.625632879976173, 51.52696637980725, 32.99930496291669, 31.075508298009915, 25.983606557377048, 33.33729781160799, 51.16299863326904, 57.987548568848524, 23.960254046301987, 24.49108770508406, 31.09001525682319, 33.670076726342714, 30.760442699036062, 43.77685723730018, 53.40261391065645, 62.75242559288897, 26.684763365986075, 49.8136165680646, 32.9049173999067, 27.27966425028615, 27.598006031140375, 13.57947434292866, 27.750466180708592, 23.83662391104496, 30.598948872581072, 19.797953293098924, 18.663021868787276, 53.581399369030635, 41.171745890715236, 34.59414986901076, 33.30457290767903, 53.215698139303704, 42.2628160444042, 28.57840495756433, 26.09674942411057, 36.24929022489117, 21.362602682508005, 52.530187672760775, 62.41424441318956, 38.412957115208314, 49.642646689887336, 29.935195004123955, 24.061792300226465, 81.17759030232439, 40.017169487368164, 18.99834892680242, 29.294042823828704, 25.59824826651374, 21.30162949835081, 25.618915159944365, 28.52989449003517, 23.3980261604571, 37.0196117274168, 28.59243063932449, 29.365348308079586, 38.05601039855501, 32.65356876398906, 35.159012321628595, 32.07118009098207, 36.84527443486406, 63.52278726024987, 52.75692049885598, 63.8944266273728, 60.51777442814862, 58.57086510649487, 32.94127124788528, 37.88462894619308, 75.70432357043235, 28.263188721081033, 61.88195302843016, 45.71678321678322, 44.39211492385369, 43.291015343869645, 47.069508355534026, 55.50942513338318, 27.626768399300587, 44.05510061575573, 39.39217142250981, 49.303521253063906, 44.61274203622736, 46.952519230175156, 49.13714111178986, 43.77107871115031, 37.23500225529995, 60.814270377405236, 48.299826259617774, 43.16883116883117, 39.93655420757062, 37.85741277238947, 57.23528143196032, 32.933409969810434, 49.885089490911625, 37.765545968461765, 37.96832442247553, 33.31249794387604, 63.207211481437554, 34.123377299187524, 47.10947109471095, 60.32612403629665, 55.041684949539274, 37.2948835207403, 25.61663750831629, 66.23537709463238, 23.769933453268823, 68.39292544009263, 31.946701332466688, 35.587539698628284, 55.95328347505378, 37.19039659626196, 64.38725029745132, 41.00555536144789, 22.562277580071175, 29.755684225391892, 39.391377852916314, 24.025324891702766, 27.028112449799195, 64.11657559198542, 19.55435235318617, 13.402061855670103, 31.112873380914618, 23.62162162162162, 54.10670410670411, 29.154319580578985, 48.480124707716286, 27.702948671277756, 31.32245091081145, 35.49257759784076, 25.914893617021278, 57.527975584944045, 21.007556675062972, 26.051459673428994, 16.751269035532996, 28.197596795727637, 20.150575730735167, 9.234828496042216, 20.986052546221213, 20.315904139433552, 23.3249581239531, 6.027060270602706, 20.228298380674275, 32.19730941704036, 26.838966202783297, 15.025041736227045, 35.21198705942449, 36.982960859365356, 32.87413901064496, 26.517241379310345, 16.76737160120846, 39.39393939393939, 24.03072421360644, 38.751625487646294, 28.119507908611602, 43.846803717262745, 36.7747972551466, 35.825306860461076, 14.319952067106051, 42.4425354074762, 21.68776371308017, 31.552323743281697, 25.484261501210653, 77.3139031114612, 18.36053412462908, 25.043975373790676, 30.77357425183512, 21.899224806201552, 53.09050772626932, 33.62500374576729, 23.11884935654807, 21.06060606060606, 16.863494268843347, 26.921286913179898, 21.478251389948763, 16.34634701667448, 19.2372234935164, 21.495170096598066, 18.49175240894986, 27.21618953603159, 18.61814345991561, 17.01042873696408, 20.96406160867085, 17.0469075980887, 23.48322036700281, 22.60385999345764, 20.84327271600731, 17.248616676206833, 20.556795489251733, 25.103811207499078, 20.943033357649714, 30.57344239470936, 13.907664108145262, 25.423374451181267, 25.83837027087531, 24.97917140043929, 14.47602131438721, 18.510342863246343, 16.874466268146886, 22.329584669725143, 44.135746553447134, 13.192419825072887, 41.53830865547054, 15.383948691280985, 16.447792458910733, 53.931980104852805, 17.40432612312812, 23.579451053366117, 21.663954434499594, 23.629951166576234, 24.490043710539098, 21.3225624647755, 19.706978319783197, 15.972311242148443, 41.27494332338219, 25.860373647984268, 35.616285554935864, 17.069131317448445, 19.11214120164022, 18.7019477191184, 23.675333083449758, 19.090351952372615, 17.232815964523283, 13.776747127648362, 42.81722933643772, 23.966505733252866, 24.23040731281086, 30.902115438197914, 18.22125813449024, 18.098764244843007, 42.30493635759605, 15.825035561877668, 14.183276616431698, 19.147992012425117, 20.25505629172063, 17.94049008168028, 17.911975435005118, 17.846889952153113, 27.34200577501265, 17.371855980054267, 23.316741906856503, 25.779280481656137, 41.24397058619108, 10.892620415377817, 17.898510755653614, 20.032158033765935, 64.41611809817958, 19.909402275991603, 19.567979669631512, 23.22847882512743, 29.88232753967397, 25.040287137415763, 25.312656328164078, 19.44143493439268, 15.376092576634248, 18.623758986648408, 24.51121244300081, 30.958590103483214, 12.295696506222823, 21.98762286130324, 18.01597309794031, 36.08289693272717, 29.93945916857258, 20.57003172621834, 14.49795081967213, 26.39815215822145, 23.726606997558992, 9.299416180150125, 6.744604316546762, 32.406794617251265, 20.27621272502405, 21.989247311827956, 19.70114038537161, 42.092377999020734, 10.752056404230318, 34.897547510351416, 44.6503250058736, 58.305488453367516, 25.620056307816064, 3.8461538461538463, 17.078774617067836, 27.99392574749961, 40.151241418469006, 41.558701121587625, 46.82704272086271, 10.758620689655173, 59.17874396135265, 13.194313983342726, 20.768962713439425, 22.814257393696646, 44.560208375075135, 27.30045754956787, 10.743559718969555, 56.03537253118276, 27.560300514037166, 9.531450577663671, 20.068930853737342, 22.371579452712435, 18.42628101464677, 21.580889891326635, 13.578624616732371, 10.674547983310154, 17.7, 10.005621135469363, 10.922741583918624, 46.921253075496196, 12.725779967159278, 24.260651629072683, 27.928272510462133, 14.015773907328294, 15.53627760252366, 16.89829437776374, 32.193768672641916, 17.069486404833835, 16.023936170212767, 21.855146124523507, 26.984126984126984, 50.69444444444444, 12.243629583592293, 65.13666625315304, 21.328021248339972, 27.408854166666668, 15.547839506172838, 45.146232689896735, 18.403547671840354, 13.157894736842104, 61.75668303327878, 12.014563106796118, 50.95982584603206, 11.853370312311588, 25.49169114843803, 15.75984990619137, 32.16903183642984, 66.80192613482944, 17.27795224269716, 30.963639328224364, 17.69174385286866, 20.44753086419753, 19.27710843373494, 21.470588235294116, 17.96733212341198, 54.57285422457387, 16.05110800558994, 18.752150475972016, 45.89729012696608, 9.606404269513009, 37.882416563658836, 13.974591651542651, 20.042899501608733, 5.972434915773354, 21.957936905358036, 25.474042108016214, 10.652788486250321, 24.34873103263059, 30.836563711391772, 22.821008538746575, 37.04441986676612, 23.77425412059253, 14.37125748502994, 14.649243466299863, 8.113391984359726, 15.253164556962027, 12.571015017188348, 55.959466558753014, 26.601117920398682, 9.384023099133783, 15.943992773261066, 54.41199323552265, 11.976744186046512, 19.412670479542456, 58.03906122670723, 19.154778648449536, 18.29177980745495, 17.36627269404167, 19.107960604729943, 24.49195596951736, 20.205078125, 32.0656871218669, 23.07433220198461, 10.984632896983495, 13.437849944008958, 8.751983077736647, 16.265155093686033, 18.903180392909707, 38.39080459770115, 48.62123914351144, 58.79174852652259, 44.722993714369245, 22.86063399936128, 14.806580702534461, 23.49133828288597, 32.458600074070155, 22.70327349524815, 33.50515463917525, 10.239651416122005, 23.514146693097857, 12.390924956369982, 5.031446540880504, 27.805486284289277, 48.49058304046139, 18.20054945054945, 20.714218764645235, 19.013128112267992, 20.617367054524475, 43.72402327514547, 13.062224399804018, 21.604938271604937, 12.343120322394933, 19.721142701302245, 24.332050577240242, 9.682187730968218, 16.211941478845393, 19.47077409162717, 6.0606060606060606, 33.12199442131488, 18.69281045751634, 14.260768335273575, 37.48569560241949, 10.271317829457365, 20.53605134012835, 27.528782894736842, 13.333333333333334, 18.47210994341148, 27.194580024768705, 54.29427863938485, 29.89363110738403, 19.16342412451362, 20.947736849259208, 23.596142938173568, 10.818363273453095, 15.387596899224807, 11.157445077298616, 27.39050537115669, 19.28104575163399, 29.97658079625293, 7.05521472392638, 33.600896023893974, 26.635684820635998, 19.248441089596323, 21.65082914104714, 47.765207642433225, 9.559987337765117, 8.011869436201781, 17.661276879479914, 17.433762907228047, 17.95252225519288, 17.098833543505677, 18.41509433962264, 29.561497326203206, 22.273215910030597, 29.75972643009269, 65.93059936908517, 13.91045762431852, 19.794662460958033, 15.302491103202847, 16.145307769929364, 21.43840330350998, 37.82903663500679, 32.91740938799762, 3.090909090909091, 29.272503082614055, 30.37627940550445, 12.519845770015877, 21.63488502523836, 12.183573119650337, 24.48775612193903, 18.488924050632914, 34.71476574871577, 11.029976940814757, 18.2053494391717, 13.937638439257114, 7.980356046654389, 20.50163576881134, 9.182643794147326, 29.592805395953036, 15.493241880169457, 52.00022859755401, 10.433639947437582, 7.981220657276995, 15.760869565217392, 20.654265554842848, 20.28862478777589, 49.307353446819626, 26.411746600764037, 25.982532751091703, 20.957918050941306, 9.172259507829978, 27.094203585997533, 27.02013482348767, 71.41160221447073, 19.068895935428078, 14.504290292566937, 15.228668219352107, 12.43561442236939, 39.375483372003096, 44.332394735118854, 13.526198353466185, 30.327820954829658, 33.32487953335024, 35.99647266313933, 18.887515451174288, 24.419737520774827, 61.05290804564157, 27.980448259418218, 7.188703465982028, 28.58601216333623, 21.131741821396993, 55.61918396564066, 49.497749612182005, 25.367529562160435, 16.839134524929445, 15.365363818940214, 15.404539268624609, 15.933232169954476, 12.550066755674234, 47.08612686952037, 65.35828388863533, 11.516129032258064, 16.379815438699282, 28.133554121185494, 25.392781316348195, 17.857142857142858, 33.102696718617565, 9.803465519246423, 11.677326181142975, 18.814055636896047, 54.11764705882353, 19.322221344497986, 10.926647467389463, 25.755053507728892, 10.032154340836012, 16.439600363306088, 9.839816933638444, 13.148283418553689, 53.03990822918554, 45.08980301274623, 13.635938231165184, 10.460291421403069, 57.9862299821218, 28.38597048087605, 10.819778789850359, 26.29982324271784, 34.3703127604022, 22.36992645055843, 22.392638036809817, 36.5295369065465, 67.9638543274907, 62.09070472094614, 55.73010081019234, 75.78324824344134, 42.73114355231144, 52.6945412311266, 59.884559884559884, 68.65571572242709, 60.17988552739166, 50.70232690124858, 53.66499852811304, 71.34845781289829, 72.08373343575956, 67.86274168263368, 30.94506994199932, 35.56187766714082, 37.56940399922345, 44.682570841320064, 50.18065930496915, 50.95300863136414, 26.773547094188377, 39.71134704711347, 36.65759339215318, 34.027936798717654, 41.16975308641975, 24.596774193548388, 31.366772823779193, 45.14450716682708, 54.1733889661567, 69.39335269441756, 74.95175005205046, 56.895356458606436, 43.320436959490216, 43.945427728613566, 32.04661325564457, 24.35660457841604, 46.293863764308504, 41.89297690454825, 48.30773606370876, 30.316847889629372, 53.76390427223714, 73.69099037660074, 52.098116394045455, 43.65426695842451, 58.50737016745823, 45.95504857326609, 27.57298628209638, 57.45936204507199, 39.08084535390808, 43.79258501007645, 60.35334771348392, 52.9395058222096, 44.88433747465821, 21.821177175378164, 33.34820995439992, 22.647581003106968, 25.723870056497177, 27.65578078078078, 40.13383297644539, 19.118142039717267, 19.049034175334324, 14.027732989358272, 30.026094176254297, 22.501878287002253, 11.018333635868578, 29.369085173501574, 19.224667856434664, 27.463768115942027, 21.813299636708262, 30.24782537337929, 23.741486526502815, 43.77504241417897, 41.75866932542191, 20.624916186133834, 21.85185185185185, 17.910333179794257, 20.422858893825648, 34.508025122121424, 24.538352272727273, 22.54753191109524, 22.10551444258773, 20.665009322560596, 13.939333466373977, 48.20783418900932, 20.724191063174114, 22.97872340425532, 20.940733772342426, 36.30013066639863, 22.41049467067505, 20.022916069894016, 26.122754491017965, 21.70601152895965, 27.64113539875794, 24.11043315411104, 27.557377049180324, 13.681998599112772, 25.247267048412287, 25.926589077887197, 24.32615467966951, 24.40166493236212, 16.088730239673634, 22.07220428529498, 24.12226352746799, 17.930629041740154, 23.083845807709615, 17.565020731247643, 28.187400030958155, 13.466014897579143, 36.630563547131494, 36.630563547131494, 54.82471165924403, 36.27396827901839, 56.3165905631659, 45.477858393795344, 36.59160696008188, 35.193767872990826, 39.37217690832873, 38.70672389127325, 30.36649214659686, 48.45138622339012, 45.462909718228865, 75.45643773896029, 33.76585809330964, 49.92792165829895, 53.56404749361754, 42.32679974708699, 54.2619292825266, 26.564625850340136, 35.960943913643426, 34.058974866415994, 42.947516401124645, 50.691394935999256, 31.337269234373537, 55.94625500285878, 38.229426433915215, 41.7910447761194, 41.48481627378644, 34.61959296812313, 47.5503510768988, 32.873088052914426, 55.750335135453646, 42.63004091174752, 33.17510076130766, 37.95235497363157, 37.51589372950546, 40.14019361311254, 32.0553548892467, 35.73083287369002, 81.9496855345912, 69.06920036630754, 37.296006368581665, 28.925263838035754, 41.8270623784097, 44.16986900788197, 43.12689067429984, 35.931467181467184, 42.01226572886735, 35.531455007394484, 50.31155333349753, 35.47858647320384, 47.11933189918366, 44.31994674950078, 54.660262417994375, 31.917321836165357, 40.89442220537147, 50.01795431317847, 42.797335870599426, 31.53216891443732, 41.03800770467437, 25.201197828935058, 40.86475942782835, 46.831627205928534, 38.40848461188106, 39.56318686088301, 37.26151474272499, 30.260020438287725, 38.7719082214834, 33.31044663393868, 32.340801886792455, 46.855854322668485, 39.626616301031525, 48.8370843852393, 13.699582753824757, 9.889604415823367, 21.469436916591388, 12.352941176470589, 9.176984705025491, 30.47319308707415, 19.275757090209904, 18.703919285991464, 18.253968253968253, 33.82908719043173, 14.415361100496751, 24.231577751264133, 11.850152905198778, 20.398396841538556, 18.078407475116798, 24.610421232042853, 17.74647887323944, 23.025959164006505, 67.09818082714452, 16.921931503935333, 16.22632103688933, 10.163749294184077], \"yaxis\": \"y\"}],\n",
              "                        {\"coloraxis\": {\"colorbar\": {\"title\": {\"text\": \"maj_vote\"}}, \"colorscale\": [[0.0, \"#0d0887\"], [0.1111111111111111, \"#46039f\"], [0.2222222222222222, \"#7201a8\"], [0.3333333333333333, \"#9c179e\"], [0.4444444444444444, \"#bd3786\"], [0.5555555555555556, \"#d8576b\"], [0.6666666666666666, \"#ed7953\"], [0.7777777777777778, \"#fb9f3a\"], [0.8888888888888888, \"#fdca26\"], [1.0, \"#f0f921\"]]}, \"legend\": {\"itemsizing\": \"constant\", \"tracegroupgap\": 0}, \"margin\": {\"t\": 60}, \"template\": {\"data\": {\"bar\": [{\"error_x\": {\"color\": \"#2a3f5f\"}, \"error_y\": {\"color\": \"#2a3f5f\"}, \"marker\": {\"line\": {\"color\": \"#E5ECF6\", \"width\": 0.5}}, \"type\": \"bar\"}], \"barpolar\": [{\"marker\": {\"line\": {\"color\": \"#E5ECF6\", \"width\": 0.5}}, \"type\": \"barpolar\"}], \"carpet\": [{\"aaxis\": {\"endlinecolor\": \"#2a3f5f\", \"gridcolor\": \"white\", \"linecolor\": \"white\", \"minorgridcolor\": \"white\", \"startlinecolor\": \"#2a3f5f\"}, \"baxis\": {\"endlinecolor\": \"#2a3f5f\", \"gridcolor\": \"white\", \"linecolor\": \"white\", \"minorgridcolor\": \"white\", \"startlinecolor\": \"#2a3f5f\"}, \"type\": \"carpet\"}], \"choropleth\": [{\"colorbar\": {\"outlinewidth\": 0, \"ticks\": \"\"}, \"type\": \"choropleth\"}], \"contour\": [{\"colorbar\": {\"outlinewidth\": 0, \"ticks\": \"\"}, \"colorscale\": [[0.0, \"#0d0887\"], [0.1111111111111111, \"#46039f\"], [0.2222222222222222, \"#7201a8\"], [0.3333333333333333, \"#9c179e\"], [0.4444444444444444, \"#bd3786\"], [0.5555555555555556, \"#d8576b\"], [0.6666666666666666, \"#ed7953\"], [0.7777777777777778, \"#fb9f3a\"], [0.8888888888888888, \"#fdca26\"], [1.0, \"#f0f921\"]], \"type\": \"contour\"}], \"contourcarpet\": [{\"colorbar\": {\"outlinewidth\": 0, \"ticks\": \"\"}, \"type\": \"contourcarpet\"}], \"heatmap\": [{\"colorbar\": {\"outlinewidth\": 0, \"ticks\": \"\"}, \"colorscale\": [[0.0, \"#0d0887\"], [0.1111111111111111, \"#46039f\"], [0.2222222222222222, \"#7201a8\"], [0.3333333333333333, \"#9c179e\"], [0.4444444444444444, \"#bd3786\"], [0.5555555555555556, \"#d8576b\"], [0.6666666666666666, \"#ed7953\"], [0.7777777777777778, \"#fb9f3a\"], [0.8888888888888888, \"#fdca26\"], [1.0, \"#f0f921\"]], \"type\": \"heatmap\"}], \"heatmapgl\": [{\"colorbar\": {\"outlinewidth\": 0, \"ticks\": \"\"}, \"colorscale\": [[0.0, \"#0d0887\"], [0.1111111111111111, \"#46039f\"], [0.2222222222222222, \"#7201a8\"], [0.3333333333333333, \"#9c179e\"], [0.4444444444444444, \"#bd3786\"], [0.5555555555555556, \"#d8576b\"], [0.6666666666666666, \"#ed7953\"], [0.7777777777777778, \"#fb9f3a\"], [0.8888888888888888, \"#fdca26\"], [1.0, \"#f0f921\"]], \"type\": \"heatmapgl\"}], \"histogram\": [{\"marker\": {\"colorbar\": {\"outlinewidth\": 0, \"ticks\": \"\"}}, \"type\": \"histogram\"}], \"histogram2d\": [{\"colorbar\": {\"outlinewidth\": 0, \"ticks\": \"\"}, \"colorscale\": [[0.0, \"#0d0887\"], [0.1111111111111111, \"#46039f\"], [0.2222222222222222, \"#7201a8\"], [0.3333333333333333, \"#9c179e\"], [0.4444444444444444, \"#bd3786\"], [0.5555555555555556, \"#d8576b\"], [0.6666666666666666, \"#ed7953\"], [0.7777777777777778, \"#fb9f3a\"], [0.8888888888888888, \"#fdca26\"], [1.0, \"#f0f921\"]], \"type\": \"histogram2d\"}], \"histogram2dcontour\": [{\"colorbar\": {\"outlinewidth\": 0, \"ticks\": \"\"}, \"colorscale\": [[0.0, \"#0d0887\"], [0.1111111111111111, \"#46039f\"], [0.2222222222222222, \"#7201a8\"], [0.3333333333333333, \"#9c179e\"], [0.4444444444444444, \"#bd3786\"], [0.5555555555555556, \"#d8576b\"], [0.6666666666666666, \"#ed7953\"], [0.7777777777777778, \"#fb9f3a\"], [0.8888888888888888, \"#fdca26\"], [1.0, \"#f0f921\"]], \"type\": \"histogram2dcontour\"}], \"mesh3d\": [{\"colorbar\": {\"outlinewidth\": 0, \"ticks\": \"\"}, \"type\": \"mesh3d\"}], \"parcoords\": [{\"line\": {\"colorbar\": {\"outlinewidth\": 0, \"ticks\": \"\"}}, \"type\": \"parcoords\"}], \"pie\": [{\"automargin\": true, \"type\": \"pie\"}], \"scatter\": [{\"marker\": {\"colorbar\": {\"outlinewidth\": 0, \"ticks\": \"\"}}, \"type\": \"scatter\"}], \"scatter3d\": [{\"line\": {\"colorbar\": {\"outlinewidth\": 0, \"ticks\": \"\"}}, \"marker\": {\"colorbar\": {\"outlinewidth\": 0, \"ticks\": \"\"}}, \"type\": \"scatter3d\"}], \"scattercarpet\": [{\"marker\": {\"colorbar\": {\"outlinewidth\": 0, \"ticks\": \"\"}}, \"type\": \"scattercarpet\"}], \"scattergeo\": [{\"marker\": {\"colorbar\": {\"outlinewidth\": 0, \"ticks\": \"\"}}, \"type\": \"scattergeo\"}], \"scattergl\": [{\"marker\": {\"colorbar\": {\"outlinewidth\": 0, \"ticks\": \"\"}}, \"type\": \"scattergl\"}], \"scattermapbox\": [{\"marker\": {\"colorbar\": {\"outlinewidth\": 0, \"ticks\": \"\"}}, \"type\": \"scattermapbox\"}], \"scatterpolar\": [{\"marker\": {\"colorbar\": {\"outlinewidth\": 0, \"ticks\": \"\"}}, \"type\": \"scatterpolar\"}], \"scatterpolargl\": [{\"marker\": {\"colorbar\": {\"outlinewidth\": 0, \"ticks\": \"\"}}, \"type\": \"scatterpolargl\"}], \"scatterternary\": [{\"marker\": {\"colorbar\": {\"outlinewidth\": 0, \"ticks\": \"\"}}, \"type\": \"scatterternary\"}], \"surface\": [{\"colorbar\": {\"outlinewidth\": 0, \"ticks\": \"\"}, \"colorscale\": [[0.0, \"#0d0887\"], [0.1111111111111111, \"#46039f\"], [0.2222222222222222, \"#7201a8\"], [0.3333333333333333, \"#9c179e\"], [0.4444444444444444, \"#bd3786\"], [0.5555555555555556, \"#d8576b\"], [0.6666666666666666, \"#ed7953\"], [0.7777777777777778, \"#fb9f3a\"], [0.8888888888888888, \"#fdca26\"], [1.0, \"#f0f921\"]], \"type\": \"surface\"}], \"table\": [{\"cells\": {\"fill\": {\"color\": \"#EBF0F8\"}, \"line\": {\"color\": \"white\"}}, \"header\": {\"fill\": {\"color\": \"#C8D4E3\"}, \"line\": {\"color\": \"white\"}}, \"type\": \"table\"}]}, \"layout\": {\"annotationdefaults\": {\"arrowcolor\": \"#2a3f5f\", \"arrowhead\": 0, \"arrowwidth\": 1}, \"coloraxis\": {\"colorbar\": {\"outlinewidth\": 0, \"ticks\": \"\"}}, \"colorscale\": {\"diverging\": [[0, \"#8e0152\"], [0.1, \"#c51b7d\"], [0.2, \"#de77ae\"], [0.3, \"#f1b6da\"], [0.4, \"#fde0ef\"], [0.5, \"#f7f7f7\"], [0.6, \"#e6f5d0\"], [0.7, \"#b8e186\"], [0.8, \"#7fbc41\"], [0.9, \"#4d9221\"], [1, \"#276419\"]], \"sequential\": [[0.0, \"#0d0887\"], [0.1111111111111111, \"#46039f\"], [0.2222222222222222, \"#7201a8\"], [0.3333333333333333, \"#9c179e\"], [0.4444444444444444, \"#bd3786\"], [0.5555555555555556, \"#d8576b\"], [0.6666666666666666, \"#ed7953\"], [0.7777777777777778, \"#fb9f3a\"], [0.8888888888888888, \"#fdca26\"], [1.0, \"#f0f921\"]], \"sequentialminus\": [[0.0, \"#0d0887\"], [0.1111111111111111, \"#46039f\"], [0.2222222222222222, \"#7201a8\"], [0.3333333333333333, \"#9c179e\"], [0.4444444444444444, \"#bd3786\"], [0.5555555555555556, \"#d8576b\"], [0.6666666666666666, \"#ed7953\"], [0.7777777777777778, \"#fb9f3a\"], [0.8888888888888888, \"#fdca26\"], [1.0, \"#f0f921\"]]}, \"colorway\": [\"#636efa\", \"#EF553B\", \"#00cc96\", \"#ab63fa\", \"#FFA15A\", \"#19d3f3\", \"#FF6692\", \"#B6E880\", \"#FF97FF\", \"#FECB52\"], \"font\": {\"color\": \"#2a3f5f\"}, \"geo\": {\"bgcolor\": \"white\", \"lakecolor\": \"white\", \"landcolor\": \"#E5ECF6\", \"showlakes\": true, \"showland\": true, \"subunitcolor\": \"white\"}, \"hoverlabel\": {\"align\": \"left\"}, \"hovermode\": \"closest\", \"mapbox\": {\"style\": \"light\"}, \"paper_bgcolor\": \"white\", \"plot_bgcolor\": \"#E5ECF6\", \"polar\": {\"angularaxis\": {\"gridcolor\": \"white\", \"linecolor\": \"white\", \"ticks\": \"\"}, \"bgcolor\": \"#E5ECF6\", \"radialaxis\": {\"gridcolor\": \"white\", \"linecolor\": \"white\", \"ticks\": \"\"}}, \"scene\": {\"xaxis\": {\"backgroundcolor\": \"#E5ECF6\", \"gridcolor\": \"white\", \"gridwidth\": 2, \"linecolor\": \"white\", \"showbackground\": true, \"ticks\": \"\", \"zerolinecolor\": \"white\"}, \"yaxis\": {\"backgroundcolor\": \"#E5ECF6\", \"gridcolor\": \"white\", \"gridwidth\": 2, \"linecolor\": \"white\", \"showbackground\": true, \"ticks\": \"\", \"zerolinecolor\": \"white\"}, \"zaxis\": {\"backgroundcolor\": \"#E5ECF6\", \"gridcolor\": \"white\", \"gridwidth\": 2, \"linecolor\": \"white\", \"showbackground\": true, \"ticks\": \"\", \"zerolinecolor\": \"white\"}}, \"shapedefaults\": {\"line\": {\"color\": \"#2a3f5f\"}}, \"ternary\": {\"aaxis\": {\"gridcolor\": \"white\", \"linecolor\": \"white\", \"ticks\": \"\"}, \"baxis\": {\"gridcolor\": \"white\", \"linecolor\": \"white\", \"ticks\": \"\"}, \"bgcolor\": \"#E5ECF6\", \"caxis\": {\"gridcolor\": \"white\", \"linecolor\": \"white\", \"ticks\": \"\"}}, \"title\": {\"x\": 0.05}, \"xaxis\": {\"automargin\": true, \"gridcolor\": \"white\", \"linecolor\": \"white\", \"ticks\": \"\", \"title\": {\"standoff\": 15}, \"zerolinecolor\": \"white\", \"zerolinewidth\": 2}, \"yaxis\": {\"automargin\": true, \"gridcolor\": \"white\", \"linecolor\": \"white\", \"ticks\": \"\", \"title\": {\"standoff\": 15}, \"zerolinecolor\": \"white\", \"zerolinewidth\": 2}}}, \"xaxis\": {\"anchor\": \"y\", \"domain\": [0.0, 1.0], \"title\": {\"text\": \"footprint_tCO2eq\"}, \"type\": \"log\"}, \"yaxis\": {\"anchor\": \"x\", \"domain\": [0.0, 1.0], \"title\": {\"text\": \"relative_votes_dem\"}}},\n",
              "                        {\"responsive\": true}\n",
              "                    ).then(function(){\n",
              "                            \n",
              "var gd = document.getElementById('d0f2a84f-cb2f-4bc3-8e0c-4821e3790943');\n",
              "var x = new MutationObserver(function (mutations, observer) {{\n",
              "        var display = window.getComputedStyle(gd).display;\n",
              "        if (!display || display === 'none') {{\n",
              "            console.log([gd, 'removed!']);\n",
              "            Plotly.purge(gd);\n",
              "            observer.disconnect();\n",
              "        }}\n",
              "}});\n",
              "\n",
              "// Listen for the removal of the full notebook cells\n",
              "var notebookContainer = gd.closest('#notebook-container');\n",
              "if (notebookContainer) {{\n",
              "    x.observe(notebookContainer, {childList: true});\n",
              "}}\n",
              "\n",
              "// Listen for the clearing of the current output cell\n",
              "var outputEl = gd.closest('.output');\n",
              "if (outputEl) {{\n",
              "    x.observe(outputEl, {childList: true});\n",
              "}}\n",
              "\n",
              "                        })\n",
              "                };\n",
              "                \n",
              "            </script>\n",
              "        </div>\n",
              "</body>\n",
              "</html>"
            ]
          },
          "metadata": {
            "tags": []
          }
        }
      ]
    },
    {
      "cell_type": "code",
      "metadata": {
        "id": "hpAaYlXQUtSD"
      },
      "source": [
        "# import plotly.graph_objects as go\n",
        "\n",
        "# fig = go.Figure(data=go.Choropleth(\n",
        "#     locations = geo_footprint['UniqueCountyNames_stateAbbr'], # Spatial coordinates\n",
        "#     z = geo_footprint['footprint_tCO2eq'].astype(float), # Data to be color-coded\n",
        "#     locationmode = 'USA-states', # set of locations match entries in `locations`\n",
        "#     colorscale = 'Bluered',\n",
        "#     colorbar_title = \"footprint_tCO2eq\",\n",
        "# ))\n",
        "\n",
        "# title = f'Correlation between party alignment and footprint_tCO2eq'\n",
        "# fig.update_layout(\n",
        "#     title_text = title, #'2020 US Presidential Election',\n",
        "#     geo_scope='usa', # limit map scope to USA\n",
        "# )\n",
        "\n",
        "# fig.show()"
      ],
      "execution_count": null,
      "outputs": []
    },
    {
      "cell_type": "code",
      "metadata": {
        "id": "arWPeWT9U_qa"
      },
      "source": [
        "## Duncan: I'm wondering what your thoughts are on next steps with this exploratory research. \n",
        "## I'm pretty new to working with geo-data but will try to visualize the results from analysis  \n",
        "## and show what the relationship is between party alignment and household carbon footprin, as planned\n",
        "\n",
        "## Depending on whether or not we find anything interesting, I was thinking of writing an article \n",
        "## and sharing some results on the analysis.\n",
        "\n",
        "## I'll outline some notes I came across when putting together a data-journalism story\n",
        "## taken from this article: https://datajournalism.com/read/longreads/hypothesis-data-journalism\n"
      ],
      "execution_count": null,
      "outputs": []
    },
    {
      "cell_type": "code",
      "metadata": {
        "id": "7vpFpRuIWj2K"
      },
      "source": [
        ""
      ],
      "execution_count": null,
      "outputs": []
    },
    {
      "cell_type": "markdown",
      "metadata": {
        "id": "jn9DH8HhXtiI"
      },
      "source": [
        "You can apply this general list of questions nearly to every data story that dives into the roots of the problem and aims to build a concise narrative around it:\n",
        "\n",
        "\n",
        "## Problem:\n",
        "How big is the problem?\n",
        "Is it getting worse or better?\n",
        "## Impact:\n",
        "Which category of people is more likely to experience the consequences of the problem/benefit from the situation?\n",
        "How does the problem affect this group of people?\n",
        "## Cause:\n",
        "What are the main causes explaining why the problem is disproportionately affecting these people?\n",
        "Which factors have contributed to this?\n",
        "## Solution:\n",
        "What needs to be fixed for the impacted group of people to mitigate the consequences or solve the problem for them?\n",
        "How much would it cost and is there a source of money for this?\n",
        "Has anybody already tried to solve this problem, here or elsewhere?\n",
        "How can we measure the effectiveness?\n",
        "\n",
        "\n",
        "These questions help the story remain focused on the specific hypothesis that the journalists have set out to prove or disprove. The questions ensure they drill deep into the issue and explain the problem from various angles using data. A great data hypothesis consists of questions that can be answered with data to prove or disprove it.\n",
        " \n",
        "\n"
      ]
    },
    {
      "cell_type": "code",
      "metadata": {
        "id": "1L3p6DX7X2F0"
      },
      "source": [
        ""
      ],
      "execution_count": null,
      "outputs": []
    }
  ]
}